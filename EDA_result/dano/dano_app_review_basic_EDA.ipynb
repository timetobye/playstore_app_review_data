{
 "cells": [
  {
   "cell_type": "markdown",
   "metadata": {},
   "source": [
    "## App Store Reivew analysis - 다노\n",
    "---------------"
   ]
  },
  {
   "cell_type": "markdown",
   "metadata": {},
   "source": [
    "### 안내사항\n",
    "\n",
    "- 여기 내용은 번외로 단순 내용 확인을 위해 만들었습니다.\n",
    "- 다른 앱을 분석한 목적과 다르므로 스킵해주시기 바랍니다."
   ]
  },
  {
   "cell_type": "markdown",
   "metadata": {},
   "source": [
    "## 개요\n",
    "\n",
    "### 문서 목적\n",
    "- **다노**에서 서비스 중인 **다노** 앱에 대한 분석 리포트 작성을 위해 문서를 만들었습니다.\n",
    "\n",
    "### 분석 대상\n",
    "- **구글 플레이 스토어에 고객이 작성한 리뷰 정보**\n",
    "  - user_name : 이용자 이름(닉네임)\n",
    "  - user_app_rating : 별점(1~5)\n",
    "  - user_review_date : 리뷰 작성 날짜\n",
    "  - company_comment_date : 답변 작성 날짜\n",
    "  - user_simple_comment : 리뷰 내용\n",
    "  - user_specific_comment : 리뷰 상세 내용\n",
    "    - user_simple_comment의 내용이 길 경우 웹 상에서 다 보이지 않고 상세하게 볼 수 있도록 구성되어 있어 추가한 항목입니다. 전처리를 통해 처리 될 예정입니다.\n",
    "  - company_answer_check : 답변 여부\n",
    "\n",
    "\n",
    "### 분석 일시\n",
    "- 크롤링 데이터 구성 시간 : 2019년 09월 15일\n",
    "- 데이터 분석 시작 : 2019년 09월 15일\n",
    "- 데이터는 2015-01-12 부터 2019-09-10까지 기록으로 구성되어 있습니다.\n",
    "\n",
    "### 분석 방법\n",
    "1. 데이터 확인\n",
    "  - 데이터 전처리\n",
    "  - 컬럼 확인\n",
    "2. 시간 기록에 따른 데이터 분석\n",
    "  - 시간에 따른 별점 변화(별점은 1 ~ 5의 값을 가진다)\n",
    "  - 요일에 따른 리뷰 분석\n",
    "  - 답변 시간차(고객 응대 소요 시간)\n",
    "3. 리뷰 내용에 대한 자연어 분석\n",
    "  - 리뷰 내용을 Topic modeling로 구성하고 시각화\n",
    "  - 별점에 따라 주요 키워드 분석 진행\n",
    "\n",
    "### 분석 환경, 분석자\n",
    "- 분석 환경\n",
    "  - language\n",
    "      - python3\n",
    "  - library\n",
    "      - [khaiii](https://github.com/kakao/khaiii) : 카카오에서 제공하는 형태소 분석기\n",
    "      - [gensim](https://radimrehurek.com/gensim/) : 자연어 처리 방법 중 LDA - Topic Modeling 사용\n",
    "      - 시각화, 데이터 분석을 위한 Python library\n",
    "\n",
    "- 분석자\n",
    "  - github : https://github.com/timetobye\n",
    "\n",
    "\n",
    "### 안내 사항\n",
    "- **분석에 사용 될 리뷰 정보는 직접 크롤링**을 하여 데이터 셋을 구성하였습니다.\n",
    "- 2018년 10월 한국 시장 기준으로 Android(72.2%) vs IOS(27.8%)의 점유율을 갖고 있어서 구글 플레이 스토어를 선택하였습니다.\n",
    "  - [참고 링크 - Difference in Mobile OS Market Share is notable in US, Japan and South Korea](https://en.appa.pe/whitepaper/2018/)\n",
    "  \n",
    "--------------------------------------------"
   ]
  },
  {
   "cell_type": "markdown",
   "metadata": {},
   "source": [
    "### code"
   ]
  },
  {
   "cell_type": "code",
   "execution_count": 2,
   "metadata": {},
   "outputs": [],
   "source": [
    "import pandas as pd\n",
    "import numpy as np\n",
    "import matplotlib as mpl\n",
    "import matplotlib.pylab as plt\n",
    "import matplotlib.style as style\n",
    "import seaborn as sns\n",
    "import khaiii\n",
    "import missingno as msno\n",
    "import warnings\n",
    "import re\n",
    "import calendar\n",
    "import gensim\n",
    "import os\n",
    "from collections import Counter\n",
    "from datetime import datetime\n",
    "from gensim import corpora\n",
    "from gensim import models\n",
    "from gensim.models import LdaModel\n",
    "from pyLDAvis import gensim as gensimvis\n",
    "from pyLDAvis import display\n",
    "from pyLDAvis import save_html as lda_visualization\n",
    "from khaiii import KhaiiiApi\n",
    "from matplotlib import font_manager, rc\n",
    "apple = font_manager.FontProperties(fname = '/Library/Fonts/AppleGothic.ttf').get_name()\n",
    "rc('font', family = apple)\n",
    "\n",
    "warnings.filterwarnings('ignore')\n",
    "style.use('fivethirtyeight')\n",
    "%matplotlib inline"
   ]
  },
  {
   "cell_type": "markdown",
   "metadata": {},
   "source": [
    "## 1. 데이터 확인\n",
    "\n",
    "### 데이터 전처리 - Preprocessing"
   ]
  },
  {
   "cell_type": "code",
   "execution_count": 113,
   "metadata": {},
   "outputs": [
    {
     "data": {
      "text/html": [
       "<div>\n",
       "<style scoped>\n",
       "    .dataframe tbody tr th:only-of-type {\n",
       "        vertical-align: middle;\n",
       "    }\n",
       "\n",
       "    .dataframe tbody tr th {\n",
       "        vertical-align: top;\n",
       "    }\n",
       "\n",
       "    .dataframe thead th {\n",
       "        text-align: right;\n",
       "    }\n",
       "</style>\n",
       "<table border=\"1\" class=\"dataframe\">\n",
       "  <thead>\n",
       "    <tr style=\"text-align: right;\">\n",
       "      <th></th>\n",
       "      <th>user_name</th>\n",
       "      <th>user_app_rating</th>\n",
       "      <th>user_review_date</th>\n",
       "      <th>company_comment_date</th>\n",
       "      <th>user_simple_comment</th>\n",
       "      <th>user_specific_comment</th>\n",
       "      <th>company_answer_check</th>\n",
       "    </tr>\n",
       "  </thead>\n",
       "  <tbody>\n",
       "    <tr>\n",
       "      <th>0</th>\n",
       "      <td>Ha Young Jang</td>\n",
       "      <td>1</td>\n",
       "      <td>2019년 9월 2일</td>\n",
       "      <td>2019년 9월 4일</td>\n",
       "      <td>바디사진찍기에서 카메라로 촬영하기 들어가면 광각카메라로 설정이됩니다. 광각카메라로는...</td>\n",
       "      <td>no_specific_comment</td>\n",
       "      <td>answer</td>\n",
       "    </tr>\n",
       "    <tr>\n",
       "      <th>1</th>\n",
       "      <td>pyourorong pyou</td>\n",
       "      <td>4</td>\n",
       "      <td>2019년 9월 4일</td>\n",
       "      <td>2019년 9월 4일</td>\n",
       "      <td>다노 완전 좋아하는데...솔직히 통합앱은 실망이에요..북마크도 안되고 다짐하기두 안...</td>\n",
       "      <td>no_specific_comment</td>\n",
       "      <td>answer</td>\n",
       "    </tr>\n",
       "    <tr>\n",
       "      <th>2</th>\n",
       "      <td>So-jeong Lee</td>\n",
       "      <td>1</td>\n",
       "      <td>2019년 8월 28일</td>\n",
       "      <td>2019년 8월 28일</td>\n",
       "      <td>기존 다노샵 아이디가 있어서 기존아이디로 로그인 하면 로그인되면서 다시 회원가입 창...</td>\n",
       "      <td>no_specific_comment</td>\n",
       "      <td>answer</td>\n",
       "    </tr>\n",
       "    <tr>\n",
       "      <th>3</th>\n",
       "      <td>Kong free</td>\n",
       "      <td>1</td>\n",
       "      <td>2019년 9월 2일</td>\n",
       "      <td>2019년 9월 4일</td>\n",
       "      <td>업데이트 하고 오늘이 첫 수강날이었는데 앱이 너무 불안정해요 ㅠㅠ 운동을 끝까지 했...</td>\n",
       "      <td>no_specific_comment</td>\n",
       "      <td>answer</td>\n",
       "    </tr>\n",
       "    <tr>\n",
       "      <th>4</th>\n",
       "      <td>강슬기</td>\n",
       "      <td>1</td>\n",
       "      <td>2019년 9월 10일</td>\n",
       "      <td>2019년 9월 11일</td>\n",
       "      <td>통합아이디 만들때 자꾸 오류가 떠서 로그인을 못하고있어요 ㅡㅡ</td>\n",
       "      <td>no_specific_comment</td>\n",
       "      <td>answer</td>\n",
       "    </tr>\n",
       "    <tr>\n",
       "      <th>5</th>\n",
       "      <td>이소연</td>\n",
       "      <td>1</td>\n",
       "      <td>2019년 9월 10일</td>\n",
       "      <td>2019년 9월 11일</td>\n",
       "      <td>프로그램이 실행이 안되요ㅜ 자꾸 로딩되고 답답하네요</td>\n",
       "      <td>no_specific_comment</td>\n",
       "      <td>answer</td>\n",
       "    </tr>\n",
       "    <tr>\n",
       "      <th>6</th>\n",
       "      <td>고뇽2</td>\n",
       "      <td>5</td>\n",
       "      <td>2019년 9월 9일</td>\n",
       "      <td>2019년 9월 9일</td>\n",
       "      <td>문제생겨서 안열렸는데 빠른답변으로 크롬업데이트 후 잘열리네요 ^^~</td>\n",
       "      <td>no_specific_comment</td>\n",
       "      <td>answer</td>\n",
       "    </tr>\n",
       "    <tr>\n",
       "      <th>7</th>\n",
       "      <td>Jeongeun Noh</td>\n",
       "      <td>2</td>\n",
       "      <td>2019년 9월 4일</td>\n",
       "      <td>2019년 9월 4일</td>\n",
       "      <td>다노 운동과 코칭은 좋아요. 그런데 오늘 처음으로 다노샵 주문하려고 그랬더니 결제가...</td>\n",
       "      <td>no_specific_comment</td>\n",
       "      <td>answer</td>\n",
       "    </tr>\n",
       "    <tr>\n",
       "      <th>8</th>\n",
       "      <td>pyourorong pyou</td>\n",
       "      <td>4</td>\n",
       "      <td>2019년 9월 4일</td>\n",
       "      <td>2019년 9월 4일</td>\n",
       "      <td>다노 완전 좋아하는데...솔직히 통합앱은 실망이에요..북마크도 안되고 다짐하기두 안...</td>\n",
       "      <td>no_specific_comment</td>\n",
       "      <td>answer</td>\n",
       "    </tr>\n",
       "    <tr>\n",
       "      <th>9</th>\n",
       "      <td>전진명</td>\n",
       "      <td>1</td>\n",
       "      <td>2019년 9월 3일</td>\n",
       "      <td>2019년 9월 4일</td>\n",
       "      <td>로그인오류지속 쓰라는거야 마라는거야ㅡㄷ</td>\n",
       "      <td>no_specific_comment</td>\n",
       "      <td>answer</td>\n",
       "    </tr>\n",
       "  </tbody>\n",
       "</table>\n",
       "</div>"
      ],
      "text/plain": [
       "         user_name  user_app_rating user_review_date company_comment_date  \\\n",
       "0    Ha Young Jang                1      2019년 9월 2일          2019년 9월 4일   \n",
       "1  pyourorong pyou                4      2019년 9월 4일          2019년 9월 4일   \n",
       "2     So-jeong Lee                1     2019년 8월 28일         2019년 8월 28일   \n",
       "3        Kong free                1      2019년 9월 2일          2019년 9월 4일   \n",
       "4              강슬기                1     2019년 9월 10일         2019년 9월 11일   \n",
       "5              이소연                1     2019년 9월 10일         2019년 9월 11일   \n",
       "6              고뇽2                5      2019년 9월 9일          2019년 9월 9일   \n",
       "7     Jeongeun Noh                2      2019년 9월 4일          2019년 9월 4일   \n",
       "8  pyourorong pyou                4      2019년 9월 4일          2019년 9월 4일   \n",
       "9              전진명                1      2019년 9월 3일          2019년 9월 4일   \n",
       "\n",
       "                                 user_simple_comment user_specific_comment  \\\n",
       "0  바디사진찍기에서 카메라로 촬영하기 들어가면 광각카메라로 설정이됩니다. 광각카메라로는...   no_specific_comment   \n",
       "1  다노 완전 좋아하는데...솔직히 통합앱은 실망이에요..북마크도 안되고 다짐하기두 안...   no_specific_comment   \n",
       "2  기존 다노샵 아이디가 있어서 기존아이디로 로그인 하면 로그인되면서 다시 회원가입 창...   no_specific_comment   \n",
       "3  업데이트 하고 오늘이 첫 수강날이었는데 앱이 너무 불안정해요 ㅠㅠ 운동을 끝까지 했...   no_specific_comment   \n",
       "4                 통합아이디 만들때 자꾸 오류가 떠서 로그인을 못하고있어요 ㅡㅡ   no_specific_comment   \n",
       "5                       프로그램이 실행이 안되요ㅜ 자꾸 로딩되고 답답하네요   no_specific_comment   \n",
       "6              문제생겨서 안열렸는데 빠른답변으로 크롬업데이트 후 잘열리네요 ^^~   no_specific_comment   \n",
       "7  다노 운동과 코칭은 좋아요. 그런데 오늘 처음으로 다노샵 주문하려고 그랬더니 결제가...   no_specific_comment   \n",
       "8  다노 완전 좋아하는데...솔직히 통합앱은 실망이에요..북마크도 안되고 다짐하기두 안...   no_specific_comment   \n",
       "9                              로그인오류지속 쓰라는거야 마라는거야ㅡㄷ   no_specific_comment   \n",
       "\n",
       "  company_answer_check  \n",
       "0               answer  \n",
       "1               answer  \n",
       "2               answer  \n",
       "3               answer  \n",
       "4               answer  \n",
       "5               answer  \n",
       "6               answer  \n",
       "7               answer  \n",
       "8               answer  \n",
       "9               answer  "
      ]
     },
     "execution_count": 113,
     "metadata": {},
     "output_type": "execute_result"
    }
   ],
   "source": [
    "# read_csv to make dataframe\n",
    "\n",
    "google_playstore_user_review_orginal_df = pd.read_csv('review_data/dano_app_user_reviews_2019-09-15.csv')\n",
    "google_playstore_user_review_orginal_df.head(10)"
   ]
  },
  {
   "cell_type": "code",
   "execution_count": 114,
   "metadata": {},
   "outputs": [
    {
     "name": "stdout",
     "output_type": "stream",
     "text": [
      "<class 'pandas.core.frame.DataFrame'>\n",
      "RangeIndex: 1529 entries, 0 to 1528\n",
      "Data columns (total 7 columns):\n",
      "user_name                1529 non-null object\n",
      "user_app_rating          1529 non-null int64\n",
      "user_review_date         1529 non-null object\n",
      "company_comment_date     1529 non-null object\n",
      "user_simple_comment      1529 non-null object\n",
      "user_specific_comment    1529 non-null object\n",
      "company_answer_check     1529 non-null object\n",
      "dtypes: int64(1), object(6)\n",
      "memory usage: 83.7+ KB\n"
     ]
    }
   ],
   "source": [
    "# check dataframe info\n",
    "\n",
    "google_playstore_user_review_orginal_df.info()"
   ]
  },
  {
   "cell_type": "markdown",
   "metadata": {},
   "source": [
    "### check-point\n",
    "\n",
    "- 크롤링 과정에서도 첫 3개가 시간 순서 정렬과 관계없이 항상 고정된 값으로 구성되어 있었다.\n",
    "  - 해당 부분에 대해서는 날짜 기준으로 정렬할 것\n",
    "- 중복 값이 있는 경우를 방지하기 위해 중복 체크도 진행한다.\n",
    "- 날짜 정보도 사용하기 쉽게 YYYY-MM-DD 형식으로 처리 할 것\n",
    "- 요일 정보를 얻기 위해 작업을 진행 할 것\n",
    "- user의 comment를 정리하기 위해 user_comment 컬럼을 추가하고 아래와 같이 진행\n",
    "  - user_specific_comment가 있을 경우 user_comment로 처리\n",
    "  - user_specific_comment가 없을 경우 user_simple_comment가 user_comment로 처리\n"
   ]
  },
  {
   "cell_type": "code",
   "execution_count": 115,
   "metadata": {},
   "outputs": [],
   "source": [
    "def sort_dataframe(df):\n",
    "    sorted_df = df.sort_values(by='user_review_date', ascending=False).reset_index(drop=True)\n",
    "    \n",
    "    return sorted_df\n",
    "\n",
    "def drop_duplicate_dataframe(df):\n",
    "    drop_dp_df = df.drop_duplicates()\n",
    "    drop_dp_df.reset_index(drop=True, inplace=True)\n",
    "    \n",
    "    return drop_dp_df\n",
    "\n",
    "def get_weekday(date):\n",
    "    if date == 'no_answer':\n",
    "        return date\n",
    "    \n",
    "    weekday_info_dict = {\n",
    "        0 : 'Mon',\n",
    "        1 : 'Tue',\n",
    "        2 : 'Wed',\n",
    "        3 : 'Thu',\n",
    "        4 : 'Fri',\n",
    "        5 : 'Sat',\n",
    "        6 : 'Sun'\n",
    "    }\n",
    "    \n",
    "    regex = re.compile(r'[0-9]+')\n",
    "    get_regex_date = regex.findall(date)\n",
    "    \n",
    "    year, month, day = [int(value) for value in get_regex_date]\n",
    "    \n",
    "    weekday_number = calendar.weekday(year, month, day)\n",
    "    weekday_value = weekday_info_dict[weekday_number]\n",
    "    \n",
    "    return weekday_value\n",
    "\n",
    "def convert_date_format(date):\n",
    "    if date == 'no_answer':\n",
    "        return date\n",
    "    \n",
    "    regex = re.compile(r'[0-9]+')\n",
    "    get_regex_date = regex.findall(date)\n",
    "\n",
    "    if len(get_regex_date[1]) == 1:\n",
    "        get_regex_date[1] = '0' + get_regex_date[1]\n",
    "        \n",
    "    if len(get_regex_date[2]) == 1:\n",
    "        get_regex_date[2] = '0' + get_regex_date[2]\n",
    "    \n",
    "    join_string = '-'\n",
    "    convert_date = join_string.join(get_regex_date)\n",
    "    \n",
    "    return convert_date\n",
    "\n",
    "def arrange_user_comment(df):\n",
    "    user_comment = []\n",
    "    \n",
    "    for index, row in df.iterrows():    \n",
    "        if row['user_specific_comment'] == 'no_specific_comment':\n",
    "            user_comment.append(row['user_simple_comment'])\n",
    "        else:\n",
    "            user_comment.append(row['user_specific_comment'])\n",
    "\n",
    "    df['user_comment'] = user_comment\n",
    "    df.drop(['user_simple_comment', 'user_specific_comment'], axis=1, inplace=True)\n",
    "    df = df[['user_name', 'user_app_rating', 'user_review_date', 'company_comment_date', 'user_review_weekday', 'user_comment', 'company_answer_check']]\n",
    "    \n",
    "    return df\n",
    "\n",
    "def user_data_preprocessing(google_playstore_user_review_orginal_df):\n",
    "    # sort user_review_date\n",
    "    sorted_user_review_df = sort_dataframe(google_playstore_user_review_orginal_df)\n",
    "\n",
    "    # drop duplicate\n",
    "    drop_dp_user_review_df = drop_duplicate_dataframe(sorted_user_review_df)\n",
    "\n",
    "    # get weekday from user_review_date\n",
    "    drop_dp_user_review_df['user_review_weekday'] = drop_dp_user_review_df['user_review_date'].apply(get_weekday)\n",
    "\n",
    "    # convert_date_format for applying function in pandas\n",
    "    drop_dp_user_review_df['user_review_date'] = drop_dp_user_review_df['user_review_date'].apply(convert_date_format)\n",
    "    drop_dp_user_review_df['company_comment_date'] = drop_dp_user_review_df['company_comment_date'].apply(convert_date_format)\n",
    "\n",
    "    # arrange_user_comment\n",
    "    arranged_user_review_df = arrange_user_comment(drop_dp_user_review_df)\n",
    "    \n",
    "    return arranged_user_review_df"
   ]
  },
  {
   "cell_type": "code",
   "execution_count": 116,
   "metadata": {},
   "outputs": [
    {
     "data": {
      "text/html": [
       "<div>\n",
       "<style scoped>\n",
       "    .dataframe tbody tr th:only-of-type {\n",
       "        vertical-align: middle;\n",
       "    }\n",
       "\n",
       "    .dataframe tbody tr th {\n",
       "        vertical-align: top;\n",
       "    }\n",
       "\n",
       "    .dataframe thead th {\n",
       "        text-align: right;\n",
       "    }\n",
       "</style>\n",
       "<table border=\"1\" class=\"dataframe\">\n",
       "  <thead>\n",
       "    <tr style=\"text-align: right;\">\n",
       "      <th></th>\n",
       "      <th>user_name</th>\n",
       "      <th>user_app_rating</th>\n",
       "      <th>user_review_date</th>\n",
       "      <th>company_comment_date</th>\n",
       "      <th>user_review_weekday</th>\n",
       "      <th>user_comment</th>\n",
       "      <th>company_answer_check</th>\n",
       "    </tr>\n",
       "  </thead>\n",
       "  <tbody>\n",
       "    <tr>\n",
       "      <th>0</th>\n",
       "      <td>고뇽2</td>\n",
       "      <td>5</td>\n",
       "      <td>2019-09-09</td>\n",
       "      <td>2019-09-09</td>\n",
       "      <td>Mon</td>\n",
       "      <td>문제생겨서 안열렸는데 빠른답변으로 크롬업데이트 후 잘열리네요 ^^~</td>\n",
       "      <td>answer</td>\n",
       "    </tr>\n",
       "    <tr>\n",
       "      <th>1</th>\n",
       "      <td>pyourorong pyou</td>\n",
       "      <td>4</td>\n",
       "      <td>2019-09-04</td>\n",
       "      <td>2019-09-04</td>\n",
       "      <td>Wed</td>\n",
       "      <td>다노 완전 좋아하는데...솔직히 통합앱은 실망이에요..북마크도 안되고 다짐하기두 안...</td>\n",
       "      <td>answer</td>\n",
       "    </tr>\n",
       "    <tr>\n",
       "      <th>2</th>\n",
       "      <td>Jeongeun Noh</td>\n",
       "      <td>2</td>\n",
       "      <td>2019-09-04</td>\n",
       "      <td>2019-09-04</td>\n",
       "      <td>Wed</td>\n",
       "      <td>다노 운동과 코칭은 좋아요. 그런데 오늘 처음으로 다노샵 주문하려고 그랬더니 결제가...</td>\n",
       "      <td>answer</td>\n",
       "    </tr>\n",
       "    <tr>\n",
       "      <th>3</th>\n",
       "      <td>전진명</td>\n",
       "      <td>1</td>\n",
       "      <td>2019-09-03</td>\n",
       "      <td>2019-09-04</td>\n",
       "      <td>Tue</td>\n",
       "      <td>로그인오류지속 쓰라는거야 마라는거야ㅡㄷ</td>\n",
       "      <td>answer</td>\n",
       "    </tr>\n",
       "    <tr>\n",
       "      <th>4</th>\n",
       "      <td>김나영</td>\n",
       "      <td>4</td>\n",
       "      <td>2019-09-03</td>\n",
       "      <td>no_answer</td>\n",
       "      <td>Tue</td>\n",
       "      <td>체개적으로 잘 되어있어서 좋아요~</td>\n",
       "      <td>no_answer</td>\n",
       "    </tr>\n",
       "  </tbody>\n",
       "</table>\n",
       "</div>"
      ],
      "text/plain": [
       "         user_name  user_app_rating user_review_date company_comment_date  \\\n",
       "0              고뇽2                5       2019-09-09           2019-09-09   \n",
       "1  pyourorong pyou                4       2019-09-04           2019-09-04   \n",
       "2     Jeongeun Noh                2       2019-09-04           2019-09-04   \n",
       "3              전진명                1       2019-09-03           2019-09-04   \n",
       "4              김나영                4       2019-09-03            no_answer   \n",
       "\n",
       "  user_review_weekday                                       user_comment  \\\n",
       "0                 Mon              문제생겨서 안열렸는데 빠른답변으로 크롬업데이트 후 잘열리네요 ^^~   \n",
       "1                 Wed  다노 완전 좋아하는데...솔직히 통합앱은 실망이에요..북마크도 안되고 다짐하기두 안...   \n",
       "2                 Wed  다노 운동과 코칭은 좋아요. 그런데 오늘 처음으로 다노샵 주문하려고 그랬더니 결제가...   \n",
       "3                 Tue                              로그인오류지속 쓰라는거야 마라는거야ㅡㄷ   \n",
       "4                 Tue                                 체개적으로 잘 되어있어서 좋아요~   \n",
       "\n",
       "  company_answer_check  \n",
       "0               answer  \n",
       "1               answer  \n",
       "2               answer  \n",
       "3               answer  \n",
       "4            no_answer  "
      ]
     },
     "execution_count": 116,
     "metadata": {},
     "output_type": "execute_result"
    }
   ],
   "source": [
    "arranged_user_review_df = user_data_preprocessing(google_playstore_user_review_orginal_df)\n",
    "arranged_user_review_df.head()"
   ]
  },
  {
   "cell_type": "code",
   "execution_count": 169,
   "metadata": {},
   "outputs": [],
   "source": [
    "arranged_user_review_df = arranged_user_review_df[arranged_user_review_df['user_review_date']>='2019-01-01']"
   ]
  },
  {
   "cell_type": "markdown",
   "metadata": {},
   "source": [
    "- 2019년 리뷰만 확인하기로 코드 변경"
   ]
  },
  {
   "cell_type": "markdown",
   "metadata": {},
   "source": [
    "--------------------------------"
   ]
  },
  {
   "cell_type": "markdown",
   "metadata": {},
   "source": [
    "## Basic EDA\n",
    "\n",
    "### check data info & missingvalue"
   ]
  },
  {
   "cell_type": "code",
   "execution_count": 170,
   "metadata": {},
   "outputs": [
    {
     "name": "stdout",
     "output_type": "stream",
     "text": [
      "<class 'pandas.core.frame.DataFrame'>\n",
      "Int64Index: 149 entries, 0 to 148\n",
      "Data columns (total 7 columns):\n",
      "user_name               149 non-null object\n",
      "user_app_rating         149 non-null int64\n",
      "user_review_date        149 non-null object\n",
      "company_comment_date    149 non-null object\n",
      "user_review_weekday     149 non-null object\n",
      "user_comment            149 non-null object\n",
      "company_answer_check    149 non-null object\n",
      "dtypes: int64(1), object(6)\n",
      "memory usage: 9.3+ KB\n"
     ]
    }
   ],
   "source": [
    "arranged_user_review_df.info()"
   ]
  },
  {
   "cell_type": "code",
   "execution_count": 171,
   "metadata": {},
   "outputs": [
    {
     "data": {
      "image/png": "[encoded data removed]",
      "text/plain": [
       "<Figure size 432x432 with 3 Axes>"
      ]
     },
     "metadata": {
      "needs_background": "light"
     },
     "output_type": "display_data"
    }
   ],
   "source": [
    "#msno.bar\n",
    "\n",
    "msno.bar(df=arranged_user_review_df.iloc[:, :], figsize=(6, 6), color=(0.8, 0.5, 0.2))\n",
    "plt.show()"
   ]
  },
  {
   "cell_type": "markdown",
   "metadata": {},
   "source": [
    "### 수집된 데이터의 기간"
   ]
  },
  {
   "cell_type": "code",
   "execution_count": 172,
   "metadata": {},
   "outputs": [
    {
     "name": "stdout",
     "output_type": "stream",
     "text": [
      "수집된 데이터를 살펴보니 이용자가 리뷰를 작성한 날짜는 2019-01-07 부터 2019-09-10 까지 입니다.\n"
     ]
    }
   ],
   "source": [
    "max_date = arranged_user_review_df['user_review_date'].max()\n",
    "min_date = arranged_user_review_df['user_review_date'].min()\n",
    "\n",
    "print(f'수집된 데이터를 살펴보니 이용자가 리뷰를 작성한 날짜는 {min_date} 부터 {max_date} 까지 입니다.')"
   ]
  },
  {
   "cell_type": "markdown",
   "metadata": {},
   "source": [
    "- 뭔가 이상하다???????\n",
    "- 날짜 term 대비 리뷰가 너무 적다"
   ]
  },
  {
   "cell_type": "markdown",
   "metadata": {},
   "source": [
    "### 리뷰를 작성한 사람들은 누구일까요?"
   ]
  },
  {
   "cell_type": "code",
   "execution_count": 173,
   "metadata": {},
   "outputs": [],
   "source": [
    "def arrange_count_value(df, column_name):\n",
    "    df_value_count = df[column_name].value_counts()\n",
    "    \n",
    "    df_count = df_value_count.rename_axis('user').reset_index(name='writing_count')\n",
    "    sorted_df_count = df_count.sort_values('writing_count', ascending=False)\n",
    "    arranged_df = sorted_df_count.reset_index(drop=True)\n",
    "\n",
    "    return arranged_df"
   ]
  },
  {
   "cell_type": "code",
   "execution_count": 174,
   "metadata": {},
   "outputs": [
    {
     "data": {
      "text/html": [
       "<div>\n",
       "<style scoped>\n",
       "    .dataframe tbody tr th:only-of-type {\n",
       "        vertical-align: middle;\n",
       "    }\n",
       "\n",
       "    .dataframe tbody tr th {\n",
       "        vertical-align: top;\n",
       "    }\n",
       "\n",
       "    .dataframe thead th {\n",
       "        text-align: right;\n",
       "    }\n",
       "</style>\n",
       "<table border=\"1\" class=\"dataframe\">\n",
       "  <thead>\n",
       "    <tr style=\"text-align: right;\">\n",
       "      <th></th>\n",
       "      <th>user</th>\n",
       "      <th>writing_count</th>\n",
       "    </tr>\n",
       "  </thead>\n",
       "  <tbody>\n",
       "    <tr>\n",
       "      <th>0</th>\n",
       "      <td>Google 사용자</td>\n",
       "      <td>16</td>\n",
       "    </tr>\n",
       "    <tr>\n",
       "      <th>1</th>\n",
       "      <td>서유진</td>\n",
       "      <td>1</td>\n",
       "    </tr>\n",
       "    <tr>\n",
       "      <th>2</th>\n",
       "      <td>Kyungjin Woo</td>\n",
       "      <td>1</td>\n",
       "    </tr>\n",
       "    <tr>\n",
       "      <th>3</th>\n",
       "      <td>김경은</td>\n",
       "      <td>1</td>\n",
       "    </tr>\n",
       "    <tr>\n",
       "      <th>4</th>\n",
       "      <td>ᄃᄋ</td>\n",
       "      <td>1</td>\n",
       "    </tr>\n",
       "    <tr>\n",
       "      <th>5</th>\n",
       "      <td>채유미</td>\n",
       "      <td>1</td>\n",
       "    </tr>\n",
       "    <tr>\n",
       "      <th>6</th>\n",
       "      <td>민성현</td>\n",
       "      <td>1</td>\n",
       "    </tr>\n",
       "    <tr>\n",
       "      <th>7</th>\n",
       "      <td>우수진</td>\n",
       "      <td>1</td>\n",
       "    </tr>\n",
       "    <tr>\n",
       "      <th>8</th>\n",
       "      <td>식빵</td>\n",
       "      <td>1</td>\n",
       "    </tr>\n",
       "    <tr>\n",
       "      <th>9</th>\n",
       "      <td>Jeongeun Noh</td>\n",
       "      <td>1</td>\n",
       "    </tr>\n",
       "  </tbody>\n",
       "</table>\n",
       "</div>"
      ],
      "text/plain": [
       "           user  writing_count\n",
       "0    Google 사용자             16\n",
       "1           서유진              1\n",
       "2  Kyungjin Woo              1\n",
       "3           김경은              1\n",
       "4            ᄃᄋ              1\n",
       "5           채유미              1\n",
       "6           민성현              1\n",
       "7           우수진              1\n",
       "8            식빵              1\n",
       "9  Jeongeun Noh              1"
      ]
     },
     "execution_count": 174,
     "metadata": {},
     "output_type": "execute_result"
    }
   ],
   "source": [
    "arrange_count_df = arrange_count_value(arranged_user_review_df, 'user_name')\n",
    "arrange_count_df.head(10)"
   ]
  },
  {
   "cell_type": "markdown",
   "metadata": {},
   "source": [
    "- **Google 사용자**가 다수가 나온 이유를 살펴보니, 앱스토어에서 실제로 리뷰 작성자의 이름이 Google 사용자라고 되어 있다.\n",
    "  - 탈퇴를 했거나, 혹은 익명의 아이디를 처리하는 방식으로 판단된다.\n",
    "  - 결론적으로 Google 사용자를 잠시 제외하고 살펴보겠다."
   ]
  },
  {
   "cell_type": "code",
   "execution_count": 175,
   "metadata": {},
   "outputs": [],
   "source": [
    "drop_arrange_count_df = arrange_count_df.drop(index=0).reset_index(drop=True)"
   ]
  },
  {
   "cell_type": "code",
   "execution_count": 176,
   "metadata": {},
   "outputs": [
    {
     "data": {
      "text/plain": [
       "<matplotlib.axes._subplots.AxesSubplot at 0x1a1aa57898>"
      ]
     },
     "execution_count": 176,
     "metadata": {},
     "output_type": "execute_result"
    },
    {
     "data": {
      "image/png": "[encoded data removed]",
      "text/plain": [
       "<Figure size 432x288 with 1 Axes>"
      ]
     },
     "metadata": {
      "needs_background": "light"
     },
     "output_type": "display_data"
    }
   ],
   "source": [
    "# 이용자들은 개인당 몇 번이나 리뷰를 달았을까?\n",
    "\n",
    "sns.countplot(x='writing_count', data = drop_arrange_count_df)"
   ]
  },
  {
   "cell_type": "code",
   "execution_count": 177,
   "metadata": {},
   "outputs": [
    {
     "data": {
      "text/html": [
       "<div>\n",
       "<style scoped>\n",
       "    .dataframe tbody tr th:only-of-type {\n",
       "        vertical-align: middle;\n",
       "    }\n",
       "\n",
       "    .dataframe tbody tr th {\n",
       "        vertical-align: top;\n",
       "    }\n",
       "\n",
       "    .dataframe thead th {\n",
       "        text-align: right;\n",
       "    }\n",
       "</style>\n",
       "<table border=\"1\" class=\"dataframe\">\n",
       "  <thead>\n",
       "    <tr style=\"text-align: right;\">\n",
       "      <th></th>\n",
       "      <th>writing_count</th>\n",
       "      <th>count</th>\n",
       "      <th>ratio</th>\n",
       "    </tr>\n",
       "  </thead>\n",
       "  <tbody>\n",
       "    <tr>\n",
       "      <th>0</th>\n",
       "      <td>1</td>\n",
       "      <td>133</td>\n",
       "      <td>1.0</td>\n",
       "    </tr>\n",
       "  </tbody>\n",
       "</table>\n",
       "</div>"
      ],
      "text/plain": [
       "   writing_count  count  ratio\n",
       "0              1    133    1.0"
      ]
     },
     "execution_count": 177,
     "metadata": {},
     "output_type": "execute_result"
    }
   ],
   "source": [
    "groupby_user_review_count = drop_arrange_count_df.groupby('writing_count', as_index=False).count()\n",
    "groupby_user_review_count.rename(columns = {'user' : 'count'}, inplace=True)\n",
    "groupby_user_review_count['ratio'] = round(groupby_user_review_count['count']/sum(groupby_user_review_count['count']), 2)\n",
    "groupby_user_review_count"
   ]
  },
  {
   "cell_type": "markdown",
   "metadata": {},
   "source": [
    "- 96%이상의 이용자가 1번 정도의 리뷰를 달았고, 소수의 이용자가 2~3번 리뷰를 달은 것으로 파악된다."
   ]
  },
  {
   "cell_type": "markdown",
   "metadata": {},
   "source": [
    "### 어떤 요일에 많이 달았을까?"
   ]
  },
  {
   "cell_type": "code",
   "execution_count": 178,
   "metadata": {},
   "outputs": [],
   "source": [
    "weekday_count = arrange_count_value(arranged_user_review_df, 'user_review_weekday')\n",
    "weekday_count.rename(columns={'user' : 'weekday'}, inplace=True)"
   ]
  },
  {
   "cell_type": "code",
   "execution_count": 179,
   "metadata": {},
   "outputs": [
    {
     "data": {
      "text/html": [
       "<div>\n",
       "<style scoped>\n",
       "    .dataframe tbody tr th:only-of-type {\n",
       "        vertical-align: middle;\n",
       "    }\n",
       "\n",
       "    .dataframe tbody tr th {\n",
       "        vertical-align: top;\n",
       "    }\n",
       "\n",
       "    .dataframe thead th {\n",
       "        text-align: right;\n",
       "    }\n",
       "</style>\n",
       "<table border=\"1\" class=\"dataframe\">\n",
       "  <thead>\n",
       "    <tr style=\"text-align: right;\">\n",
       "      <th></th>\n",
       "      <th>weekday</th>\n",
       "      <th>writing_count</th>\n",
       "    </tr>\n",
       "  </thead>\n",
       "  <tbody>\n",
       "    <tr>\n",
       "      <th>0</th>\n",
       "      <td>Mon</td>\n",
       "      <td>57</td>\n",
       "    </tr>\n",
       "    <tr>\n",
       "      <th>1</th>\n",
       "      <td>Tue</td>\n",
       "      <td>21</td>\n",
       "    </tr>\n",
       "    <tr>\n",
       "      <th>2</th>\n",
       "      <td>Wed</td>\n",
       "      <td>19</td>\n",
       "    </tr>\n",
       "    <tr>\n",
       "      <th>3</th>\n",
       "      <td>Fri</td>\n",
       "      <td>17</td>\n",
       "    </tr>\n",
       "    <tr>\n",
       "      <th>4</th>\n",
       "      <td>Sat</td>\n",
       "      <td>15</td>\n",
       "    </tr>\n",
       "    <tr>\n",
       "      <th>5</th>\n",
       "      <td>Thu</td>\n",
       "      <td>10</td>\n",
       "    </tr>\n",
       "    <tr>\n",
       "      <th>6</th>\n",
       "      <td>Sun</td>\n",
       "      <td>10</td>\n",
       "    </tr>\n",
       "  </tbody>\n",
       "</table>\n",
       "</div>"
      ],
      "text/plain": [
       "  weekday  writing_count\n",
       "0     Mon             57\n",
       "1     Tue             21\n",
       "2     Wed             19\n",
       "3     Fri             17\n",
       "4     Sat             15\n",
       "5     Thu             10\n",
       "6     Sun             10"
      ]
     },
     "execution_count": 179,
     "metadata": {},
     "output_type": "execute_result"
    }
   ],
   "source": [
    "weekday_count"
   ]
  },
  {
   "cell_type": "code",
   "execution_count": 180,
   "metadata": {},
   "outputs": [
    {
     "data": {
      "image/png": "[encoded data removed]",
      "text/plain": [
       "<Figure size 432x288 with 1 Axes>"
      ]
     },
     "metadata": {
      "needs_background": "light"
     },
     "output_type": "display_data"
    }
   ],
   "source": [
    "# draw weekday graph\n",
    "\n",
    "weekday_order_list = ['Mon','Tue','Wed','Thu','Fri','Sat','Sun']\n",
    "sns.barplot(x='weekday', y='writing_count', data=weekday_count, order=weekday_order_list)\n",
    "plt.title('writing_count per daily')\n",
    "plt.show()"
   ]
  },
  {
   "cell_type": "markdown",
   "metadata": {},
   "source": [
    "- 데이터가 이상한가?\n",
    "- 월요일에 많이 달린게 이벤트라도 있나?"
   ]
  },
  {
   "cell_type": "markdown",
   "metadata": {},
   "source": [
    "### 별점 분포는 어떻게 되어 있을까?"
   ]
  },
  {
   "cell_type": "code",
   "execution_count": 181,
   "metadata": {},
   "outputs": [
    {
     "data": {
      "text/html": [
       "<div>\n",
       "<style scoped>\n",
       "    .dataframe tbody tr th:only-of-type {\n",
       "        vertical-align: middle;\n",
       "    }\n",
       "\n",
       "    .dataframe tbody tr th {\n",
       "        vertical-align: top;\n",
       "    }\n",
       "\n",
       "    .dataframe thead th {\n",
       "        text-align: right;\n",
       "    }\n",
       "</style>\n",
       "<table border=\"1\" class=\"dataframe\">\n",
       "  <thead>\n",
       "    <tr style=\"text-align: right;\">\n",
       "      <th></th>\n",
       "      <th>app_rating</th>\n",
       "      <th>rating_count</th>\n",
       "    </tr>\n",
       "  </thead>\n",
       "  <tbody>\n",
       "    <tr>\n",
       "      <th>0</th>\n",
       "      <td>5</td>\n",
       "      <td>65</td>\n",
       "    </tr>\n",
       "    <tr>\n",
       "      <th>1</th>\n",
       "      <td>1</td>\n",
       "      <td>35</td>\n",
       "    </tr>\n",
       "    <tr>\n",
       "      <th>2</th>\n",
       "      <td>4</td>\n",
       "      <td>19</td>\n",
       "    </tr>\n",
       "    <tr>\n",
       "      <th>3</th>\n",
       "      <td>3</td>\n",
       "      <td>16</td>\n",
       "    </tr>\n",
       "    <tr>\n",
       "      <th>4</th>\n",
       "      <td>2</td>\n",
       "      <td>14</td>\n",
       "    </tr>\n",
       "  </tbody>\n",
       "</table>\n",
       "</div>"
      ],
      "text/plain": [
       "   app_rating  rating_count\n",
       "0           5            65\n",
       "1           1            35\n",
       "2           4            19\n",
       "3           3            16\n",
       "4           2            14"
      ]
     },
     "execution_count": 181,
     "metadata": {},
     "output_type": "execute_result"
    }
   ],
   "source": [
    "app_rating_count = arrange_count_value(arranged_user_review_df, 'user_app_rating')\n",
    "app_rating_count.rename(columns={'user' : 'app_rating', 'writing_count' : 'rating_count'}, inplace=True)\n",
    "app_rating_count"
   ]
  },
  {
   "cell_type": "code",
   "execution_count": 182,
   "metadata": {},
   "outputs": [
    {
     "data": {
      "text/html": [
       "<div>\n",
       "<style scoped>\n",
       "    .dataframe tbody tr th:only-of-type {\n",
       "        vertical-align: middle;\n",
       "    }\n",
       "\n",
       "    .dataframe tbody tr th {\n",
       "        vertical-align: top;\n",
       "    }\n",
       "\n",
       "    .dataframe thead th {\n",
       "        text-align: right;\n",
       "    }\n",
       "</style>\n",
       "<table border=\"1\" class=\"dataframe\">\n",
       "  <thead>\n",
       "    <tr style=\"text-align: right;\">\n",
       "      <th></th>\n",
       "      <th>app_rating</th>\n",
       "      <th>rating_count</th>\n",
       "      <th>ratio</th>\n",
       "    </tr>\n",
       "  </thead>\n",
       "  <tbody>\n",
       "    <tr>\n",
       "      <th>0</th>\n",
       "      <td>5</td>\n",
       "      <td>65</td>\n",
       "      <td>0.44</td>\n",
       "    </tr>\n",
       "    <tr>\n",
       "      <th>1</th>\n",
       "      <td>1</td>\n",
       "      <td>35</td>\n",
       "      <td>0.23</td>\n",
       "    </tr>\n",
       "    <tr>\n",
       "      <th>2</th>\n",
       "      <td>4</td>\n",
       "      <td>19</td>\n",
       "      <td>0.13</td>\n",
       "    </tr>\n",
       "    <tr>\n",
       "      <th>3</th>\n",
       "      <td>3</td>\n",
       "      <td>16</td>\n",
       "      <td>0.11</td>\n",
       "    </tr>\n",
       "    <tr>\n",
       "      <th>4</th>\n",
       "      <td>2</td>\n",
       "      <td>14</td>\n",
       "      <td>0.09</td>\n",
       "    </tr>\n",
       "  </tbody>\n",
       "</table>\n",
       "</div>"
      ],
      "text/plain": [
       "   app_rating  rating_count  ratio\n",
       "0           5            65   0.44\n",
       "1           1            35   0.23\n",
       "2           4            19   0.13\n",
       "3           3            16   0.11\n",
       "4           2            14   0.09"
      ]
     },
     "execution_count": 182,
     "metadata": {},
     "output_type": "execute_result"
    }
   ],
   "source": [
    "app_rating_count['ratio'] = round(app_rating_count['rating_count']/sum(app_rating_count['rating_count']), 2)\n",
    "app_rating_count"
   ]
  },
  {
   "cell_type": "code",
   "execution_count": 183,
   "metadata": {},
   "outputs": [
    {
     "data": {
      "image/png": "[encoded data removed]",
      "text/plain": [
       "<Figure size 432x288 with 1 Axes>"
      ]
     },
     "metadata": {
      "needs_background": "light"
     },
     "output_type": "display_data"
    }
   ],
   "source": [
    "# draw app_rating graph\n",
    "\n",
    "app_rating_order_list = [1, 2, 3, 4, 5]\n",
    "sns.barplot(x='app_rating', y='ratio', data=app_rating_count, order=app_rating_order_list)\n",
    "plt.title('app rating count')\n",
    "plt.show()"
   ]
  },
  {
   "cell_type": "markdown",
   "metadata": {},
   "source": [
    "- 앱이 인기가 있는 만큼 불만 사항도 존재하는 것 같다."
   ]
  },
  {
   "cell_type": "markdown",
   "metadata": {},
   "source": [
    "-----------------------"
   ]
  },
  {
   "cell_type": "markdown",
   "metadata": {},
   "source": [
    "## 2. 시간 기록에 따른 데이터 분석\n",
    "\n",
    "### 시간에 따른 별점 변화\n",
    "\n",
    "- 여러가지 접근 방법이 있겠지만, 일별 평균 별점 값을 그래프로 그려서 확인해본다.\n",
    "- 2019년 09월 15일 기준, 구글 플레이 스토어 별점은 4.4점이다.\n",
    "- 그래프를 그렸으나 그래프에 표현되는 값이 너무 많은 관계로 2019년 값만 그리도록 하겠습니다.\n",
    "  - 2019년 01월 01일 부터 2019년 08월 31일까지 기록입니다."
   ]
  },
  {
   "cell_type": "code",
   "execution_count": 230,
   "metadata": {},
   "outputs": [
    {
     "data": {
      "text/html": [
       "<div>\n",
       "<style scoped>\n",
       "    .dataframe tbody tr th:only-of-type {\n",
       "        vertical-align: middle;\n",
       "    }\n",
       "\n",
       "    .dataframe tbody tr th {\n",
       "        vertical-align: top;\n",
       "    }\n",
       "\n",
       "    .dataframe thead th {\n",
       "        text-align: right;\n",
       "    }\n",
       "</style>\n",
       "<table border=\"1\" class=\"dataframe\">\n",
       "  <thead>\n",
       "    <tr style=\"text-align: right;\">\n",
       "      <th></th>\n",
       "      <th>user_app_rating</th>\n",
       "      <th>user_review_date</th>\n",
       "    </tr>\n",
       "  </thead>\n",
       "  <tbody>\n",
       "    <tr>\n",
       "      <th>0</th>\n",
       "      <td>5</td>\n",
       "      <td>2019-09-09</td>\n",
       "    </tr>\n",
       "    <tr>\n",
       "      <th>1</th>\n",
       "      <td>4</td>\n",
       "      <td>2019-09-04</td>\n",
       "    </tr>\n",
       "    <tr>\n",
       "      <th>2</th>\n",
       "      <td>2</td>\n",
       "      <td>2019-09-04</td>\n",
       "    </tr>\n",
       "    <tr>\n",
       "      <th>3</th>\n",
       "      <td>1</td>\n",
       "      <td>2019-09-03</td>\n",
       "    </tr>\n",
       "    <tr>\n",
       "      <th>4</th>\n",
       "      <td>4</td>\n",
       "      <td>2019-09-03</td>\n",
       "    </tr>\n",
       "  </tbody>\n",
       "</table>\n",
       "</div>"
      ],
      "text/plain": [
       "   user_app_rating user_review_date\n",
       "0                5       2019-09-09\n",
       "1                4       2019-09-04\n",
       "2                2       2019-09-04\n",
       "3                1       2019-09-03\n",
       "4                4       2019-09-03"
      ]
     },
     "execution_count": 230,
     "metadata": {},
     "output_type": "execute_result"
    }
   ],
   "source": [
    "app_rating_with_date = arranged_user_review_df[['user_app_rating', 'user_review_date']]\n",
    "average_app_rating_per_daily = app_rating_with_date.groupby('user_review_date', as_index=False).mean()\n",
    "average_app_rating_per_daily = average_app_rating_per_daily[average_app_rating_per_daily['user_review_date']>='2019-01-01']\n",
    "app_rating_with_date.head()"
   ]
  },
  {
   "cell_type": "code",
   "execution_count": 231,
   "metadata": {},
   "outputs": [
    {
     "data": {
      "image/png": "[encoded data removed]",
      "text/plain": [
       "<Figure size 2160x720 with 1 Axes>"
      ]
     },
     "metadata": {
      "needs_background": "light"
     },
     "output_type": "display_data"
    }
   ],
   "source": [
    "# draw graph : 2019 Google play store review rating per daily\n",
    "\n",
    "plt.figure(figsize = (30, 10))\n",
    "sns.pointplot(x='user_review_date', y='user_app_rating', data=average_app_rating_per_daily, scale=0.3)\n",
    "plt.xticks(rotation=45)\n",
    "plt.title('2019 Google play store review rating per daily', fontsize = 15)\n",
    "plt.show()"
   ]
  },
  {
   "cell_type": "code",
   "execution_count": 232,
   "metadata": {},
   "outputs": [
    {
     "data": {
      "text/html": [
       "<div>\n",
       "<style scoped>\n",
       "    .dataframe tbody tr th:only-of-type {\n",
       "        vertical-align: middle;\n",
       "    }\n",
       "\n",
       "    .dataframe tbody tr th {\n",
       "        vertical-align: top;\n",
       "    }\n",
       "\n",
       "    .dataframe thead th {\n",
       "        text-align: right;\n",
       "    }\n",
       "</style>\n",
       "<table border=\"1\" class=\"dataframe\">\n",
       "  <thead>\n",
       "    <tr style=\"text-align: right;\">\n",
       "      <th></th>\n",
       "      <th>user_app_rating</th>\n",
       "    </tr>\n",
       "  </thead>\n",
       "  <tbody>\n",
       "    <tr>\n",
       "      <th>count</th>\n",
       "      <td>149.000000</td>\n",
       "    </tr>\n",
       "    <tr>\n",
       "      <th>mean</th>\n",
       "      <td>3.436242</td>\n",
       "    </tr>\n",
       "    <tr>\n",
       "      <th>std</th>\n",
       "      <td>1.653506</td>\n",
       "    </tr>\n",
       "    <tr>\n",
       "      <th>min</th>\n",
       "      <td>1.000000</td>\n",
       "    </tr>\n",
       "    <tr>\n",
       "      <th>25%</th>\n",
       "      <td>2.000000</td>\n",
       "    </tr>\n",
       "    <tr>\n",
       "      <th>50%</th>\n",
       "      <td>4.000000</td>\n",
       "    </tr>\n",
       "    <tr>\n",
       "      <th>75%</th>\n",
       "      <td>5.000000</td>\n",
       "    </tr>\n",
       "    <tr>\n",
       "      <th>max</th>\n",
       "      <td>5.000000</td>\n",
       "    </tr>\n",
       "  </tbody>\n",
       "</table>\n",
       "</div>"
      ],
      "text/plain": [
       "       user_app_rating\n",
       "count       149.000000\n",
       "mean          3.436242\n",
       "std           1.653506\n",
       "min           1.000000\n",
       "25%           2.000000\n",
       "50%           4.000000\n",
       "75%           5.000000\n",
       "max           5.000000"
      ]
     },
     "execution_count": 232,
     "metadata": {},
     "output_type": "execute_result"
    }
   ],
   "source": [
    "# check statics\n",
    "\n",
    "app_rating_with_date.describe()"
   ]
  },
  {
   "cell_type": "markdown",
   "metadata": {},
   "source": [
    "- 전체적으로 높은 별점을 보이고 있으며, **2019년 04월부터 일별 별점 평균이 3.8로 전체적으로 높은 값을 지님**\n",
    "- 시간이 흐를수록 내려가는 추세"
   ]
  },
  {
   "cell_type": "markdown",
   "metadata": {},
   "source": [
    "### 월별 분석\n",
    "- 월별 분석을 위해 간단한 전처리 진행 후 분석한다.\n",
    "  - 단, 월별 분석 과정에서 한 달을 완전히 보존하기 위해 2019년 01월 01일 부터 2019년 08월 31일까지로 한정한다."
   ]
  },
  {
   "cell_type": "code",
   "execution_count": 233,
   "metadata": {},
   "outputs": [
    {
     "data": {
      "text/html": [
       "<div>\n",
       "<style scoped>\n",
       "    .dataframe tbody tr th:only-of-type {\n",
       "        vertical-align: middle;\n",
       "    }\n",
       "\n",
       "    .dataframe tbody tr th {\n",
       "        vertical-align: top;\n",
       "    }\n",
       "\n",
       "    .dataframe thead th {\n",
       "        text-align: right;\n",
       "    }\n",
       "</style>\n",
       "<table border=\"1\" class=\"dataframe\">\n",
       "  <thead>\n",
       "    <tr style=\"text-align: right;\">\n",
       "      <th></th>\n",
       "      <th>user_app_rating</th>\n",
       "      <th>user_review_date</th>\n",
       "    </tr>\n",
       "  </thead>\n",
       "  <tbody>\n",
       "    <tr>\n",
       "      <th>0</th>\n",
       "      <td>5</td>\n",
       "      <td>2019-09-09</td>\n",
       "    </tr>\n",
       "    <tr>\n",
       "      <th>1</th>\n",
       "      <td>4</td>\n",
       "      <td>2019-09-04</td>\n",
       "    </tr>\n",
       "    <tr>\n",
       "      <th>2</th>\n",
       "      <td>2</td>\n",
       "      <td>2019-09-04</td>\n",
       "    </tr>\n",
       "    <tr>\n",
       "      <th>3</th>\n",
       "      <td>1</td>\n",
       "      <td>2019-09-03</td>\n",
       "    </tr>\n",
       "    <tr>\n",
       "      <th>4</th>\n",
       "      <td>4</td>\n",
       "      <td>2019-09-03</td>\n",
       "    </tr>\n",
       "  </tbody>\n",
       "</table>\n",
       "</div>"
      ],
      "text/plain": [
       "   user_app_rating user_review_date\n",
       "0                5       2019-09-09\n",
       "1                4       2019-09-04\n",
       "2                2       2019-09-04\n",
       "3                1       2019-09-03\n",
       "4                4       2019-09-03"
      ]
     },
     "execution_count": 233,
     "metadata": {},
     "output_type": "execute_result"
    }
   ],
   "source": [
    "app_rating_with_monthly = arranged_user_review_df[['user_app_rating', 'user_review_date']]\n",
    "app_rating_with_monthly.head()"
   ]
  },
  {
   "cell_type": "code",
   "execution_count": 234,
   "metadata": {},
   "outputs": [],
   "source": [
    "def extract_year_month(date):\n",
    "    year_month = date[0:7]\n",
    "    \n",
    "    return year_month"
   ]
  },
  {
   "cell_type": "code",
   "execution_count": 235,
   "metadata": {},
   "outputs": [
    {
     "data": {
      "text/html": [
       "<div>\n",
       "<style scoped>\n",
       "    .dataframe tbody tr th:only-of-type {\n",
       "        vertical-align: middle;\n",
       "    }\n",
       "\n",
       "    .dataframe tbody tr th {\n",
       "        vertical-align: top;\n",
       "    }\n",
       "\n",
       "    .dataframe thead th {\n",
       "        text-align: right;\n",
       "    }\n",
       "</style>\n",
       "<table border=\"1\" class=\"dataframe\">\n",
       "  <thead>\n",
       "    <tr style=\"text-align: right;\">\n",
       "      <th></th>\n",
       "      <th>user_app_rating</th>\n",
       "      <th>user_review_date</th>\n",
       "      <th>year_month</th>\n",
       "    </tr>\n",
       "  </thead>\n",
       "  <tbody>\n",
       "    <tr>\n",
       "      <th>0</th>\n",
       "      <td>5</td>\n",
       "      <td>2019-09-09</td>\n",
       "      <td>2019-09</td>\n",
       "    </tr>\n",
       "    <tr>\n",
       "      <th>1</th>\n",
       "      <td>4</td>\n",
       "      <td>2019-09-04</td>\n",
       "      <td>2019-09</td>\n",
       "    </tr>\n",
       "    <tr>\n",
       "      <th>2</th>\n",
       "      <td>2</td>\n",
       "      <td>2019-09-04</td>\n",
       "      <td>2019-09</td>\n",
       "    </tr>\n",
       "    <tr>\n",
       "      <th>3</th>\n",
       "      <td>1</td>\n",
       "      <td>2019-09-03</td>\n",
       "      <td>2019-09</td>\n",
       "    </tr>\n",
       "    <tr>\n",
       "      <th>4</th>\n",
       "      <td>4</td>\n",
       "      <td>2019-09-03</td>\n",
       "      <td>2019-09</td>\n",
       "    </tr>\n",
       "  </tbody>\n",
       "</table>\n",
       "</div>"
      ],
      "text/plain": [
       "   user_app_rating user_review_date year_month\n",
       "0                5       2019-09-09    2019-09\n",
       "1                4       2019-09-04    2019-09\n",
       "2                2       2019-09-04    2019-09\n",
       "3                1       2019-09-03    2019-09\n",
       "4                4       2019-09-03    2019-09"
      ]
     },
     "execution_count": 235,
     "metadata": {},
     "output_type": "execute_result"
    }
   ],
   "source": [
    "app_rating_with_monthly['year_month'] = app_rating_with_monthly['user_review_date'].apply(extract_year_month)\n",
    "app_rating_with_monthly.head()"
   ]
  },
  {
   "cell_type": "code",
   "execution_count": 236,
   "metadata": {},
   "outputs": [],
   "source": [
    "app_rating_with_year_month = app_rating_with_monthly[(app_rating_with_monthly['year_month']>='2019-01')&(app_rating_with_monthly['year_month']<='2019-08')]\n",
    "app_rating_with_year_month.sort_values('user_review_date', ascending=False, inplace=True)\n",
    "app_rating_with_year_month.reset_index(drop=True, inplace=True)"
   ]
  },
  {
   "cell_type": "code",
   "execution_count": 237,
   "metadata": {},
   "outputs": [
    {
     "data": {
      "text/html": [
       "<div>\n",
       "<style scoped>\n",
       "    .dataframe tbody tr th:only-of-type {\n",
       "        vertical-align: middle;\n",
       "    }\n",
       "\n",
       "    .dataframe tbody tr th {\n",
       "        vertical-align: top;\n",
       "    }\n",
       "\n",
       "    .dataframe thead th {\n",
       "        text-align: right;\n",
       "    }\n",
       "</style>\n",
       "<table border=\"1\" class=\"dataframe\">\n",
       "  <thead>\n",
       "    <tr style=\"text-align: right;\">\n",
       "      <th></th>\n",
       "      <th>user_app_rating</th>\n",
       "      <th>user_review_date</th>\n",
       "      <th>year_month</th>\n",
       "    </tr>\n",
       "  </thead>\n",
       "  <tbody>\n",
       "    <tr>\n",
       "      <th>0</th>\n",
       "      <td>1</td>\n",
       "      <td>2019-08-31</td>\n",
       "      <td>2019-08</td>\n",
       "    </tr>\n",
       "    <tr>\n",
       "      <th>1</th>\n",
       "      <td>1</td>\n",
       "      <td>2019-08-28</td>\n",
       "      <td>2019-08</td>\n",
       "    </tr>\n",
       "    <tr>\n",
       "      <th>2</th>\n",
       "      <td>1</td>\n",
       "      <td>2019-08-28</td>\n",
       "      <td>2019-08</td>\n",
       "    </tr>\n",
       "    <tr>\n",
       "      <th>3</th>\n",
       "      <td>2</td>\n",
       "      <td>2019-08-28</td>\n",
       "      <td>2019-08</td>\n",
       "    </tr>\n",
       "    <tr>\n",
       "      <th>4</th>\n",
       "      <td>1</td>\n",
       "      <td>2019-08-26</td>\n",
       "      <td>2019-08</td>\n",
       "    </tr>\n",
       "  </tbody>\n",
       "</table>\n",
       "</div>"
      ],
      "text/plain": [
       "   user_app_rating user_review_date year_month\n",
       "0                1       2019-08-31    2019-08\n",
       "1                1       2019-08-28    2019-08\n",
       "2                1       2019-08-28    2019-08\n",
       "3                2       2019-08-28    2019-08\n",
       "4                1       2019-08-26    2019-08"
      ]
     },
     "execution_count": 237,
     "metadata": {},
     "output_type": "execute_result"
    }
   ],
   "source": [
    "app_rating_with_year_month.head()"
   ]
  },
  {
   "cell_type": "code",
   "execution_count": 238,
   "metadata": {},
   "outputs": [
    {
     "data": {
      "text/html": [
       "<div>\n",
       "<style scoped>\n",
       "    .dataframe tbody tr th:only-of-type {\n",
       "        vertical-align: middle;\n",
       "    }\n",
       "\n",
       "    .dataframe tbody tr th {\n",
       "        vertical-align: top;\n",
       "    }\n",
       "\n",
       "    .dataframe thead th {\n",
       "        text-align: right;\n",
       "    }\n",
       "</style>\n",
       "<table border=\"1\" class=\"dataframe\">\n",
       "  <thead>\n",
       "    <tr style=\"text-align: right;\">\n",
       "      <th></th>\n",
       "      <th>year_month</th>\n",
       "      <th>user_app_rating</th>\n",
       "    </tr>\n",
       "  </thead>\n",
       "  <tbody>\n",
       "    <tr>\n",
       "      <th>0</th>\n",
       "      <td>2019-01</td>\n",
       "      <td>3.714286</td>\n",
       "    </tr>\n",
       "    <tr>\n",
       "      <th>1</th>\n",
       "      <td>2019-02</td>\n",
       "      <td>2.250000</td>\n",
       "    </tr>\n",
       "    <tr>\n",
       "      <th>2</th>\n",
       "      <td>2019-03</td>\n",
       "      <td>3.928571</td>\n",
       "    </tr>\n",
       "    <tr>\n",
       "      <th>3</th>\n",
       "      <td>2019-04</td>\n",
       "      <td>3.400000</td>\n",
       "    </tr>\n",
       "    <tr>\n",
       "      <th>4</th>\n",
       "      <td>2019-05</td>\n",
       "      <td>3.166667</td>\n",
       "    </tr>\n",
       "    <tr>\n",
       "      <th>5</th>\n",
       "      <td>2019-06</td>\n",
       "      <td>3.650000</td>\n",
       "    </tr>\n",
       "    <tr>\n",
       "      <th>6</th>\n",
       "      <td>2019-07</td>\n",
       "      <td>3.578947</td>\n",
       "    </tr>\n",
       "    <tr>\n",
       "      <th>7</th>\n",
       "      <td>2019-08</td>\n",
       "      <td>3.000000</td>\n",
       "    </tr>\n",
       "  </tbody>\n",
       "</table>\n",
       "</div>"
      ],
      "text/plain": [
       "  year_month  user_app_rating\n",
       "0    2019-01         3.714286\n",
       "1    2019-02         2.250000\n",
       "2    2019-03         3.928571\n",
       "3    2019-04         3.400000\n",
       "4    2019-05         3.166667\n",
       "5    2019-06         3.650000\n",
       "6    2019-07         3.578947\n",
       "7    2019-08         3.000000"
      ]
     },
     "execution_count": 238,
     "metadata": {},
     "output_type": "execute_result"
    }
   ],
   "source": [
    "monthly_result = app_rating_with_year_month.groupby('year_month', as_index=False).mean()\n",
    "monthly_result"
   ]
  },
  {
   "cell_type": "code",
   "execution_count": 239,
   "metadata": {},
   "outputs": [
    {
     "data": {
      "text/html": [
       "<div>\n",
       "<style scoped>\n",
       "    .dataframe tbody tr th:only-of-type {\n",
       "        vertical-align: middle;\n",
       "    }\n",
       "\n",
       "    .dataframe tbody tr th {\n",
       "        vertical-align: top;\n",
       "    }\n",
       "\n",
       "    .dataframe thead th {\n",
       "        text-align: right;\n",
       "    }\n",
       "</style>\n",
       "<table border=\"1\" class=\"dataframe\">\n",
       "  <thead>\n",
       "    <tr style=\"text-align: right;\">\n",
       "      <th></th>\n",
       "      <th>user_app_rating</th>\n",
       "    </tr>\n",
       "  </thead>\n",
       "  <tbody>\n",
       "    <tr>\n",
       "      <th>count</th>\n",
       "      <td>8.000000</td>\n",
       "    </tr>\n",
       "    <tr>\n",
       "      <th>mean</th>\n",
       "      <td>3.336059</td>\n",
       "    </tr>\n",
       "    <tr>\n",
       "      <th>std</th>\n",
       "      <td>0.531430</td>\n",
       "    </tr>\n",
       "    <tr>\n",
       "      <th>min</th>\n",
       "      <td>2.250000</td>\n",
       "    </tr>\n",
       "    <tr>\n",
       "      <th>25%</th>\n",
       "      <td>3.125000</td>\n",
       "    </tr>\n",
       "    <tr>\n",
       "      <th>50%</th>\n",
       "      <td>3.489474</td>\n",
       "    </tr>\n",
       "    <tr>\n",
       "      <th>75%</th>\n",
       "      <td>3.666071</td>\n",
       "    </tr>\n",
       "    <tr>\n",
       "      <th>max</th>\n",
       "      <td>3.928571</td>\n",
       "    </tr>\n",
       "  </tbody>\n",
       "</table>\n",
       "</div>"
      ],
      "text/plain": [
       "       user_app_rating\n",
       "count         8.000000\n",
       "mean          3.336059\n",
       "std           0.531430\n",
       "min           2.250000\n",
       "25%           3.125000\n",
       "50%           3.489474\n",
       "75%           3.666071\n",
       "max           3.928571"
      ]
     },
     "execution_count": 239,
     "metadata": {},
     "output_type": "execute_result"
    }
   ],
   "source": [
    "monthly_result.describe()"
   ]
  },
  {
   "cell_type": "code",
   "execution_count": 240,
   "metadata": {},
   "outputs": [
    {
     "data": {
      "image/png": "[encoded data removed]",
      "text/plain": [
       "<Figure size 1080x360 with 1 Axes>"
      ]
     },
     "metadata": {
      "needs_background": "light"
     },
     "output_type": "display_data"
    }
   ],
   "source": [
    "# draw graph : 2019 Google play store review rating per month\n",
    "\n",
    "plt.figure(figsize = (15, 5))\n",
    "sns.pointplot(x='year_month', y='user_app_rating', data=monthly_result, scale=0.3)\n",
    "plt.xticks(rotation=45, fontsize = 15)\n",
    "plt.title('2019 Google play store review rating per month', fontsize = 15)\n",
    "plt.show()"
   ]
  },
  {
   "cell_type": "markdown",
   "metadata": {},
   "source": [
    "- 2019년 04월부터 월별 3.65~4.1의 평점을 받으며 구간 내 반복 중이다.\n",
    "- 단, 누적 평점 4.4에 비교하면 전체적으로 낮아지고 있다."
   ]
  },
  {
   "cell_type": "markdown",
   "metadata": {},
   "source": [
    "## 요일에 따른 리뷰 분석"
   ]
  },
  {
   "cell_type": "code",
   "execution_count": 241,
   "metadata": {},
   "outputs": [
    {
     "data": {
      "text/html": [
       "<div>\n",
       "<style scoped>\n",
       "    .dataframe tbody tr th:only-of-type {\n",
       "        vertical-align: middle;\n",
       "    }\n",
       "\n",
       "    .dataframe tbody tr th {\n",
       "        vertical-align: top;\n",
       "    }\n",
       "\n",
       "    .dataframe thead th {\n",
       "        text-align: right;\n",
       "    }\n",
       "</style>\n",
       "<table border=\"1\" class=\"dataframe\">\n",
       "  <thead>\n",
       "    <tr style=\"text-align: right;\">\n",
       "      <th></th>\n",
       "      <th>user_app_rating</th>\n",
       "      <th>user_review_weekday</th>\n",
       "    </tr>\n",
       "  </thead>\n",
       "  <tbody>\n",
       "    <tr>\n",
       "      <th>0</th>\n",
       "      <td>5</td>\n",
       "      <td>Mon</td>\n",
       "    </tr>\n",
       "    <tr>\n",
       "      <th>1</th>\n",
       "      <td>4</td>\n",
       "      <td>Wed</td>\n",
       "    </tr>\n",
       "    <tr>\n",
       "      <th>2</th>\n",
       "      <td>2</td>\n",
       "      <td>Wed</td>\n",
       "    </tr>\n",
       "    <tr>\n",
       "      <th>3</th>\n",
       "      <td>1</td>\n",
       "      <td>Tue</td>\n",
       "    </tr>\n",
       "    <tr>\n",
       "      <th>4</th>\n",
       "      <td>4</td>\n",
       "      <td>Tue</td>\n",
       "    </tr>\n",
       "  </tbody>\n",
       "</table>\n",
       "</div>"
      ],
      "text/plain": [
       "   user_app_rating user_review_weekday\n",
       "0                5                 Mon\n",
       "1                4                 Wed\n",
       "2                2                 Wed\n",
       "3                1                 Tue\n",
       "4                4                 Tue"
      ]
     },
     "execution_count": 241,
     "metadata": {},
     "output_type": "execute_result"
    }
   ],
   "source": [
    "weekday_user_review_df = arranged_user_review_df[['user_app_rating', 'user_review_weekday']]\n",
    "weekday_user_review_df.head()"
   ]
  },
  {
   "cell_type": "code",
   "execution_count": 242,
   "metadata": {},
   "outputs": [
    {
     "data": {
      "text/html": [
       "<style  type=\"text/css\" >\n",
       "    #T_956a088e_d7b0_11e9_9399_68fef708cd21row0_col0 {\n",
       "            background-color:  #ffff66;\n",
       "            color:  #000000;\n",
       "        }    #T_956a088e_d7b0_11e9_9399_68fef708cd21row0_col1 {\n",
       "            background-color:  #d6eb66;\n",
       "            color:  #000000;\n",
       "        }    #T_956a088e_d7b0_11e9_9399_68fef708cd21row0_col2 {\n",
       "            background-color:  #bbdd66;\n",
       "            color:  #000000;\n",
       "        }    #T_956a088e_d7b0_11e9_9399_68fef708cd21row0_col3 {\n",
       "            background-color:  #99cc66;\n",
       "            color:  #000000;\n",
       "        }    #T_956a088e_d7b0_11e9_9399_68fef708cd21row0_col4 {\n",
       "            background-color:  #e6f266;\n",
       "            color:  #000000;\n",
       "        }    #T_956a088e_d7b0_11e9_9399_68fef708cd21row0_col5 {\n",
       "            background-color:  #b6db66;\n",
       "            color:  #000000;\n",
       "        }    #T_956a088e_d7b0_11e9_9399_68fef708cd21row0_col6 {\n",
       "            background-color:  #9cce66;\n",
       "            color:  #000000;\n",
       "        }    #T_956a088e_d7b0_11e9_9399_68fef708cd21row0_col7 {\n",
       "            background-color:  #d8ec66;\n",
       "            color:  #000000;\n",
       "        }    #T_956a088e_d7b0_11e9_9399_68fef708cd21row1_col0 {\n",
       "            background-color:  #eff766;\n",
       "            color:  #000000;\n",
       "        }    #T_956a088e_d7b0_11e9_9399_68fef708cd21row1_col1 {\n",
       "            background-color:  #ffff66;\n",
       "            color:  #000000;\n",
       "        }    #T_956a088e_d7b0_11e9_9399_68fef708cd21row1_col2 {\n",
       "            background-color:  #ffff66;\n",
       "            color:  #000000;\n",
       "        }    #T_956a088e_d7b0_11e9_9399_68fef708cd21row1_col3 {\n",
       "            background-color:  #e6f266;\n",
       "            color:  #000000;\n",
       "        }    #T_956a088e_d7b0_11e9_9399_68fef708cd21row1_col4 {\n",
       "            background-color:  #ffff66;\n",
       "            color:  #000000;\n",
       "        }    #T_956a088e_d7b0_11e9_9399_68fef708cd21row1_col5 {\n",
       "            background-color:  #dbed66;\n",
       "            color:  #000000;\n",
       "        }    #T_956a088e_d7b0_11e9_9399_68fef708cd21row1_col6 {\n",
       "            background-color:  #b8dc66;\n",
       "            color:  #000000;\n",
       "        }    #T_956a088e_d7b0_11e9_9399_68fef708cd21row1_col7 {\n",
       "            background-color:  #ffff66;\n",
       "            color:  #000000;\n",
       "        }    #T_956a088e_d7b0_11e9_9399_68fef708cd21row2_col0 {\n",
       "            background-color:  #cfe766;\n",
       "            color:  #000000;\n",
       "        }    #T_956a088e_d7b0_11e9_9399_68fef708cd21row2_col1 {\n",
       "            background-color:  #fbfd66;\n",
       "            color:  #000000;\n",
       "        }    #T_956a088e_d7b0_11e9_9399_68fef708cd21row2_col2 {\n",
       "            background-color:  #aad466;\n",
       "            color:  #000000;\n",
       "        }    #T_956a088e_d7b0_11e9_9399_68fef708cd21row2_col3 {\n",
       "            background-color:  #cce666;\n",
       "            color:  #000000;\n",
       "        }    #T_956a088e_d7b0_11e9_9399_68fef708cd21row2_col4 {\n",
       "            background-color:  #e6f266;\n",
       "            color:  #000000;\n",
       "        }    #T_956a088e_d7b0_11e9_9399_68fef708cd21row2_col5 {\n",
       "            background-color:  #ffff66;\n",
       "            color:  #000000;\n",
       "        }    #T_956a088e_d7b0_11e9_9399_68fef708cd21row2_col6 {\n",
       "            background-color:  #ffff66;\n",
       "            color:  #000000;\n",
       "        }    #T_956a088e_d7b0_11e9_9399_68fef708cd21row2_col7 {\n",
       "            background-color:  #fcfe66;\n",
       "            color:  #000000;\n",
       "        }    #T_956a088e_d7b0_11e9_9399_68fef708cd21row3_col0 {\n",
       "            background-color:  #ffff66;\n",
       "            color:  #000000;\n",
       "        }    #T_956a088e_d7b0_11e9_9399_68fef708cd21row3_col1 {\n",
       "            background-color:  #dfef66;\n",
       "            color:  #000000;\n",
       "        }    #T_956a088e_d7b0_11e9_9399_68fef708cd21row3_col2 {\n",
       "            background-color:  #cce666;\n",
       "            color:  #000000;\n",
       "        }    #T_956a088e_d7b0_11e9_9399_68fef708cd21row3_col3 {\n",
       "            background-color:  #ffff66;\n",
       "            color:  #000000;\n",
       "        }    #T_956a088e_d7b0_11e9_9399_68fef708cd21row3_col4 {\n",
       "            background-color:  #cce666;\n",
       "            color:  #000000;\n",
       "        }    #T_956a088e_d7b0_11e9_9399_68fef708cd21row3_col5 {\n",
       "            background-color:  #e7f366;\n",
       "            color:  #000000;\n",
       "        }    #T_956a088e_d7b0_11e9_9399_68fef708cd21row3_col6 {\n",
       "            background-color:  #f1f866;\n",
       "            color:  #000000;\n",
       "        }    #T_956a088e_d7b0_11e9_9399_68fef708cd21row3_col7 {\n",
       "            background-color:  #f6fa66;\n",
       "            color:  #000000;\n",
       "        }    #T_956a088e_d7b0_11e9_9399_68fef708cd21row4_col0 {\n",
       "            background-color:  #7fbf66;\n",
       "            color:  #000000;\n",
       "        }    #T_956a088e_d7b0_11e9_9399_68fef708cd21row4_col1 {\n",
       "            background-color:  #74ba66;\n",
       "            color:  #000000;\n",
       "        }    #T_956a088e_d7b0_11e9_9399_68fef708cd21row4_col2 {\n",
       "            background-color:  #cce666;\n",
       "            color:  #000000;\n",
       "        }    #T_956a088e_d7b0_11e9_9399_68fef708cd21row4_col3 {\n",
       "            background-color:  #b3d966;\n",
       "            color:  #000000;\n",
       "        }    #T_956a088e_d7b0_11e9_9399_68fef708cd21row4_col4 {\n",
       "            background-color:  #66b266;\n",
       "            color:  #000000;\n",
       "        }    #T_956a088e_d7b0_11e9_9399_68fef708cd21row4_col5 {\n",
       "            background-color:  #86c266;\n",
       "            color:  #000000;\n",
       "        }    #T_956a088e_d7b0_11e9_9399_68fef708cd21row4_col6 {\n",
       "            background-color:  #f1f866;\n",
       "            color:  #000000;\n",
       "        }    #T_956a088e_d7b0_11e9_9399_68fef708cd21row4_col7 {\n",
       "            background-color:  #9fcf66;\n",
       "            color:  #000000;\n",
       "        }    #T_956a088e_d7b0_11e9_9399_68fef708cd21row5_col0 {\n",
       "            background-color:  #008066;\n",
       "            color:  #f1f1f1;\n",
       "        }    #T_956a088e_d7b0_11e9_9399_68fef708cd21row5_col1 {\n",
       "            background-color:  #008066;\n",
       "            color:  #f1f1f1;\n",
       "        }    #T_956a088e_d7b0_11e9_9399_68fef708cd21row5_col2 {\n",
       "            background-color:  #008066;\n",
       "            color:  #f1f1f1;\n",
       "        }    #T_956a088e_d7b0_11e9_9399_68fef708cd21row5_col3 {\n",
       "            background-color:  #008066;\n",
       "            color:  #f1f1f1;\n",
       "        }    #T_956a088e_d7b0_11e9_9399_68fef708cd21row5_col4 {\n",
       "            background-color:  #008066;\n",
       "            color:  #f1f1f1;\n",
       "        }    #T_956a088e_d7b0_11e9_9399_68fef708cd21row5_col5 {\n",
       "            background-color:  #008066;\n",
       "            color:  #f1f1f1;\n",
       "        }    #T_956a088e_d7b0_11e9_9399_68fef708cd21row5_col6 {\n",
       "            background-color:  #008066;\n",
       "            color:  #f1f1f1;\n",
       "        }    #T_956a088e_d7b0_11e9_9399_68fef708cd21row5_col7 {\n",
       "            background-color:  #008066;\n",
       "            color:  #f1f1f1;\n",
       "        }</style><table id=\"T_956a088e_d7b0_11e9_9399_68fef708cd21\" ><thead>    <tr>        <th class=\"index_name level0\" >user_review_weekday</th>        <th class=\"col_heading level0 col0\" >Fri</th>        <th class=\"col_heading level0 col1\" >Mon</th>        <th class=\"col_heading level0 col2\" >Sat</th>        <th class=\"col_heading level0 col3\" >Sun</th>        <th class=\"col_heading level0 col4\" >Thu</th>        <th class=\"col_heading level0 col5\" >Tue</th>        <th class=\"col_heading level0 col6\" >Wed</th>        <th class=\"col_heading level0 col7\" >All</th>    </tr>    <tr>        <th class=\"index_name level0\" >user_app_rating</th>        <th class=\"blank\" ></th>        <th class=\"blank\" ></th>        <th class=\"blank\" ></th>        <th class=\"blank\" ></th>        <th class=\"blank\" ></th>        <th class=\"blank\" ></th>        <th class=\"blank\" ></th>        <th class=\"blank\" ></th>    </tr></thead><tbody>\n",
       "                <tr>\n",
       "                        <th id=\"T_956a088e_d7b0_11e9_9399_68fef708cd21level0_row0\" class=\"row_heading level0 row0\" >1</th>\n",
       "                        <td id=\"T_956a088e_d7b0_11e9_9399_68fef708cd21row0_col0\" class=\"data row0 col0\" >1</td>\n",
       "                        <td id=\"T_956a088e_d7b0_11e9_9399_68fef708cd21row0_col1\" class=\"data row0 col1\" >11</td>\n",
       "                        <td id=\"T_956a088e_d7b0_11e9_9399_68fef708cd21row0_col2\" class=\"data row0 col2\" >4</td>\n",
       "                        <td id=\"T_956a088e_d7b0_11e9_9399_68fef708cd21row0_col3\" class=\"data row0 col3\" >4</td>\n",
       "                        <td id=\"T_956a088e_d7b0_11e9_9399_68fef708cd21row0_col4\" class=\"data row0 col4\" >1</td>\n",
       "                        <td id=\"T_956a088e_d7b0_11e9_9399_68fef708cd21row0_col5\" class=\"data row0 col5\" >6</td>\n",
       "                        <td id=\"T_956a088e_d7b0_11e9_9399_68fef708cd21row0_col6\" class=\"data row0 col6\" >8</td>\n",
       "                        <td id=\"T_956a088e_d7b0_11e9_9399_68fef708cd21row0_col7\" class=\"data row0 col7\" >35</td>\n",
       "            </tr>\n",
       "            <tr>\n",
       "                        <th id=\"T_956a088e_d7b0_11e9_9399_68fef708cd21level0_row1\" class=\"row_heading level0 row1\" >2</th>\n",
       "                        <td id=\"T_956a088e_d7b0_11e9_9399_68fef708cd21row1_col0\" class=\"data row1 col0\" >2</td>\n",
       "                        <td id=\"T_956a088e_d7b0_11e9_9399_68fef708cd21row1_col1\" class=\"data row1 col1\" >2</td>\n",
       "                        <td id=\"T_956a088e_d7b0_11e9_9399_68fef708cd21row1_col2\" class=\"data row1 col2\" >0</td>\n",
       "                        <td id=\"T_956a088e_d7b0_11e9_9399_68fef708cd21row1_col3\" class=\"data row1 col3\" >1</td>\n",
       "                        <td id=\"T_956a088e_d7b0_11e9_9399_68fef708cd21row1_col4\" class=\"data row1 col4\" >0</td>\n",
       "                        <td id=\"T_956a088e_d7b0_11e9_9399_68fef708cd21row1_col5\" class=\"data row1 col5\" >3</td>\n",
       "                        <td id=\"T_956a088e_d7b0_11e9_9399_68fef708cd21row1_col6\" class=\"data row1 col6\" >6</td>\n",
       "                        <td id=\"T_956a088e_d7b0_11e9_9399_68fef708cd21row1_col7\" class=\"data row1 col7\" >14</td>\n",
       "            </tr>\n",
       "            <tr>\n",
       "                        <th id=\"T_956a088e_d7b0_11e9_9399_68fef708cd21level0_row2\" class=\"row_heading level0 row2\" >3</th>\n",
       "                        <td id=\"T_956a088e_d7b0_11e9_9399_68fef708cd21row2_col0\" class=\"data row2 col0\" >4</td>\n",
       "                        <td id=\"T_956a088e_d7b0_11e9_9399_68fef708cd21row2_col1\" class=\"data row2 col1\" >3</td>\n",
       "                        <td id=\"T_956a088e_d7b0_11e9_9399_68fef708cd21row2_col2\" class=\"data row2 col2\" >5</td>\n",
       "                        <td id=\"T_956a088e_d7b0_11e9_9399_68fef708cd21row2_col3\" class=\"data row2 col3\" >2</td>\n",
       "                        <td id=\"T_956a088e_d7b0_11e9_9399_68fef708cd21row2_col4\" class=\"data row2 col4\" >1</td>\n",
       "                        <td id=\"T_956a088e_d7b0_11e9_9399_68fef708cd21row2_col5\" class=\"data row2 col5\" >0</td>\n",
       "                        <td id=\"T_956a088e_d7b0_11e9_9399_68fef708cd21row2_col6\" class=\"data row2 col6\" >1</td>\n",
       "                        <td id=\"T_956a088e_d7b0_11e9_9399_68fef708cd21row2_col7\" class=\"data row2 col7\" >16</td>\n",
       "            </tr>\n",
       "            <tr>\n",
       "                        <th id=\"T_956a088e_d7b0_11e9_9399_68fef708cd21level0_row3\" class=\"row_heading level0 row3\" >4</th>\n",
       "                        <td id=\"T_956a088e_d7b0_11e9_9399_68fef708cd21row3_col0\" class=\"data row3 col0\" >1</td>\n",
       "                        <td id=\"T_956a088e_d7b0_11e9_9399_68fef708cd21row3_col1\" class=\"data row3 col1\" >9</td>\n",
       "                        <td id=\"T_956a088e_d7b0_11e9_9399_68fef708cd21row3_col2\" class=\"data row3 col2\" >3</td>\n",
       "                        <td id=\"T_956a088e_d7b0_11e9_9399_68fef708cd21row3_col3\" class=\"data row3 col3\" >0</td>\n",
       "                        <td id=\"T_956a088e_d7b0_11e9_9399_68fef708cd21row3_col4\" class=\"data row3 col4\" >2</td>\n",
       "                        <td id=\"T_956a088e_d7b0_11e9_9399_68fef708cd21row3_col5\" class=\"data row3 col5\" >2</td>\n",
       "                        <td id=\"T_956a088e_d7b0_11e9_9399_68fef708cd21row3_col6\" class=\"data row3 col6\" >2</td>\n",
       "                        <td id=\"T_956a088e_d7b0_11e9_9399_68fef708cd21row3_col7\" class=\"data row3 col7\" >19</td>\n",
       "            </tr>\n",
       "            <tr>\n",
       "                        <th id=\"T_956a088e_d7b0_11e9_9399_68fef708cd21level0_row4\" class=\"row_heading level0 row4\" >5</th>\n",
       "                        <td id=\"T_956a088e_d7b0_11e9_9399_68fef708cd21row4_col0\" class=\"data row4 col0\" >9</td>\n",
       "                        <td id=\"T_956a088e_d7b0_11e9_9399_68fef708cd21row4_col1\" class=\"data row4 col1\" >32</td>\n",
       "                        <td id=\"T_956a088e_d7b0_11e9_9399_68fef708cd21row4_col2\" class=\"data row4 col2\" >3</td>\n",
       "                        <td id=\"T_956a088e_d7b0_11e9_9399_68fef708cd21row4_col3\" class=\"data row4 col3\" >3</td>\n",
       "                        <td id=\"T_956a088e_d7b0_11e9_9399_68fef708cd21row4_col4\" class=\"data row4 col4\" >6</td>\n",
       "                        <td id=\"T_956a088e_d7b0_11e9_9399_68fef708cd21row4_col5\" class=\"data row4 col5\" >10</td>\n",
       "                        <td id=\"T_956a088e_d7b0_11e9_9399_68fef708cd21row4_col6\" class=\"data row4 col6\" >2</td>\n",
       "                        <td id=\"T_956a088e_d7b0_11e9_9399_68fef708cd21row4_col7\" class=\"data row4 col7\" >65</td>\n",
       "            </tr>\n",
       "            <tr>\n",
       "                        <th id=\"T_956a088e_d7b0_11e9_9399_68fef708cd21level0_row5\" class=\"row_heading level0 row5\" >All</th>\n",
       "                        <td id=\"T_956a088e_d7b0_11e9_9399_68fef708cd21row5_col0\" class=\"data row5 col0\" >17</td>\n",
       "                        <td id=\"T_956a088e_d7b0_11e9_9399_68fef708cd21row5_col1\" class=\"data row5 col1\" >57</td>\n",
       "                        <td id=\"T_956a088e_d7b0_11e9_9399_68fef708cd21row5_col2\" class=\"data row5 col2\" >15</td>\n",
       "                        <td id=\"T_956a088e_d7b0_11e9_9399_68fef708cd21row5_col3\" class=\"data row5 col3\" >10</td>\n",
       "                        <td id=\"T_956a088e_d7b0_11e9_9399_68fef708cd21row5_col4\" class=\"data row5 col4\" >10</td>\n",
       "                        <td id=\"T_956a088e_d7b0_11e9_9399_68fef708cd21row5_col5\" class=\"data row5 col5\" >21</td>\n",
       "                        <td id=\"T_956a088e_d7b0_11e9_9399_68fef708cd21row5_col6\" class=\"data row5 col6\" >19</td>\n",
       "                        <td id=\"T_956a088e_d7b0_11e9_9399_68fef708cd21row5_col7\" class=\"data row5 col7\" >149</td>\n",
       "            </tr>\n",
       "    </tbody></table>"
      ],
      "text/plain": [
       "<pandas.io.formats.style.Styler at 0x1a1bd3aa90>"
      ]
     },
     "execution_count": 242,
     "metadata": {},
     "output_type": "execute_result"
    }
   ],
   "source": [
    "# crosstab for checking two catagory\n",
    "\n",
    "crosstab_result = pd.crosstab(weekday_user_review_df['user_app_rating'], weekday_user_review_df['user_review_weekday'], margins=True).style.background_gradient(cmap='summer_r')\n",
    "crosstab_result"
   ]
  },
  {
   "cell_type": "code",
   "execution_count": 243,
   "metadata": {},
   "outputs": [
    {
     "data": {
      "text/html": [
       "<div>\n",
       "<style scoped>\n",
       "    .dataframe tbody tr th:only-of-type {\n",
       "        vertical-align: middle;\n",
       "    }\n",
       "\n",
       "    .dataframe tbody tr th {\n",
       "        vertical-align: top;\n",
       "    }\n",
       "\n",
       "    .dataframe thead th {\n",
       "        text-align: right;\n",
       "    }\n",
       "</style>\n",
       "<table border=\"1\" class=\"dataframe\">\n",
       "  <thead>\n",
       "    <tr style=\"text-align: right;\">\n",
       "      <th>user_app_rating</th>\n",
       "      <th>1</th>\n",
       "      <th>2</th>\n",
       "      <th>3</th>\n",
       "      <th>4</th>\n",
       "      <th>5</th>\n",
       "    </tr>\n",
       "    <tr>\n",
       "      <th>user_review_weekday</th>\n",
       "      <th></th>\n",
       "      <th></th>\n",
       "      <th></th>\n",
       "      <th></th>\n",
       "      <th></th>\n",
       "    </tr>\n",
       "  </thead>\n",
       "  <tbody>\n",
       "    <tr>\n",
       "      <th>Fri</th>\n",
       "      <td>0.006711</td>\n",
       "      <td>0.013423</td>\n",
       "      <td>0.026846</td>\n",
       "      <td>0.006711</td>\n",
       "      <td>0.060403</td>\n",
       "    </tr>\n",
       "    <tr>\n",
       "      <th>Mon</th>\n",
       "      <td>0.073826</td>\n",
       "      <td>0.013423</td>\n",
       "      <td>0.020134</td>\n",
       "      <td>0.060403</td>\n",
       "      <td>0.214765</td>\n",
       "    </tr>\n",
       "    <tr>\n",
       "      <th>Sat</th>\n",
       "      <td>0.026846</td>\n",
       "      <td>0.000000</td>\n",
       "      <td>0.033557</td>\n",
       "      <td>0.020134</td>\n",
       "      <td>0.020134</td>\n",
       "    </tr>\n",
       "    <tr>\n",
       "      <th>Sun</th>\n",
       "      <td>0.026846</td>\n",
       "      <td>0.006711</td>\n",
       "      <td>0.013423</td>\n",
       "      <td>0.000000</td>\n",
       "      <td>0.020134</td>\n",
       "    </tr>\n",
       "    <tr>\n",
       "      <th>Thu</th>\n",
       "      <td>0.006711</td>\n",
       "      <td>0.000000</td>\n",
       "      <td>0.006711</td>\n",
       "      <td>0.013423</td>\n",
       "      <td>0.040268</td>\n",
       "    </tr>\n",
       "    <tr>\n",
       "      <th>Tue</th>\n",
       "      <td>0.040268</td>\n",
       "      <td>0.020134</td>\n",
       "      <td>0.000000</td>\n",
       "      <td>0.013423</td>\n",
       "      <td>0.067114</td>\n",
       "    </tr>\n",
       "    <tr>\n",
       "      <th>Wed</th>\n",
       "      <td>0.053691</td>\n",
       "      <td>0.040268</td>\n",
       "      <td>0.006711</td>\n",
       "      <td>0.013423</td>\n",
       "      <td>0.013423</td>\n",
       "    </tr>\n",
       "  </tbody>\n",
       "</table>\n",
       "</div>"
      ],
      "text/plain": [
       "user_app_rating             1         2         3         4         5\n",
       "user_review_weekday                                                  \n",
       "Fri                  0.006711  0.013423  0.026846  0.006711  0.060403\n",
       "Mon                  0.073826  0.013423  0.020134  0.060403  0.214765\n",
       "Sat                  0.026846  0.000000  0.033557  0.020134  0.020134\n",
       "Sun                  0.026846  0.006711  0.013423  0.000000  0.020134\n",
       "Thu                  0.006711  0.000000  0.006711  0.013423  0.040268\n",
       "Tue                  0.040268  0.020134  0.000000  0.013423  0.067114\n",
       "Wed                  0.053691  0.040268  0.006711  0.013423  0.013423"
      ]
     },
     "execution_count": 243,
     "metadata": {},
     "output_type": "execute_result"
    }
   ],
   "source": [
    "# crosstab with ratio\n",
    "\n",
    "crosstab_result = pd.crosstab(weekday_user_review_df['user_app_rating'], weekday_user_review_df['user_review_weekday'], normalize=True).T\n",
    "crosstab_result"
   ]
  },
  {
   "cell_type": "code",
   "execution_count": 244,
   "metadata": {},
   "outputs": [],
   "source": [
    "def draw_heatmap(weekday_user_review_df, weekday_order_list):\n",
    "    crosstab_result = pd.crosstab(weekday_user_review_df['user_app_rating'], weekday_user_review_df['user_review_weekday'], normalize=True).T\n",
    "    crosstab_result = crosstab_result.reindex(index=weekday_order_list)\n",
    "    \n",
    "    plt.figure(figsize=(10, 5))\n",
    "    sns.heatmap(crosstab_result, cmap=\"YlGnBu\", annot=True, cbar=True, fmt='0.3g')\n",
    "    plt.title('user_app_rating per weekday')\n",
    "    plt.show()"
   ]
  },
  {
   "cell_type": "code",
   "execution_count": 245,
   "metadata": {},
   "outputs": [
    {
     "data": {
      "image/png": "[encoded data removed]",
      "text/plain": [
       "<Figure size 720x360 with 2 Axes>"
      ]
     },
     "metadata": {
      "needs_background": "light"
     },
     "output_type": "display_data"
    }
   ],
   "source": [
    "draw_heatmap(weekday_user_review_df, weekday_order_list)"
   ]
  },
  {
   "cell_type": "markdown",
   "metadata": {},
   "source": [
    "- 일요일에 좋은 점수가 몰려 있음\n",
    "- 매일 낮은 평점이 조금씩은 있음"
   ]
  },
  {
   "cell_type": "code",
   "execution_count": 246,
   "metadata": {},
   "outputs": [],
   "source": [
    "# - 일요일에 가장 많은 리뷰 횟수가 기록되면서, 5점 리뷰도 가장 많이 기록되고 있는 것으로 파악된다.\n",
    "# - 화요일에 가장 적은 리뷰 횟수가 기록되며, 높은 리뷰 점수 비중도 다른 날에 비해 상대적으로 낮다.\n",
    "  # - 트래픽을 확인 할 수는 없으나, 일요일을 타깃으로 이용자들과 호흡할 수 있는 이벤트도 검토해볼만하다."
   ]
  },
  {
   "cell_type": "markdown",
   "metadata": {},
   "source": [
    "---------------------------------"
   ]
  },
  {
   "cell_type": "markdown",
   "metadata": {},
   "source": [
    "### 고객 응대 소요 시간\n",
    "- 이용자들에게 답변하는 날짜는 이용자가 리뷰를 달은 날짜와 얼마나 차이가 날까?\n",
    "  - 답변을 달지 않은 날은 제외하고 파악해보도록 하자\n",
    "  - 아쉽게도 시, 분, 초는 플레이스토어에서 구할 수가 없어서 day 기준으로 판단한다.\n",
    "- 리플을 굳이 달지 않아도 되는 항목이 있을 수도 있으니, 리플을 달은 것 vs 달지 않은 것에 대한 비교는 하지 않는다.\n",
    "- 왠지 느낌적으로 답변도 참 달으셨을 것 같다."
   ]
  },
  {
   "cell_type": "code",
   "execution_count": 247,
   "metadata": {},
   "outputs": [
    {
     "data": {
      "text/html": [
       "<div>\n",
       "<style scoped>\n",
       "    .dataframe tbody tr th:only-of-type {\n",
       "        vertical-align: middle;\n",
       "    }\n",
       "\n",
       "    .dataframe tbody tr th {\n",
       "        vertical-align: top;\n",
       "    }\n",
       "\n",
       "    .dataframe thead th {\n",
       "        text-align: right;\n",
       "    }\n",
       "</style>\n",
       "<table border=\"1\" class=\"dataframe\">\n",
       "  <thead>\n",
       "    <tr style=\"text-align: right;\">\n",
       "      <th></th>\n",
       "      <th>user_app_rating</th>\n",
       "      <th>user_review_date</th>\n",
       "      <th>company_comment_date</th>\n",
       "    </tr>\n",
       "  </thead>\n",
       "  <tbody>\n",
       "    <tr>\n",
       "      <th>0</th>\n",
       "      <td>5</td>\n",
       "      <td>2019-09-09</td>\n",
       "      <td>2019-09-09</td>\n",
       "    </tr>\n",
       "    <tr>\n",
       "      <th>1</th>\n",
       "      <td>4</td>\n",
       "      <td>2019-09-04</td>\n",
       "      <td>2019-09-04</td>\n",
       "    </tr>\n",
       "    <tr>\n",
       "      <th>2</th>\n",
       "      <td>2</td>\n",
       "      <td>2019-09-04</td>\n",
       "      <td>2019-09-04</td>\n",
       "    </tr>\n",
       "    <tr>\n",
       "      <th>3</th>\n",
       "      <td>1</td>\n",
       "      <td>2019-09-03</td>\n",
       "      <td>2019-09-04</td>\n",
       "    </tr>\n",
       "    <tr>\n",
       "      <th>4</th>\n",
       "      <td>2</td>\n",
       "      <td>2019-09-03</td>\n",
       "      <td>2019-09-04</td>\n",
       "    </tr>\n",
       "  </tbody>\n",
       "</table>\n",
       "</div>"
      ],
      "text/plain": [
       "   user_app_rating user_review_date company_comment_date\n",
       "0                5       2019-09-09           2019-09-09\n",
       "1                4       2019-09-04           2019-09-04\n",
       "2                2       2019-09-04           2019-09-04\n",
       "3                1       2019-09-03           2019-09-04\n",
       "4                2       2019-09-03           2019-09-04"
      ]
     },
     "execution_count": 247,
     "metadata": {},
     "output_type": "execute_result"
    }
   ],
   "source": [
    "reply_date_df = arranged_user_review_df[['user_app_rating', 'user_review_date', 'company_comment_date']]\n",
    "reply_date_df_with_answer = reply_date_df[reply_date_df['company_comment_date']!='no_answer'].reset_index(drop=True)\n",
    "reply_date_df_with_answer.head()"
   ]
  },
  {
   "cell_type": "code",
   "execution_count": 248,
   "metadata": {},
   "outputs": [],
   "source": [
    "def convert_string_to_datetime_format(date):\n",
    "    convert_date = datetime.strptime(date, \"%Y-%m-%d\")\n",
    "    \n",
    "    return convert_date\n",
    "\n",
    "\n",
    "def calculate_time_deleta(df, column_name_1, column_name2):\n",
    "    time_delta_list = []\n",
    "    for index, row in df.iterrows():\n",
    "        time_delta_value = row[column_name2] - row[column_name_1]\n",
    "        time_delta_day = time_delta_value.days\n",
    "        \n",
    "        time_delta_list.append(time_delta_day)\n",
    "        \n",
    "    df['reply_time'] = time_delta_list\n",
    "    \n",
    "    return df"
   ]
  },
  {
   "cell_type": "code",
   "execution_count": 249,
   "metadata": {},
   "outputs": [
    {
     "data": {
      "text/html": [
       "<div>\n",
       "<style scoped>\n",
       "    .dataframe tbody tr th:only-of-type {\n",
       "        vertical-align: middle;\n",
       "    }\n",
       "\n",
       "    .dataframe tbody tr th {\n",
       "        vertical-align: top;\n",
       "    }\n",
       "\n",
       "    .dataframe thead th {\n",
       "        text-align: right;\n",
       "    }\n",
       "</style>\n",
       "<table border=\"1\" class=\"dataframe\">\n",
       "  <thead>\n",
       "    <tr style=\"text-align: right;\">\n",
       "      <th></th>\n",
       "      <th>user_app_rating</th>\n",
       "      <th>user_review_date</th>\n",
       "      <th>company_comment_date</th>\n",
       "      <th>reply_time</th>\n",
       "    </tr>\n",
       "  </thead>\n",
       "  <tbody>\n",
       "    <tr>\n",
       "      <th>0</th>\n",
       "      <td>5</td>\n",
       "      <td>2019-09-09</td>\n",
       "      <td>2019-09-09</td>\n",
       "      <td>0</td>\n",
       "    </tr>\n",
       "    <tr>\n",
       "      <th>1</th>\n",
       "      <td>4</td>\n",
       "      <td>2019-09-04</td>\n",
       "      <td>2019-09-04</td>\n",
       "      <td>0</td>\n",
       "    </tr>\n",
       "    <tr>\n",
       "      <th>2</th>\n",
       "      <td>2</td>\n",
       "      <td>2019-09-04</td>\n",
       "      <td>2019-09-04</td>\n",
       "      <td>0</td>\n",
       "    </tr>\n",
       "    <tr>\n",
       "      <th>3</th>\n",
       "      <td>1</td>\n",
       "      <td>2019-09-03</td>\n",
       "      <td>2019-09-04</td>\n",
       "      <td>1</td>\n",
       "    </tr>\n",
       "    <tr>\n",
       "      <th>4</th>\n",
       "      <td>2</td>\n",
       "      <td>2019-09-03</td>\n",
       "      <td>2019-09-04</td>\n",
       "      <td>1</td>\n",
       "    </tr>\n",
       "  </tbody>\n",
       "</table>\n",
       "</div>"
      ],
      "text/plain": [
       "   user_app_rating user_review_date company_comment_date  reply_time\n",
       "0                5       2019-09-09           2019-09-09           0\n",
       "1                4       2019-09-04           2019-09-04           0\n",
       "2                2       2019-09-04           2019-09-04           0\n",
       "3                1       2019-09-03           2019-09-04           1\n",
       "4                2       2019-09-03           2019-09-04           1"
      ]
     },
     "execution_count": 249,
     "metadata": {},
     "output_type": "execute_result"
    }
   ],
   "source": [
    "# convert string to datetime_format\n",
    "\n",
    "reply_date_df_with_answer_columns = ['user_review_date', 'company_comment_date']\n",
    "\n",
    "for column in reply_date_df_with_answer_columns:\n",
    "    reply_date_df_with_answer[column] = reply_date_df_with_answer[column].apply(convert_string_to_datetime_format)\n",
    "    \n",
    "\n",
    "# calculate time delta\n",
    "\n",
    "cal_reply_time_delta_df = calculate_time_deleta(reply_date_df_with_answer, 'user_review_date', 'company_comment_date')\n",
    "cal_reply_time_delta_df.head()"
   ]
  },
  {
   "cell_type": "code",
   "execution_count": 250,
   "metadata": {},
   "outputs": [],
   "source": [
    "def arrange_count_value(df, column_name):\n",
    "    df_value_count = df[column_name].value_counts()\n",
    "    \n",
    "    df_count = df_value_count.rename_axis('reply_time').reset_index(name='count')\n",
    "    sorted_df_count = df_count.sort_values('reply_time', ascending=True)\n",
    "    arranged_df = sorted_df_count.reset_index(drop=True)\n",
    "    arranged_df = sorted_df_count[sorted_df_count['reply_time']>=0].reset_index(drop=True)\n",
    "    \n",
    "    return arranged_df"
   ]
  },
  {
   "cell_type": "code",
   "execution_count": 251,
   "metadata": {},
   "outputs": [
    {
     "data": {
      "text/html": [
       "<div>\n",
       "<style scoped>\n",
       "    .dataframe tbody tr th:only-of-type {\n",
       "        vertical-align: middle;\n",
       "    }\n",
       "\n",
       "    .dataframe tbody tr th {\n",
       "        vertical-align: top;\n",
       "    }\n",
       "\n",
       "    .dataframe thead th {\n",
       "        text-align: right;\n",
       "    }\n",
       "</style>\n",
       "<table border=\"1\" class=\"dataframe\">\n",
       "  <thead>\n",
       "    <tr style=\"text-align: right;\">\n",
       "      <th></th>\n",
       "      <th>reply_time</th>\n",
       "      <th>count</th>\n",
       "      <th>ratio</th>\n",
       "      <th>cumsum_ratio</th>\n",
       "    </tr>\n",
       "  </thead>\n",
       "  <tbody>\n",
       "    <tr>\n",
       "      <th>0</th>\n",
       "      <td>0</td>\n",
       "      <td>21</td>\n",
       "      <td>0.368421</td>\n",
       "      <td>0.368421</td>\n",
       "    </tr>\n",
       "    <tr>\n",
       "      <th>1</th>\n",
       "      <td>1</td>\n",
       "      <td>16</td>\n",
       "      <td>0.280702</td>\n",
       "      <td>0.649123</td>\n",
       "    </tr>\n",
       "    <tr>\n",
       "      <th>2</th>\n",
       "      <td>2</td>\n",
       "      <td>13</td>\n",
       "      <td>0.228070</td>\n",
       "      <td>0.877193</td>\n",
       "    </tr>\n",
       "    <tr>\n",
       "      <th>3</th>\n",
       "      <td>3</td>\n",
       "      <td>2</td>\n",
       "      <td>0.035088</td>\n",
       "      <td>0.912281</td>\n",
       "    </tr>\n",
       "    <tr>\n",
       "      <th>4</th>\n",
       "      <td>6</td>\n",
       "      <td>2</td>\n",
       "      <td>0.035088</td>\n",
       "      <td>0.947368</td>\n",
       "    </tr>\n",
       "    <tr>\n",
       "      <th>5</th>\n",
       "      <td>7</td>\n",
       "      <td>1</td>\n",
       "      <td>0.017544</td>\n",
       "      <td>0.964912</td>\n",
       "    </tr>\n",
       "    <tr>\n",
       "      <th>6</th>\n",
       "      <td>8</td>\n",
       "      <td>2</td>\n",
       "      <td>0.035088</td>\n",
       "      <td>1.000000</td>\n",
       "    </tr>\n",
       "  </tbody>\n",
       "</table>\n",
       "</div>"
      ],
      "text/plain": [
       "   reply_time  count     ratio  cumsum_ratio\n",
       "0           0     21  0.368421      0.368421\n",
       "1           1     16  0.280702      0.649123\n",
       "2           2     13  0.228070      0.877193\n",
       "3           3      2  0.035088      0.912281\n",
       "4           6      2  0.035088      0.947368\n",
       "5           7      1  0.017544      0.964912\n",
       "6           8      2  0.035088      1.000000"
      ]
     },
     "execution_count": 251,
     "metadata": {},
     "output_type": "execute_result"
    }
   ],
   "source": [
    "# 답변 시간이 음수가 되는 경우가 종종 있다. \n",
    "# 시스템 문제로 파악 되었으나, 그게 아니고 하나의 글에 리플을 여러번 달 경우 처음 답변과의 시차가 발생해서 나타난 결과이다.\n",
    "# 이번 분석에서는 음수가 되는 경우는 제외하고 시각화 하겠다.\n",
    "\n",
    "reply_time_df = arrange_count_value(cal_reply_time_delta_df, 'reply_time')\n",
    "reply_time_df['ratio'] = reply_time_df['count'] / sum(reply_time_df['count'])\n",
    "reply_time_df['cumsum_ratio'] = reply_time_df['ratio'].cumsum()\n",
    "reply_time_df"
   ]
  },
  {
   "cell_type": "code",
   "execution_count": 252,
   "metadata": {},
   "outputs": [
    {
     "data": {
      "image/png": "[encoded data removed]",
      "text/plain": [
       "<Figure size 864x360 with 2 Axes>"
      ]
     },
     "metadata": {
      "needs_background": "light"
     },
     "output_type": "display_data"
    }
   ],
   "source": [
    "# draw reply_time graph\n",
    "def draw_count_and_ratio_graph(df):\n",
    "    y_position = 1.02\n",
    "    f, ax = plt.subplots(1,2, figsize=(12, 5))\n",
    "\n",
    "    sns.barplot(x='reply_time', y='count', data=df, ax=ax[0])\n",
    "    ax[0].set_title(f'reply_time with count')\n",
    "\n",
    "    sns.barplot(x='reply_time', y='cumsum_ratio', data=df, ax=ax[1])\n",
    "    ax[1].set_title(f'reply_time with cumsum_ratio')\n",
    "    \n",
    "    plt.tight_layout()\n",
    "    plt.show()\n",
    "\n",
    "draw_count_and_ratio_graph(reply_time_df)"
   ]
  },
  {
   "cell_type": "markdown",
   "metadata": {},
   "source": [
    "- 별점에 관계없이 답변이 달린 경우는 리뷰가 달린 날짜 대비 3일 이내에 80% 이상 답변이 달리고 있다.\n",
    "- 고객 대응 속도는 발빠른 것으로 보인다."
   ]
  },
  {
   "cell_type": "code",
   "execution_count": 253,
   "metadata": {},
   "outputs": [
    {
     "data": {
      "text/html": [
       "<div>\n",
       "<style scoped>\n",
       "    .dataframe tbody tr th:only-of-type {\n",
       "        vertical-align: middle;\n",
       "    }\n",
       "\n",
       "    .dataframe tbody tr th {\n",
       "        vertical-align: top;\n",
       "    }\n",
       "\n",
       "    .dataframe thead th {\n",
       "        text-align: right;\n",
       "    }\n",
       "</style>\n",
       "<table border=\"1\" class=\"dataframe\">\n",
       "  <thead>\n",
       "    <tr style=\"text-align: right;\">\n",
       "      <th></th>\n",
       "      <th>reply_time</th>\n",
       "      <th>count</th>\n",
       "      <th>ratio</th>\n",
       "      <th>cumsum_ratio</th>\n",
       "    </tr>\n",
       "  </thead>\n",
       "  <tbody>\n",
       "    <tr>\n",
       "      <th>0</th>\n",
       "      <td>0</td>\n",
       "      <td>14</td>\n",
       "      <td>0.378378</td>\n",
       "      <td>0.378378</td>\n",
       "    </tr>\n",
       "    <tr>\n",
       "      <th>1</th>\n",
       "      <td>1</td>\n",
       "      <td>12</td>\n",
       "      <td>0.324324</td>\n",
       "      <td>0.702703</td>\n",
       "    </tr>\n",
       "    <tr>\n",
       "      <th>2</th>\n",
       "      <td>2</td>\n",
       "      <td>8</td>\n",
       "      <td>0.216216</td>\n",
       "      <td>0.918919</td>\n",
       "    </tr>\n",
       "    <tr>\n",
       "      <th>3</th>\n",
       "      <td>3</td>\n",
       "      <td>1</td>\n",
       "      <td>0.027027</td>\n",
       "      <td>0.945946</td>\n",
       "    </tr>\n",
       "    <tr>\n",
       "      <th>4</th>\n",
       "      <td>7</td>\n",
       "      <td>1</td>\n",
       "      <td>0.027027</td>\n",
       "      <td>0.972973</td>\n",
       "    </tr>\n",
       "    <tr>\n",
       "      <th>5</th>\n",
       "      <td>8</td>\n",
       "      <td>1</td>\n",
       "      <td>0.027027</td>\n",
       "      <td>1.000000</td>\n",
       "    </tr>\n",
       "  </tbody>\n",
       "</table>\n",
       "</div>"
      ],
      "text/plain": [
       "   reply_time  count     ratio  cumsum_ratio\n",
       "0           0     14  0.378378      0.378378\n",
       "1           1     12  0.324324      0.702703\n",
       "2           2      8  0.216216      0.918919\n",
       "3           3      1  0.027027      0.945946\n",
       "4           7      1  0.027027      0.972973\n",
       "5           8      1  0.027027      1.000000"
      ]
     },
     "execution_count": 253,
     "metadata": {},
     "output_type": "execute_result"
    }
   ],
   "source": [
    "# filter data set\n",
    "\n",
    "reply_date_df = arranged_user_review_df[['user_app_rating', 'user_review_date', 'company_comment_date']]\n",
    "reply_date_df_with_low_rating = reply_date_df[(reply_date_df['company_comment_date']!='no_answer')&(reply_date_df['user_app_rating']<=2)].reset_index(drop=True)\n",
    "reply_date_df_with_low_rating.head()\n",
    "\n",
    "\n",
    "# convert string to datetime_format\n",
    "\n",
    "reply_date_df_with_low_rating_columns = list(reply_date_df_with_low_rating.columns)\n",
    "\n",
    "for column in reply_date_df_with_low_rating_columns:\n",
    "    if column == \"user_app_rating\":\n",
    "        continue\n",
    "\n",
    "    reply_date_df_with_low_rating[column] = reply_date_df_with_low_rating[column].apply(convert_string_to_datetime_format)\n",
    "    \n",
    "\n",
    "# calculate time delta\n",
    "\n",
    "cal_reply_time_delta_df = calculate_time_deleta(reply_date_df_with_low_rating, 'user_review_date', 'company_comment_date')\n",
    "\n",
    "\n",
    "# calculate ratio\n",
    "\n",
    "reply_time_df = arrange_count_value(cal_reply_time_delta_df, 'reply_time')\n",
    "reply_time_df['ratio'] = reply_time_df['count'] / sum(reply_time_df['count'])\n",
    "reply_time_df['cumsum_ratio'] = reply_time_df['ratio'].cumsum()\n",
    "reply_time_df"
   ]
  },
  {
   "cell_type": "code",
   "execution_count": 254,
   "metadata": {},
   "outputs": [
    {
     "data": {
      "image/png": "[encoded data removed]",
      "text/plain": [
       "<Figure size 864x360 with 2 Axes>"
      ]
     },
     "metadata": {
      "needs_background": "light"
     },
     "output_type": "display_data"
    }
   ],
   "source": [
    "draw_count_and_ratio_graph(reply_time_df)"
   ]
  },
  {
   "cell_type": "markdown",
   "metadata": {},
   "source": [
    "- 별점이 1~2점인 경우에도 3일 안에 80%정도는 답이 달리고 있다.\n",
    "------------------------"
   ]
  },
  {
   "cell_type": "markdown",
   "metadata": {},
   "source": [
    "### 3. 리뷰 내용에 대한 자연어 간단 분석\n",
    "- KAKAO KHAiii를 이용하여 명사 추출\n",
    "- 추출된 자료를 바탕으로 Topic modeling로 구성하고 시각화\n",
    "- 별점에 따라 주요 키워드 분석 진행"
   ]
  },
  {
   "cell_type": "code",
   "execution_count": 255,
   "metadata": {},
   "outputs": [],
   "source": [
    "def extract_noun(word_object_list):\n",
    "    extracted_word_noun_list = []\n",
    "    \n",
    "    for i, word_object in enumerate(word_object_list):\n",
    "        word_object_morphs = word_object.morphs\n",
    "        \n",
    "        for word in word_object_morphs:\n",
    "            if word.tag in ['NNG', 'NNP']:\n",
    "                extracted_word_noun_list.append(word.lex)\n",
    "    \n",
    "    return extracted_word_noun_list\n",
    "\n",
    "\n",
    "def execute_khaiii(user_comment_list):\n",
    "    sentence_analyze_components = []\n",
    "    kha_api = KhaiiiApi()\n",
    "    \n",
    "    for i, user_comment in enumerate(user_comment_list):\n",
    "        word_object_list = []\n",
    "        user_comment_analyze_objects = kha_api.analyze(user_comment)\n",
    "        \n",
    "        for user_comment_analyze_object in user_comment_analyze_objects:\n",
    "            word_object_list.append(user_comment_analyze_object)\n",
    "            \n",
    "        extracted_noun_list = extract_noun(word_object_list)  \n",
    "        sentence_analyze_components.append(extracted_noun_list)\n",
    "        \n",
    "#         if i == 1:\n",
    "#             break\n",
    "    \n",
    "    return sentence_analyze_components"
   ]
  },
  {
   "cell_type": "code",
   "execution_count": 256,
   "metadata": {},
   "outputs": [],
   "source": [
    "# get user_comment_noun_list of all rating reviews\n",
    "\n",
    "user_comment_list = arranged_user_review_df['user_comment'].tolist()\n",
    "all_rating_extracted_user_comment_noun_list = execute_khaiii(user_comment_list)"
   ]
  },
  {
   "cell_type": "code",
   "execution_count": 257,
   "metadata": {},
   "outputs": [
    {
     "data": {
      "text/plain": [
       "['문제', '답변', '크롬업데이트', '후']"
      ]
     },
     "execution_count": 257,
     "metadata": {},
     "output_type": "execute_result"
    }
   ],
   "source": [
    "all_rating_extracted_user_comment_noun_list[0][0:10]"
   ]
  },
  {
   "cell_type": "code",
   "execution_count": 258,
   "metadata": {},
   "outputs": [],
   "source": [
    "def delete_stopwords(word):\n",
    "    regex = '[ㄱ-ㅎㅏ-ㅣ]+'\n",
    "    changed_word = re.sub(pattern=regex, repl='None', string=word)\n",
    "    \n",
    "    return changed_word\n",
    "\n",
    "def get_dataframe_from_noun_list(extracted_user_comment_noun_list):\n",
    "    word_count_dict = {}\n",
    "    \n",
    "    for i, word_list in enumerate(extracted_user_comment_noun_list):\n",
    "        for word in word_list:\n",
    "            if word not in word_count_dict:\n",
    "                word_count_dict[word] = 1\n",
    "            else:\n",
    "                word_count_dict[word] += 1\n",
    "                \n",
    "    word_count_df = pd.DataFrame.from_dict(word_count_dict, orient='index').reset_index().rename(columns = {'index': 'word', 0 : 'count'}).sort_values(by='count', ascending=False).reset_index(drop=True)\n",
    "    word_count_df['word'] = word_count_df['word'].apply(delete_stopwords)\n",
    "    word_count_df_new = word_count_df[word_count_df['word']!='None']\n",
    "    \n",
    "    return word_count_df_new\n",
    "\n",
    "def draw_graph(word_count_df_new):\n",
    "    plt.figure(figsize = (15, 5))\n",
    "    sns.barplot(x = 'word', y = 'count', data=word_count_df_new[0:15])\n",
    "    plt.title('high frequency Top 15 words', fontsize = 15)\n",
    "    plt.xticks(fontsize = 15)\n",
    "    plt.show()"
   ]
  },
  {
   "cell_type": "code",
   "execution_count": 259,
   "metadata": {},
   "outputs": [
    {
     "data": {
      "image/png": "[encoded data removed]",
      "text/plain": [
       "<Figure size 1080x360 with 1 Axes>"
      ]
     },
     "metadata": {
      "needs_background": "light"
     },
     "output_type": "display_data"
    }
   ],
   "source": [
    "all_rating_word_count_df_new = get_dataframe_from_noun_list(all_rating_extracted_user_comment_noun_list)\n",
    "draw_graph(all_rating_word_count_df_new)"
   ]
  },
  {
   "cell_type": "code",
   "execution_count": 260,
   "metadata": {},
   "outputs": [],
   "source": [
    "# Topic Modeling with gensim\n",
    "\n",
    "def save_model_data(name, folder_name='lda_model'):\n",
    "    folder_path = f'{os.getcwd()}{\"/\"}{folder_name}'\n",
    "    if not os.path.exists(folder_path):\n",
    "        os.makedirs(folder_path)\n",
    "    file_path = os.path.join(folder_path, name)\n",
    "\n",
    "    return file_path\n",
    "\n",
    "\n",
    "def load_model_data(name, folder_name='lda_model'):\n",
    "    folder_path = f'{os.getcwd()}{\"/\"}{folder_name}'\n",
    "    file_path = os.path.join(folder_path, name)\n",
    "\n",
    "    return file_path\n",
    "\n",
    "\n",
    "class ReviewModeling:\n",
    "\n",
    "    def __init__(self, topic_num=10, rating_type='all_rating'):\n",
    "        self.topic_num = topic_num\n",
    "        self.rating_type = rating_type\n",
    "\n",
    "    def make_train_review_data_list(self, review_text_list):\n",
    "        #         articles = self._extract_noun(review_text_list)\n",
    "        cleaned_articles = self._delete_single_word(review_text_list)\n",
    "        high_frequency_words = self._get_high_frequency_words(cleaned_articles)\n",
    "        data_list = self._filter_low_frequency_word(cleaned_articles,\n",
    "                                                    high_frequency_words)\n",
    "\n",
    "        return data_list\n",
    "\n",
    "    def make_lda_model(self, data_list):\n",
    "        self._make_word_dictionary(data_list)\n",
    "        self._make_doc_matrix(data_list)\n",
    "        self._make_gensim_model()\n",
    "\n",
    "    def make_lda_visualization(self):\n",
    "        file_path = load_model_data('app_review_train_model.model')\n",
    "        model = LdaModel.load(file_path)\n",
    "        lda_prepared_data = gensimvis.prepare(model,\n",
    "                                              self.doc_matrix,\n",
    "                                              self.review_dictionary)\n",
    "        \n",
    "        html_file_name = f'{self.rating_type}_app_review_topic_modeling_visualization.html'\n",
    "\n",
    "        lda_visualization(lda_prepared_data, html_file_name)\n",
    "        \n",
    "        self._make_probability_graph(model)\n",
    "\n",
    "    def _extract_noun(self, review_text_list):\n",
    "        mecab = Mecab()\n",
    "        article_list = []\n",
    "        for article in review_text_list:\n",
    "            extracted_noun = mecab.nouns(article)\n",
    "            article_list.append(extracted_noun)\n",
    "\n",
    "        return article_list\n",
    "\n",
    "    def _delete_single_word(self, article_list):\n",
    "        article_num = 0\n",
    "        for split_article in article_list:\n",
    "            article_list[article_num] = list(filter(lambda x: len(x) >= 2, split_article))\n",
    "            article_num += 1\n",
    "\n",
    "        return article_list\n",
    "\n",
    "    def _get_high_frequency_words(self, clean_text):\n",
    "        article_words = Counter()\n",
    "        for article in clean_text:\n",
    "            article_words.update(article)\n",
    "\n",
    "        common_words_set = article_words.most_common(10000)\n",
    "        high_frequency_words_set = tuple(word for word, count in common_words_set)\n",
    "\n",
    "        return high_frequency_words_set\n",
    "\n",
    "    def _filter_low_frequency_word(self, article_list, high_frequency_words):\n",
    "        article_num = 0\n",
    "        compare_words_set = Counter(high_frequency_words)\n",
    "\n",
    "        for article in article_list:\n",
    "            count_result_list = []\n",
    "            article_counter = Counter(article)\n",
    "            count_result = article_counter & compare_words_set\n",
    "\n",
    "            for word, value in count_result.items():\n",
    "                count_result_list.append(word)\n",
    "            article_list[article_num] = count_result_list\n",
    "            article_num += 1\n",
    "\n",
    "        return article_list\n",
    "\n",
    "    def _make_word_dictionary(self, train_data):\n",
    "        self.review_dictionary = corpora.Dictionary(train_data)\n",
    "\n",
    "        review_dict_file_name = save_model_data('app_review.dict')\n",
    "        self.review_dictionary.save(review_dict_file_name)\n",
    "\n",
    "    def _make_doc_matrix(self, train_data):\n",
    "        self.doc_matrix = []\n",
    "        for doc in train_data:\n",
    "            doc2bow_result = self.review_dictionary.doc2bow(doc)\n",
    "            self.doc_matrix.append(doc2bow_result)\n",
    "\n",
    "        doc_matrix_file_name = save_model_data('review_corpus.mm')\n",
    "        corpora.MmCorpus.serialize(doc_matrix_file_name, self.doc_matrix)\n",
    "\n",
    "    def _make_gensim_model(self):\n",
    "        review_lda = models.ldamodel.LdaModel\n",
    "        model = review_lda(self.doc_matrix,\n",
    "                         num_topics=self.topic_num,\n",
    "                         id2word=self.review_dictionary,\n",
    "                         passes=100)\n",
    "\n",
    "        model_file_name = save_model_data('app_review_train_model.model')\n",
    "        model.save(model_file_name)\n",
    "\n",
    "        return model\n",
    "    \n",
    "    def _make_probability_graph(self, lda_model):\n",
    "        fig = plt.figure(figsize=(20,30))\n",
    "        number = self.topic_num\n",
    "        image_file_name = f'{self.rating_type}_review_topic.png'\n",
    "        for i in range(number):\n",
    "            lda_model_dataframe=pd.DataFrame(lda_model.show_topic(i), columns=['term','prob']).set_index('term')\n",
    "\n",
    "            plt.subplot(5,3,i+1)\n",
    "            sns.barplot(x='prob', y=lda_model_dataframe.index, data=lda_model_dataframe, label='Cities', palette=\"GnBu_d\")\n",
    "            plt.xlabel('probability')\n",
    "\n",
    "        plt.tight_layout()\n",
    "        plt.savefig(image_file_name) # 그림 파일로 저장\n",
    "        plt.show()"
   ]
  },
  {
   "cell_type": "code",
   "execution_count": 261,
   "metadata": {},
   "outputs": [],
   "source": [
    "def make_lda_model_with_news(news_text, topic_num=15, rating_type='all_rating'):\n",
    "    # make a lda model from news and draw a topic modeling graph.\n",
    "    data = ReviewModeling(topic_num, rating_type)\n",
    "    train_data_set = data.make_train_review_data_list(news_text)\n",
    "    data.make_lda_model(train_data_set)\n",
    "    data.make_lda_visualization()"
   ]
  },
  {
   "cell_type": "code",
   "execution_count": 262,
   "metadata": {},
   "outputs": [
    {
     "data": {
      "image/png": "[encoded data removed]",
      "text/plain": [
       "<Figure size 1440x2160 with 10 Axes>"
      ]
     },
     "metadata": {
      "needs_background": "light"
     },
     "output_type": "display_data"
    }
   ],
   "source": [
    "# run Topic modeling\n",
    "make_lda_model_with_news(all_rating_extracted_user_comment_noun_list, 10, 'all_rating')"
   ]
  },
  {
   "cell_type": "markdown",
   "metadata": {},
   "source": [
    "### 별점 2점 이하일 경우에 대한 분석"
   ]
  },
  {
   "cell_type": "code",
   "execution_count": 263,
   "metadata": {},
   "outputs": [],
   "source": [
    "# get user_comment_noun_list of low rating reviews\n",
    "\n",
    "low_rating_user_comment_list = arranged_user_review_df[arranged_user_review_df['user_app_rating'] <= 2]['user_comment'].tolist()\n",
    "low_rating_extracted_user_comment_noun_list = execute_khaiii(low_rating_user_comment_list)"
   ]
  },
  {
   "cell_type": "code",
   "execution_count": 264,
   "metadata": {},
   "outputs": [
    {
     "data": {
      "image/png": "[encoded data removed]",
      "text/plain": [
       "<Figure size 1080x360 with 1 Axes>"
      ]
     },
     "metadata": {
      "needs_background": "light"
     },
     "output_type": "display_data"
    }
   ],
   "source": [
    "low_rating_word_count_df_new = get_dataframe_from_noun_list(low_rating_extracted_user_comment_noun_list)\n",
    "draw_graph(low_rating_word_count_df_new)"
   ]
  },
  {
   "cell_type": "code",
   "execution_count": 265,
   "metadata": {},
   "outputs": [
    {
     "data": {
      "image/png": "[encoded data removed]",
      "text/plain": [
       "<Figure size 1440x2160 with 10 Axes>"
      ]
     },
     "metadata": {
      "needs_background": "light"
     },
     "output_type": "display_data"
    }
   ],
   "source": [
    "# run Topic modeling\n",
    "\n",
    "make_lda_model_with_news(low_rating_extracted_user_comment_noun_list, 10, 'low_rating')"
   ]
  },
  {
   "cell_type": "code",
   "execution_count": 266,
   "metadata": {},
   "outputs": [],
   "source": [
    "# import operator\n",
    "# sorted_x = sorted(kewword_dict.items(), key=operator.itemgetter(1), reverse=True)\n",
    "# sorted_x"
   ]
  }
 ],
 "metadata": {
  "kernelspec": {
   "display_name": "Python 3",
   "language": "python",
   "name": "python3"
  },
  "language_info": {
   "codemirror_mode": {
    "name": "ipython",
    "version": 3
   },
   "file_extension": ".py",
   "mimetype": "text/x-python",
   "name": "python",
   "nbconvert_exporter": "python",
   "pygments_lexer": "ipython3",
   "version": "3.7.3"
  }
 },
 "nbformat": 4,
 "nbformat_minor": 2
}

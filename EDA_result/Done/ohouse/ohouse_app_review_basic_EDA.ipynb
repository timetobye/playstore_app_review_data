{
 "cells": [
  {
   "cell_type": "markdown",
   "metadata": {},
   "source": [
    "## App Store Reivew analysis - zigzag\n",
    "---------------"
   ]
  },
  {
   "cell_type": "markdown",
   "metadata": {},
   "source": [
    "## 개요\n",
    "\n",
    "### 문서 목적\n",
    "- **버킷플레이스**에서 서비스 중인 **오늘의집** 앱에 대한 분석 리포트 작성을 위해 문서를 만들었습니다.\n",
    "\n",
    "### 분석 대상\n",
    "- **구글 플레이 스토어에 고객이 작성한 리뷰 정보**\n",
    "  - user_name : 이용자 이름(닉네임)\n",
    "  - user_app_rating : 별점(1~5)\n",
    "  - user_review_date : 리뷰 작성 날짜\n",
    "  - company_comment_date : 답변 작성 날짜\n",
    "  - user_simple_comment : 리뷰 내용\n",
    "  - user_specific_comment : 리뷰 상세 내용\n",
    "    - user_simple_comment의 내용이 길 경우 웹 상에서 다 보이지 않고 상세하게 볼 수 있도록 구성되어 있어 추가한 항목입니다. 전처리를 통해 처리 될 예정입니다.\n",
    "  - company_answer_check : 답변 여부\n",
    "\n",
    "\n",
    "### 분석 일시\n",
    "- 크롤링 데이터 구성 시간 : 2019년 08월 10일\n",
    "- 데이터 분석 시작 : 2019년 08월 09일\n",
    "- 데이터는 2019년 03월 30일 부터 2019년 08월 10월까지 기록으로 구성되어 있습니다.\n",
    "\n",
    "### 분석 방법\n",
    "1. 데이터 확인\n",
    "  - 데이터 전처리\n",
    "  - 컬럼 확인\n",
    "2. 시간 기록에 따른 데이터 분석\n",
    "  - 시간에 따른 별점 변화(별점은 1 ~ 5의 값을 가진다)\n",
    "  - 요일에 따른 리뷰 분석\n",
    "  - 답변 시간차(고객 응대 소요 시간)\n",
    "3. 리뷰 내용에 대한 자연어 분석\n",
    "  - 리뷰 내용을 Topic modeling로 구성하고 시각화\n",
    "  - 별점에 따라 주요 키워드 분석 진행\n",
    "\n",
    "### 분석 환경, 분석자\n",
    "- 분석 환경\n",
    "  - language\n",
    "      - python3\n",
    "  - library\n",
    "      - [khaiii](https://github.com/kakao/khaiii) : 카카오에서 제공하는 형태소 분석기\n",
    "      - [gensim](https://radimrehurek.com/gensim/) : 자연어 처리 방법 중 LDA - Topic Modeling 사용\n",
    "      - 시각화, 데이터 분석을 위한 Python library\n",
    "\n",
    "- 분석자\n",
    "  - github : https://github.com/timetobye\n",
    "\n",
    "\n",
    "### 안내 사항\n",
    "- **분석에 사용 될 리뷰 정보는 직접 크롤링**을 하여 데이터 셋을 구성하였습니다.\n",
    "- 2018년 10월 한국 시장 기준으로 Android(72.2%) vs IOS(27.8%)의 점유율을 갖고 있어서 구글 플레이 스토어를 선택하였습니다.\n",
    "  - [참고 링크 - Difference in Mobile OS Market Share is notable in US, Japan and South Korea](https://en.appa.pe/whitepaper/2018/)\n",
    "  \n",
    "--------------------------------------------"
   ]
  },
  {
   "cell_type": "markdown",
   "metadata": {},
   "source": [
    "### 분석 결과\n",
    "\n",
    "- 총평 : 그냥 여기 무조건 좋습니다.\n",
    "- 결과는 PDF로 정리되었습니다. 업로드는 미정\n",
    "----------------"
   ]
  },
  {
   "cell_type": "markdown",
   "metadata": {},
   "source": [
    "### code"
   ]
  },
  {
   "cell_type": "code",
   "execution_count": 1,
   "metadata": {},
   "outputs": [],
   "source": [
    "import pandas as pd\n",
    "import numpy as np\n",
    "import matplotlib as mpl\n",
    "import matplotlib.pylab as plt\n",
    "import matplotlib.style as style\n",
    "import seaborn as sns\n",
    "import khaiii\n",
    "import missingno as msno\n",
    "import warnings\n",
    "import re\n",
    "import calendar\n",
    "import gensim\n",
    "import os\n",
    "from collections import Counter\n",
    "from datetime import datetime\n",
    "from gensim import corpora\n",
    "from gensim import models\n",
    "from gensim.models import LdaModel\n",
    "from pyLDAvis import gensim as gensimvis\n",
    "from pyLDAvis import display\n",
    "from pyLDAvis import save_html as lda_visualization\n",
    "from khaiii import KhaiiiApi\n",
    "from matplotlib import font_manager, rc\n",
    "apple = font_manager.FontProperties(fname = '/Library/Fonts/AppleGothic.ttf').get_name()\n",
    "rc('font', family = apple)\n",
    "\n",
    "warnings.filterwarnings('ignore')\n",
    "style.use('fivethirtyeight')\n",
    "%matplotlib inline"
   ]
  },
  {
   "cell_type": "markdown",
   "metadata": {},
   "source": [
    "## 1. 데이터 확인\n",
    "\n",
    "### 데이터 전처리 - Preprocessing"
   ]
  },
  {
   "cell_type": "code",
   "execution_count": 119,
   "metadata": {},
   "outputs": [
    {
     "data": {
      "text/html": [
       "<div>\n",
       "<style scoped>\n",
       "    .dataframe tbody tr th:only-of-type {\n",
       "        vertical-align: middle;\n",
       "    }\n",
       "\n",
       "    .dataframe tbody tr th {\n",
       "        vertical-align: top;\n",
       "    }\n",
       "\n",
       "    .dataframe thead th {\n",
       "        text-align: right;\n",
       "    }\n",
       "</style>\n",
       "<table border=\"1\" class=\"dataframe\">\n",
       "  <thead>\n",
       "    <tr style=\"text-align: right;\">\n",
       "      <th></th>\n",
       "      <th>user_name</th>\n",
       "      <th>user_app_rating</th>\n",
       "      <th>user_review_date</th>\n",
       "      <th>company_comment_date</th>\n",
       "      <th>user_simple_comment</th>\n",
       "      <th>user_specific_comment</th>\n",
       "      <th>company_answer_check</th>\n",
       "    </tr>\n",
       "  </thead>\n",
       "  <tbody>\n",
       "    <tr>\n",
       "      <th>0</th>\n",
       "      <td>박나연</td>\n",
       "      <td>5</td>\n",
       "      <td>2019년 7월 21일</td>\n",
       "      <td>2019년 7월 22일</td>\n",
       "      <td>이사하면서 필요한 물품을 가성비 좋게 잘 구매하고 있습니다.ㅎㅎ 사기전에 볼 수 있...</td>\n",
       "      <td>no_specific_comment</td>\n",
       "      <td>answer</td>\n",
       "    </tr>\n",
       "    <tr>\n",
       "      <th>1</th>\n",
       "      <td>서경욱</td>\n",
       "      <td>1</td>\n",
       "      <td>2019년 7월 26일</td>\n",
       "      <td>2019년 7월 26일</td>\n",
       "      <td>회원가입 따로 없이 카톡으로 로그인하였는데 로그아웃만 있고 탈퇴는 없네여;; 그래서...</td>\n",
       "      <td>no_specific_comment</td>\n",
       "      <td>answer</td>\n",
       "    </tr>\n",
       "    <tr>\n",
       "      <th>2</th>\n",
       "      <td>원민재</td>\n",
       "      <td>1</td>\n",
       "      <td>2019년 7월 23일</td>\n",
       "      <td>2019년 7월 24일</td>\n",
       "      <td>원가금액에 배송비를 왜 묶으시나요?? 결론만 놓고 보자면 소비자 기만이고 우롱에 해...</td>\n",
       "      <td>원가금액에 배송비를 왜 묶으시나요?? 결론만 놓고 보자면 소비자 기만이고 우롱에 해...</td>\n",
       "      <td>answer</td>\n",
       "    </tr>\n",
       "    <tr>\n",
       "      <th>3</th>\n",
       "      <td>Yena Park</td>\n",
       "      <td>1</td>\n",
       "      <td>2019년 8월 8일</td>\n",
       "      <td>2019년 8월 8일</td>\n",
       "      <td>왜 자꾸 화면이 밑으로 넘어가는걸까요? 깜빡깜빡 하다가 계속 밑으로 내려가서 상품을...</td>\n",
       "      <td>no_specific_comment</td>\n",
       "      <td>answer</td>\n",
       "    </tr>\n",
       "    <tr>\n",
       "      <th>4</th>\n",
       "      <td>Jungho So</td>\n",
       "      <td>5</td>\n",
       "      <td>2019년 8월 10일</td>\n",
       "      <td>no_answer</td>\n",
       "      <td>너무 재밌고 유용해요</td>\n",
       "      <td>no_specific_comment</td>\n",
       "      <td>no_answer</td>\n",
       "    </tr>\n",
       "    <tr>\n",
       "      <th>5</th>\n",
       "      <td>MinJu Jeong</td>\n",
       "      <td>5</td>\n",
       "      <td>2019년 8월 10일</td>\n",
       "      <td>no_answer</td>\n",
       "      <td>강추</td>\n",
       "      <td>no_specific_comment</td>\n",
       "      <td>no_answer</td>\n",
       "    </tr>\n",
       "    <tr>\n",
       "      <th>6</th>\n",
       "      <td>선호산</td>\n",
       "      <td>5</td>\n",
       "      <td>2019년 8월 10일</td>\n",
       "      <td>no_answer</td>\n",
       "      <td>좋은정보많아요</td>\n",
       "      <td>no_specific_comment</td>\n",
       "      <td>no_answer</td>\n",
       "    </tr>\n",
       "    <tr>\n",
       "      <th>7</th>\n",
       "      <td>juju cook</td>\n",
       "      <td>5</td>\n",
       "      <td>2019년 8월 10일</td>\n",
       "      <td>no_answer</td>\n",
       "      <td>편하게 좋은제품 구매했으요</td>\n",
       "      <td>no_specific_comment</td>\n",
       "      <td>no_answer</td>\n",
       "    </tr>\n",
       "    <tr>\n",
       "      <th>8</th>\n",
       "      <td>조경준</td>\n",
       "      <td>5</td>\n",
       "      <td>2019년 8월 10일</td>\n",
       "      <td>no_answer</td>\n",
       "      <td>좋은집은어머니가 집구한데요 정보로보기 좋아요</td>\n",
       "      <td>no_specific_comment</td>\n",
       "      <td>no_answer</td>\n",
       "    </tr>\n",
       "    <tr>\n",
       "      <th>9</th>\n",
       "      <td>Jihye Ahn</td>\n",
       "      <td>5</td>\n",
       "      <td>2019년 8월 10일</td>\n",
       "      <td>no_answer</td>\n",
       "      <td>좋습니다</td>\n",
       "      <td>no_specific_comment</td>\n",
       "      <td>no_answer</td>\n",
       "    </tr>\n",
       "  </tbody>\n",
       "</table>\n",
       "</div>"
      ],
      "text/plain": [
       "     user_name  user_app_rating user_review_date company_comment_date  \\\n",
       "0          박나연                5     2019년 7월 21일         2019년 7월 22일   \n",
       "1          서경욱                1     2019년 7월 26일         2019년 7월 26일   \n",
       "2          원민재                1     2019년 7월 23일         2019년 7월 24일   \n",
       "3    Yena Park                1      2019년 8월 8일          2019년 8월 8일   \n",
       "4    Jungho So                5     2019년 8월 10일            no_answer   \n",
       "5  MinJu Jeong                5     2019년 8월 10일            no_answer   \n",
       "6          선호산                5     2019년 8월 10일            no_answer   \n",
       "7    juju cook                5     2019년 8월 10일            no_answer   \n",
       "8          조경준                5     2019년 8월 10일            no_answer   \n",
       "9    Jihye Ahn                5     2019년 8월 10일            no_answer   \n",
       "\n",
       "                                 user_simple_comment  \\\n",
       "0  이사하면서 필요한 물품을 가성비 좋게 잘 구매하고 있습니다.ㅎㅎ 사기전에 볼 수 있...   \n",
       "1  회원가입 따로 없이 카톡으로 로그인하였는데 로그아웃만 있고 탈퇴는 없네여;; 그래서...   \n",
       "2  원가금액에 배송비를 왜 묶으시나요?? 결론만 놓고 보자면 소비자 기만이고 우롱에 해...   \n",
       "3  왜 자꾸 화면이 밑으로 넘어가는걸까요? 깜빡깜빡 하다가 계속 밑으로 내려가서 상품을...   \n",
       "4                                        너무 재밌고 유용해요   \n",
       "5                                                 강추   \n",
       "6                                            좋은정보많아요   \n",
       "7                                     편하게 좋은제품 구매했으요   \n",
       "8                           좋은집은어머니가 집구한데요 정보로보기 좋아요   \n",
       "9                                               좋습니다   \n",
       "\n",
       "                               user_specific_comment company_answer_check  \n",
       "0                                no_specific_comment               answer  \n",
       "1                                no_specific_comment               answer  \n",
       "2  원가금액에 배송비를 왜 묶으시나요?? 결론만 놓고 보자면 소비자 기만이고 우롱에 해...               answer  \n",
       "3                                no_specific_comment               answer  \n",
       "4                                no_specific_comment            no_answer  \n",
       "5                                no_specific_comment            no_answer  \n",
       "6                                no_specific_comment            no_answer  \n",
       "7                                no_specific_comment            no_answer  \n",
       "8                                no_specific_comment            no_answer  \n",
       "9                                no_specific_comment            no_answer  "
      ]
     },
     "execution_count": 119,
     "metadata": {},
     "output_type": "execute_result"
    }
   ],
   "source": [
    "# read_csv to make dataframe\n",
    "\n",
    "google_playstore_user_review_orginal_df = pd.read_csv('review_data/ohouse_app_user_reviews_2019-08-10.csv')\n",
    "google_playstore_user_review_orginal_df.head(10)"
   ]
  },
  {
   "cell_type": "code",
   "execution_count": 3,
   "metadata": {},
   "outputs": [
    {
     "name": "stdout",
     "output_type": "stream",
     "text": [
      "<class 'pandas.core.frame.DataFrame'>\n",
      "RangeIndex: 3404 entries, 0 to 3403\n",
      "Data columns (total 7 columns):\n",
      "user_name                3404 non-null object\n",
      "user_app_rating          3404 non-null int64\n",
      "user_review_date         3404 non-null object\n",
      "company_comment_date     3404 non-null object\n",
      "user_simple_comment      3404 non-null object\n",
      "user_specific_comment    3404 non-null object\n",
      "company_answer_check     3404 non-null object\n",
      "dtypes: int64(1), object(6)\n",
      "memory usage: 186.2+ KB\n"
     ]
    }
   ],
   "source": [
    "# check dataframe info\n",
    "\n",
    "google_playstore_user_review_orginal_df.info()"
   ]
  },
  {
   "cell_type": "markdown",
   "metadata": {},
   "source": [
    "### check-point\n",
    "\n",
    "- 크롤링 과정에서도 첫 3개가 시간 순서 정렬과 관계없이 항상 고정된 값으로 구성되어 있었다.\n",
    "  - 해당 부분에 대해서는 날짜 기준으로 정렬할 것\n",
    "- 중복 값이 있는 경우를 방지하기 위해 중복 체크도 진행한다.\n",
    "- 날짜 정보도 사용하기 쉽게 YYYY-MM-DD 형식으로 처리 할 것\n",
    "- 요일 정보를 얻기 위해 작업을 진행 할 것\n",
    "- user의 comment를 정리하기 위해 user_comment 컬럼을 추가하고 아래와 같이 진행\n",
    "  - user_specific_comment가 있을 경우 user_comment로 처리\n",
    "  - user_specific_comment가 없을 경우 user_simple_comment가 user_comment로 처리\n"
   ]
  },
  {
   "cell_type": "code",
   "execution_count": 4,
   "metadata": {},
   "outputs": [],
   "source": [
    "def sort_dataframe(df):\n",
    "    sorted_df = df.sort_values(by='user_review_date', ascending=False).reset_index(drop=True)\n",
    "    \n",
    "    return sorted_df\n",
    "\n",
    "def drop_duplicate_dataframe(df):\n",
    "    drop_dp_df = df.drop_duplicates()\n",
    "    drop_dp_df.reset_index(drop=True, inplace=True)\n",
    "    \n",
    "    return drop_dp_df\n",
    "\n",
    "def get_weekday(date):\n",
    "    if date == 'no_answer':\n",
    "        return date\n",
    "    \n",
    "    weekday_info_dict = {\n",
    "        0 : 'Mon',\n",
    "        1 : 'Tue',\n",
    "        2 : 'Wed',\n",
    "        3 : 'Thu',\n",
    "        4 : 'Fri',\n",
    "        5 : 'Sat',\n",
    "        6 : 'Sun'\n",
    "    }\n",
    "    \n",
    "    regex = re.compile(r'[0-9]+')\n",
    "    get_regex_date = regex.findall(date)\n",
    "    \n",
    "    year, month, day = [int(value) for value in get_regex_date]\n",
    "    \n",
    "    weekday_number = calendar.weekday(year, month, day)\n",
    "    weekday_value = weekday_info_dict[weekday_number]\n",
    "    \n",
    "    return weekday_value\n",
    "\n",
    "def convert_date_format(date):\n",
    "    if date == 'no_answer':\n",
    "        return date\n",
    "    \n",
    "    regex = re.compile(r'[0-9]+')\n",
    "    get_regex_date = regex.findall(date)\n",
    "\n",
    "    if len(get_regex_date[1]) == 1:\n",
    "        get_regex_date[1] = '0' + get_regex_date[1]\n",
    "        \n",
    "    if len(get_regex_date[2]) == 1:\n",
    "        get_regex_date[2] = '0' + get_regex_date[2]\n",
    "    \n",
    "    join_string = '-'\n",
    "    convert_date = join_string.join(get_regex_date)\n",
    "    \n",
    "    return convert_date\n",
    "\n",
    "def arrange_user_comment(df):\n",
    "    user_comment = []\n",
    "    \n",
    "    for index, row in df.iterrows():    \n",
    "        if row['user_specific_comment'] == 'no_specific_comment':\n",
    "            user_comment.append(row['user_simple_comment'])\n",
    "        else:\n",
    "            user_comment.append(row['user_specific_comment'])\n",
    "\n",
    "    df['user_comment'] = user_comment\n",
    "    df.drop(['user_simple_comment', 'user_specific_comment'], axis=1, inplace=True)\n",
    "    df = df[['user_name', 'user_app_rating', 'user_review_date', 'company_comment_date', 'user_review_weekday', 'user_comment', 'company_answer_check']]\n",
    "    \n",
    "    return df\n",
    "\n",
    "def user_data_preprocessing(google_playstore_user_review_orginal_df):\n",
    "    # sort user_review_date\n",
    "    sorted_user_review_df = sort_dataframe(google_playstore_user_review_orginal_df)\n",
    "\n",
    "    # drop duplicate\n",
    "    drop_dp_user_review_df = drop_duplicate_dataframe(sorted_user_review_df)\n",
    "\n",
    "    # get weekday from user_review_date\n",
    "    drop_dp_user_review_df['user_review_weekday'] = drop_dp_user_review_df['user_review_date'].apply(get_weekday)\n",
    "\n",
    "    # convert_date_format for applying function in pandas\n",
    "    drop_dp_user_review_df['user_review_date'] = drop_dp_user_review_df['user_review_date'].apply(convert_date_format)\n",
    "    drop_dp_user_review_df['company_comment_date'] = drop_dp_user_review_df['company_comment_date'].apply(convert_date_format)\n",
    "\n",
    "    # arrange_user_comment\n",
    "    arranged_user_review_df = arrange_user_comment(drop_dp_user_review_df)\n",
    "    \n",
    "    return arranged_user_review_df"
   ]
  },
  {
   "cell_type": "code",
   "execution_count": 5,
   "metadata": {},
   "outputs": [
    {
     "data": {
      "text/html": [
       "<div>\n",
       "<style scoped>\n",
       "    .dataframe tbody tr th:only-of-type {\n",
       "        vertical-align: middle;\n",
       "    }\n",
       "\n",
       "    .dataframe tbody tr th {\n",
       "        vertical-align: top;\n",
       "    }\n",
       "\n",
       "    .dataframe thead th {\n",
       "        text-align: right;\n",
       "    }\n",
       "</style>\n",
       "<table border=\"1\" class=\"dataframe\">\n",
       "  <thead>\n",
       "    <tr style=\"text-align: right;\">\n",
       "      <th></th>\n",
       "      <th>user_name</th>\n",
       "      <th>user_app_rating</th>\n",
       "      <th>user_review_date</th>\n",
       "      <th>company_comment_date</th>\n",
       "      <th>user_review_weekday</th>\n",
       "      <th>user_comment</th>\n",
       "      <th>company_answer_check</th>\n",
       "    </tr>\n",
       "  </thead>\n",
       "  <tbody>\n",
       "    <tr>\n",
       "      <th>0</th>\n",
       "      <td>김영신</td>\n",
       "      <td>5</td>\n",
       "      <td>2019-08-09</td>\n",
       "      <td>2019-08-09</td>\n",
       "      <td>Fri</td>\n",
       "      <td>인테리어에 도움이되는 정보도 많고 제품 구매도 할 수있어서 좋아요</td>\n",
       "      <td>answer</td>\n",
       "    </tr>\n",
       "    <tr>\n",
       "      <th>1</th>\n",
       "      <td>Ha San</td>\n",
       "      <td>5</td>\n",
       "      <td>2019-08-09</td>\n",
       "      <td>no_answer</td>\n",
       "      <td>Fri</td>\n",
       "      <td>정말 예쁜 인테리어들이 많아요</td>\n",
       "      <td>no_answer</td>\n",
       "    </tr>\n",
       "    <tr>\n",
       "      <th>2</th>\n",
       "      <td>윤소희</td>\n",
       "      <td>1</td>\n",
       "      <td>2019-08-09</td>\n",
       "      <td>no_answer</td>\n",
       "      <td>Fri</td>\n",
       "      <td>일처리 핵느리고 진짜 조잡한상품파는데도 나몰라라하고 무책임함. 역대 최악 쇼핑앱. ...</td>\n",
       "      <td>no_answer</td>\n",
       "    </tr>\n",
       "    <tr>\n",
       "      <th>3</th>\n",
       "      <td>박희정</td>\n",
       "      <td>5</td>\n",
       "      <td>2019-08-09</td>\n",
       "      <td>2019-06-21</td>\n",
       "      <td>Fri</td>\n",
       "      <td>소비욕구를 마구 일으키긴 하지만, 물건 하나를 사더라도 세밀하게 착샷까지 볼 수 있...</td>\n",
       "      <td>answer</td>\n",
       "    </tr>\n",
       "    <tr>\n",
       "      <th>4</th>\n",
       "      <td>이가연</td>\n",
       "      <td>5</td>\n",
       "      <td>2019-08-09</td>\n",
       "      <td>2019-08-09</td>\n",
       "      <td>Fri</td>\n",
       "      <td>저렴한가격에 가구 소품등도 구매하고 인테리어정보도얻고 좋아요^^</td>\n",
       "      <td>answer</td>\n",
       "    </tr>\n",
       "  </tbody>\n",
       "</table>\n",
       "</div>"
      ],
      "text/plain": [
       "  user_name  user_app_rating user_review_date company_comment_date  \\\n",
       "0       김영신                5       2019-08-09           2019-08-09   \n",
       "1    Ha San                5       2019-08-09            no_answer   \n",
       "2       윤소희                1       2019-08-09            no_answer   \n",
       "3       박희정                5       2019-08-09           2019-06-21   \n",
       "4       이가연                5       2019-08-09           2019-08-09   \n",
       "\n",
       "  user_review_weekday                                       user_comment  \\\n",
       "0                 Fri               인테리어에 도움이되는 정보도 많고 제품 구매도 할 수있어서 좋아요   \n",
       "1                 Fri                                   정말 예쁜 인테리어들이 많아요   \n",
       "2                 Fri  일처리 핵느리고 진짜 조잡한상품파는데도 나몰라라하고 무책임함. 역대 최악 쇼핑앱. ...   \n",
       "3                 Fri  소비욕구를 마구 일으키긴 하지만, 물건 하나를 사더라도 세밀하게 착샷까지 볼 수 있...   \n",
       "4                 Fri                저렴한가격에 가구 소품등도 구매하고 인테리어정보도얻고 좋아요^^   \n",
       "\n",
       "  company_answer_check  \n",
       "0               answer  \n",
       "1            no_answer  \n",
       "2            no_answer  \n",
       "3               answer  \n",
       "4               answer  "
      ]
     },
     "execution_count": 5,
     "metadata": {},
     "output_type": "execute_result"
    }
   ],
   "source": [
    "arranged_user_review_df = user_data_preprocessing(google_playstore_user_review_orginal_df)\n",
    "arranged_user_review_df.head()"
   ]
  },
  {
   "cell_type": "markdown",
   "metadata": {},
   "source": [
    "--------------------------------"
   ]
  },
  {
   "cell_type": "markdown",
   "metadata": {},
   "source": [
    "## Basic EDA\n",
    "\n",
    "### check data info & missingvalue"
   ]
  },
  {
   "cell_type": "code",
   "execution_count": 6,
   "metadata": {},
   "outputs": [
    {
     "name": "stdout",
     "output_type": "stream",
     "text": [
      "<class 'pandas.core.frame.DataFrame'>\n",
      "RangeIndex: 3400 entries, 0 to 3399\n",
      "Data columns (total 7 columns):\n",
      "user_name               3400 non-null object\n",
      "user_app_rating         3400 non-null int64\n",
      "user_review_date        3400 non-null object\n",
      "company_comment_date    3400 non-null object\n",
      "user_review_weekday     3400 non-null object\n",
      "user_comment            3400 non-null object\n",
      "company_answer_check    3400 non-null object\n",
      "dtypes: int64(1), object(6)\n",
      "memory usage: 186.0+ KB\n"
     ]
    }
   ],
   "source": [
    "arranged_user_review_df.info()"
   ]
  },
  {
   "cell_type": "code",
   "execution_count": 7,
   "metadata": {},
   "outputs": [
    {
     "data": {
      "image/png": "[encoded data removed]",
      "text/plain": [
       "<Figure size 432x432 with 3 Axes>"
      ]
     },
     "metadata": {
      "needs_background": "light"
     },
     "output_type": "display_data"
    }
   ],
   "source": [
    "#msno.bar\n",
    "\n",
    "msno.bar(df=arranged_user_review_df.iloc[:, :], figsize=(6, 6), color=(0.8, 0.5, 0.2))\n",
    "plt.show()"
   ]
  },
  {
   "cell_type": "markdown",
   "metadata": {},
   "source": [
    "### 수집된 데이터의 기간"
   ]
  },
  {
   "cell_type": "code",
   "execution_count": 8,
   "metadata": {},
   "outputs": [
    {
     "name": "stdout",
     "output_type": "stream",
     "text": [
      "수집된 데이터를 살펴보니 이용자가 리뷰를 작성한 날짜는 2019-03-30 부터 2019-08-10 까지 입니다.\n"
     ]
    }
   ],
   "source": [
    "max_date = arranged_user_review_df['user_review_date'].max()\n",
    "min_date = arranged_user_review_df['user_review_date'].min()\n",
    "\n",
    "print(f'수집된 데이터를 살펴보니 이용자가 리뷰를 작성한 날짜는 {min_date} 부터 {max_date} 까지 입니다.')"
   ]
  },
  {
   "cell_type": "markdown",
   "metadata": {},
   "source": [
    "### 리뷰를 작성한 사람들은 누구일까요?"
   ]
  },
  {
   "cell_type": "code",
   "execution_count": 9,
   "metadata": {},
   "outputs": [],
   "source": [
    "def arrange_count_value(df, column_name):\n",
    "    df_value_count = df[column_name].value_counts()\n",
    "    \n",
    "    df_count = df_value_count.rename_axis('user').reset_index(name='writing_count')\n",
    "    sorted_df_count = df_count.sort_values('writing_count', ascending=False)\n",
    "    arranged_df = sorted_df_count.reset_index(drop=True)\n",
    "\n",
    "    return arranged_df"
   ]
  },
  {
   "cell_type": "code",
   "execution_count": 10,
   "metadata": {},
   "outputs": [
    {
     "data": {
      "text/html": [
       "<div>\n",
       "<style scoped>\n",
       "    .dataframe tbody tr th:only-of-type {\n",
       "        vertical-align: middle;\n",
       "    }\n",
       "\n",
       "    .dataframe tbody tr th {\n",
       "        vertical-align: top;\n",
       "    }\n",
       "\n",
       "    .dataframe thead th {\n",
       "        text-align: right;\n",
       "    }\n",
       "</style>\n",
       "<table border=\"1\" class=\"dataframe\">\n",
       "  <thead>\n",
       "    <tr style=\"text-align: right;\">\n",
       "      <th></th>\n",
       "      <th>user</th>\n",
       "      <th>writing_count</th>\n",
       "    </tr>\n",
       "  </thead>\n",
       "  <tbody>\n",
       "    <tr>\n",
       "      <th>0</th>\n",
       "      <td>Google 사용자</td>\n",
       "      <td>37</td>\n",
       "    </tr>\n",
       "    <tr>\n",
       "      <th>1</th>\n",
       "      <td>김혜경</td>\n",
       "      <td>5</td>\n",
       "    </tr>\n",
       "    <tr>\n",
       "      <th>2</th>\n",
       "      <td>김은진</td>\n",
       "      <td>4</td>\n",
       "    </tr>\n",
       "    <tr>\n",
       "      <th>3</th>\n",
       "      <td>김진욱</td>\n",
       "      <td>4</td>\n",
       "    </tr>\n",
       "    <tr>\n",
       "      <th>4</th>\n",
       "      <td>이정원</td>\n",
       "      <td>4</td>\n",
       "    </tr>\n",
       "    <tr>\n",
       "      <th>5</th>\n",
       "      <td>김지혜</td>\n",
       "      <td>4</td>\n",
       "    </tr>\n",
       "    <tr>\n",
       "      <th>6</th>\n",
       "      <td>박지현</td>\n",
       "      <td>3</td>\n",
       "    </tr>\n",
       "    <tr>\n",
       "      <th>7</th>\n",
       "      <td>박하늘</td>\n",
       "      <td>3</td>\n",
       "    </tr>\n",
       "    <tr>\n",
       "      <th>8</th>\n",
       "      <td>이지혜</td>\n",
       "      <td>3</td>\n",
       "    </tr>\n",
       "    <tr>\n",
       "      <th>9</th>\n",
       "      <td>이은주</td>\n",
       "      <td>3</td>\n",
       "    </tr>\n",
       "  </tbody>\n",
       "</table>\n",
       "</div>"
      ],
      "text/plain": [
       "         user  writing_count\n",
       "0  Google 사용자             37\n",
       "1         김혜경              5\n",
       "2         김은진              4\n",
       "3         김진욱              4\n",
       "4         이정원              4\n",
       "5         김지혜              4\n",
       "6         박지현              3\n",
       "7         박하늘              3\n",
       "8         이지혜              3\n",
       "9         이은주              3"
      ]
     },
     "execution_count": 10,
     "metadata": {},
     "output_type": "execute_result"
    }
   ],
   "source": [
    "arrange_count_df = arrange_count_value(arranged_user_review_df, 'user_name')\n",
    "arrange_count_df.head(10)"
   ]
  },
  {
   "cell_type": "markdown",
   "metadata": {},
   "source": [
    "- **Google 사용자**가 다수가 나온 이유를 살펴보니, 앱스토어에서 실제로 리뷰 작성자의 이름이 Google 사용자라고 되어 있다.\n",
    "  - 탈퇴를 했거나, 혹은 익명의 아이디를 처리하는 방식으로 판단된다.\n",
    "  - 결론적으로 Google 사용자를 잠시 제외하고 살펴보겠다."
   ]
  },
  {
   "cell_type": "code",
   "execution_count": 11,
   "metadata": {},
   "outputs": [],
   "source": [
    "drop_arrange_count_df = arrange_count_df.drop(index=0).reset_index(drop=True)"
   ]
  },
  {
   "cell_type": "code",
   "execution_count": 12,
   "metadata": {},
   "outputs": [
    {
     "data": {
      "text/plain": [
       "<matplotlib.axes._subplots.AxesSubplot at 0x10dfad390>"
      ]
     },
     "execution_count": 12,
     "metadata": {},
     "output_type": "execute_result"
    },
    {
     "data": {
      "image/png": "[encoded data removed]",
      "text/plain": [
       "<Figure size 432x288 with 1 Axes>"
      ]
     },
     "metadata": {
      "needs_background": "light"
     },
     "output_type": "display_data"
    }
   ],
   "source": [
    "# 이용자들은 개인당 몇 번이나 리뷰를 달았을까?\n",
    "\n",
    "sns.countplot(x='writing_count', data = drop_arrange_count_df)"
   ]
  },
  {
   "cell_type": "code",
   "execution_count": 13,
   "metadata": {},
   "outputs": [
    {
     "data": {
      "text/html": [
       "<div>\n",
       "<style scoped>\n",
       "    .dataframe tbody tr th:only-of-type {\n",
       "        vertical-align: middle;\n",
       "    }\n",
       "\n",
       "    .dataframe tbody tr th {\n",
       "        vertical-align: top;\n",
       "    }\n",
       "\n",
       "    .dataframe thead th {\n",
       "        text-align: right;\n",
       "    }\n",
       "</style>\n",
       "<table border=\"1\" class=\"dataframe\">\n",
       "  <thead>\n",
       "    <tr style=\"text-align: right;\">\n",
       "      <th></th>\n",
       "      <th>writing_count</th>\n",
       "      <th>count</th>\n",
       "      <th>ratio</th>\n",
       "    </tr>\n",
       "  </thead>\n",
       "  <tbody>\n",
       "    <tr>\n",
       "      <th>0</th>\n",
       "      <td>1</td>\n",
       "      <td>3025</td>\n",
       "      <td>0.95</td>\n",
       "    </tr>\n",
       "    <tr>\n",
       "      <th>1</th>\n",
       "      <td>2</td>\n",
       "      <td>115</td>\n",
       "      <td>0.04</td>\n",
       "    </tr>\n",
       "    <tr>\n",
       "      <th>2</th>\n",
       "      <td>3</td>\n",
       "      <td>29</td>\n",
       "      <td>0.01</td>\n",
       "    </tr>\n",
       "    <tr>\n",
       "      <th>3</th>\n",
       "      <td>4</td>\n",
       "      <td>4</td>\n",
       "      <td>0.00</td>\n",
       "    </tr>\n",
       "    <tr>\n",
       "      <th>4</th>\n",
       "      <td>5</td>\n",
       "      <td>1</td>\n",
       "      <td>0.00</td>\n",
       "    </tr>\n",
       "  </tbody>\n",
       "</table>\n",
       "</div>"
      ],
      "text/plain": [
       "   writing_count  count  ratio\n",
       "0              1   3025   0.95\n",
       "1              2    115   0.04\n",
       "2              3     29   0.01\n",
       "3              4      4   0.00\n",
       "4              5      1   0.00"
      ]
     },
     "execution_count": 13,
     "metadata": {},
     "output_type": "execute_result"
    }
   ],
   "source": [
    "groupby_user_review_count = drop_arrange_count_df.groupby('writing_count', as_index=False).count()\n",
    "groupby_user_review_count.rename(columns = {'user' : 'count'}, inplace=True)\n",
    "groupby_user_review_count['ratio'] = round(groupby_user_review_count['count']/sum(groupby_user_review_count['count']), 2)\n",
    "groupby_user_review_count"
   ]
  },
  {
   "cell_type": "markdown",
   "metadata": {},
   "source": [
    "- 95%이상의 이용자가 1번 정도의 리뷰를 달았고, 소수의 이용자가 2~3번 리뷰를 달은 것으로 파악된다."
   ]
  },
  {
   "cell_type": "markdown",
   "metadata": {},
   "source": [
    "### 어떤 요일에 많이 달았을까?"
   ]
  },
  {
   "cell_type": "code",
   "execution_count": 14,
   "metadata": {},
   "outputs": [],
   "source": [
    "weekday_count = arrange_count_value(arranged_user_review_df, 'user_review_weekday')\n",
    "weekday_count.rename(columns={'user' : 'weekday'}, inplace=True)"
   ]
  },
  {
   "cell_type": "code",
   "execution_count": 15,
   "metadata": {},
   "outputs": [
    {
     "data": {
      "text/html": [
       "<div>\n",
       "<style scoped>\n",
       "    .dataframe tbody tr th:only-of-type {\n",
       "        vertical-align: middle;\n",
       "    }\n",
       "\n",
       "    .dataframe tbody tr th {\n",
       "        vertical-align: top;\n",
       "    }\n",
       "\n",
       "    .dataframe thead th {\n",
       "        text-align: right;\n",
       "    }\n",
       "</style>\n",
       "<table border=\"1\" class=\"dataframe\">\n",
       "  <thead>\n",
       "    <tr style=\"text-align: right;\">\n",
       "      <th></th>\n",
       "      <th>weekday</th>\n",
       "      <th>writing_count</th>\n",
       "    </tr>\n",
       "  </thead>\n",
       "  <tbody>\n",
       "    <tr>\n",
       "      <th>0</th>\n",
       "      <td>Wed</td>\n",
       "      <td>521</td>\n",
       "    </tr>\n",
       "    <tr>\n",
       "      <th>1</th>\n",
       "      <td>Mon</td>\n",
       "      <td>516</td>\n",
       "    </tr>\n",
       "    <tr>\n",
       "      <th>2</th>\n",
       "      <td>Tue</td>\n",
       "      <td>483</td>\n",
       "    </tr>\n",
       "    <tr>\n",
       "      <th>3</th>\n",
       "      <td>Fri</td>\n",
       "      <td>481</td>\n",
       "    </tr>\n",
       "    <tr>\n",
       "      <th>4</th>\n",
       "      <td>Sun</td>\n",
       "      <td>475</td>\n",
       "    </tr>\n",
       "    <tr>\n",
       "      <th>5</th>\n",
       "      <td>Sat</td>\n",
       "      <td>463</td>\n",
       "    </tr>\n",
       "    <tr>\n",
       "      <th>6</th>\n",
       "      <td>Thu</td>\n",
       "      <td>461</td>\n",
       "    </tr>\n",
       "  </tbody>\n",
       "</table>\n",
       "</div>"
      ],
      "text/plain": [
       "  weekday  writing_count\n",
       "0     Wed            521\n",
       "1     Mon            516\n",
       "2     Tue            483\n",
       "3     Fri            481\n",
       "4     Sun            475\n",
       "5     Sat            463\n",
       "6     Thu            461"
      ]
     },
     "execution_count": 15,
     "metadata": {},
     "output_type": "execute_result"
    }
   ],
   "source": [
    "weekday_count"
   ]
  },
  {
   "cell_type": "code",
   "execution_count": 16,
   "metadata": {},
   "outputs": [
    {
     "data": {
      "image/png": "[encoded data removed]",
      "text/plain": [
       "<Figure size 432x288 with 1 Axes>"
      ]
     },
     "metadata": {
      "needs_background": "light"
     },
     "output_type": "display_data"
    }
   ],
   "source": [
    "# draw weekday graph\n",
    "\n",
    "weekday_order_list = ['Mon','Tue','Wed','Thu','Fri','Sat','Sun']\n",
    "sns.barplot(x='weekday', y='writing_count', data=weekday_count, order=weekday_order_list)\n",
    "plt.title('writing_count per daily')\n",
    "plt.show()"
   ]
  },
  {
   "cell_type": "markdown",
   "metadata": {},
   "source": [
    "- 간략하게 살펴본 결과 **수요일**이 가장 높은 리뷰 작성일인 것을 보여주고 있다.\n",
    "- 좀 더 상세하게 살펴볼 필요도 있을 것 같다."
   ]
  },
  {
   "cell_type": "markdown",
   "metadata": {},
   "source": [
    "### 별점 분포는 어떻게 되어 있을까?"
   ]
  },
  {
   "cell_type": "code",
   "execution_count": 17,
   "metadata": {},
   "outputs": [
    {
     "data": {
      "text/html": [
       "<div>\n",
       "<style scoped>\n",
       "    .dataframe tbody tr th:only-of-type {\n",
       "        vertical-align: middle;\n",
       "    }\n",
       "\n",
       "    .dataframe tbody tr th {\n",
       "        vertical-align: top;\n",
       "    }\n",
       "\n",
       "    .dataframe thead th {\n",
       "        text-align: right;\n",
       "    }\n",
       "</style>\n",
       "<table border=\"1\" class=\"dataframe\">\n",
       "  <thead>\n",
       "    <tr style=\"text-align: right;\">\n",
       "      <th></th>\n",
       "      <th>app_rating</th>\n",
       "      <th>rating_count</th>\n",
       "    </tr>\n",
       "  </thead>\n",
       "  <tbody>\n",
       "    <tr>\n",
       "      <th>0</th>\n",
       "      <td>5</td>\n",
       "      <td>2839</td>\n",
       "    </tr>\n",
       "    <tr>\n",
       "      <th>1</th>\n",
       "      <td>4</td>\n",
       "      <td>422</td>\n",
       "    </tr>\n",
       "    <tr>\n",
       "      <th>2</th>\n",
       "      <td>1</td>\n",
       "      <td>76</td>\n",
       "    </tr>\n",
       "    <tr>\n",
       "      <th>3</th>\n",
       "      <td>3</td>\n",
       "      <td>52</td>\n",
       "    </tr>\n",
       "    <tr>\n",
       "      <th>4</th>\n",
       "      <td>2</td>\n",
       "      <td>11</td>\n",
       "    </tr>\n",
       "  </tbody>\n",
       "</table>\n",
       "</div>"
      ],
      "text/plain": [
       "   app_rating  rating_count\n",
       "0           5          2839\n",
       "1           4           422\n",
       "2           1            76\n",
       "3           3            52\n",
       "4           2            11"
      ]
     },
     "execution_count": 17,
     "metadata": {},
     "output_type": "execute_result"
    }
   ],
   "source": [
    "app_rating_count = arrange_count_value(arranged_user_review_df, 'user_app_rating')\n",
    "app_rating_count.rename(columns={'user' : 'app_rating', 'writing_count' : 'rating_count'}, inplace=True)\n",
    "app_rating_count"
   ]
  },
  {
   "cell_type": "code",
   "execution_count": 18,
   "metadata": {},
   "outputs": [
    {
     "data": {
      "text/html": [
       "<div>\n",
       "<style scoped>\n",
       "    .dataframe tbody tr th:only-of-type {\n",
       "        vertical-align: middle;\n",
       "    }\n",
       "\n",
       "    .dataframe tbody tr th {\n",
       "        vertical-align: top;\n",
       "    }\n",
       "\n",
       "    .dataframe thead th {\n",
       "        text-align: right;\n",
       "    }\n",
       "</style>\n",
       "<table border=\"1\" class=\"dataframe\">\n",
       "  <thead>\n",
       "    <tr style=\"text-align: right;\">\n",
       "      <th></th>\n",
       "      <th>app_rating</th>\n",
       "      <th>rating_count</th>\n",
       "      <th>ratio</th>\n",
       "    </tr>\n",
       "  </thead>\n",
       "  <tbody>\n",
       "    <tr>\n",
       "      <th>0</th>\n",
       "      <td>5</td>\n",
       "      <td>2839</td>\n",
       "      <td>0.84</td>\n",
       "    </tr>\n",
       "    <tr>\n",
       "      <th>1</th>\n",
       "      <td>4</td>\n",
       "      <td>422</td>\n",
       "      <td>0.12</td>\n",
       "    </tr>\n",
       "    <tr>\n",
       "      <th>2</th>\n",
       "      <td>1</td>\n",
       "      <td>76</td>\n",
       "      <td>0.02</td>\n",
       "    </tr>\n",
       "    <tr>\n",
       "      <th>3</th>\n",
       "      <td>3</td>\n",
       "      <td>52</td>\n",
       "      <td>0.02</td>\n",
       "    </tr>\n",
       "    <tr>\n",
       "      <th>4</th>\n",
       "      <td>2</td>\n",
       "      <td>11</td>\n",
       "      <td>0.00</td>\n",
       "    </tr>\n",
       "  </tbody>\n",
       "</table>\n",
       "</div>"
      ],
      "text/plain": [
       "   app_rating  rating_count  ratio\n",
       "0           5          2839   0.84\n",
       "1           4           422   0.12\n",
       "2           1            76   0.02\n",
       "3           3            52   0.02\n",
       "4           2            11   0.00"
      ]
     },
     "execution_count": 18,
     "metadata": {},
     "output_type": "execute_result"
    }
   ],
   "source": [
    "app_rating_count['ratio'] = round(app_rating_count['rating_count']/sum(app_rating_count['rating_count']), 2)\n",
    "app_rating_count"
   ]
  },
  {
   "cell_type": "code",
   "execution_count": 19,
   "metadata": {},
   "outputs": [
    {
     "data": {
      "image/png": "[encoded data removed]",
      "text/plain": [
       "<Figure size 432x288 with 1 Axes>"
      ]
     },
     "metadata": {
      "needs_background": "light"
     },
     "output_type": "display_data"
    }
   ],
   "source": [
    "# draw app_rating graph\n",
    "\n",
    "app_rating_order_list = [1, 2, 3, 4, 5]\n",
    "sns.barplot(x='app_rating', y='ratio', data=app_rating_count, order=app_rating_order_list)\n",
    "plt.title('app rating count')\n",
    "plt.show()"
   ]
  },
  {
   "cell_type": "markdown",
   "metadata": {},
   "source": [
    "- 5점 84%, 4점 12%, 3점 2%, 2점 0%, 1점 2% 을 이용자들은 리뷰로 남겼다.\n",
    "- 사실 좀 충격적인 결과이다. 앱이 얼마나 좋으면 별점이 이렇게 분포가 나올까?\n",
    "- 통계적으로 2% 미만은 거의 없다고 봐도 되니까...거의 앱 자체가 퍼펙트하다고 봐야 하나?"
   ]
  },
  {
   "cell_type": "markdown",
   "metadata": {},
   "source": [
    "-----------------------"
   ]
  },
  {
   "cell_type": "markdown",
   "metadata": {},
   "source": [
    "## 2. 시간 기록에 따른 데이터 분석\n",
    "\n",
    "### 시간에 따른 별점 변화\n",
    "\n",
    "- 여러가지 접근 방법이 있겠지만, 일별 평균 별점 값을 그래프로 그려서 확인해본다.\n",
    "- 2019년 08월 12일 기준, 오늘의 집의 구글 플레이 스토어 별점은 4.7점이다.\n",
    "- 그래프를 그렸으나 그래프에 표현되는 값이 너무 많은 관계로 2019년 값만 그리도록 하겠습니다.\n",
    "  - 2019년 03월 30일 부터 2019년 08월 10월까지 기록입니다."
   ]
  },
  {
   "cell_type": "code",
   "execution_count": 20,
   "metadata": {},
   "outputs": [
    {
     "data": {
      "text/html": [
       "<div>\n",
       "<style scoped>\n",
       "    .dataframe tbody tr th:only-of-type {\n",
       "        vertical-align: middle;\n",
       "    }\n",
       "\n",
       "    .dataframe tbody tr th {\n",
       "        vertical-align: top;\n",
       "    }\n",
       "\n",
       "    .dataframe thead th {\n",
       "        text-align: right;\n",
       "    }\n",
       "</style>\n",
       "<table border=\"1\" class=\"dataframe\">\n",
       "  <thead>\n",
       "    <tr style=\"text-align: right;\">\n",
       "      <th></th>\n",
       "      <th>user_app_rating</th>\n",
       "      <th>user_review_date</th>\n",
       "    </tr>\n",
       "  </thead>\n",
       "  <tbody>\n",
       "    <tr>\n",
       "      <th>0</th>\n",
       "      <td>5</td>\n",
       "      <td>2019-08-09</td>\n",
       "    </tr>\n",
       "    <tr>\n",
       "      <th>1</th>\n",
       "      <td>5</td>\n",
       "      <td>2019-08-09</td>\n",
       "    </tr>\n",
       "    <tr>\n",
       "      <th>2</th>\n",
       "      <td>1</td>\n",
       "      <td>2019-08-09</td>\n",
       "    </tr>\n",
       "    <tr>\n",
       "      <th>3</th>\n",
       "      <td>5</td>\n",
       "      <td>2019-08-09</td>\n",
       "    </tr>\n",
       "    <tr>\n",
       "      <th>4</th>\n",
       "      <td>5</td>\n",
       "      <td>2019-08-09</td>\n",
       "    </tr>\n",
       "  </tbody>\n",
       "</table>\n",
       "</div>"
      ],
      "text/plain": [
       "   user_app_rating user_review_date\n",
       "0                5       2019-08-09\n",
       "1                5       2019-08-09\n",
       "2                1       2019-08-09\n",
       "3                5       2019-08-09\n",
       "4                5       2019-08-09"
      ]
     },
     "execution_count": 20,
     "metadata": {},
     "output_type": "execute_result"
    }
   ],
   "source": [
    "app_rating_with_date = arranged_user_review_df[['user_app_rating', 'user_review_date']]\n",
    "average_app_rating_per_daily = app_rating_with_date.groupby('user_review_date', as_index=False).mean()\n",
    "average_app_rating_per_daily = average_app_rating_per_daily[average_app_rating_per_daily['user_review_date']>='2019-01-01']\n",
    "app_rating_with_date.head()"
   ]
  },
  {
   "cell_type": "code",
   "execution_count": 118,
   "metadata": {},
   "outputs": [
    {
     "data": {
      "image/png": "[encoded data removed]",
      "text/plain": [
       "<Figure size 2160x720 with 1 Axes>"
      ]
     },
     "metadata": {
      "needs_background": "light"
     },
     "output_type": "display_data"
    }
   ],
   "source": [
    "# draw graph : 2019 Google play store review rating per daily\n",
    "\n",
    "plt.figure(figsize = (30, 10))\n",
    "sns.pointplot(x='user_review_date', y='user_app_rating', data=average_app_rating_per_daily, scale=0.3)\n",
    "plt.xticks(rotation=45)\n",
    "plt.title('2019 Google play store review rating per daily', fontsize = 15)\n",
    "plt.show()"
   ]
  },
  {
   "cell_type": "code",
   "execution_count": 100,
   "metadata": {},
   "outputs": [
    {
     "data": {
      "text/html": [
       "<div>\n",
       "<style scoped>\n",
       "    .dataframe tbody tr th:only-of-type {\n",
       "        vertical-align: middle;\n",
       "    }\n",
       "\n",
       "    .dataframe tbody tr th {\n",
       "        vertical-align: top;\n",
       "    }\n",
       "\n",
       "    .dataframe thead th {\n",
       "        text-align: right;\n",
       "    }\n",
       "</style>\n",
       "<table border=\"1\" class=\"dataframe\">\n",
       "  <thead>\n",
       "    <tr style=\"text-align: right;\">\n",
       "      <th></th>\n",
       "      <th>user_app_rating</th>\n",
       "    </tr>\n",
       "  </thead>\n",
       "  <tbody>\n",
       "    <tr>\n",
       "      <th>count</th>\n",
       "      <td>3400.000000</td>\n",
       "    </tr>\n",
       "    <tr>\n",
       "      <th>mean</th>\n",
       "      <td>4.746176</td>\n",
       "    </tr>\n",
       "    <tr>\n",
       "      <th>std</th>\n",
       "      <td>0.712588</td>\n",
       "    </tr>\n",
       "    <tr>\n",
       "      <th>min</th>\n",
       "      <td>1.000000</td>\n",
       "    </tr>\n",
       "    <tr>\n",
       "      <th>25%</th>\n",
       "      <td>5.000000</td>\n",
       "    </tr>\n",
       "    <tr>\n",
       "      <th>50%</th>\n",
       "      <td>5.000000</td>\n",
       "    </tr>\n",
       "    <tr>\n",
       "      <th>75%</th>\n",
       "      <td>5.000000</td>\n",
       "    </tr>\n",
       "    <tr>\n",
       "      <th>max</th>\n",
       "      <td>5.000000</td>\n",
       "    </tr>\n",
       "  </tbody>\n",
       "</table>\n",
       "</div>"
      ],
      "text/plain": [
       "       user_app_rating\n",
       "count      3400.000000\n",
       "mean          4.746176\n",
       "std           0.712588\n",
       "min           1.000000\n",
       "25%           5.000000\n",
       "50%           5.000000\n",
       "75%           5.000000\n",
       "max           5.000000"
      ]
     },
     "execution_count": 100,
     "metadata": {},
     "output_type": "execute_result"
    }
   ],
   "source": [
    "# check statics\n",
    "\n",
    "app_rating_with_date.describe()"
   ]
  },
  {
   "cell_type": "markdown",
   "metadata": {},
   "source": [
    "- 전체적으로 높은 별점을 보이고 있으며, **2019년에 일별 별점 평균이 4.2아래를 기록한 적 한 번 뺴고는 모두 4.2 이상이다.**\n",
    "- 실제 이용자들의 앱 사용 리뷰에 대한 평가는 등락은 있으나 데이터 셋 기준으로는 2019년에는 4.74점을 나타내고 있다.\n",
    "- 이정도면 정말 좋은 앱 그 이상의 앱인 것 같다."
   ]
  },
  {
   "cell_type": "markdown",
   "metadata": {},
   "source": [
    "### 월별 분석\n",
    "- 월별 분석을 위해 간단한 전처리 진행 후 분석한다.\n",
    "  - 2019-03월-30 부터 2019-08-10까지 데이터 있음\n",
    "  - 단, 월별 분석 과정에서 한 달을 완전히 보존하기 위해 2019년 04월 01일 부터 2019년 07월 31일까지로 한정한다."
   ]
  },
  {
   "cell_type": "code",
   "execution_count": 24,
   "metadata": {},
   "outputs": [
    {
     "data": {
      "text/html": [
       "<div>\n",
       "<style scoped>\n",
       "    .dataframe tbody tr th:only-of-type {\n",
       "        vertical-align: middle;\n",
       "    }\n",
       "\n",
       "    .dataframe tbody tr th {\n",
       "        vertical-align: top;\n",
       "    }\n",
       "\n",
       "    .dataframe thead th {\n",
       "        text-align: right;\n",
       "    }\n",
       "</style>\n",
       "<table border=\"1\" class=\"dataframe\">\n",
       "  <thead>\n",
       "    <tr style=\"text-align: right;\">\n",
       "      <th></th>\n",
       "      <th>user_app_rating</th>\n",
       "      <th>user_review_date</th>\n",
       "    </tr>\n",
       "  </thead>\n",
       "  <tbody>\n",
       "    <tr>\n",
       "      <th>0</th>\n",
       "      <td>5</td>\n",
       "      <td>2019-08-09</td>\n",
       "    </tr>\n",
       "    <tr>\n",
       "      <th>1</th>\n",
       "      <td>5</td>\n",
       "      <td>2019-08-09</td>\n",
       "    </tr>\n",
       "    <tr>\n",
       "      <th>2</th>\n",
       "      <td>1</td>\n",
       "      <td>2019-08-09</td>\n",
       "    </tr>\n",
       "    <tr>\n",
       "      <th>3</th>\n",
       "      <td>5</td>\n",
       "      <td>2019-08-09</td>\n",
       "    </tr>\n",
       "    <tr>\n",
       "      <th>4</th>\n",
       "      <td>5</td>\n",
       "      <td>2019-08-09</td>\n",
       "    </tr>\n",
       "  </tbody>\n",
       "</table>\n",
       "</div>"
      ],
      "text/plain": [
       "   user_app_rating user_review_date\n",
       "0                5       2019-08-09\n",
       "1                5       2019-08-09\n",
       "2                1       2019-08-09\n",
       "3                5       2019-08-09\n",
       "4                5       2019-08-09"
      ]
     },
     "execution_count": 24,
     "metadata": {},
     "output_type": "execute_result"
    }
   ],
   "source": [
    "app_rating_with_monthly = arranged_user_review_df[['user_app_rating', 'user_review_date']]\n",
    "app_rating_with_monthly.head()"
   ]
  },
  {
   "cell_type": "code",
   "execution_count": 25,
   "metadata": {},
   "outputs": [],
   "source": [
    "def extract_year_month(date):\n",
    "    year_month = date[0:7]\n",
    "    \n",
    "    return year_month"
   ]
  },
  {
   "cell_type": "code",
   "execution_count": 26,
   "metadata": {},
   "outputs": [
    {
     "data": {
      "text/html": [
       "<div>\n",
       "<style scoped>\n",
       "    .dataframe tbody tr th:only-of-type {\n",
       "        vertical-align: middle;\n",
       "    }\n",
       "\n",
       "    .dataframe tbody tr th {\n",
       "        vertical-align: top;\n",
       "    }\n",
       "\n",
       "    .dataframe thead th {\n",
       "        text-align: right;\n",
       "    }\n",
       "</style>\n",
       "<table border=\"1\" class=\"dataframe\">\n",
       "  <thead>\n",
       "    <tr style=\"text-align: right;\">\n",
       "      <th></th>\n",
       "      <th>user_app_rating</th>\n",
       "      <th>user_review_date</th>\n",
       "      <th>year_month</th>\n",
       "    </tr>\n",
       "  </thead>\n",
       "  <tbody>\n",
       "    <tr>\n",
       "      <th>0</th>\n",
       "      <td>5</td>\n",
       "      <td>2019-08-09</td>\n",
       "      <td>2019-08</td>\n",
       "    </tr>\n",
       "    <tr>\n",
       "      <th>1</th>\n",
       "      <td>5</td>\n",
       "      <td>2019-08-09</td>\n",
       "      <td>2019-08</td>\n",
       "    </tr>\n",
       "    <tr>\n",
       "      <th>2</th>\n",
       "      <td>1</td>\n",
       "      <td>2019-08-09</td>\n",
       "      <td>2019-08</td>\n",
       "    </tr>\n",
       "    <tr>\n",
       "      <th>3</th>\n",
       "      <td>5</td>\n",
       "      <td>2019-08-09</td>\n",
       "      <td>2019-08</td>\n",
       "    </tr>\n",
       "    <tr>\n",
       "      <th>4</th>\n",
       "      <td>5</td>\n",
       "      <td>2019-08-09</td>\n",
       "      <td>2019-08</td>\n",
       "    </tr>\n",
       "  </tbody>\n",
       "</table>\n",
       "</div>"
      ],
      "text/plain": [
       "   user_app_rating user_review_date year_month\n",
       "0                5       2019-08-09    2019-08\n",
       "1                5       2019-08-09    2019-08\n",
       "2                1       2019-08-09    2019-08\n",
       "3                5       2019-08-09    2019-08\n",
       "4                5       2019-08-09    2019-08"
      ]
     },
     "execution_count": 26,
     "metadata": {},
     "output_type": "execute_result"
    }
   ],
   "source": [
    "app_rating_with_monthly['year_month'] = app_rating_with_monthly['user_review_date'].apply(extract_year_month)\n",
    "app_rating_with_monthly.head()"
   ]
  },
  {
   "cell_type": "code",
   "execution_count": 101,
   "metadata": {},
   "outputs": [],
   "source": [
    "app_rating_with_year_month = app_rating_with_monthly[(app_rating_with_monthly['year_month']>='2019-04')&(app_rating_with_monthly['year_month']<='2019-07')]\n",
    "app_rating_with_year_month.sort_values('user_review_date', ascending=False, inplace=True)\n",
    "app_rating_with_year_month.reset_index(drop=True, inplace=True)"
   ]
  },
  {
   "cell_type": "code",
   "execution_count": 102,
   "metadata": {},
   "outputs": [
    {
     "data": {
      "text/html": [
       "<div>\n",
       "<style scoped>\n",
       "    .dataframe tbody tr th:only-of-type {\n",
       "        vertical-align: middle;\n",
       "    }\n",
       "\n",
       "    .dataframe tbody tr th {\n",
       "        vertical-align: top;\n",
       "    }\n",
       "\n",
       "    .dataframe thead th {\n",
       "        text-align: right;\n",
       "    }\n",
       "</style>\n",
       "<table border=\"1\" class=\"dataframe\">\n",
       "  <thead>\n",
       "    <tr style=\"text-align: right;\">\n",
       "      <th></th>\n",
       "      <th>user_app_rating</th>\n",
       "      <th>user_review_date</th>\n",
       "      <th>year_month</th>\n",
       "    </tr>\n",
       "  </thead>\n",
       "  <tbody>\n",
       "    <tr>\n",
       "      <th>0</th>\n",
       "      <td>5</td>\n",
       "      <td>2019-07-31</td>\n",
       "      <td>2019-07</td>\n",
       "    </tr>\n",
       "    <tr>\n",
       "      <th>1</th>\n",
       "      <td>5</td>\n",
       "      <td>2019-07-31</td>\n",
       "      <td>2019-07</td>\n",
       "    </tr>\n",
       "    <tr>\n",
       "      <th>2</th>\n",
       "      <td>5</td>\n",
       "      <td>2019-07-31</td>\n",
       "      <td>2019-07</td>\n",
       "    </tr>\n",
       "    <tr>\n",
       "      <th>3</th>\n",
       "      <td>5</td>\n",
       "      <td>2019-07-31</td>\n",
       "      <td>2019-07</td>\n",
       "    </tr>\n",
       "    <tr>\n",
       "      <th>4</th>\n",
       "      <td>5</td>\n",
       "      <td>2019-07-31</td>\n",
       "      <td>2019-07</td>\n",
       "    </tr>\n",
       "  </tbody>\n",
       "</table>\n",
       "</div>"
      ],
      "text/plain": [
       "   user_app_rating user_review_date year_month\n",
       "0                5       2019-07-31    2019-07\n",
       "1                5       2019-07-31    2019-07\n",
       "2                5       2019-07-31    2019-07\n",
       "3                5       2019-07-31    2019-07\n",
       "4                5       2019-07-31    2019-07"
      ]
     },
     "execution_count": 102,
     "metadata": {},
     "output_type": "execute_result"
    }
   ],
   "source": [
    "app_rating_with_year_month.head()"
   ]
  },
  {
   "cell_type": "code",
   "execution_count": 103,
   "metadata": {},
   "outputs": [
    {
     "data": {
      "text/html": [
       "<div>\n",
       "<style scoped>\n",
       "    .dataframe tbody tr th:only-of-type {\n",
       "        vertical-align: middle;\n",
       "    }\n",
       "\n",
       "    .dataframe tbody tr th {\n",
       "        vertical-align: top;\n",
       "    }\n",
       "\n",
       "    .dataframe thead th {\n",
       "        text-align: right;\n",
       "    }\n",
       "</style>\n",
       "<table border=\"1\" class=\"dataframe\">\n",
       "  <thead>\n",
       "    <tr style=\"text-align: right;\">\n",
       "      <th></th>\n",
       "      <th>year_month</th>\n",
       "      <th>user_app_rating</th>\n",
       "    </tr>\n",
       "  </thead>\n",
       "  <tbody>\n",
       "    <tr>\n",
       "      <th>0</th>\n",
       "      <td>2019-04</td>\n",
       "      <td>4.740260</td>\n",
       "    </tr>\n",
       "    <tr>\n",
       "      <th>1</th>\n",
       "      <td>2019-05</td>\n",
       "      <td>4.794366</td>\n",
       "    </tr>\n",
       "    <tr>\n",
       "      <th>2</th>\n",
       "      <td>2019-06</td>\n",
       "      <td>4.731469</td>\n",
       "    </tr>\n",
       "    <tr>\n",
       "      <th>3</th>\n",
       "      <td>2019-07</td>\n",
       "      <td>4.716883</td>\n",
       "    </tr>\n",
       "  </tbody>\n",
       "</table>\n",
       "</div>"
      ],
      "text/plain": [
       "  year_month  user_app_rating\n",
       "0    2019-04         4.740260\n",
       "1    2019-05         4.794366\n",
       "2    2019-06         4.731469\n",
       "3    2019-07         4.716883"
      ]
     },
     "execution_count": 103,
     "metadata": {},
     "output_type": "execute_result"
    }
   ],
   "source": [
    "monthly_result = app_rating_with_year_month.groupby('year_month', as_index=False).mean()\n",
    "monthly_result"
   ]
  },
  {
   "cell_type": "code",
   "execution_count": 104,
   "metadata": {},
   "outputs": [
    {
     "data": {
      "text/html": [
       "<div>\n",
       "<style scoped>\n",
       "    .dataframe tbody tr th:only-of-type {\n",
       "        vertical-align: middle;\n",
       "    }\n",
       "\n",
       "    .dataframe tbody tr th {\n",
       "        vertical-align: top;\n",
       "    }\n",
       "\n",
       "    .dataframe thead th {\n",
       "        text-align: right;\n",
       "    }\n",
       "</style>\n",
       "<table border=\"1\" class=\"dataframe\">\n",
       "  <thead>\n",
       "    <tr style=\"text-align: right;\">\n",
       "      <th></th>\n",
       "      <th>user_app_rating</th>\n",
       "    </tr>\n",
       "  </thead>\n",
       "  <tbody>\n",
       "    <tr>\n",
       "      <th>count</th>\n",
       "      <td>4.000000</td>\n",
       "    </tr>\n",
       "    <tr>\n",
       "      <th>mean</th>\n",
       "      <td>4.745744</td>\n",
       "    </tr>\n",
       "    <tr>\n",
       "      <th>std</th>\n",
       "      <td>0.033818</td>\n",
       "    </tr>\n",
       "    <tr>\n",
       "      <th>min</th>\n",
       "      <td>4.716883</td>\n",
       "    </tr>\n",
       "    <tr>\n",
       "      <th>25%</th>\n",
       "      <td>4.727822</td>\n",
       "    </tr>\n",
       "    <tr>\n",
       "      <th>50%</th>\n",
       "      <td>4.735864</td>\n",
       "    </tr>\n",
       "    <tr>\n",
       "      <th>75%</th>\n",
       "      <td>4.753786</td>\n",
       "    </tr>\n",
       "    <tr>\n",
       "      <th>max</th>\n",
       "      <td>4.794366</td>\n",
       "    </tr>\n",
       "  </tbody>\n",
       "</table>\n",
       "</div>"
      ],
      "text/plain": [
       "       user_app_rating\n",
       "count         4.000000\n",
       "mean          4.745744\n",
       "std           0.033818\n",
       "min           4.716883\n",
       "25%           4.727822\n",
       "50%           4.735864\n",
       "75%           4.753786\n",
       "max           4.794366"
      ]
     },
     "execution_count": 104,
     "metadata": {},
     "output_type": "execute_result"
    }
   ],
   "source": [
    "monthly_result.describe()"
   ]
  },
  {
   "cell_type": "code",
   "execution_count": 117,
   "metadata": {},
   "outputs": [
    {
     "data": {
      "image/png": "[encoded data removed]",
      "text/plain": [
       "<Figure size 1080x360 with 1 Axes>"
      ]
     },
     "metadata": {
      "needs_background": "light"
     },
     "output_type": "display_data"
    }
   ],
   "source": [
    "# draw graph : 2019 Google play store review rating per month\n",
    "\n",
    "plt.figure(figsize = (15, 5))\n",
    "sns.pointplot(x='year_month', y='user_app_rating', data=monthly_result, scale=0.3)\n",
    "plt.xticks(rotation=45, fontsize = 15)\n",
    "plt.title('2019 Google play store review rating per month', fontsize = 15)\n",
    "plt.show()"
   ]
  },
  {
   "cell_type": "markdown",
   "metadata": {},
   "source": [
    "- 2019년 04월부터 월별 4.7~4.8의 고평점을 받으며 계속 유지 중이다.\n",
    "- 앱의 전체적은 별점을 기반으로 생각하면 놀랍지도 않아 보인다."
   ]
  },
  {
   "cell_type": "markdown",
   "metadata": {},
   "source": [
    "## 요일에 따른 리뷰 분석"
   ]
  },
  {
   "cell_type": "code",
   "execution_count": 106,
   "metadata": {},
   "outputs": [
    {
     "data": {
      "text/html": [
       "<div>\n",
       "<style scoped>\n",
       "    .dataframe tbody tr th:only-of-type {\n",
       "        vertical-align: middle;\n",
       "    }\n",
       "\n",
       "    .dataframe tbody tr th {\n",
       "        vertical-align: top;\n",
       "    }\n",
       "\n",
       "    .dataframe thead th {\n",
       "        text-align: right;\n",
       "    }\n",
       "</style>\n",
       "<table border=\"1\" class=\"dataframe\">\n",
       "  <thead>\n",
       "    <tr style=\"text-align: right;\">\n",
       "      <th></th>\n",
       "      <th>user_app_rating</th>\n",
       "      <th>user_review_weekday</th>\n",
       "    </tr>\n",
       "  </thead>\n",
       "  <tbody>\n",
       "    <tr>\n",
       "      <th>0</th>\n",
       "      <td>5</td>\n",
       "      <td>Fri</td>\n",
       "    </tr>\n",
       "    <tr>\n",
       "      <th>1</th>\n",
       "      <td>5</td>\n",
       "      <td>Fri</td>\n",
       "    </tr>\n",
       "    <tr>\n",
       "      <th>2</th>\n",
       "      <td>1</td>\n",
       "      <td>Fri</td>\n",
       "    </tr>\n",
       "    <tr>\n",
       "      <th>3</th>\n",
       "      <td>5</td>\n",
       "      <td>Fri</td>\n",
       "    </tr>\n",
       "    <tr>\n",
       "      <th>4</th>\n",
       "      <td>5</td>\n",
       "      <td>Fri</td>\n",
       "    </tr>\n",
       "  </tbody>\n",
       "</table>\n",
       "</div>"
      ],
      "text/plain": [
       "   user_app_rating user_review_weekday\n",
       "0                5                 Fri\n",
       "1                5                 Fri\n",
       "2                1                 Fri\n",
       "3                5                 Fri\n",
       "4                5                 Fri"
      ]
     },
     "execution_count": 106,
     "metadata": {},
     "output_type": "execute_result"
    }
   ],
   "source": [
    "weekday_user_review_df = arranged_user_review_df[['user_app_rating', 'user_review_weekday']]\n",
    "weekday_user_review_df.head()"
   ]
  },
  {
   "cell_type": "code",
   "execution_count": 107,
   "metadata": {},
   "outputs": [
    {
     "data": {
      "text/html": [
       "<style  type=\"text/css\" >\n",
       "    #T_cf863bee_bc5a_11e9_a1fb_68fef708cd21row0_col0 {\n",
       "            background-color:  #f9fc66;\n",
       "            color:  #000000;\n",
       "        }    #T_cf863bee_bc5a_11e9_a1fb_68fef708cd21row0_col1 {\n",
       "            background-color:  #f9fc66;\n",
       "            color:  #000000;\n",
       "        }    #T_cf863bee_bc5a_11e9_a1fb_68fef708cd21row0_col2 {\n",
       "            background-color:  #fdfe66;\n",
       "            color:  #000000;\n",
       "        }    #T_cf863bee_bc5a_11e9_a1fb_68fef708cd21row0_col3 {\n",
       "            background-color:  #fbfd66;\n",
       "            color:  #000000;\n",
       "        }    #T_cf863bee_bc5a_11e9_a1fb_68fef708cd21row0_col4 {\n",
       "            background-color:  #f9fc66;\n",
       "            color:  #000000;\n",
       "        }    #T_cf863bee_bc5a_11e9_a1fb_68fef708cd21row0_col5 {\n",
       "            background-color:  #fcfe66;\n",
       "            color:  #000000;\n",
       "        }    #T_cf863bee_bc5a_11e9_a1fb_68fef708cd21row0_col6 {\n",
       "            background-color:  #fcfe66;\n",
       "            color:  #000000;\n",
       "        }    #T_cf863bee_bc5a_11e9_a1fb_68fef708cd21row0_col7 {\n",
       "            background-color:  #fbfd66;\n",
       "            color:  #000000;\n",
       "        }    #T_cf863bee_bc5a_11e9_a1fb_68fef708cd21row1_col0 {\n",
       "            background-color:  #ffff66;\n",
       "            color:  #000000;\n",
       "        }    #T_cf863bee_bc5a_11e9_a1fb_68fef708cd21row1_col1 {\n",
       "            background-color:  #ffff66;\n",
       "            color:  #000000;\n",
       "        }    #T_cf863bee_bc5a_11e9_a1fb_68fef708cd21row1_col2 {\n",
       "            background-color:  #ffff66;\n",
       "            color:  #000000;\n",
       "        }    #T_cf863bee_bc5a_11e9_a1fb_68fef708cd21row1_col3 {\n",
       "            background-color:  #ffff66;\n",
       "            color:  #000000;\n",
       "        }    #T_cf863bee_bc5a_11e9_a1fb_68fef708cd21row1_col4 {\n",
       "            background-color:  #ffff66;\n",
       "            color:  #000000;\n",
       "        }    #T_cf863bee_bc5a_11e9_a1fb_68fef708cd21row1_col5 {\n",
       "            background-color:  #ffff66;\n",
       "            color:  #000000;\n",
       "        }    #T_cf863bee_bc5a_11e9_a1fb_68fef708cd21row1_col6 {\n",
       "            background-color:  #ffff66;\n",
       "            color:  #000000;\n",
       "        }    #T_cf863bee_bc5a_11e9_a1fb_68fef708cd21row1_col7 {\n",
       "            background-color:  #ffff66;\n",
       "            color:  #000000;\n",
       "        }    #T_cf863bee_bc5a_11e9_a1fb_68fef708cd21row2_col0 {\n",
       "            background-color:  #fcfe66;\n",
       "            color:  #000000;\n",
       "        }    #T_cf863bee_bc5a_11e9_a1fb_68fef708cd21row2_col1 {\n",
       "            background-color:  #fcfe66;\n",
       "            color:  #000000;\n",
       "        }    #T_cf863bee_bc5a_11e9_a1fb_68fef708cd21row2_col2 {\n",
       "            background-color:  #ffff66;\n",
       "            color:  #000000;\n",
       "        }    #T_cf863bee_bc5a_11e9_a1fb_68fef708cd21row2_col3 {\n",
       "            background-color:  #fcfe66;\n",
       "            color:  #000000;\n",
       "        }    #T_cf863bee_bc5a_11e9_a1fb_68fef708cd21row2_col4 {\n",
       "            background-color:  #fcfe66;\n",
       "            color:  #000000;\n",
       "        }    #T_cf863bee_bc5a_11e9_a1fb_68fef708cd21row2_col5 {\n",
       "            background-color:  #fcfe66;\n",
       "            color:  #000000;\n",
       "        }    #T_cf863bee_bc5a_11e9_a1fb_68fef708cd21row2_col6 {\n",
       "            background-color:  #fbfd66;\n",
       "            color:  #000000;\n",
       "        }    #T_cf863bee_bc5a_11e9_a1fb_68fef708cd21row2_col7 {\n",
       "            background-color:  #fcfe66;\n",
       "            color:  #000000;\n",
       "        }    #T_cf863bee_bc5a_11e9_a1fb_68fef708cd21row3_col0 {\n",
       "            background-color:  #e9f466;\n",
       "            color:  #000000;\n",
       "        }    #T_cf863bee_bc5a_11e9_a1fb_68fef708cd21row3_col1 {\n",
       "            background-color:  #e4f266;\n",
       "            color:  #000000;\n",
       "        }    #T_cf863bee_bc5a_11e9_a1fb_68fef708cd21row3_col2 {\n",
       "            background-color:  #dcee66;\n",
       "            color:  #000000;\n",
       "        }    #T_cf863bee_bc5a_11e9_a1fb_68fef708cd21row3_col3 {\n",
       "            background-color:  #e1f066;\n",
       "            color:  #000000;\n",
       "        }    #T_cf863bee_bc5a_11e9_a1fb_68fef708cd21row3_col4 {\n",
       "            background-color:  #ddee66;\n",
       "            color:  #000000;\n",
       "        }    #T_cf863bee_bc5a_11e9_a1fb_68fef708cd21row3_col5 {\n",
       "            background-color:  #daec66;\n",
       "            color:  #000000;\n",
       "        }    #T_cf863bee_bc5a_11e9_a1fb_68fef708cd21row3_col6 {\n",
       "            background-color:  #e1f066;\n",
       "            color:  #000000;\n",
       "        }    #T_cf863bee_bc5a_11e9_a1fb_68fef708cd21row3_col7 {\n",
       "            background-color:  #e0f066;\n",
       "            color:  #000000;\n",
       "        }    #T_cf863bee_bc5a_11e9_a1fb_68fef708cd21row4_col0 {\n",
       "            background-color:  #289366;\n",
       "            color:  #000000;\n",
       "        }    #T_cf863bee_bc5a_11e9_a1fb_68fef708cd21row4_col1 {\n",
       "            background-color:  #289366;\n",
       "            color:  #000000;\n",
       "        }    #T_cf863bee_bc5a_11e9_a1fb_68fef708cd21row4_col2 {\n",
       "            background-color:  #319866;\n",
       "            color:  #000000;\n",
       "        }    #T_cf863bee_bc5a_11e9_a1fb_68fef708cd21row4_col3 {\n",
       "            background-color:  #259266;\n",
       "            color:  #000000;\n",
       "        }    #T_cf863bee_bc5a_11e9_a1fb_68fef708cd21row4_col4 {\n",
       "            background-color:  #2c9666;\n",
       "            color:  #000000;\n",
       "        }    #T_cf863bee_bc5a_11e9_a1fb_68fef708cd21row4_col5 {\n",
       "            background-color:  #2e9666;\n",
       "            color:  #000000;\n",
       "        }    #T_cf863bee_bc5a_11e9_a1fb_68fef708cd21row4_col6 {\n",
       "            background-color:  #269266;\n",
       "            color:  #000000;\n",
       "        }    #T_cf863bee_bc5a_11e9_a1fb_68fef708cd21row4_col7 {\n",
       "            background-color:  #2a9466;\n",
       "            color:  #000000;\n",
       "        }    #T_cf863bee_bc5a_11e9_a1fb_68fef708cd21row5_col0 {\n",
       "            background-color:  #008066;\n",
       "            color:  #f1f1f1;\n",
       "        }    #T_cf863bee_bc5a_11e9_a1fb_68fef708cd21row5_col1 {\n",
       "            background-color:  #008066;\n",
       "            color:  #f1f1f1;\n",
       "        }    #T_cf863bee_bc5a_11e9_a1fb_68fef708cd21row5_col2 {\n",
       "            background-color:  #008066;\n",
       "            color:  #f1f1f1;\n",
       "        }    #T_cf863bee_bc5a_11e9_a1fb_68fef708cd21row5_col3 {\n",
       "            background-color:  #008066;\n",
       "            color:  #f1f1f1;\n",
       "        }    #T_cf863bee_bc5a_11e9_a1fb_68fef708cd21row5_col4 {\n",
       "            background-color:  #008066;\n",
       "            color:  #f1f1f1;\n",
       "        }    #T_cf863bee_bc5a_11e9_a1fb_68fef708cd21row5_col5 {\n",
       "            background-color:  #008066;\n",
       "            color:  #f1f1f1;\n",
       "        }    #T_cf863bee_bc5a_11e9_a1fb_68fef708cd21row5_col6 {\n",
       "            background-color:  #008066;\n",
       "            color:  #f1f1f1;\n",
       "        }    #T_cf863bee_bc5a_11e9_a1fb_68fef708cd21row5_col7 {\n",
       "            background-color:  #008066;\n",
       "            color:  #f1f1f1;\n",
       "        }</style><table id=\"T_cf863bee_bc5a_11e9_a1fb_68fef708cd21\" ><thead>    <tr>        <th class=\"index_name level0\" >user_review_weekday</th>        <th class=\"col_heading level0 col0\" >Fri</th>        <th class=\"col_heading level0 col1\" >Mon</th>        <th class=\"col_heading level0 col2\" >Sat</th>        <th class=\"col_heading level0 col3\" >Sun</th>        <th class=\"col_heading level0 col4\" >Thu</th>        <th class=\"col_heading level0 col5\" >Tue</th>        <th class=\"col_heading level0 col6\" >Wed</th>        <th class=\"col_heading level0 col7\" >All</th>    </tr>    <tr>        <th class=\"index_name level0\" >user_app_rating</th>        <th class=\"blank\" ></th>        <th class=\"blank\" ></th>        <th class=\"blank\" ></th>        <th class=\"blank\" ></th>        <th class=\"blank\" ></th>        <th class=\"blank\" ></th>        <th class=\"blank\" ></th>        <th class=\"blank\" ></th>    </tr></thead><tbody>\n",
       "                <tr>\n",
       "                        <th id=\"T_cf863bee_bc5a_11e9_a1fb_68fef708cd21level0_row0\" class=\"row_heading level0 row0\" >1</th>\n",
       "                        <td id=\"T_cf863bee_bc5a_11e9_a1fb_68fef708cd21row0_col0\" class=\"data row0 col0\" >17</td>\n",
       "                        <td id=\"T_cf863bee_bc5a_11e9_a1fb_68fef708cd21row0_col1\" class=\"data row0 col1\" >15</td>\n",
       "                        <td id=\"T_cf863bee_bc5a_11e9_a1fb_68fef708cd21row0_col2\" class=\"data row0 col2\" >10</td>\n",
       "                        <td id=\"T_cf863bee_bc5a_11e9_a1fb_68fef708cd21row0_col3\" class=\"data row0 col3\" >8</td>\n",
       "                        <td id=\"T_cf863bee_bc5a_11e9_a1fb_68fef708cd21row0_col4\" class=\"data row0 col4\" >11</td>\n",
       "                        <td id=\"T_cf863bee_bc5a_11e9_a1fb_68fef708cd21row0_col5\" class=\"data row0 col5\" >8</td>\n",
       "                        <td id=\"T_cf863bee_bc5a_11e9_a1fb_68fef708cd21row0_col6\" class=\"data row0 col6\" >7</td>\n",
       "                        <td id=\"T_cf863bee_bc5a_11e9_a1fb_68fef708cd21row0_col7\" class=\"data row0 col7\" >76</td>\n",
       "            </tr>\n",
       "            <tr>\n",
       "                        <th id=\"T_cf863bee_bc5a_11e9_a1fb_68fef708cd21level0_row1\" class=\"row_heading level0 row1\" >2</th>\n",
       "                        <td id=\"T_cf863bee_bc5a_11e9_a1fb_68fef708cd21row1_col0\" class=\"data row1 col0\" >4</td>\n",
       "                        <td id=\"T_cf863bee_bc5a_11e9_a1fb_68fef708cd21row1_col1\" class=\"data row1 col1\" >1</td>\n",
       "                        <td id=\"T_cf863bee_bc5a_11e9_a1fb_68fef708cd21row1_col2\" class=\"data row1 col2\" >5</td>\n",
       "                        <td id=\"T_cf863bee_bc5a_11e9_a1fb_68fef708cd21row1_col3\" class=\"data row1 col3\" >0</td>\n",
       "                        <td id=\"T_cf863bee_bc5a_11e9_a1fb_68fef708cd21row1_col4\" class=\"data row1 col4\" >0</td>\n",
       "                        <td id=\"T_cf863bee_bc5a_11e9_a1fb_68fef708cd21row1_col5\" class=\"data row1 col5\" >1</td>\n",
       "                        <td id=\"T_cf863bee_bc5a_11e9_a1fb_68fef708cd21row1_col6\" class=\"data row1 col6\" >0</td>\n",
       "                        <td id=\"T_cf863bee_bc5a_11e9_a1fb_68fef708cd21row1_col7\" class=\"data row1 col7\" >11</td>\n",
       "            </tr>\n",
       "            <tr>\n",
       "                        <th id=\"T_cf863bee_bc5a_11e9_a1fb_68fef708cd21level0_row2\" class=\"row_heading level0 row2\" >3</th>\n",
       "                        <td id=\"T_cf863bee_bc5a_11e9_a1fb_68fef708cd21row2_col0\" class=\"data row2 col0\" >10</td>\n",
       "                        <td id=\"T_cf863bee_bc5a_11e9_a1fb_68fef708cd21row2_col1\" class=\"data row2 col1\" >8</td>\n",
       "                        <td id=\"T_cf863bee_bc5a_11e9_a1fb_68fef708cd21row2_col2\" class=\"data row2 col2\" >5</td>\n",
       "                        <td id=\"T_cf863bee_bc5a_11e9_a1fb_68fef708cd21row2_col3\" class=\"data row2 col3\" >6</td>\n",
       "                        <td id=\"T_cf863bee_bc5a_11e9_a1fb_68fef708cd21row2_col4\" class=\"data row2 col4\" >7</td>\n",
       "                        <td id=\"T_cf863bee_bc5a_11e9_a1fb_68fef708cd21row2_col5\" class=\"data row2 col5\" >7</td>\n",
       "                        <td id=\"T_cf863bee_bc5a_11e9_a1fb_68fef708cd21row2_col6\" class=\"data row2 col6\" >9</td>\n",
       "                        <td id=\"T_cf863bee_bc5a_11e9_a1fb_68fef708cd21row2_col7\" class=\"data row2 col7\" >52</td>\n",
       "            </tr>\n",
       "            <tr>\n",
       "                        <th id=\"T_cf863bee_bc5a_11e9_a1fb_68fef708cd21level0_row3\" class=\"row_heading level0 row3\" >4</th>\n",
       "                        <td id=\"T_cf863bee_bc5a_11e9_a1fb_68fef708cd21row3_col0\" class=\"data row3 col0\" >45</td>\n",
       "                        <td id=\"T_cf863bee_bc5a_11e9_a1fb_68fef708cd21row3_col1\" class=\"data row3 col1\" >57</td>\n",
       "                        <td id=\"T_cf863bee_bc5a_11e9_a1fb_68fef708cd21row3_col2\" class=\"data row3 col2\" >68</td>\n",
       "                        <td id=\"T_cf863bee_bc5a_11e9_a1fb_68fef708cd21row3_col3\" class=\"data row3 col3\" >56</td>\n",
       "                        <td id=\"T_cf863bee_bc5a_11e9_a1fb_68fef708cd21row3_col4\" class=\"data row3 col4\" >62</td>\n",
       "                        <td id=\"T_cf863bee_bc5a_11e9_a1fb_68fef708cd21row3_col5\" class=\"data row3 col5\" >72</td>\n",
       "                        <td id=\"T_cf863bee_bc5a_11e9_a1fb_68fef708cd21row3_col6\" class=\"data row3 col6\" >62</td>\n",
       "                        <td id=\"T_cf863bee_bc5a_11e9_a1fb_68fef708cd21row3_col7\" class=\"data row3 col7\" >422</td>\n",
       "            </tr>\n",
       "            <tr>\n",
       "                        <th id=\"T_cf863bee_bc5a_11e9_a1fb_68fef708cd21level0_row4\" class=\"row_heading level0 row4\" >5</th>\n",
       "                        <td id=\"T_cf863bee_bc5a_11e9_a1fb_68fef708cd21row4_col0\" class=\"data row4 col0\" >405</td>\n",
       "                        <td id=\"T_cf863bee_bc5a_11e9_a1fb_68fef708cd21row4_col1\" class=\"data row4 col1\" >435</td>\n",
       "                        <td id=\"T_cf863bee_bc5a_11e9_a1fb_68fef708cd21row4_col2\" class=\"data row4 col2\" >375</td>\n",
       "                        <td id=\"T_cf863bee_bc5a_11e9_a1fb_68fef708cd21row4_col3\" class=\"data row4 col3\" >405</td>\n",
       "                        <td id=\"T_cf863bee_bc5a_11e9_a1fb_68fef708cd21row4_col4\" class=\"data row4 col4\" >381</td>\n",
       "                        <td id=\"T_cf863bee_bc5a_11e9_a1fb_68fef708cd21row4_col5\" class=\"data row4 col5\" >395</td>\n",
       "                        <td id=\"T_cf863bee_bc5a_11e9_a1fb_68fef708cd21row4_col6\" class=\"data row4 col6\" >443</td>\n",
       "                        <td id=\"T_cf863bee_bc5a_11e9_a1fb_68fef708cd21row4_col7\" class=\"data row4 col7\" >2839</td>\n",
       "            </tr>\n",
       "            <tr>\n",
       "                        <th id=\"T_cf863bee_bc5a_11e9_a1fb_68fef708cd21level0_row5\" class=\"row_heading level0 row5\" >All</th>\n",
       "                        <td id=\"T_cf863bee_bc5a_11e9_a1fb_68fef708cd21row5_col0\" class=\"data row5 col0\" >481</td>\n",
       "                        <td id=\"T_cf863bee_bc5a_11e9_a1fb_68fef708cd21row5_col1\" class=\"data row5 col1\" >516</td>\n",
       "                        <td id=\"T_cf863bee_bc5a_11e9_a1fb_68fef708cd21row5_col2\" class=\"data row5 col2\" >463</td>\n",
       "                        <td id=\"T_cf863bee_bc5a_11e9_a1fb_68fef708cd21row5_col3\" class=\"data row5 col3\" >475</td>\n",
       "                        <td id=\"T_cf863bee_bc5a_11e9_a1fb_68fef708cd21row5_col4\" class=\"data row5 col4\" >461</td>\n",
       "                        <td id=\"T_cf863bee_bc5a_11e9_a1fb_68fef708cd21row5_col5\" class=\"data row5 col5\" >483</td>\n",
       "                        <td id=\"T_cf863bee_bc5a_11e9_a1fb_68fef708cd21row5_col6\" class=\"data row5 col6\" >521</td>\n",
       "                        <td id=\"T_cf863bee_bc5a_11e9_a1fb_68fef708cd21row5_col7\" class=\"data row5 col7\" >3400</td>\n",
       "            </tr>\n",
       "    </tbody></table>"
      ],
      "text/plain": [
       "<pandas.io.formats.style.Styler at 0x1a247b2240>"
      ]
     },
     "execution_count": 107,
     "metadata": {},
     "output_type": "execute_result"
    }
   ],
   "source": [
    "# crosstab for checking two catagory\n",
    "\n",
    "crosstab_result = pd.crosstab(weekday_user_review_df['user_app_rating'], weekday_user_review_df['user_review_weekday'], margins=True).style.background_gradient(cmap='summer_r')\n",
    "crosstab_result"
   ]
  },
  {
   "cell_type": "code",
   "execution_count": 108,
   "metadata": {},
   "outputs": [
    {
     "data": {
      "text/html": [
       "<div>\n",
       "<style scoped>\n",
       "    .dataframe tbody tr th:only-of-type {\n",
       "        vertical-align: middle;\n",
       "    }\n",
       "\n",
       "    .dataframe tbody tr th {\n",
       "        vertical-align: top;\n",
       "    }\n",
       "\n",
       "    .dataframe thead th {\n",
       "        text-align: right;\n",
       "    }\n",
       "</style>\n",
       "<table border=\"1\" class=\"dataframe\">\n",
       "  <thead>\n",
       "    <tr style=\"text-align: right;\">\n",
       "      <th>user_app_rating</th>\n",
       "      <th>1</th>\n",
       "      <th>2</th>\n",
       "      <th>3</th>\n",
       "      <th>4</th>\n",
       "      <th>5</th>\n",
       "    </tr>\n",
       "    <tr>\n",
       "      <th>user_review_weekday</th>\n",
       "      <th></th>\n",
       "      <th></th>\n",
       "      <th></th>\n",
       "      <th></th>\n",
       "      <th></th>\n",
       "    </tr>\n",
       "  </thead>\n",
       "  <tbody>\n",
       "    <tr>\n",
       "      <th>Fri</th>\n",
       "      <td>0.005000</td>\n",
       "      <td>0.001176</td>\n",
       "      <td>0.002941</td>\n",
       "      <td>0.013235</td>\n",
       "      <td>0.119118</td>\n",
       "    </tr>\n",
       "    <tr>\n",
       "      <th>Mon</th>\n",
       "      <td>0.004412</td>\n",
       "      <td>0.000294</td>\n",
       "      <td>0.002353</td>\n",
       "      <td>0.016765</td>\n",
       "      <td>0.127941</td>\n",
       "    </tr>\n",
       "    <tr>\n",
       "      <th>Sat</th>\n",
       "      <td>0.002941</td>\n",
       "      <td>0.001471</td>\n",
       "      <td>0.001471</td>\n",
       "      <td>0.020000</td>\n",
       "      <td>0.110294</td>\n",
       "    </tr>\n",
       "    <tr>\n",
       "      <th>Sun</th>\n",
       "      <td>0.002353</td>\n",
       "      <td>0.000000</td>\n",
       "      <td>0.001765</td>\n",
       "      <td>0.016471</td>\n",
       "      <td>0.119118</td>\n",
       "    </tr>\n",
       "    <tr>\n",
       "      <th>Thu</th>\n",
       "      <td>0.003235</td>\n",
       "      <td>0.000000</td>\n",
       "      <td>0.002059</td>\n",
       "      <td>0.018235</td>\n",
       "      <td>0.112059</td>\n",
       "    </tr>\n",
       "    <tr>\n",
       "      <th>Tue</th>\n",
       "      <td>0.002353</td>\n",
       "      <td>0.000294</td>\n",
       "      <td>0.002059</td>\n",
       "      <td>0.021176</td>\n",
       "      <td>0.116176</td>\n",
       "    </tr>\n",
       "    <tr>\n",
       "      <th>Wed</th>\n",
       "      <td>0.002059</td>\n",
       "      <td>0.000000</td>\n",
       "      <td>0.002647</td>\n",
       "      <td>0.018235</td>\n",
       "      <td>0.130294</td>\n",
       "    </tr>\n",
       "  </tbody>\n",
       "</table>\n",
       "</div>"
      ],
      "text/plain": [
       "user_app_rating             1         2         3         4         5\n",
       "user_review_weekday                                                  \n",
       "Fri                  0.005000  0.001176  0.002941  0.013235  0.119118\n",
       "Mon                  0.004412  0.000294  0.002353  0.016765  0.127941\n",
       "Sat                  0.002941  0.001471  0.001471  0.020000  0.110294\n",
       "Sun                  0.002353  0.000000  0.001765  0.016471  0.119118\n",
       "Thu                  0.003235  0.000000  0.002059  0.018235  0.112059\n",
       "Tue                  0.002353  0.000294  0.002059  0.021176  0.116176\n",
       "Wed                  0.002059  0.000000  0.002647  0.018235  0.130294"
      ]
     },
     "execution_count": 108,
     "metadata": {},
     "output_type": "execute_result"
    }
   ],
   "source": [
    "# crosstab with ratio\n",
    "\n",
    "crosstab_result = pd.crosstab(weekday_user_review_df['user_app_rating'], weekday_user_review_df['user_review_weekday'], normalize=True).T\n",
    "crosstab_result"
   ]
  },
  {
   "cell_type": "code",
   "execution_count": 109,
   "metadata": {},
   "outputs": [],
   "source": [
    "def draw_heatmap(weekday_user_review_df, weekday_order_list):\n",
    "    crosstab_result = pd.crosstab(weekday_user_review_df['user_app_rating'], weekday_user_review_df['user_review_weekday'], normalize=True).T\n",
    "    crosstab_result = crosstab_result.reindex(index=weekday_order_list)\n",
    "    \n",
    "    plt.figure(figsize=(10, 5))\n",
    "    sns.heatmap(crosstab_result, cmap=\"YlGnBu\", annot=True, cbar=True, fmt='0.3g')\n",
    "    plt.title('user_app_rating per weekday')\n",
    "    plt.show()"
   ]
  },
  {
   "cell_type": "code",
   "execution_count": 110,
   "metadata": {},
   "outputs": [
    {
     "data": {
      "image/png": "[encoded data removed]",
      "text/plain": [
       "<Figure size 720x360 with 2 Axes>"
      ]
     },
     "metadata": {
      "needs_background": "light"
     },
     "output_type": "display_data"
    }
   ],
   "source": [
    "draw_heatmap(weekday_user_review_df, weekday_order_list)"
   ]
  },
  {
   "cell_type": "markdown",
   "metadata": {},
   "source": [
    "- 모든 요일에 걸쳐서 좋은 평가를 받고 있다.\n",
    "- 분석이 무의미해지는 느낌이다. 정말 좋은 앱이다.\n",
    "- 낮은 별점이라는 것이 무의미하다."
   ]
  },
  {
   "cell_type": "code",
   "execution_count": null,
   "metadata": {},
   "outputs": [],
   "source": [
    "# - 일요일에 가장 많은 리뷰 횟수가 기록되면서, 5점 리뷰도 가장 많이 기록되고 있는 것으로 파악된다.\n",
    "# - 화요일에 가장 적은 리뷰 횟수가 기록되며, 높은 리뷰 점수 비중도 다른 날에 비해 상대적으로 낮다.\n",
    "  # - 트래픽을 확인 할 수는 없으나, 일요일을 타깃으로 이용자들과 호흡할 수 있는 이벤트도 검토해볼만하다."
   ]
  },
  {
   "cell_type": "markdown",
   "metadata": {},
   "source": [
    "---------------------------------"
   ]
  },
  {
   "cell_type": "markdown",
   "metadata": {},
   "source": [
    "### 고객 응대 소요 시간\n",
    "- 오늘의 집에서 이용자들에게 답변하는 날짜는 이용자가 리뷰를 달은 날짜와 얼마나 차이가 날까?\n",
    "  - 답변을 달지 않은 날은 제외하고 파악해보도록 하자\n",
    "  - 아쉽게도 시, 분, 초는 플레이스토어에서 구할 수가 없어서 day 기준으로 판단한다.\n",
    "- 리플을 굳이 달지 않아도 되는 항목이 있을 수도 있으니, 리플을 달은 것 vs 달지 않은 것에 대한 비교는 하지 않는다.\n",
    "- 왠지 느낌적으로 답변도 참 달으셨을 것 같다."
   ]
  },
  {
   "cell_type": "code",
   "execution_count": 37,
   "metadata": {},
   "outputs": [
    {
     "data": {
      "text/html": [
       "<div>\n",
       "<style scoped>\n",
       "    .dataframe tbody tr th:only-of-type {\n",
       "        vertical-align: middle;\n",
       "    }\n",
       "\n",
       "    .dataframe tbody tr th {\n",
       "        vertical-align: top;\n",
       "    }\n",
       "\n",
       "    .dataframe thead th {\n",
       "        text-align: right;\n",
       "    }\n",
       "</style>\n",
       "<table border=\"1\" class=\"dataframe\">\n",
       "  <thead>\n",
       "    <tr style=\"text-align: right;\">\n",
       "      <th></th>\n",
       "      <th>user_app_rating</th>\n",
       "      <th>user_review_date</th>\n",
       "      <th>company_comment_date</th>\n",
       "    </tr>\n",
       "  </thead>\n",
       "  <tbody>\n",
       "    <tr>\n",
       "      <th>0</th>\n",
       "      <td>5</td>\n",
       "      <td>2019-08-09</td>\n",
       "      <td>2019-08-09</td>\n",
       "    </tr>\n",
       "    <tr>\n",
       "      <th>1</th>\n",
       "      <td>5</td>\n",
       "      <td>2019-08-09</td>\n",
       "      <td>2019-06-21</td>\n",
       "    </tr>\n",
       "    <tr>\n",
       "      <th>2</th>\n",
       "      <td>5</td>\n",
       "      <td>2019-08-09</td>\n",
       "      <td>2019-08-09</td>\n",
       "    </tr>\n",
       "    <tr>\n",
       "      <th>3</th>\n",
       "      <td>5</td>\n",
       "      <td>2019-08-09</td>\n",
       "      <td>2019-08-09</td>\n",
       "    </tr>\n",
       "    <tr>\n",
       "      <th>4</th>\n",
       "      <td>5</td>\n",
       "      <td>2019-08-09</td>\n",
       "      <td>2019-08-09</td>\n",
       "    </tr>\n",
       "  </tbody>\n",
       "</table>\n",
       "</div>"
      ],
      "text/plain": [
       "   user_app_rating user_review_date company_comment_date\n",
       "0                5       2019-08-09           2019-08-09\n",
       "1                5       2019-08-09           2019-06-21\n",
       "2                5       2019-08-09           2019-08-09\n",
       "3                5       2019-08-09           2019-08-09\n",
       "4                5       2019-08-09           2019-08-09"
      ]
     },
     "execution_count": 37,
     "metadata": {},
     "output_type": "execute_result"
    }
   ],
   "source": [
    "reply_date_df = arranged_user_review_df[['user_app_rating', 'user_review_date', 'company_comment_date']]\n",
    "reply_date_df_with_answer = reply_date_df[reply_date_df['company_comment_date']!='no_answer'].reset_index(drop=True)\n",
    "reply_date_df_with_answer.head()"
   ]
  },
  {
   "cell_type": "code",
   "execution_count": 38,
   "metadata": {},
   "outputs": [],
   "source": [
    "def convert_string_to_datetime_format(date):\n",
    "    convert_date = datetime.strptime(date, \"%Y-%m-%d\")\n",
    "    \n",
    "    return convert_date\n",
    "\n",
    "\n",
    "def calculate_time_deleta(df, column_name_1, column_name2):\n",
    "    time_delta_list = []\n",
    "    for index, row in df.iterrows():\n",
    "        time_delta_value = row[column_name2] - row[column_name_1]\n",
    "        time_delta_day = time_delta_value.days\n",
    "        \n",
    "        time_delta_list.append(time_delta_day)\n",
    "        \n",
    "    df['reply_time'] = time_delta_list\n",
    "    \n",
    "    return df"
   ]
  },
  {
   "cell_type": "code",
   "execution_count": 39,
   "metadata": {},
   "outputs": [
    {
     "data": {
      "text/html": [
       "<div>\n",
       "<style scoped>\n",
       "    .dataframe tbody tr th:only-of-type {\n",
       "        vertical-align: middle;\n",
       "    }\n",
       "\n",
       "    .dataframe tbody tr th {\n",
       "        vertical-align: top;\n",
       "    }\n",
       "\n",
       "    .dataframe thead th {\n",
       "        text-align: right;\n",
       "    }\n",
       "</style>\n",
       "<table border=\"1\" class=\"dataframe\">\n",
       "  <thead>\n",
       "    <tr style=\"text-align: right;\">\n",
       "      <th></th>\n",
       "      <th>user_app_rating</th>\n",
       "      <th>user_review_date</th>\n",
       "      <th>company_comment_date</th>\n",
       "      <th>reply_time</th>\n",
       "    </tr>\n",
       "  </thead>\n",
       "  <tbody>\n",
       "    <tr>\n",
       "      <th>0</th>\n",
       "      <td>5</td>\n",
       "      <td>2019-08-09</td>\n",
       "      <td>2019-08-09</td>\n",
       "      <td>0</td>\n",
       "    </tr>\n",
       "    <tr>\n",
       "      <th>1</th>\n",
       "      <td>5</td>\n",
       "      <td>2019-08-09</td>\n",
       "      <td>2019-06-21</td>\n",
       "      <td>-49</td>\n",
       "    </tr>\n",
       "    <tr>\n",
       "      <th>2</th>\n",
       "      <td>5</td>\n",
       "      <td>2019-08-09</td>\n",
       "      <td>2019-08-09</td>\n",
       "      <td>0</td>\n",
       "    </tr>\n",
       "    <tr>\n",
       "      <th>3</th>\n",
       "      <td>5</td>\n",
       "      <td>2019-08-09</td>\n",
       "      <td>2019-08-09</td>\n",
       "      <td>0</td>\n",
       "    </tr>\n",
       "    <tr>\n",
       "      <th>4</th>\n",
       "      <td>5</td>\n",
       "      <td>2019-08-09</td>\n",
       "      <td>2019-08-09</td>\n",
       "      <td>0</td>\n",
       "    </tr>\n",
       "  </tbody>\n",
       "</table>\n",
       "</div>"
      ],
      "text/plain": [
       "   user_app_rating user_review_date company_comment_date  reply_time\n",
       "0                5       2019-08-09           2019-08-09           0\n",
       "1                5       2019-08-09           2019-06-21         -49\n",
       "2                5       2019-08-09           2019-08-09           0\n",
       "3                5       2019-08-09           2019-08-09           0\n",
       "4                5       2019-08-09           2019-08-09           0"
      ]
     },
     "execution_count": 39,
     "metadata": {},
     "output_type": "execute_result"
    }
   ],
   "source": [
    "# convert string to datetime_format\n",
    "\n",
    "reply_date_df_with_answer_columns = ['user_review_date', 'company_comment_date']\n",
    "\n",
    "for column in reply_date_df_with_answer_columns:\n",
    "    reply_date_df_with_answer[column] = reply_date_df_with_answer[column].apply(convert_string_to_datetime_format)\n",
    "    \n",
    "\n",
    "# calculate time delta\n",
    "\n",
    "cal_reply_time_delta_df = calculate_time_deleta(reply_date_df_with_answer, 'user_review_date', 'company_comment_date')\n",
    "cal_reply_time_delta_df.head()"
   ]
  },
  {
   "cell_type": "code",
   "execution_count": 40,
   "metadata": {},
   "outputs": [],
   "source": [
    "def arrange_count_value(df, column_name):\n",
    "    df_value_count = df[column_name].value_counts()\n",
    "    \n",
    "    df_count = df_value_count.rename_axis('reply_time').reset_index(name='count')\n",
    "    sorted_df_count = df_count.sort_values('reply_time', ascending=True)\n",
    "    arranged_df = sorted_df_count.reset_index(drop=True)\n",
    "    arranged_df = sorted_df_count[sorted_df_count['reply_time']>=0].reset_index(drop=True)\n",
    "    \n",
    "    return arranged_df"
   ]
  },
  {
   "cell_type": "code",
   "execution_count": 41,
   "metadata": {},
   "outputs": [
    {
     "data": {
      "text/html": [
       "<div>\n",
       "<style scoped>\n",
       "    .dataframe tbody tr th:only-of-type {\n",
       "        vertical-align: middle;\n",
       "    }\n",
       "\n",
       "    .dataframe tbody tr th {\n",
       "        vertical-align: top;\n",
       "    }\n",
       "\n",
       "    .dataframe thead th {\n",
       "        text-align: right;\n",
       "    }\n",
       "</style>\n",
       "<table border=\"1\" class=\"dataframe\">\n",
       "  <thead>\n",
       "    <tr style=\"text-align: right;\">\n",
       "      <th></th>\n",
       "      <th>reply_time</th>\n",
       "      <th>count</th>\n",
       "      <th>ratio</th>\n",
       "      <th>cumsum_ratio</th>\n",
       "    </tr>\n",
       "  </thead>\n",
       "  <tbody>\n",
       "    <tr>\n",
       "      <th>0</th>\n",
       "      <td>0</td>\n",
       "      <td>2023</td>\n",
       "      <td>0.609888</td>\n",
       "      <td>0.609888</td>\n",
       "    </tr>\n",
       "    <tr>\n",
       "      <th>1</th>\n",
       "      <td>1</td>\n",
       "      <td>1134</td>\n",
       "      <td>0.341875</td>\n",
       "      <td>0.951764</td>\n",
       "    </tr>\n",
       "    <tr>\n",
       "      <th>2</th>\n",
       "      <td>2</td>\n",
       "      <td>103</td>\n",
       "      <td>0.031052</td>\n",
       "      <td>0.982816</td>\n",
       "    </tr>\n",
       "    <tr>\n",
       "      <th>3</th>\n",
       "      <td>3</td>\n",
       "      <td>29</td>\n",
       "      <td>0.008743</td>\n",
       "      <td>0.991559</td>\n",
       "    </tr>\n",
       "    <tr>\n",
       "      <th>4</th>\n",
       "      <td>4</td>\n",
       "      <td>7</td>\n",
       "      <td>0.002110</td>\n",
       "      <td>0.993669</td>\n",
       "    </tr>\n",
       "    <tr>\n",
       "      <th>5</th>\n",
       "      <td>5</td>\n",
       "      <td>10</td>\n",
       "      <td>0.003015</td>\n",
       "      <td>0.996684</td>\n",
       "    </tr>\n",
       "    <tr>\n",
       "      <th>6</th>\n",
       "      <td>6</td>\n",
       "      <td>7</td>\n",
       "      <td>0.002110</td>\n",
       "      <td>0.998794</td>\n",
       "    </tr>\n",
       "    <tr>\n",
       "      <th>7</th>\n",
       "      <td>7</td>\n",
       "      <td>1</td>\n",
       "      <td>0.000301</td>\n",
       "      <td>0.999096</td>\n",
       "    </tr>\n",
       "    <tr>\n",
       "      <th>8</th>\n",
       "      <td>11</td>\n",
       "      <td>3</td>\n",
       "      <td>0.000904</td>\n",
       "      <td>1.000000</td>\n",
       "    </tr>\n",
       "  </tbody>\n",
       "</table>\n",
       "</div>"
      ],
      "text/plain": [
       "   reply_time  count     ratio  cumsum_ratio\n",
       "0           0   2023  0.609888      0.609888\n",
       "1           1   1134  0.341875      0.951764\n",
       "2           2    103  0.031052      0.982816\n",
       "3           3     29  0.008743      0.991559\n",
       "4           4      7  0.002110      0.993669\n",
       "5           5     10  0.003015      0.996684\n",
       "6           6      7  0.002110      0.998794\n",
       "7           7      1  0.000301      0.999096\n",
       "8          11      3  0.000904      1.000000"
      ]
     },
     "execution_count": 41,
     "metadata": {},
     "output_type": "execute_result"
    }
   ],
   "source": [
    "# 답변 시간이 음수가 되는 경우가 종종 있다. \n",
    "# 시스템 문제로 파악 되었으나, 그게 아니고 하나의 글에 리플을 여러번 달 경우 처음 답변과의 시차가 발생해서 나타난 결과이다.\n",
    "# 이번 분석에서는 음수가 되는 경우는 제외하고 시각화 하겠다.\n",
    "\n",
    "reply_time_df = arrange_count_value(cal_reply_time_delta_df, 'reply_time')\n",
    "reply_time_df['ratio'] = reply_time_df['count'] / sum(reply_time_df['count'])\n",
    "reply_time_df['cumsum_ratio'] = reply_time_df['ratio'].cumsum()\n",
    "reply_time_df"
   ]
  },
  {
   "cell_type": "code",
   "execution_count": 42,
   "metadata": {},
   "outputs": [
    {
     "data": {
      "image/png": "[encoded data removed]",
      "text/plain": [
       "<Figure size 864x360 with 2 Axes>"
      ]
     },
     "metadata": {
      "needs_background": "light"
     },
     "output_type": "display_data"
    }
   ],
   "source": [
    "# draw reply_time graph\n",
    "def draw_count_and_ratio_graph(df):\n",
    "    y_position = 1.02\n",
    "    f, ax = plt.subplots(1,2, figsize=(12, 5))\n",
    "\n",
    "    sns.barplot(x='reply_time', y='count', data=df, ax=ax[0])\n",
    "    ax[0].set_title(f'reply_time with count')\n",
    "\n",
    "    sns.barplot(x='reply_time', y='cumsum_ratio', data=df, ax=ax[1])\n",
    "    ax[1].set_title(f'reply_time with cumsum_ratio')\n",
    "    \n",
    "    plt.tight_layout()\n",
    "    plt.show()\n",
    "\n",
    "draw_count_and_ratio_graph(reply_time_df)"
   ]
  },
  {
   "cell_type": "markdown",
   "metadata": {},
   "source": [
    "- 별점에 관계없이 답변이 달린 경우는 리뷰가 달린 날짜 대비 1일 이내에 95% 이상 답변이 달리고 있다.\n",
    "- 뭐...뭐지..;;;웬만한 답변이 2일안에 다 달린다.;;"
   ]
  },
  {
   "cell_type": "code",
   "execution_count": 43,
   "metadata": {},
   "outputs": [
    {
     "data": {
      "text/html": [
       "<div>\n",
       "<style scoped>\n",
       "    .dataframe tbody tr th:only-of-type {\n",
       "        vertical-align: middle;\n",
       "    }\n",
       "\n",
       "    .dataframe tbody tr th {\n",
       "        vertical-align: top;\n",
       "    }\n",
       "\n",
       "    .dataframe thead th {\n",
       "        text-align: right;\n",
       "    }\n",
       "</style>\n",
       "<table border=\"1\" class=\"dataframe\">\n",
       "  <thead>\n",
       "    <tr style=\"text-align: right;\">\n",
       "      <th></th>\n",
       "      <th>reply_time</th>\n",
       "      <th>count</th>\n",
       "      <th>ratio</th>\n",
       "      <th>cumsum_ratio</th>\n",
       "    </tr>\n",
       "  </thead>\n",
       "  <tbody>\n",
       "    <tr>\n",
       "      <th>0</th>\n",
       "      <td>0</td>\n",
       "      <td>38</td>\n",
       "      <td>0.452381</td>\n",
       "      <td>0.452381</td>\n",
       "    </tr>\n",
       "    <tr>\n",
       "      <th>1</th>\n",
       "      <td>1</td>\n",
       "      <td>28</td>\n",
       "      <td>0.333333</td>\n",
       "      <td>0.785714</td>\n",
       "    </tr>\n",
       "    <tr>\n",
       "      <th>2</th>\n",
       "      <td>2</td>\n",
       "      <td>9</td>\n",
       "      <td>0.107143</td>\n",
       "      <td>0.892857</td>\n",
       "    </tr>\n",
       "    <tr>\n",
       "      <th>3</th>\n",
       "      <td>3</td>\n",
       "      <td>6</td>\n",
       "      <td>0.071429</td>\n",
       "      <td>0.964286</td>\n",
       "    </tr>\n",
       "    <tr>\n",
       "      <th>4</th>\n",
       "      <td>6</td>\n",
       "      <td>1</td>\n",
       "      <td>0.011905</td>\n",
       "      <td>0.976190</td>\n",
       "    </tr>\n",
       "    <tr>\n",
       "      <th>5</th>\n",
       "      <td>7</td>\n",
       "      <td>1</td>\n",
       "      <td>0.011905</td>\n",
       "      <td>0.988095</td>\n",
       "    </tr>\n",
       "    <tr>\n",
       "      <th>6</th>\n",
       "      <td>11</td>\n",
       "      <td>1</td>\n",
       "      <td>0.011905</td>\n",
       "      <td>1.000000</td>\n",
       "    </tr>\n",
       "  </tbody>\n",
       "</table>\n",
       "</div>"
      ],
      "text/plain": [
       "   reply_time  count     ratio  cumsum_ratio\n",
       "0           0     38  0.452381      0.452381\n",
       "1           1     28  0.333333      0.785714\n",
       "2           2      9  0.107143      0.892857\n",
       "3           3      6  0.071429      0.964286\n",
       "4           6      1  0.011905      0.976190\n",
       "5           7      1  0.011905      0.988095\n",
       "6          11      1  0.011905      1.000000"
      ]
     },
     "execution_count": 43,
     "metadata": {},
     "output_type": "execute_result"
    }
   ],
   "source": [
    "# filter data set\n",
    "\n",
    "reply_date_df = arranged_user_review_df[['user_app_rating', 'user_review_date', 'company_comment_date']]\n",
    "reply_date_df_with_low_rating = reply_date_df[(reply_date_df['company_comment_date']!='no_answer')&(reply_date_df['user_app_rating']<=2)].reset_index(drop=True)\n",
    "reply_date_df_with_low_rating.head()\n",
    "\n",
    "\n",
    "# convert string to datetime_format\n",
    "\n",
    "reply_date_df_with_low_rating_columns = list(reply_date_df_with_low_rating.columns)\n",
    "\n",
    "for column in reply_date_df_with_low_rating_columns:\n",
    "    if column == \"user_app_rating\":\n",
    "        continue\n",
    "\n",
    "    reply_date_df_with_low_rating[column] = reply_date_df_with_low_rating[column].apply(convert_string_to_datetime_format)\n",
    "    \n",
    "\n",
    "# calculate time delta\n",
    "\n",
    "cal_reply_time_delta_df = calculate_time_deleta(reply_date_df_with_low_rating, 'user_review_date', 'company_comment_date')\n",
    "\n",
    "\n",
    "# calculate ratio\n",
    "\n",
    "reply_time_df = arrange_count_value(cal_reply_time_delta_df, 'reply_time')\n",
    "reply_time_df['ratio'] = reply_time_df['count'] / sum(reply_time_df['count'])\n",
    "reply_time_df['cumsum_ratio'] = reply_time_df['ratio'].cumsum()\n",
    "reply_time_df"
   ]
  },
  {
   "cell_type": "code",
   "execution_count": 44,
   "metadata": {},
   "outputs": [
    {
     "data": {
      "image/png": "[encoded data removed]",
      "text/plain": [
       "<Figure size 864x360 with 2 Axes>"
      ]
     },
     "metadata": {
      "needs_background": "light"
     },
     "output_type": "display_data"
    }
   ],
   "source": [
    "draw_count_and_ratio_graph(reply_time_df)"
   ]
  },
  {
   "cell_type": "markdown",
   "metadata": {},
   "source": [
    "- 별점이 낮은 경우에도 1일 안에 80%, 3일안에 거의 대부분 답이 달리고 있다.\n",
    "- 와.....\n",
    "------------------------"
   ]
  },
  {
   "cell_type": "markdown",
   "metadata": {},
   "source": [
    "### 3. 리뷰 내용에 대한 자연어 간단 분석\n",
    "- KAKAO KHAiii를 이용하여 명사 추출\n",
    "- 추출된 자료를 바탕으로 Topic modeling로 구성하고 시각화\n",
    "- 별점에 따라 주요 키워드 분석 진행"
   ]
  },
  {
   "cell_type": "code",
   "execution_count": 45,
   "metadata": {},
   "outputs": [],
   "source": [
    "def extract_noun(word_object_list):\n",
    "    extracted_word_noun_list = []\n",
    "    \n",
    "    for i, word_object in enumerate(word_object_list):\n",
    "        word_object_morphs = word_object.morphs\n",
    "        \n",
    "        for word in word_object_morphs:\n",
    "            if word.tag in ['NNG', 'NNP']:\n",
    "                extracted_word_noun_list.append(word.lex)\n",
    "    \n",
    "    return extracted_word_noun_list\n",
    "\n",
    "\n",
    "def execute_khaiii(user_comment_list):\n",
    "    sentence_analyze_components = []\n",
    "    kha_api = KhaiiiApi()\n",
    "    \n",
    "    for i, user_comment in enumerate(user_comment_list):\n",
    "        word_object_list = []\n",
    "        user_comment_analyze_objects = kha_api.analyze(user_comment)\n",
    "        \n",
    "        for user_comment_analyze_object in user_comment_analyze_objects:\n",
    "            word_object_list.append(user_comment_analyze_object)\n",
    "            \n",
    "        extracted_noun_list = extract_noun(word_object_list)  \n",
    "        sentence_analyze_components.append(extracted_noun_list)\n",
    "        \n",
    "#         if i == 1:\n",
    "#             break\n",
    "    \n",
    "    return sentence_analyze_components"
   ]
  },
  {
   "cell_type": "code",
   "execution_count": 85,
   "metadata": {},
   "outputs": [],
   "source": [
    "# get user_comment_noun_list of all rating reviews\n",
    "\n",
    "user_comment_list = arranged_user_review_df['user_comment'].tolist()\n",
    "all_rating_extracted_user_comment_noun_list = execute_khaiii(user_comment_list)"
   ]
  },
  {
   "cell_type": "code",
   "execution_count": 86,
   "metadata": {},
   "outputs": [
    {
     "data": {
      "text/plain": [
       "['인테리어', '도움이', '정보', '제품', '구매']"
      ]
     },
     "execution_count": 86,
     "metadata": {},
     "output_type": "execute_result"
    }
   ],
   "source": [
    "all_rating_extracted_user_comment_noun_list[0][0:10]"
   ]
  },
  {
   "cell_type": "code",
   "execution_count": 87,
   "metadata": {},
   "outputs": [],
   "source": [
    "def delete_stopwords(word):\n",
    "    regex = '[ㄱ-ㅎㅏ-ㅣ]+'\n",
    "    changed_word = re.sub(pattern=regex, repl='None', string=word)\n",
    "    \n",
    "    return changed_word\n",
    "\n",
    "def get_dataframe_from_noun_list(extracted_user_comment_noun_list):\n",
    "    word_count_dict = {}\n",
    "    \n",
    "    for i, word_list in enumerate(extracted_user_comment_noun_list):\n",
    "        for word in word_list:\n",
    "            if word not in word_count_dict:\n",
    "                word_count_dict[word] = 1\n",
    "            else:\n",
    "                word_count_dict[word] += 1\n",
    "                \n",
    "    word_count_df = pd.DataFrame.from_dict(word_count_dict, orient='index').reset_index().rename(columns = {'index': 'word', 0 : 'count'}).sort_values(by='count', ascending=False).reset_index(drop=True)\n",
    "    word_count_df['word'] = word_count_df['word'].apply(delete_stopwords)\n",
    "    word_count_df_new = word_count_df[word_count_df['word']!='None']\n",
    "    \n",
    "    return word_count_df_new\n",
    "\n",
    "def draw_graph(word_count_df_new):\n",
    "    plt.figure(figsize = (15, 5))\n",
    "    sns.barplot(x = 'word', y = 'count', data=word_count_df_new[0:15])\n",
    "    plt.title('high frequency Top 15 words', fontsize = 15)\n",
    "    plt.xticks(fontsize = 15)\n",
    "    plt.show()"
   ]
  },
  {
   "cell_type": "code",
   "execution_count": 88,
   "metadata": {},
   "outputs": [
    {
     "data": {
      "image/png": "[encoded data removed]",
      "text/plain": [
       "<Figure size 1080x360 with 1 Axes>"
      ]
     },
     "metadata": {
      "needs_background": "light"
     },
     "output_type": "display_data"
    }
   ],
   "source": [
    "all_rating_word_count_df_new = get_dataframe_from_noun_list(all_rating_extracted_user_comment_noun_list)\n",
    "draw_graph(all_rating_word_count_df_new)"
   ]
  },
  {
   "cell_type": "code",
   "execution_count": 89,
   "metadata": {},
   "outputs": [],
   "source": [
    "# Topic Modeling with gensim\n",
    "\n",
    "def save_model_data(name, folder_name='lda_model'):\n",
    "    folder_path = f'{os.getcwd()}{\"/\"}{folder_name}'\n",
    "    if not os.path.exists(folder_path):\n",
    "        os.makedirs(folder_path)\n",
    "    file_path = os.path.join(folder_path, name)\n",
    "\n",
    "    return file_path\n",
    "\n",
    "\n",
    "def load_model_data(name, folder_name='lda_model'):\n",
    "    folder_path = f'{os.getcwd()}{\"/\"}{folder_name}'\n",
    "    file_path = os.path.join(folder_path, name)\n",
    "\n",
    "    return file_path\n",
    "\n",
    "\n",
    "class ReviewModeling:\n",
    "\n",
    "    def __init__(self, topic_num=10, rating_type='all_rating'):\n",
    "        self.topic_num = topic_num\n",
    "        self.rating_type = rating_type\n",
    "\n",
    "    def make_train_review_data_list(self, review_text_list):\n",
    "        #         articles = self._extract_noun(review_text_list)\n",
    "        cleaned_articles = self._delete_single_word(review_text_list)\n",
    "        high_frequency_words = self._get_high_frequency_words(cleaned_articles)\n",
    "        data_list = self._filter_low_frequency_word(cleaned_articles,\n",
    "                                                    high_frequency_words)\n",
    "\n",
    "        return data_list\n",
    "\n",
    "    def make_lda_model(self, data_list):\n",
    "        self._make_word_dictionary(data_list)\n",
    "        self._make_doc_matrix(data_list)\n",
    "        self._make_gensim_model()\n",
    "\n",
    "    def make_lda_visualization(self):\n",
    "        file_path = load_model_data('app_review_train_model.model')\n",
    "        model = LdaModel.load(file_path)\n",
    "        lda_prepared_data = gensimvis.prepare(model,\n",
    "                                              self.doc_matrix,\n",
    "                                              self.review_dictionary)\n",
    "        \n",
    "        html_file_name = f'{self.rating_type}_app_review_topic_modeling_visualization.html'\n",
    "\n",
    "        lda_visualization(lda_prepared_data, html_file_name)\n",
    "        \n",
    "        self._make_probability_graph(model)\n",
    "\n",
    "    def _extract_noun(self, review_text_list):\n",
    "        mecab = Mecab()\n",
    "        article_list = []\n",
    "        for article in review_text_list:\n",
    "            extracted_noun = mecab.nouns(article)\n",
    "            article_list.append(extracted_noun)\n",
    "\n",
    "        return article_list\n",
    "\n",
    "    def _delete_single_word(self, article_list):\n",
    "        article_num = 0\n",
    "        for split_article in article_list:\n",
    "            article_list[article_num] = list(filter(lambda x: len(x) >= 2, split_article))\n",
    "            article_num += 1\n",
    "\n",
    "        return article_list\n",
    "\n",
    "    def _get_high_frequency_words(self, clean_text):\n",
    "        article_words = Counter()\n",
    "        for article in clean_text:\n",
    "            article_words.update(article)\n",
    "\n",
    "        common_words_set = article_words.most_common(10000)\n",
    "        high_frequency_words_set = tuple(word for word, count in common_words_set)\n",
    "\n",
    "        return high_frequency_words_set\n",
    "\n",
    "    def _filter_low_frequency_word(self, article_list, high_frequency_words):\n",
    "        article_num = 0\n",
    "        compare_words_set = Counter(high_frequency_words)\n",
    "\n",
    "        for article in article_list:\n",
    "            count_result_list = []\n",
    "            article_counter = Counter(article)\n",
    "            count_result = article_counter & compare_words_set\n",
    "\n",
    "            for word, value in count_result.items():\n",
    "                count_result_list.append(word)\n",
    "            article_list[article_num] = count_result_list\n",
    "            article_num += 1\n",
    "\n",
    "        return article_list\n",
    "\n",
    "    def _make_word_dictionary(self, train_data):\n",
    "        self.review_dictionary = corpora.Dictionary(train_data)\n",
    "\n",
    "        review_dict_file_name = save_model_data('app_review.dict')\n",
    "        self.review_dictionary.save(review_dict_file_name)\n",
    "\n",
    "    def _make_doc_matrix(self, train_data):\n",
    "        self.doc_matrix = []\n",
    "        for doc in train_data:\n",
    "            doc2bow_result = self.review_dictionary.doc2bow(doc)\n",
    "            self.doc_matrix.append(doc2bow_result)\n",
    "\n",
    "        doc_matrix_file_name = save_model_data('review_corpus.mm')\n",
    "        corpora.MmCorpus.serialize(doc_matrix_file_name, self.doc_matrix)\n",
    "\n",
    "    def _make_gensim_model(self):\n",
    "        review_lda = models.ldamodel.LdaModel\n",
    "        model = review_lda(self.doc_matrix,\n",
    "                         num_topics=self.topic_num,\n",
    "                         id2word=self.review_dictionary,\n",
    "                         passes=100)\n",
    "\n",
    "        model_file_name = save_model_data('app_review_train_model.model')\n",
    "        model.save(model_file_name)\n",
    "\n",
    "        return model\n",
    "    \n",
    "    def _make_probability_graph(self, lda_model):\n",
    "        fig = plt.figure(figsize=(20,30))\n",
    "        number = self.topic_num\n",
    "        image_file_name = f'{self.rating_type}_review_topic.png'\n",
    "        for i in range(number):\n",
    "            lda_model_dataframe=pd.DataFrame(lda_model.show_topic(i), columns=['term','prob']).set_index('term')\n",
    "\n",
    "            plt.subplot(5,3,i+1)\n",
    "            sns.barplot(x='prob', y=lda_model_dataframe.index, data=lda_model_dataframe, label='Cities', palette=\"GnBu_d\")\n",
    "            plt.xlabel('probability')\n",
    "\n",
    "        plt.tight_layout()\n",
    "        plt.savefig(image_file_name) # 그림 파일로 저장\n",
    "        plt.show()"
   ]
  },
  {
   "cell_type": "code",
   "execution_count": 90,
   "metadata": {},
   "outputs": [],
   "source": [
    "def make_lda_model_with_news(news_text, topic_num=15, rating_type='all_rating'):\n",
    "    # make a lda model from news and draw a topic modeling graph.\n",
    "    data = ReviewModeling(topic_num, rating_type)\n",
    "    train_data_set = data.make_train_review_data_list(news_text)\n",
    "    data.make_lda_model(train_data_set)\n",
    "    data.make_lda_visualization()"
   ]
  },
  {
   "cell_type": "code",
   "execution_count": 98,
   "metadata": {},
   "outputs": [
    {
     "data": {
      "image/png": "[encoded data removed]",
      "text/plain": [
       "<Figure size 1440x2160 with 10 Axes>"
      ]
     },
     "metadata": {
      "needs_background": "light"
     },
     "output_type": "display_data"
    }
   ],
   "source": [
    "# run Topic modeling\n",
    "make_lda_model_with_news(all_rating_extracted_user_comment_noun_list, 10, 'all_rating')"
   ]
  },
  {
   "cell_type": "markdown",
   "metadata": {},
   "source": [
    "### 별점 3점 이하일 경우에 대한 분석\n",
    "- 원래는 2점 미만을 주로 했으나...평점이 높아서 3점 이하로 낮은 별점을 재상정"
   ]
  },
  {
   "cell_type": "code",
   "execution_count": 95,
   "metadata": {},
   "outputs": [],
   "source": [
    "# get user_comment_noun_list of low rating reviews\n",
    "\n",
    "low_rating_user_comment_list = arranged_user_review_df[arranged_user_review_df['user_app_rating'] <= 3]['user_comment'].tolist()\n",
    "low_rating_extracted_user_comment_noun_list = execute_khaiii(low_rating_user_comment_list)"
   ]
  },
  {
   "cell_type": "code",
   "execution_count": 96,
   "metadata": {},
   "outputs": [
    {
     "data": {
      "image/png": "[encoded data removed]",
      "text/plain": [
       "<Figure size 1080x360 with 1 Axes>"
      ]
     },
     "metadata": {
      "needs_background": "light"
     },
     "output_type": "display_data"
    }
   ],
   "source": [
    "low_rating_word_count_df_new = get_dataframe_from_noun_list(low_rating_extracted_user_comment_noun_list)\n",
    "draw_graph(low_rating_word_count_df_new)"
   ]
  },
  {
   "cell_type": "code",
   "execution_count": 99,
   "metadata": {},
   "outputs": [
    {
     "data": {
      "image/png": "[encoded data removed]",
      "text/plain": [
       "<Figure size 1440x2160 with 10 Axes>"
      ]
     },
     "metadata": {
      "needs_background": "light"
     },
     "output_type": "display_data"
    }
   ],
   "source": [
    "# run Topic modeling\n",
    "\n",
    "make_lda_model_with_news(low_rating_extracted_user_comment_noun_list, 10, 'low_rating')"
   ]
  },
  {
   "cell_type": "code",
   "execution_count": 53,
   "metadata": {},
   "outputs": [],
   "source": [
    "# import operator\n",
    "# sorted_x = sorted(kewword_dict.items(), key=operator.itemgetter(1), reverse=True)\n",
    "# sorted_x"
   ]
  },
  {
   "cell_type": "code",
   "execution_count": null,
   "metadata": {},
   "outputs": [],
   "source": []
  }
 ],
 "metadata": {
  "kernelspec": {
   "display_name": "Python 3",
   "language": "python",
   "name": "python3"
  },
  "language_info": {
   "codemirror_mode": {
    "name": "ipython",
    "version": 3
   },
   "file_extension": ".py",
   "mimetype": "text/x-python",
   "name": "python",
   "nbconvert_exporter": "python",
   "pygments_lexer": "ipython3",
   "version": "3.7.3"
  }
 },
 "nbformat": 4,
 "nbformat_minor": 2
}

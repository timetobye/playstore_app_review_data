{
 "cells": [
  {
   "cell_type": "markdown",
   "metadata": {},
   "source": [
    "## App Store Reivew analysis - 당근 마켓\n",
    "---------------"
   ]
  },
  {
   "cell_type": "markdown",
   "metadata": {},
   "source": [
    "## 개요\n",
    "\n",
    "### 문서 목적\n",
    "- **당근마켓** 앱에 대한 분석 리포트 작성을 위해 문서를 만들었습니다.\n",
    "\n",
    "### 분석 대상\n",
    "- **구글 플레이 스토어에 고객이 작성한 리뷰 정보**\n",
    "  - user_name : 이용자 이름(닉네임)\n",
    "  - user_app_rating : 별점(1~5)\n",
    "  - user_review_date : 리뷰 작성 날짜\n",
    "  - company_comment_date : 답변 작성 날짜\n",
    "  - comment : 리뷰 내용\n",
    "  - company_answer_check : 답변 여부\n",
    "\n",
    "\n",
    "### 분석 일시\n",
    "- 데이터 분석 시작 : 분석 날짜\n",
    "- 데이터 구성 날짜 : 2020-05-01 ~ 2020-07-30\n",
    "\n",
    "\n",
    "### 분석 방법\n",
    "1. 데이터 확인\n",
    "  - 데이터 전처리\n",
    "  - 컬럼 확인\n",
    "2. 시간 기록에 따른 데이터 분석\n",
    "  - 시간에 따른 별점 변화(별점은 1 ~ 5의 값을 가진다)\n",
    "  - 요일에 따른 리뷰 분석\n",
    "  - 답변 시간차(고객 응대 소요 시간)\n",
    "3. 리뷰 내용에 대한 자연어 분석\n",
    "  - 리뷰 내용을 Topic modeling로 구성하고 시각화\n",
    "  - 별점에 따라 주요 키워드 분석 진행\n",
    "\n",
    "### 분석 환경, 분석자\n",
    "- 분석 환경\n",
    "  - language\n",
    "      - python3\n",
    "  - library\n",
    "      - [khaiii](https://github.com/kakao/khaiii) : 카카오에서 제공하는 형태소 분석기\n",
    "      - [gensim](https://radimrehurek.com/gensim/) : 자연어 처리 방법 중 LDA - Topic Modeling 사용\n",
    "      - 시각화, 데이터 분석을 위한 Python library\n",
    "\n",
    "- 분석자\n",
    "  - github : https://github.com/timetobye\n",
    "\n",
    "\n",
    "### 안내 사항\n",
    "- **분석에 사용 될 리뷰 정보는 직접 크롤링**을 하여 데이터 셋을 구성하였습니다.\n",
    "- 2018년 10월 한국 시장 기준으로 Android(72.2%) vs IOS(27.8%)의 점유율을 갖고 있어서 구글 플레이 스토어를 선택하였습니다.\n",
    "  - [참고 링크 - Difference in Mobile OS Market Share is notable in US, Japan and South Korea](https://en.appa.pe/whitepaper/2018/)\n",
    "  \n",
    "--------------------------------------------"
   ]
  },
  {
   "cell_type": "markdown",
   "metadata": {},
   "source": [
    "### 분석 결과\n",
    "\n",
    "- 작성하기\n",
    "----------------"
   ]
  },
  {
   "cell_type": "markdown",
   "metadata": {},
   "source": [
    "### code"
   ]
  },
  {
   "cell_type": "code",
   "execution_count": 1,
   "metadata": {},
   "outputs": [],
   "source": [
    "import pandas as pd\n",
    "import numpy as np\n",
    "import matplotlib as mpl\n",
    "import matplotlib.pylab as plt\n",
    "import matplotlib.style as style\n",
    "import seaborn as sns\n",
    "import khaiii\n",
    "import missingno as msno\n",
    "import warnings\n",
    "import re\n",
    "import calendar\n",
    "import gensim\n",
    "import os\n",
    "import pyLDAvis\n",
    "from collections import Counter\n",
    "from datetime import datetime\n",
    "from gensim import corpora\n",
    "from gensim import models\n",
    "from gensim.models import LdaModel\n",
    "from pyLDAvis import gensim as gensimvis\n",
    "from pyLDAvis import display\n",
    "from pyLDAvis import save_html as lda_visualization\n",
    "from khaiii import KhaiiiApi\n",
    "from matplotlib import font_manager, rc\n",
    "apple = font_manager.FontProperties(fname = '/Library/Fonts/AppleGothic.ttf').get_name()\n",
    "rc('font', family = apple)\n",
    "\n",
    "warnings.filterwarnings('ignore')\n",
    "style.use('fivethirtyeight')\n",
    "pyLDAvis.enable_notebook()\n",
    "%matplotlib inline"
   ]
  },
  {
   "cell_type": "markdown",
   "metadata": {},
   "source": [
    "## 1. 데이터 확인\n",
    "\n",
    "### 데이터 전처리 - Preprocessing"
   ]
  },
  {
   "cell_type": "code",
   "execution_count": 26,
   "metadata": {},
   "outputs": [
    {
     "data": {
      "text/html": [
       "<div>\n",
       "<style scoped>\n",
       "    .dataframe tbody tr th:only-of-type {\n",
       "        vertical-align: middle;\n",
       "    }\n",
       "\n",
       "    .dataframe tbody tr th {\n",
       "        vertical-align: top;\n",
       "    }\n",
       "\n",
       "    .dataframe thead th {\n",
       "        text-align: right;\n",
       "    }\n",
       "</style>\n",
       "<table border=\"1\" class=\"dataframe\">\n",
       "  <thead>\n",
       "    <tr style=\"text-align: right;\">\n",
       "      <th></th>\n",
       "      <th>user_name</th>\n",
       "      <th>user_app_rating</th>\n",
       "      <th>user_review_date</th>\n",
       "      <th>company_comment_date</th>\n",
       "      <th>user_comment</th>\n",
       "      <th>company_answer_check</th>\n",
       "    </tr>\n",
       "  </thead>\n",
       "  <tbody>\n",
       "    <tr>\n",
       "      <th>0</th>\n",
       "      <td>이지원</td>\n",
       "      <td>3</td>\n",
       "      <td>2020년 8월 20일</td>\n",
       "      <td>no_answer</td>\n",
       "      <td>좋음. 근데 좀 개선됐으면 하는점이 있음 1. 하트누른 닉네임 목록 볼수있게 2. ...</td>\n",
       "      <td>no_answer</td>\n",
       "    </tr>\n",
       "    <tr>\n",
       "      <th>1</th>\n",
       "      <td>Kwon Sanghun</td>\n",
       "      <td>5</td>\n",
       "      <td>2020년 8월 20일</td>\n",
       "      <td>no_answer</td>\n",
       "      <td>가까운 곳에서 중고로 사고 팔 수 있어서 좋아요 한가지 건의 드리자면 중고거래 물품...</td>\n",
       "      <td>no_answer</td>\n",
       "    </tr>\n",
       "    <tr>\n",
       "      <th>2</th>\n",
       "      <td>Curie Lee</td>\n",
       "      <td>4</td>\n",
       "      <td>2020년 8월 6일</td>\n",
       "      <td>no_answer</td>\n",
       "      <td>시간이 지나니 당근마켓에서 강조하는 정이 많이 사라진 느낌. 그리고 업데이트로 불편...</td>\n",
       "      <td>no_answer</td>\n",
       "    </tr>\n",
       "    <tr>\n",
       "      <th>3</th>\n",
       "      <td>집사들의이야기</td>\n",
       "      <td>4</td>\n",
       "      <td>2020년 8월 13일</td>\n",
       "      <td>no_answer</td>\n",
       "      <td>당근 마켓 너무 좋아서 후기 남겨요! 좋은물건을 싼 가격에 구매할수 있어서 너무 좋...</td>\n",
       "      <td>no_answer</td>\n",
       "    </tr>\n",
       "    <tr>\n",
       "      <th>4</th>\n",
       "      <td>정성호</td>\n",
       "      <td>5</td>\n",
       "      <td>2020년 8월 23일</td>\n",
       "      <td>no_answer</td>\n",
       "      <td>굿</td>\n",
       "      <td>no_answer</td>\n",
       "    </tr>\n",
       "    <tr>\n",
       "      <th>5</th>\n",
       "      <td>MLOV E</td>\n",
       "      <td>5</td>\n",
       "      <td>2020년 8월 23일</td>\n",
       "      <td>no_answer</td>\n",
       "      <td>판매글 올리기전 시세검색을 위해 판매완료글만 보기 기능도 있으면 좋겠어요. 판매완료...</td>\n",
       "      <td>no_answer</td>\n",
       "    </tr>\n",
       "    <tr>\n",
       "      <th>6</th>\n",
       "      <td>로니팡</td>\n",
       "      <td>5</td>\n",
       "      <td>2020년 8월 23일</td>\n",
       "      <td>no_answer</td>\n",
       "      <td>편리.</td>\n",
       "      <td>no_answer</td>\n",
       "    </tr>\n",
       "    <tr>\n",
       "      <th>7</th>\n",
       "      <td>임현</td>\n",
       "      <td>1</td>\n",
       "      <td>2020년 8월 23일</td>\n",
       "      <td>no_answer</td>\n",
       "      <td>사기 관련 신고와 게시글을 올렸더니 불법이용자! 다시 복구를 해주셔야죠 관리자에게 ...</td>\n",
       "      <td>no_answer</td>\n",
       "    </tr>\n",
       "    <tr>\n",
       "      <th>8</th>\n",
       "      <td>안상연</td>\n",
       "      <td>5</td>\n",
       "      <td>2020년 8월 23일</td>\n",
       "      <td>no_answer</td>\n",
       "      <td>좋은 상품을 좋은가격에 잘 거래하고있어요</td>\n",
       "      <td>no_answer</td>\n",
       "    </tr>\n",
       "    <tr>\n",
       "      <th>9</th>\n",
       "      <td>백정구</td>\n",
       "      <td>5</td>\n",
       "      <td>2020년 8월 23일</td>\n",
       "      <td>no_answer</td>\n",
       "      <td>가까운 곳에서 언제든 거래 가능해서 좋아요</td>\n",
       "      <td>no_answer</td>\n",
       "    </tr>\n",
       "  </tbody>\n",
       "</table>\n",
       "</div>"
      ],
      "text/plain": [
       "      user_name  user_app_rating user_review_date company_comment_date  \\\n",
       "0           이지원                3     2020년 8월 20일            no_answer   \n",
       "1  Kwon Sanghun                5     2020년 8월 20일            no_answer   \n",
       "2     Curie Lee                4      2020년 8월 6일            no_answer   \n",
       "3       집사들의이야기                4     2020년 8월 13일            no_answer   \n",
       "4           정성호                5     2020년 8월 23일            no_answer   \n",
       "5        MLOV E                5     2020년 8월 23일            no_answer   \n",
       "6           로니팡                5     2020년 8월 23일            no_answer   \n",
       "7            임현                1     2020년 8월 23일            no_answer   \n",
       "8           안상연                5     2020년 8월 23일            no_answer   \n",
       "9           백정구                5     2020년 8월 23일            no_answer   \n",
       "\n",
       "                                        user_comment company_answer_check  \n",
       "0  좋음. 근데 좀 개선됐으면 하는점이 있음 1. 하트누른 닉네임 목록 볼수있게 2. ...            no_answer  \n",
       "1  가까운 곳에서 중고로 사고 팔 수 있어서 좋아요 한가지 건의 드리자면 중고거래 물품...            no_answer  \n",
       "2  시간이 지나니 당근마켓에서 강조하는 정이 많이 사라진 느낌. 그리고 업데이트로 불편...            no_answer  \n",
       "3  당근 마켓 너무 좋아서 후기 남겨요! 좋은물건을 싼 가격에 구매할수 있어서 너무 좋...            no_answer  \n",
       "4                                                  굿            no_answer  \n",
       "5  판매글 올리기전 시세검색을 위해 판매완료글만 보기 기능도 있으면 좋겠어요. 판매완료...            no_answer  \n",
       "6                                                편리.            no_answer  \n",
       "7  사기 관련 신고와 게시글을 올렸더니 불법이용자! 다시 복구를 해주셔야죠 관리자에게 ...            no_answer  \n",
       "8                             좋은 상품을 좋은가격에 잘 거래하고있어요            no_answer  \n",
       "9                            가까운 곳에서 언제든 거래 가능해서 좋아요            no_answer  "
      ]
     },
     "execution_count": 26,
     "metadata": {},
     "output_type": "execute_result"
    }
   ],
   "source": [
    "# read_csv to make dataframe\n",
    "\n",
    "google_playstore_user_review_orginal_df = pd.read_csv('daangn_app_user_reviews_20200823_034435.csv')\n",
    "google_playstore_user_review_orginal_df.head(10)"
   ]
  },
  {
   "cell_type": "code",
   "execution_count": 27,
   "metadata": {},
   "outputs": [
    {
     "name": "stdout",
     "output_type": "stream",
     "text": [
      "<class 'pandas.core.frame.DataFrame'>\n",
      "RangeIndex: 9364 entries, 0 to 9363\n",
      "Data columns (total 6 columns):\n",
      "user_name               9364 non-null object\n",
      "user_app_rating         9364 non-null int64\n",
      "user_review_date        9364 non-null object\n",
      "company_comment_date    9364 non-null object\n",
      "user_comment            9364 non-null object\n",
      "company_answer_check    9364 non-null object\n",
      "dtypes: int64(1), object(5)\n",
      "memory usage: 439.0+ KB\n"
     ]
    }
   ],
   "source": [
    "# check dataframe info\n",
    "\n",
    "google_playstore_user_review_orginal_df.info()"
   ]
  },
  {
   "cell_type": "code",
   "execution_count": 28,
   "metadata": {},
   "outputs": [],
   "source": [
    "google_playstore_user_review_orginal_df.rename(columns = {'comment' : 'user_comment'}, inplace=True)"
   ]
  },
  {
   "cell_type": "markdown",
   "metadata": {},
   "source": [
    "### check-point\n",
    "\n",
    "- 크롤링 과정에서도 첫 3개가 시간 순서 정렬과 관계없이 항상 고정된 값으로 구성되어 있었다.\n",
    "  - 해당 부분에 대해서는 날짜 기준으로 정렬할 것\n",
    "- 중복 값이 있는 경우를 방지하기 위해 중복 체크도 진행한다.\n",
    "- 날짜 정보도 사용하기 쉽게 YYYY-MM-DD 형식으로 처리 할 것\n",
    "- 요일 정보를 얻기 위해 작업을 진행 할 것"
   ]
  },
  {
   "cell_type": "code",
   "execution_count": 63,
   "metadata": {},
   "outputs": [],
   "source": [
    "def sort_dataframe(df):\n",
    "    sorted_df = df.sort_values(by='user_review_date', ascending=False).reset_index(drop=True)\n",
    "    \n",
    "    return sorted_df\n",
    "\n",
    "def drop_duplicate_dataframe(df):\n",
    "    drop_dp_df = df.drop_duplicates()\n",
    "    drop_dp_df.reset_index(drop=True, inplace=True)\n",
    "    \n",
    "    return drop_dp_df\n",
    "\n",
    "def get_weekday(date):\n",
    "    if date == 'no_answer':\n",
    "        return date\n",
    "    \n",
    "    weekday_info_dict = {\n",
    "        0 : 'Mon',\n",
    "        1 : 'Tue',\n",
    "        2 : 'Wed',\n",
    "        3 : 'Thu',\n",
    "        4 : 'Fri',\n",
    "        5 : 'Sat',\n",
    "        6 : 'Sun'\n",
    "    }\n",
    "    \n",
    "    regex = re.compile(r'[0-9]+')\n",
    "    get_regex_date = regex.findall(date)\n",
    "    \n",
    "    year, month, day = [int(value) for value in get_regex_date]\n",
    "    \n",
    "    weekday_number = calendar.weekday(year, month, day)\n",
    "    weekday_value = weekday_info_dict[weekday_number]\n",
    "    \n",
    "    return weekday_value\n",
    "\n",
    "def convert_date_format(date):\n",
    "    if date == 'no_answer':\n",
    "        return date\n",
    "    \n",
    "    regex = re.compile(r'[0-9]+')\n",
    "    get_regex_date = regex.findall(date)\n",
    "\n",
    "    if len(get_regex_date[1]) == 1:\n",
    "        get_regex_date[1] = '0' + get_regex_date[1]\n",
    "        \n",
    "    if len(get_regex_date[2]) == 1:\n",
    "        get_regex_date[2] = '0' + get_regex_date[2]\n",
    "    \n",
    "    join_string = '-'\n",
    "    convert_date = join_string.join(get_regex_date)\n",
    "    \n",
    "    return convert_date\n",
    "\n",
    "def arrange_user_comment(df):\n",
    "    df = df[['user_name', 'user_app_rating', 'user_review_date', 'company_comment_date', 'user_review_weekday', 'user_comment', 'company_answer_check']]\n",
    "    df = df[(df['user_review_date']>='2020-05-01') & (df['user_review_date']<='2020-07-30')]\n",
    "    \n",
    "    return df\n",
    "\n",
    "def user_data_preprocessing(google_playstore_user_review_orginal_df):\n",
    "    # sort user_review_date\n",
    "    sorted_user_review_df = sort_dataframe(google_playstore_user_review_orginal_df)\n",
    "\n",
    "    # drop duplicate\n",
    "    drop_dp_user_review_df = drop_duplicate_dataframe(sorted_user_review_df)\n",
    "\n",
    "    # get weekday from user_review_date\n",
    "    drop_dp_user_review_df['user_review_weekday'] = drop_dp_user_review_df['user_review_date'].apply(get_weekday)\n",
    "\n",
    "    # convert_date_format for applying function in pandas\n",
    "    drop_dp_user_review_df['user_review_date'] = drop_dp_user_review_df['user_review_date'].apply(convert_date_format)\n",
    "    drop_dp_user_review_df['company_comment_date'] = drop_dp_user_review_df['company_comment_date'].apply(convert_date_format)\n",
    "\n",
    "    # arrange_user_comment\n",
    "    arranged_user_review_df = arrange_user_comment(drop_dp_user_review_df)\n",
    "    \n",
    "    return arranged_user_review_df"
   ]
  },
  {
   "cell_type": "code",
   "execution_count": 64,
   "metadata": {},
   "outputs": [
    {
     "data": {
      "text/html": [
       "<div>\n",
       "<style scoped>\n",
       "    .dataframe tbody tr th:only-of-type {\n",
       "        vertical-align: middle;\n",
       "    }\n",
       "\n",
       "    .dataframe tbody tr th {\n",
       "        vertical-align: top;\n",
       "    }\n",
       "\n",
       "    .dataframe thead th {\n",
       "        text-align: right;\n",
       "    }\n",
       "</style>\n",
       "<table border=\"1\" class=\"dataframe\">\n",
       "  <thead>\n",
       "    <tr style=\"text-align: right;\">\n",
       "      <th></th>\n",
       "      <th>user_name</th>\n",
       "      <th>user_app_rating</th>\n",
       "      <th>user_review_date</th>\n",
       "      <th>company_comment_date</th>\n",
       "      <th>user_review_weekday</th>\n",
       "      <th>user_comment</th>\n",
       "      <th>company_answer_check</th>\n",
       "    </tr>\n",
       "  </thead>\n",
       "  <tbody>\n",
       "    <tr>\n",
       "      <th>1733</th>\n",
       "      <td>설청랑</td>\n",
       "      <td>5</td>\n",
       "      <td>2020-07-09</td>\n",
       "      <td>no_answer</td>\n",
       "      <td>Thu</td>\n",
       "      <td>편리하게 사용하고 있습니다 고맙습니다^^</td>\n",
       "      <td>no_answer</td>\n",
       "    </tr>\n",
       "    <tr>\n",
       "      <th>1734</th>\n",
       "      <td>박현아</td>\n",
       "      <td>5</td>\n",
       "      <td>2020-07-09</td>\n",
       "      <td>no_answer</td>\n",
       "      <td>Thu</td>\n",
       "      <td>맘에드는 물건이 많아 고민입니다~</td>\n",
       "      <td>no_answer</td>\n",
       "    </tr>\n",
       "    <tr>\n",
       "      <th>1735</th>\n",
       "      <td>지혜준JiHyejun</td>\n",
       "      <td>5</td>\n",
       "      <td>2020-07-09</td>\n",
       "      <td>no_answer</td>\n",
       "      <td>Thu</td>\n",
       "      <td>잘 사용하고 있습니다ㅎㅎ 판매 총액도 볼수있게 해주시면 판매자 입장에서 동기부여도 ...</td>\n",
       "      <td>no_answer</td>\n",
       "    </tr>\n",
       "    <tr>\n",
       "      <th>1736</th>\n",
       "      <td>김경민</td>\n",
       "      <td>5</td>\n",
       "      <td>2020-07-09</td>\n",
       "      <td>no_answer</td>\n",
       "      <td>Thu</td>\n",
       "      <td>인생어플자취생에빛과소금</td>\n",
       "      <td>no_answer</td>\n",
       "    </tr>\n",
       "    <tr>\n",
       "      <th>1737</th>\n",
       "      <td>JH LEE</td>\n",
       "      <td>5</td>\n",
       "      <td>2020-07-09</td>\n",
       "      <td>no_answer</td>\n",
       "      <td>Thu</td>\n",
       "      <td>당근띠</td>\n",
       "      <td>no_answer</td>\n",
       "    </tr>\n",
       "  </tbody>\n",
       "</table>\n",
       "</div>"
      ],
      "text/plain": [
       "        user_name  user_app_rating user_review_date company_comment_date  \\\n",
       "1733          설청랑                5       2020-07-09            no_answer   \n",
       "1734          박현아                5       2020-07-09            no_answer   \n",
       "1735  지혜준JiHyejun                5       2020-07-09            no_answer   \n",
       "1736          김경민                5       2020-07-09            no_answer   \n",
       "1737       JH LEE                5       2020-07-09            no_answer   \n",
       "\n",
       "     user_review_weekday                                       user_comment  \\\n",
       "1733                 Thu                             편리하게 사용하고 있습니다 고맙습니다^^   \n",
       "1734                 Thu                                 맘에드는 물건이 많아 고민입니다~   \n",
       "1735                 Thu  잘 사용하고 있습니다ㅎㅎ 판매 총액도 볼수있게 해주시면 판매자 입장에서 동기부여도 ...   \n",
       "1736                 Thu                                       인생어플자취생에빛과소금   \n",
       "1737                 Thu                                                당근띠   \n",
       "\n",
       "     company_answer_check  \n",
       "1733            no_answer  \n",
       "1734            no_answer  \n",
       "1735            no_answer  \n",
       "1736            no_answer  \n",
       "1737            no_answer  "
      ]
     },
     "execution_count": 64,
     "metadata": {},
     "output_type": "execute_result"
    }
   ],
   "source": [
    "arranged_user_review_df = user_data_preprocessing(google_playstore_user_review_orginal_df)\n",
    "arranged_user_review_df.head()"
   ]
  },
  {
   "cell_type": "code",
   "execution_count": 65,
   "metadata": {},
   "outputs": [],
   "source": [
    "arranged_user_review_df.sort_values(by='user_review_date', inplace=True)"
   ]
  },
  {
   "cell_type": "code",
   "execution_count": 66,
   "metadata": {},
   "outputs": [],
   "source": [
    "arranged_user_review_df.reset_index(drop=True, inplace=True)"
   ]
  },
  {
   "cell_type": "code",
   "execution_count": 67,
   "metadata": {},
   "outputs": [
    {
     "data": {
      "text/html": [
       "<div>\n",
       "<style scoped>\n",
       "    .dataframe tbody tr th:only-of-type {\n",
       "        vertical-align: middle;\n",
       "    }\n",
       "\n",
       "    .dataframe tbody tr th {\n",
       "        vertical-align: top;\n",
       "    }\n",
       "\n",
       "    .dataframe thead th {\n",
       "        text-align: right;\n",
       "    }\n",
       "</style>\n",
       "<table border=\"1\" class=\"dataframe\">\n",
       "  <thead>\n",
       "    <tr style=\"text-align: right;\">\n",
       "      <th></th>\n",
       "      <th>user_name</th>\n",
       "      <th>user_app_rating</th>\n",
       "      <th>user_review_date</th>\n",
       "      <th>company_comment_date</th>\n",
       "      <th>user_review_weekday</th>\n",
       "      <th>user_comment</th>\n",
       "      <th>company_answer_check</th>\n",
       "    </tr>\n",
       "  </thead>\n",
       "  <tbody>\n",
       "    <tr>\n",
       "      <th>0</th>\n",
       "      <td>김현호</td>\n",
       "      <td>5</td>\n",
       "      <td>2020-05-01</td>\n",
       "      <td>no_answer</td>\n",
       "      <td>Fri</td>\n",
       "      <td>좋아요</td>\n",
       "      <td>no_answer</td>\n",
       "    </tr>\n",
       "    <tr>\n",
       "      <th>1</th>\n",
       "      <td>김도형</td>\n",
       "      <td>5</td>\n",
       "      <td>2020-05-01</td>\n",
       "      <td>no_answer</td>\n",
       "      <td>Fri</td>\n",
       "      <td>넘좋아요</td>\n",
       "      <td>no_answer</td>\n",
       "    </tr>\n",
       "    <tr>\n",
       "      <th>2</th>\n",
       "      <td>박종훈</td>\n",
       "      <td>5</td>\n",
       "      <td>2020-05-01</td>\n",
       "      <td>no_answer</td>\n",
       "      <td>Fri</td>\n",
       "      <td>좋아요</td>\n",
       "      <td>no_answer</td>\n",
       "    </tr>\n",
       "    <tr>\n",
       "      <th>3</th>\n",
       "      <td>박정현</td>\n",
       "      <td>5</td>\n",
       "      <td>2020-05-01</td>\n",
       "      <td>no_answer</td>\n",
       "      <td>Fri</td>\n",
       "      <td>사진올리기도 너무 편하고 거래도 잘되서 좋아요</td>\n",
       "      <td>no_answer</td>\n",
       "    </tr>\n",
       "    <tr>\n",
       "      <th>4</th>\n",
       "      <td>김김민규</td>\n",
       "      <td>5</td>\n",
       "      <td>2020-05-01</td>\n",
       "      <td>no_answer</td>\n",
       "      <td>Fri</td>\n",
       "      <td>너무너무 좋아요</td>\n",
       "      <td>no_answer</td>\n",
       "    </tr>\n",
       "    <tr>\n",
       "      <th>5</th>\n",
       "      <td>sun kipo</td>\n",
       "      <td>5</td>\n",
       "      <td>2020-05-01</td>\n",
       "      <td>no_answer</td>\n",
       "      <td>Fri</td>\n",
       "      <td>너무 좋습니다</td>\n",
       "      <td>no_answer</td>\n",
       "    </tr>\n",
       "    <tr>\n",
       "      <th>6</th>\n",
       "      <td>윤수형</td>\n",
       "      <td>5</td>\n",
       "      <td>2020-05-01</td>\n",
       "      <td>no_answer</td>\n",
       "      <td>Fri</td>\n",
       "      <td>동네 직거래로 참 편해요</td>\n",
       "      <td>no_answer</td>\n",
       "    </tr>\n",
       "    <tr>\n",
       "      <th>7</th>\n",
       "      <td>최정민</td>\n",
       "      <td>5</td>\n",
       "      <td>2020-05-01</td>\n",
       "      <td>no_answer</td>\n",
       "      <td>Fri</td>\n",
       "      <td>가격싸고 좋음</td>\n",
       "      <td>no_answer</td>\n",
       "    </tr>\n",
       "    <tr>\n",
       "      <th>8</th>\n",
       "      <td>김진웅</td>\n",
       "      <td>5</td>\n",
       "      <td>2020-05-01</td>\n",
       "      <td>no_answer</td>\n",
       "      <td>Fri</td>\n",
       "      <td>잘 쓰고 있습니다~</td>\n",
       "      <td>no_answer</td>\n",
       "    </tr>\n",
       "    <tr>\n",
       "      <th>9</th>\n",
       "      <td>KyuHyung Choi</td>\n",
       "      <td>5</td>\n",
       "      <td>2020-05-01</td>\n",
       "      <td>no_answer</td>\n",
       "      <td>Fri</td>\n",
       "      <td>좋네요</td>\n",
       "      <td>no_answer</td>\n",
       "    </tr>\n",
       "  </tbody>\n",
       "</table>\n",
       "</div>"
      ],
      "text/plain": [
       "       user_name  user_app_rating user_review_date company_comment_date  \\\n",
       "0            김현호                5       2020-05-01            no_answer   \n",
       "1            김도형                5       2020-05-01            no_answer   \n",
       "2            박종훈                5       2020-05-01            no_answer   \n",
       "3            박정현                5       2020-05-01            no_answer   \n",
       "4           김김민규                5       2020-05-01            no_answer   \n",
       "5       sun kipo                5       2020-05-01            no_answer   \n",
       "6            윤수형                5       2020-05-01            no_answer   \n",
       "7            최정민                5       2020-05-01            no_answer   \n",
       "8            김진웅                5       2020-05-01            no_answer   \n",
       "9  KyuHyung Choi                5       2020-05-01            no_answer   \n",
       "\n",
       "  user_review_weekday               user_comment company_answer_check  \n",
       "0                 Fri                        좋아요            no_answer  \n",
       "1                 Fri                       넘좋아요            no_answer  \n",
       "2                 Fri                        좋아요            no_answer  \n",
       "3                 Fri  사진올리기도 너무 편하고 거래도 잘되서 좋아요            no_answer  \n",
       "4                 Fri                   너무너무 좋아요            no_answer  \n",
       "5                 Fri                    너무 좋습니다            no_answer  \n",
       "6                 Fri              동네 직거래로 참 편해요            no_answer  \n",
       "7                 Fri                    가격싸고 좋음            no_answer  \n",
       "8                 Fri                 잘 쓰고 있습니다~            no_answer  \n",
       "9                 Fri                        좋네요            no_answer  "
      ]
     },
     "execution_count": 67,
     "metadata": {},
     "output_type": "execute_result"
    }
   ],
   "source": [
    "arranged_user_review_df.head(10)"
   ]
  },
  {
   "cell_type": "markdown",
   "metadata": {},
   "source": [
    "--------------------------------"
   ]
  },
  {
   "cell_type": "markdown",
   "metadata": {},
   "source": [
    "## Basic EDA\n",
    "\n",
    "### check data info & missingvalue"
   ]
  },
  {
   "cell_type": "code",
   "execution_count": 68,
   "metadata": {},
   "outputs": [
    {
     "name": "stdout",
     "output_type": "stream",
     "text": [
      "<class 'pandas.core.frame.DataFrame'>\n",
      "RangeIndex: 6984 entries, 0 to 6983\n",
      "Data columns (total 7 columns):\n",
      "user_name               6984 non-null object\n",
      "user_app_rating         6984 non-null int64\n",
      "user_review_date        6984 non-null object\n",
      "company_comment_date    6984 non-null object\n",
      "user_review_weekday     6984 non-null object\n",
      "user_comment            6984 non-null object\n",
      "company_answer_check    6984 non-null object\n",
      "dtypes: int64(1), object(6)\n",
      "memory usage: 382.0+ KB\n"
     ]
    }
   ],
   "source": [
    "arranged_user_review_df.info()"
   ]
  },
  {
   "cell_type": "code",
   "execution_count": 69,
   "metadata": {},
   "outputs": [
    {
     "data": {
      "image/png": "[encoded data removed]",
      "text/plain": [
       "<Figure size 432x432 with 3 Axes>"
      ]
     },
     "metadata": {
      "needs_background": "light"
     },
     "output_type": "display_data"
    }
   ],
   "source": [
    "#msno.bar\n",
    "\n",
    "msno.bar(df=arranged_user_review_df.iloc[:, :], figsize=(6, 6), color=(0.8, 0.5, 0.2))\n",
    "plt.show()"
   ]
  },
  {
   "cell_type": "markdown",
   "metadata": {},
   "source": [
    "### 수집된 데이터의 기간"
   ]
  },
  {
   "cell_type": "code",
   "execution_count": 70,
   "metadata": {},
   "outputs": [
    {
     "name": "stdout",
     "output_type": "stream",
     "text": [
      "수집된 데이터를 살펴보니 이용자가 리뷰를 작성한 날짜는 2020-05-01 부터 2020-07-30 까지 입니다.\n"
     ]
    }
   ],
   "source": [
    "max_date = arranged_user_review_df['user_review_date'].max()\n",
    "min_date = arranged_user_review_df['user_review_date'].min()\n",
    "\n",
    "print(f'수집된 데이터를 살펴보니 이용자가 리뷰를 작성한 날짜는 {min_date} 부터 {max_date} 까지 입니다.')"
   ]
  },
  {
   "cell_type": "markdown",
   "metadata": {},
   "source": [
    "- 5월 1일(금) ~ 7월 30일(목)으로 금 ~ 목을 1주 단위로 처리\n",
    "- 7월 31일은 제외 하였음"
   ]
  },
  {
   "cell_type": "code",
   "execution_count": 71,
   "metadata": {},
   "outputs": [],
   "source": [
    "def arrange_count_value(df, column_name):\n",
    "    df_value_count = df[column_name].value_counts()\n",
    "    \n",
    "    df_count = df_value_count.rename_axis('user').reset_index(name='writing_count')\n",
    "    sorted_df_count = df_count.sort_values('writing_count', ascending=False)\n",
    "    arranged_df = sorted_df_count.reset_index(drop=True)\n",
    "\n",
    "    return arranged_df"
   ]
  },
  {
   "cell_type": "markdown",
   "metadata": {},
   "source": [
    "### 어떤 요일에 많이 달았을까?"
   ]
  },
  {
   "cell_type": "code",
   "execution_count": 72,
   "metadata": {},
   "outputs": [],
   "source": [
    "week_user_df = arranged_user_review_df[(arranged_user_review_df['user_review_date']>='2020-05-01') & (arranged_user_review_df['user_review_date']<='2020-07-30')]"
   ]
  },
  {
   "cell_type": "code",
   "execution_count": 73,
   "metadata": {},
   "outputs": [],
   "source": [
    "weekday_count = arrange_count_value(week_user_df, 'user_review_weekday')\n",
    "weekday_count.rename(columns={'user' : 'weekday'}, inplace=True)"
   ]
  },
  {
   "cell_type": "code",
   "execution_count": 74,
   "metadata": {},
   "outputs": [
    {
     "data": {
      "text/html": [
       "<div>\n",
       "<style scoped>\n",
       "    .dataframe tbody tr th:only-of-type {\n",
       "        vertical-align: middle;\n",
       "    }\n",
       "\n",
       "    .dataframe tbody tr th {\n",
       "        vertical-align: top;\n",
       "    }\n",
       "\n",
       "    .dataframe thead th {\n",
       "        text-align: right;\n",
       "    }\n",
       "</style>\n",
       "<table border=\"1\" class=\"dataframe\">\n",
       "  <thead>\n",
       "    <tr style=\"text-align: right;\">\n",
       "      <th></th>\n",
       "      <th>weekday</th>\n",
       "      <th>writing_count</th>\n",
       "    </tr>\n",
       "  </thead>\n",
       "  <tbody>\n",
       "    <tr>\n",
       "      <th>0</th>\n",
       "      <td>Sat</td>\n",
       "      <td>1158</td>\n",
       "    </tr>\n",
       "    <tr>\n",
       "      <th>1</th>\n",
       "      <td>Sun</td>\n",
       "      <td>1103</td>\n",
       "    </tr>\n",
       "    <tr>\n",
       "      <th>2</th>\n",
       "      <td>Tue</td>\n",
       "      <td>979</td>\n",
       "    </tr>\n",
       "    <tr>\n",
       "      <th>3</th>\n",
       "      <td>Mon</td>\n",
       "      <td>956</td>\n",
       "    </tr>\n",
       "    <tr>\n",
       "      <th>4</th>\n",
       "      <td>Thu</td>\n",
       "      <td>939</td>\n",
       "    </tr>\n",
       "    <tr>\n",
       "      <th>5</th>\n",
       "      <td>Wed</td>\n",
       "      <td>933</td>\n",
       "    </tr>\n",
       "    <tr>\n",
       "      <th>6</th>\n",
       "      <td>Fri</td>\n",
       "      <td>916</td>\n",
       "    </tr>\n",
       "  </tbody>\n",
       "</table>\n",
       "</div>"
      ],
      "text/plain": [
       "  weekday  writing_count\n",
       "0     Sat           1158\n",
       "1     Sun           1103\n",
       "2     Tue            979\n",
       "3     Mon            956\n",
       "4     Thu            939\n",
       "5     Wed            933\n",
       "6     Fri            916"
      ]
     },
     "execution_count": 74,
     "metadata": {},
     "output_type": "execute_result"
    }
   ],
   "source": [
    "weekday_count"
   ]
  },
  {
   "cell_type": "code",
   "execution_count": 144,
   "metadata": {},
   "outputs": [
    {
     "data": {
      "image/png": "[encoded data removed]",
      "text/plain": [
       "<Figure size 432x288 with 1 Axes>"
      ]
     },
     "metadata": {
      "needs_background": "light"
     },
     "output_type": "display_data"
    }
   ],
   "source": [
    "# draw weekday graph\n",
    "\n",
    "weekday_order_list = ['Mon','Tue','Wed','Thu','Fri','Sat','Sun']\n",
    "sns.barplot(x='weekday', y='writing_count', data=weekday_count, order=weekday_order_list)\n",
    "plt.title('요일 별 리뷰 작성 횟수')\n",
    "plt.show()"
   ]
  },
  {
   "cell_type": "markdown",
   "metadata": {},
   "source": [
    "## 요일에 따른 리뷰 분석"
   ]
  },
  {
   "cell_type": "code",
   "execution_count": 76,
   "metadata": {},
   "outputs": [
    {
     "data": {
      "text/html": [
       "<div>\n",
       "<style scoped>\n",
       "    .dataframe tbody tr th:only-of-type {\n",
       "        vertical-align: middle;\n",
       "    }\n",
       "\n",
       "    .dataframe tbody tr th {\n",
       "        vertical-align: top;\n",
       "    }\n",
       "\n",
       "    .dataframe thead th {\n",
       "        text-align: right;\n",
       "    }\n",
       "</style>\n",
       "<table border=\"1\" class=\"dataframe\">\n",
       "  <thead>\n",
       "    <tr style=\"text-align: right;\">\n",
       "      <th></th>\n",
       "      <th>user_app_rating</th>\n",
       "      <th>user_review_weekday</th>\n",
       "    </tr>\n",
       "  </thead>\n",
       "  <tbody>\n",
       "    <tr>\n",
       "      <th>0</th>\n",
       "      <td>5</td>\n",
       "      <td>Fri</td>\n",
       "    </tr>\n",
       "    <tr>\n",
       "      <th>1</th>\n",
       "      <td>5</td>\n",
       "      <td>Fri</td>\n",
       "    </tr>\n",
       "    <tr>\n",
       "      <th>2</th>\n",
       "      <td>5</td>\n",
       "      <td>Fri</td>\n",
       "    </tr>\n",
       "    <tr>\n",
       "      <th>3</th>\n",
       "      <td>5</td>\n",
       "      <td>Fri</td>\n",
       "    </tr>\n",
       "    <tr>\n",
       "      <th>4</th>\n",
       "      <td>5</td>\n",
       "      <td>Fri</td>\n",
       "    </tr>\n",
       "  </tbody>\n",
       "</table>\n",
       "</div>"
      ],
      "text/plain": [
       "   user_app_rating user_review_weekday\n",
       "0                5                 Fri\n",
       "1                5                 Fri\n",
       "2                5                 Fri\n",
       "3                5                 Fri\n",
       "4                5                 Fri"
      ]
     },
     "execution_count": 76,
     "metadata": {},
     "output_type": "execute_result"
    }
   ],
   "source": [
    "weekday_user_review_df = week_user_df[['user_app_rating', 'user_review_weekday']]\n",
    "weekday_user_review_df.head()"
   ]
  },
  {
   "cell_type": "code",
   "execution_count": 77,
   "metadata": {},
   "outputs": [
    {
     "data": {
      "text/html": [
       "<style  type=\"text/css\" >\n",
       "    #T_714ac44c_e54d_11ea_8d15_68fef708cd21row0_col0 {\n",
       "            background-color:  #f5fa66;\n",
       "            color:  #000000;\n",
       "        }    #T_714ac44c_e54d_11ea_8d15_68fef708cd21row0_col1 {\n",
       "            background-color:  #eef666;\n",
       "            color:  #000000;\n",
       "        }    #T_714ac44c_e54d_11ea_8d15_68fef708cd21row0_col2 {\n",
       "            background-color:  #f3f966;\n",
       "            color:  #000000;\n",
       "        }    #T_714ac44c_e54d_11ea_8d15_68fef708cd21row0_col3 {\n",
       "            background-color:  #f6fa66;\n",
       "            color:  #000000;\n",
       "        }    #T_714ac44c_e54d_11ea_8d15_68fef708cd21row0_col4 {\n",
       "            background-color:  #f0f866;\n",
       "            color:  #000000;\n",
       "        }    #T_714ac44c_e54d_11ea_8d15_68fef708cd21row0_col5 {\n",
       "            background-color:  #f7fb66;\n",
       "            color:  #000000;\n",
       "        }    #T_714ac44c_e54d_11ea_8d15_68fef708cd21row0_col6 {\n",
       "            background-color:  #f6fa66;\n",
       "            color:  #000000;\n",
       "        }    #T_714ac44c_e54d_11ea_8d15_68fef708cd21row0_col7 {\n",
       "            background-color:  #f4fa66;\n",
       "            color:  #000000;\n",
       "        }    #T_714ac44c_e54d_11ea_8d15_68fef708cd21row1_col0 {\n",
       "            background-color:  #ffff66;\n",
       "            color:  #000000;\n",
       "        }    #T_714ac44c_e54d_11ea_8d15_68fef708cd21row1_col1 {\n",
       "            background-color:  #ffff66;\n",
       "            color:  #000000;\n",
       "        }    #T_714ac44c_e54d_11ea_8d15_68fef708cd21row1_col2 {\n",
       "            background-color:  #ffff66;\n",
       "            color:  #000000;\n",
       "        }    #T_714ac44c_e54d_11ea_8d15_68fef708cd21row1_col3 {\n",
       "            background-color:  #ffff66;\n",
       "            color:  #000000;\n",
       "        }    #T_714ac44c_e54d_11ea_8d15_68fef708cd21row1_col4 {\n",
       "            background-color:  #ffff66;\n",
       "            color:  #000000;\n",
       "        }    #T_714ac44c_e54d_11ea_8d15_68fef708cd21row1_col5 {\n",
       "            background-color:  #ffff66;\n",
       "            color:  #000000;\n",
       "        }    #T_714ac44c_e54d_11ea_8d15_68fef708cd21row1_col6 {\n",
       "            background-color:  #ffff66;\n",
       "            color:  #000000;\n",
       "        }    #T_714ac44c_e54d_11ea_8d15_68fef708cd21row1_col7 {\n",
       "            background-color:  #ffff66;\n",
       "            color:  #000000;\n",
       "        }    #T_714ac44c_e54d_11ea_8d15_68fef708cd21row2_col0 {\n",
       "            background-color:  #fbfd66;\n",
       "            color:  #000000;\n",
       "        }    #T_714ac44c_e54d_11ea_8d15_68fef708cd21row2_col1 {\n",
       "            background-color:  #f9fc66;\n",
       "            color:  #000000;\n",
       "        }    #T_714ac44c_e54d_11ea_8d15_68fef708cd21row2_col2 {\n",
       "            background-color:  #fafc66;\n",
       "            color:  #000000;\n",
       "        }    #T_714ac44c_e54d_11ea_8d15_68fef708cd21row2_col3 {\n",
       "            background-color:  #fbfd66;\n",
       "            color:  #000000;\n",
       "        }    #T_714ac44c_e54d_11ea_8d15_68fef708cd21row2_col4 {\n",
       "            background-color:  #fefe66;\n",
       "            color:  #000000;\n",
       "        }    #T_714ac44c_e54d_11ea_8d15_68fef708cd21row2_col5 {\n",
       "            background-color:  #fbfd66;\n",
       "            color:  #000000;\n",
       "        }    #T_714ac44c_e54d_11ea_8d15_68fef708cd21row2_col6 {\n",
       "            background-color:  #fafc66;\n",
       "            color:  #000000;\n",
       "        }    #T_714ac44c_e54d_11ea_8d15_68fef708cd21row2_col7 {\n",
       "            background-color:  #fbfd66;\n",
       "            color:  #000000;\n",
       "        }    #T_714ac44c_e54d_11ea_8d15_68fef708cd21row3_col0 {\n",
       "            background-color:  #e7f366;\n",
       "            color:  #000000;\n",
       "        }    #T_714ac44c_e54d_11ea_8d15_68fef708cd21row3_col1 {\n",
       "            background-color:  #e0f066;\n",
       "            color:  #000000;\n",
       "        }    #T_714ac44c_e54d_11ea_8d15_68fef708cd21row3_col2 {\n",
       "            background-color:  #ecf666;\n",
       "            color:  #000000;\n",
       "        }    #T_714ac44c_e54d_11ea_8d15_68fef708cd21row3_col3 {\n",
       "            background-color:  #e8f466;\n",
       "            color:  #000000;\n",
       "        }    #T_714ac44c_e54d_11ea_8d15_68fef708cd21row3_col4 {\n",
       "            background-color:  #e8f466;\n",
       "            color:  #000000;\n",
       "        }    #T_714ac44c_e54d_11ea_8d15_68fef708cd21row3_col5 {\n",
       "            background-color:  #eaf466;\n",
       "            color:  #000000;\n",
       "        }    #T_714ac44c_e54d_11ea_8d15_68fef708cd21row3_col6 {\n",
       "            background-color:  #e6f266;\n",
       "            color:  #000000;\n",
       "        }    #T_714ac44c_e54d_11ea_8d15_68fef708cd21row3_col7 {\n",
       "            background-color:  #e7f366;\n",
       "            color:  #000000;\n",
       "        }    #T_714ac44c_e54d_11ea_8d15_68fef708cd21row4_col0 {\n",
       "            background-color:  #329866;\n",
       "            color:  #000000;\n",
       "        }    #T_714ac44c_e54d_11ea_8d15_68fef708cd21row4_col1 {\n",
       "            background-color:  #46a266;\n",
       "            color:  #000000;\n",
       "        }    #T_714ac44c_e54d_11ea_8d15_68fef708cd21row4_col2 {\n",
       "            background-color:  #399c66;\n",
       "            color:  #000000;\n",
       "        }    #T_714ac44c_e54d_11ea_8d15_68fef708cd21row4_col3 {\n",
       "            background-color:  #309866;\n",
       "            color:  #000000;\n",
       "        }    #T_714ac44c_e54d_11ea_8d15_68fef708cd21row4_col4 {\n",
       "            background-color:  #3f9f66;\n",
       "            color:  #000000;\n",
       "        }    #T_714ac44c_e54d_11ea_8d15_68fef708cd21row4_col5 {\n",
       "            background-color:  #2e9666;\n",
       "            color:  #000000;\n",
       "        }    #T_714ac44c_e54d_11ea_8d15_68fef708cd21row4_col6 {\n",
       "            background-color:  #359a66;\n",
       "            color:  #000000;\n",
       "        }    #T_714ac44c_e54d_11ea_8d15_68fef708cd21row4_col7 {\n",
       "            background-color:  #379b66;\n",
       "            color:  #000000;\n",
       "        }    #T_714ac44c_e54d_11ea_8d15_68fef708cd21row5_col0 {\n",
       "            background-color:  #008066;\n",
       "            color:  #f1f1f1;\n",
       "        }    #T_714ac44c_e54d_11ea_8d15_68fef708cd21row5_col1 {\n",
       "            background-color:  #008066;\n",
       "            color:  #f1f1f1;\n",
       "        }    #T_714ac44c_e54d_11ea_8d15_68fef708cd21row5_col2 {\n",
       "            background-color:  #008066;\n",
       "            color:  #f1f1f1;\n",
       "        }    #T_714ac44c_e54d_11ea_8d15_68fef708cd21row5_col3 {\n",
       "            background-color:  #008066;\n",
       "            color:  #f1f1f1;\n",
       "        }    #T_714ac44c_e54d_11ea_8d15_68fef708cd21row5_col4 {\n",
       "            background-color:  #008066;\n",
       "            color:  #f1f1f1;\n",
       "        }    #T_714ac44c_e54d_11ea_8d15_68fef708cd21row5_col5 {\n",
       "            background-color:  #008066;\n",
       "            color:  #f1f1f1;\n",
       "        }    #T_714ac44c_e54d_11ea_8d15_68fef708cd21row5_col6 {\n",
       "            background-color:  #008066;\n",
       "            color:  #f1f1f1;\n",
       "        }    #T_714ac44c_e54d_11ea_8d15_68fef708cd21row5_col7 {\n",
       "            background-color:  #008066;\n",
       "            color:  #f1f1f1;\n",
       "        }</style><table id=\"T_714ac44c_e54d_11ea_8d15_68fef708cd21\" ><thead>    <tr>        <th class=\"index_name level0\" >user_review_weekday</th>        <th class=\"col_heading level0 col0\" >Fri</th>        <th class=\"col_heading level0 col1\" >Mon</th>        <th class=\"col_heading level0 col2\" >Sat</th>        <th class=\"col_heading level0 col3\" >Sun</th>        <th class=\"col_heading level0 col4\" >Thu</th>        <th class=\"col_heading level0 col5\" >Tue</th>        <th class=\"col_heading level0 col6\" >Wed</th>        <th class=\"col_heading level0 col7\" >All</th>    </tr>    <tr>        <th class=\"index_name level0\" >user_app_rating</th>        <th class=\"blank\" ></th>        <th class=\"blank\" ></th>        <th class=\"blank\" ></th>        <th class=\"blank\" ></th>        <th class=\"blank\" ></th>        <th class=\"blank\" ></th>        <th class=\"blank\" ></th>        <th class=\"blank\" ></th>    </tr></thead><tbody>\n",
       "                <tr>\n",
       "                        <th id=\"T_714ac44c_e54d_11ea_8d15_68fef708cd21level0_row0\" class=\"row_heading level0 row0\" >1</th>\n",
       "                        <td id=\"T_714ac44c_e54d_11ea_8d15_68fef708cd21row0_col0\" class=\"data row0 col0\" >47</td>\n",
       "                        <td id=\"T_714ac44c_e54d_11ea_8d15_68fef708cd21row0_col1\" class=\"data row0 col1\" >77</td>\n",
       "                        <td id=\"T_714ac44c_e54d_11ea_8d15_68fef708cd21row0_col2\" class=\"data row0 col2\" >79</td>\n",
       "                        <td id=\"T_714ac44c_e54d_11ea_8d15_68fef708cd21row0_col3\" class=\"data row0 col3\" >52</td>\n",
       "                        <td id=\"T_714ac44c_e54d_11ea_8d15_68fef708cd21row0_col4\" class=\"data row0 col4\" >77</td>\n",
       "                        <td id=\"T_714ac44c_e54d_11ea_8d15_68fef708cd21row0_col5\" class=\"data row0 col5\" >45</td>\n",
       "                        <td id=\"T_714ac44c_e54d_11ea_8d15_68fef708cd21row0_col6\" class=\"data row0 col6\" >46</td>\n",
       "                        <td id=\"T_714ac44c_e54d_11ea_8d15_68fef708cd21row0_col7\" class=\"data row0 col7\" >423</td>\n",
       "            </tr>\n",
       "            <tr>\n",
       "                        <th id=\"T_714ac44c_e54d_11ea_8d15_68fef708cd21level0_row1\" class=\"row_heading level0 row1\" >2</th>\n",
       "                        <td id=\"T_714ac44c_e54d_11ea_8d15_68fef708cd21row1_col0\" class=\"data row1 col0\" >11</td>\n",
       "                        <td id=\"T_714ac44c_e54d_11ea_8d15_68fef708cd21row1_col1\" class=\"data row1 col1\" >14</td>\n",
       "                        <td id=\"T_714ac44c_e54d_11ea_8d15_68fef708cd21row1_col2\" class=\"data row1 col2\" >22</td>\n",
       "                        <td id=\"T_714ac44c_e54d_11ea_8d15_68fef708cd21row1_col3\" class=\"data row1 col3\" >12</td>\n",
       "                        <td id=\"T_714ac44c_e54d_11ea_8d15_68fef708cd21row1_col4\" class=\"data row1 col4\" >21</td>\n",
       "                        <td id=\"T_714ac44c_e54d_11ea_8d15_68fef708cd21row1_col5\" class=\"data row1 col5\" >11</td>\n",
       "                        <td id=\"T_714ac44c_e54d_11ea_8d15_68fef708cd21row1_col6\" class=\"data row1 col6\" >11</td>\n",
       "                        <td id=\"T_714ac44c_e54d_11ea_8d15_68fef708cd21row1_col7\" class=\"data row1 col7\" >102</td>\n",
       "            </tr>\n",
       "            <tr>\n",
       "                        <th id=\"T_714ac44c_e54d_11ea_8d15_68fef708cd21level0_row2\" class=\"row_heading level0 row2\" >3</th>\n",
       "                        <td id=\"T_714ac44c_e54d_11ea_8d15_68fef708cd21row2_col0\" class=\"data row2 col0\" >26</td>\n",
       "                        <td id=\"T_714ac44c_e54d_11ea_8d15_68fef708cd21row2_col1\" class=\"data row2 col1\" >38</td>\n",
       "                        <td id=\"T_714ac44c_e54d_11ea_8d15_68fef708cd21row2_col2\" class=\"data row2 col2\" >46</td>\n",
       "                        <td id=\"T_714ac44c_e54d_11ea_8d15_68fef708cd21row2_col3\" class=\"data row2 col3\" >32</td>\n",
       "                        <td id=\"T_714ac44c_e54d_11ea_8d15_68fef708cd21row2_col4\" class=\"data row2 col4\" >26</td>\n",
       "                        <td id=\"T_714ac44c_e54d_11ea_8d15_68fef708cd21row2_col5\" class=\"data row2 col5\" >28</td>\n",
       "                        <td id=\"T_714ac44c_e54d_11ea_8d15_68fef708cd21row2_col6\" class=\"data row2 col6\" >32</td>\n",
       "                        <td id=\"T_714ac44c_e54d_11ea_8d15_68fef708cd21row2_col7\" class=\"data row2 col7\" >228</td>\n",
       "            </tr>\n",
       "            <tr>\n",
       "                        <th id=\"T_714ac44c_e54d_11ea_8d15_68fef708cd21level0_row3\" class=\"row_heading level0 row3\" >4</th>\n",
       "                        <td id=\"T_714ac44c_e54d_11ea_8d15_68fef708cd21row3_col0\" class=\"data row3 col0\" >96</td>\n",
       "                        <td id=\"T_714ac44c_e54d_11ea_8d15_68fef708cd21row3_col1\" class=\"data row3 col1\" >131</td>\n",
       "                        <td id=\"T_714ac44c_e54d_11ea_8d15_68fef708cd21row3_col2\" class=\"data row3 col2\" >110</td>\n",
       "                        <td id=\"T_714ac44c_e54d_11ea_8d15_68fef708cd21row3_col3\" class=\"data row3 col3\" >112</td>\n",
       "                        <td id=\"T_714ac44c_e54d_11ea_8d15_68fef708cd21row3_col4\" class=\"data row3 col4\" >104</td>\n",
       "                        <td id=\"T_714ac44c_e54d_11ea_8d15_68fef708cd21row3_col5\" class=\"data row3 col5\" >93</td>\n",
       "                        <td id=\"T_714ac44c_e54d_11ea_8d15_68fef708cd21row3_col6\" class=\"data row3 col6\" >103</td>\n",
       "                        <td id=\"T_714ac44c_e54d_11ea_8d15_68fef708cd21row3_col7\" class=\"data row3 col7\" >749</td>\n",
       "            </tr>\n",
       "            <tr>\n",
       "                        <th id=\"T_714ac44c_e54d_11ea_8d15_68fef708cd21level0_row4\" class=\"row_heading level0 row4\" >5</th>\n",
       "                        <td id=\"T_714ac44c_e54d_11ea_8d15_68fef708cd21row4_col0\" class=\"data row4 col0\" >736</td>\n",
       "                        <td id=\"T_714ac44c_e54d_11ea_8d15_68fef708cd21row4_col1\" class=\"data row4 col1\" >696</td>\n",
       "                        <td id=\"T_714ac44c_e54d_11ea_8d15_68fef708cd21row4_col2\" class=\"data row4 col2\" >901</td>\n",
       "                        <td id=\"T_714ac44c_e54d_11ea_8d15_68fef708cd21row4_col3\" class=\"data row4 col3\" >895</td>\n",
       "                        <td id=\"T_714ac44c_e54d_11ea_8d15_68fef708cd21row4_col4\" class=\"data row4 col4\" >711</td>\n",
       "                        <td id=\"T_714ac44c_e54d_11ea_8d15_68fef708cd21row4_col5\" class=\"data row4 col5\" >802</td>\n",
       "                        <td id=\"T_714ac44c_e54d_11ea_8d15_68fef708cd21row4_col6\" class=\"data row4 col6\" >741</td>\n",
       "                        <td id=\"T_714ac44c_e54d_11ea_8d15_68fef708cd21row4_col7\" class=\"data row4 col7\" >5482</td>\n",
       "            </tr>\n",
       "            <tr>\n",
       "                        <th id=\"T_714ac44c_e54d_11ea_8d15_68fef708cd21level0_row5\" class=\"row_heading level0 row5\" >All</th>\n",
       "                        <td id=\"T_714ac44c_e54d_11ea_8d15_68fef708cd21row5_col0\" class=\"data row5 col0\" >916</td>\n",
       "                        <td id=\"T_714ac44c_e54d_11ea_8d15_68fef708cd21row5_col1\" class=\"data row5 col1\" >956</td>\n",
       "                        <td id=\"T_714ac44c_e54d_11ea_8d15_68fef708cd21row5_col2\" class=\"data row5 col2\" >1158</td>\n",
       "                        <td id=\"T_714ac44c_e54d_11ea_8d15_68fef708cd21row5_col3\" class=\"data row5 col3\" >1103</td>\n",
       "                        <td id=\"T_714ac44c_e54d_11ea_8d15_68fef708cd21row5_col4\" class=\"data row5 col4\" >939</td>\n",
       "                        <td id=\"T_714ac44c_e54d_11ea_8d15_68fef708cd21row5_col5\" class=\"data row5 col5\" >979</td>\n",
       "                        <td id=\"T_714ac44c_e54d_11ea_8d15_68fef708cd21row5_col6\" class=\"data row5 col6\" >933</td>\n",
       "                        <td id=\"T_714ac44c_e54d_11ea_8d15_68fef708cd21row5_col7\" class=\"data row5 col7\" >6984</td>\n",
       "            </tr>\n",
       "    </tbody></table>"
      ],
      "text/plain": [
       "<pandas.io.formats.style.Styler at 0x1a2f36bd30>"
      ]
     },
     "execution_count": 77,
     "metadata": {},
     "output_type": "execute_result"
    }
   ],
   "source": [
    "# crosstab for checking two catagory\n",
    "\n",
    "crosstab_result = pd.crosstab(weekday_user_review_df['user_app_rating'], weekday_user_review_df['user_review_weekday'], margins=True).style.background_gradient(cmap='summer_r')\n",
    "crosstab_result"
   ]
  },
  {
   "cell_type": "code",
   "execution_count": 78,
   "metadata": {},
   "outputs": [
    {
     "data": {
      "text/html": [
       "<div>\n",
       "<style scoped>\n",
       "    .dataframe tbody tr th:only-of-type {\n",
       "        vertical-align: middle;\n",
       "    }\n",
       "\n",
       "    .dataframe tbody tr th {\n",
       "        vertical-align: top;\n",
       "    }\n",
       "\n",
       "    .dataframe thead th {\n",
       "        text-align: right;\n",
       "    }\n",
       "</style>\n",
       "<table border=\"1\" class=\"dataframe\">\n",
       "  <thead>\n",
       "    <tr style=\"text-align: right;\">\n",
       "      <th>user_app_rating</th>\n",
       "      <th>1</th>\n",
       "      <th>2</th>\n",
       "      <th>3</th>\n",
       "      <th>4</th>\n",
       "      <th>5</th>\n",
       "    </tr>\n",
       "    <tr>\n",
       "      <th>user_review_weekday</th>\n",
       "      <th></th>\n",
       "      <th></th>\n",
       "      <th></th>\n",
       "      <th></th>\n",
       "      <th></th>\n",
       "    </tr>\n",
       "  </thead>\n",
       "  <tbody>\n",
       "    <tr>\n",
       "      <th>Fri</th>\n",
       "      <td>0.006730</td>\n",
       "      <td>0.001575</td>\n",
       "      <td>0.003723</td>\n",
       "      <td>0.013746</td>\n",
       "      <td>0.105384</td>\n",
       "    </tr>\n",
       "    <tr>\n",
       "      <th>Mon</th>\n",
       "      <td>0.011025</td>\n",
       "      <td>0.002005</td>\n",
       "      <td>0.005441</td>\n",
       "      <td>0.018757</td>\n",
       "      <td>0.099656</td>\n",
       "    </tr>\n",
       "    <tr>\n",
       "      <th>Sat</th>\n",
       "      <td>0.011312</td>\n",
       "      <td>0.003150</td>\n",
       "      <td>0.006586</td>\n",
       "      <td>0.015750</td>\n",
       "      <td>0.129009</td>\n",
       "    </tr>\n",
       "    <tr>\n",
       "      <th>Sun</th>\n",
       "      <td>0.007446</td>\n",
       "      <td>0.001718</td>\n",
       "      <td>0.004582</td>\n",
       "      <td>0.016037</td>\n",
       "      <td>0.128150</td>\n",
       "    </tr>\n",
       "    <tr>\n",
       "      <th>Thu</th>\n",
       "      <td>0.011025</td>\n",
       "      <td>0.003007</td>\n",
       "      <td>0.003723</td>\n",
       "      <td>0.014891</td>\n",
       "      <td>0.101804</td>\n",
       "    </tr>\n",
       "    <tr>\n",
       "      <th>Tue</th>\n",
       "      <td>0.006443</td>\n",
       "      <td>0.001575</td>\n",
       "      <td>0.004009</td>\n",
       "      <td>0.013316</td>\n",
       "      <td>0.114834</td>\n",
       "    </tr>\n",
       "    <tr>\n",
       "      <th>Wed</th>\n",
       "      <td>0.006586</td>\n",
       "      <td>0.001575</td>\n",
       "      <td>0.004582</td>\n",
       "      <td>0.014748</td>\n",
       "      <td>0.106100</td>\n",
       "    </tr>\n",
       "  </tbody>\n",
       "</table>\n",
       "</div>"
      ],
      "text/plain": [
       "user_app_rating             1         2         3         4         5\n",
       "user_review_weekday                                                  \n",
       "Fri                  0.006730  0.001575  0.003723  0.013746  0.105384\n",
       "Mon                  0.011025  0.002005  0.005441  0.018757  0.099656\n",
       "Sat                  0.011312  0.003150  0.006586  0.015750  0.129009\n",
       "Sun                  0.007446  0.001718  0.004582  0.016037  0.128150\n",
       "Thu                  0.011025  0.003007  0.003723  0.014891  0.101804\n",
       "Tue                  0.006443  0.001575  0.004009  0.013316  0.114834\n",
       "Wed                  0.006586  0.001575  0.004582  0.014748  0.106100"
      ]
     },
     "execution_count": 78,
     "metadata": {},
     "output_type": "execute_result"
    }
   ],
   "source": [
    "# crosstab with ratio\n",
    "\n",
    "crosstab_result = pd.crosstab(weekday_user_review_df['user_app_rating'], weekday_user_review_df['user_review_weekday'], normalize=True).T\n",
    "crosstab_result"
   ]
  },
  {
   "cell_type": "code",
   "execution_count": 145,
   "metadata": {},
   "outputs": [],
   "source": [
    "def draw_heatmap(weekday_user_review_df, weekday_order_list):\n",
    "    crosstab_result = pd.crosstab(weekday_user_review_df['user_app_rating'], weekday_user_review_df['user_review_weekday'], normalize=True).T\n",
    "    crosstab_result = crosstab_result.reindex(index=weekday_order_list)\n",
    "    \n",
    "    plt.figure(figsize=(10, 5))\n",
    "    sns.heatmap(crosstab_result, cmap=\"YlGnBu\", annot=True, cbar=True, fmt='0.3g')\n",
    "    plt.title('요일 별 별점 분포')\n",
    "    plt.show()"
   ]
  },
  {
   "cell_type": "code",
   "execution_count": 146,
   "metadata": {},
   "outputs": [
    {
     "data": {
      "image/png": "[encoded data removed]",
      "text/plain": [
       "<Figure size 720x360 with 2 Axes>"
      ]
     },
     "metadata": {
      "needs_background": "light"
     },
     "output_type": "display_data"
    }
   ],
   "source": [
    "draw_heatmap(weekday_user_review_df, weekday_order_list)"
   ]
  },
  {
   "cell_type": "markdown",
   "metadata": {},
   "source": [
    "### 리뷰를 작성한 사람들은 누구일까요?"
   ]
  },
  {
   "cell_type": "code",
   "execution_count": 81,
   "metadata": {},
   "outputs": [
    {
     "data": {
      "text/html": [
       "<div>\n",
       "<style scoped>\n",
       "    .dataframe tbody tr th:only-of-type {\n",
       "        vertical-align: middle;\n",
       "    }\n",
       "\n",
       "    .dataframe tbody tr th {\n",
       "        vertical-align: top;\n",
       "    }\n",
       "\n",
       "    .dataframe thead th {\n",
       "        text-align: right;\n",
       "    }\n",
       "</style>\n",
       "<table border=\"1\" class=\"dataframe\">\n",
       "  <thead>\n",
       "    <tr style=\"text-align: right;\">\n",
       "      <th></th>\n",
       "      <th>user</th>\n",
       "      <th>writing_count</th>\n",
       "    </tr>\n",
       "  </thead>\n",
       "  <tbody>\n",
       "    <tr>\n",
       "      <th>0</th>\n",
       "      <td>Google 사용자</td>\n",
       "      <td>31</td>\n",
       "    </tr>\n",
       "    <tr>\n",
       "      <th>1</th>\n",
       "      <td>김태영</td>\n",
       "      <td>6</td>\n",
       "    </tr>\n",
       "    <tr>\n",
       "      <th>2</th>\n",
       "      <td>이창훈</td>\n",
       "      <td>5</td>\n",
       "    </tr>\n",
       "    <tr>\n",
       "      <th>3</th>\n",
       "      <td>김동환</td>\n",
       "      <td>5</td>\n",
       "    </tr>\n",
       "    <tr>\n",
       "      <th>4</th>\n",
       "      <td>이동훈</td>\n",
       "      <td>5</td>\n",
       "    </tr>\n",
       "    <tr>\n",
       "      <th>5</th>\n",
       "      <td>김지훈</td>\n",
       "      <td>5</td>\n",
       "    </tr>\n",
       "    <tr>\n",
       "      <th>6</th>\n",
       "      <td>김민정</td>\n",
       "      <td>5</td>\n",
       "    </tr>\n",
       "    <tr>\n",
       "      <th>7</th>\n",
       "      <td>이현우</td>\n",
       "      <td>4</td>\n",
       "    </tr>\n",
       "    <tr>\n",
       "      <th>8</th>\n",
       "      <td>이혜진</td>\n",
       "      <td>4</td>\n",
       "    </tr>\n",
       "    <tr>\n",
       "      <th>9</th>\n",
       "      <td>김우현</td>\n",
       "      <td>4</td>\n",
       "    </tr>\n",
       "  </tbody>\n",
       "</table>\n",
       "</div>"
      ],
      "text/plain": [
       "         user  writing_count\n",
       "0  Google 사용자             31\n",
       "1         김태영              6\n",
       "2         이창훈              5\n",
       "3         김동환              5\n",
       "4         이동훈              5\n",
       "5         김지훈              5\n",
       "6         김민정              5\n",
       "7         이현우              4\n",
       "8         이혜진              4\n",
       "9         김우현              4"
      ]
     },
     "execution_count": 81,
     "metadata": {},
     "output_type": "execute_result"
    }
   ],
   "source": [
    "arrange_count_df = arrange_count_value(arranged_user_review_df, 'user_name')\n",
    "arrange_count_df.head(10)"
   ]
  },
  {
   "cell_type": "markdown",
   "metadata": {},
   "source": [
    "- **Google 사용자**가 다수가 나온 이유를 살펴보니, 앱스토어에서 실제로 리뷰 작성자의 이름이 Google 사용자라고 되어 있다.\n",
    "  - 탈퇴를 했거나, 혹은 익명의 아이디를 처리하는 방식으로 판단된다.\n",
    "  - 결론적으로 Google 사용자를 잠시 제외하고 살펴보겠다."
   ]
  },
  {
   "cell_type": "code",
   "execution_count": 82,
   "metadata": {},
   "outputs": [
    {
     "data": {
      "text/html": [
       "<div>\n",
       "<style scoped>\n",
       "    .dataframe tbody tr th:only-of-type {\n",
       "        vertical-align: middle;\n",
       "    }\n",
       "\n",
       "    .dataframe tbody tr th {\n",
       "        vertical-align: top;\n",
       "    }\n",
       "\n",
       "    .dataframe thead th {\n",
       "        text-align: right;\n",
       "    }\n",
       "</style>\n",
       "<table border=\"1\" class=\"dataframe\">\n",
       "  <thead>\n",
       "    <tr style=\"text-align: right;\">\n",
       "      <th></th>\n",
       "      <th>writing_count</th>\n",
       "      <th>count</th>\n",
       "      <th>ratio</th>\n",
       "    </tr>\n",
       "  </thead>\n",
       "  <tbody>\n",
       "    <tr>\n",
       "      <th>0</th>\n",
       "      <td>1</td>\n",
       "      <td>6311</td>\n",
       "      <td>0.96</td>\n",
       "    </tr>\n",
       "    <tr>\n",
       "      <th>1</th>\n",
       "      <td>2</td>\n",
       "      <td>219</td>\n",
       "      <td>0.03</td>\n",
       "    </tr>\n",
       "    <tr>\n",
       "      <th>2</th>\n",
       "      <td>3</td>\n",
       "      <td>39</td>\n",
       "      <td>0.01</td>\n",
       "    </tr>\n",
       "    <tr>\n",
       "      <th>3</th>\n",
       "      <td>4</td>\n",
       "      <td>14</td>\n",
       "      <td>0.00</td>\n",
       "    </tr>\n",
       "    <tr>\n",
       "      <th>4</th>\n",
       "      <td>5</td>\n",
       "      <td>5</td>\n",
       "      <td>0.00</td>\n",
       "    </tr>\n",
       "    <tr>\n",
       "      <th>5</th>\n",
       "      <td>6</td>\n",
       "      <td>1</td>\n",
       "      <td>0.00</td>\n",
       "    </tr>\n",
       "  </tbody>\n",
       "</table>\n",
       "</div>"
      ],
      "text/plain": [
       "   writing_count  count  ratio\n",
       "0              1   6311   0.96\n",
       "1              2    219   0.03\n",
       "2              3     39   0.01\n",
       "3              4     14   0.00\n",
       "4              5      5   0.00\n",
       "5              6      1   0.00"
      ]
     },
     "execution_count": 82,
     "metadata": {},
     "output_type": "execute_result"
    }
   ],
   "source": [
    "drop_arrange_count_df = arrange_count_df[arrange_count_df['user']!='Google 사용자'].reset_index(drop=True)\n",
    "\n",
    "# get user_review_count and ratio\n",
    "groupby_user_review_count = drop_arrange_count_df.groupby('writing_count', as_index=False).count()\n",
    "groupby_user_review_count.rename(columns = {'user' : 'count'}, inplace=True)\n",
    "groupby_user_review_count['ratio'] = round(groupby_user_review_count['count']/sum(groupby_user_review_count['count']), 2)\n",
    "groupby_user_review_count"
   ]
  },
  {
   "cell_type": "code",
   "execution_count": 83,
   "metadata": {},
   "outputs": [
    {
     "data": {
      "text/plain": [
       "<matplotlib.axes._subplots.AxesSubplot at 0x1a2e9289b0>"
      ]
     },
     "execution_count": 83,
     "metadata": {},
     "output_type": "execute_result"
    },
    {
     "data": {
      "image/png": "[encoded data removed]",
      "text/plain": [
       "<Figure size 432x288 with 1 Axes>"
      ]
     },
     "metadata": {
      "needs_background": "light"
     },
     "output_type": "display_data"
    }
   ],
   "source": [
    "# 이용자들은 개인당 몇 번이나 리뷰를 달았을까?\n",
    "\n",
    "sns.countplot(x='writing_count', data = drop_arrange_count_df)"
   ]
  },
  {
   "cell_type": "code",
   "execution_count": 84,
   "metadata": {},
   "outputs": [
    {
     "data": {
      "text/plain": [
       "<matplotlib.axes._subplots.AxesSubplot at 0x1a2e9a6128>"
      ]
     },
     "execution_count": 84,
     "metadata": {},
     "output_type": "execute_result"
    },
    {
     "data": {
      "image/png": "[encoded data removed]",
      "text/plain": [
       "<Figure size 432x288 with 1 Axes>"
      ]
     },
     "metadata": {
      "needs_background": "light"
     },
     "output_type": "display_data"
    }
   ],
   "source": [
    "# 이용자들은 개인당 몇 번이나 리뷰를 달았을까?(비율)\n",
    "\n",
    "sns.barplot(x='writing_count', y='ratio', data = groupby_user_review_count)"
   ]
  },
  {
   "cell_type": "markdown",
   "metadata": {},
   "source": [
    "### 별점 분포는 어떻게 되어 있을까?"
   ]
  },
  {
   "cell_type": "code",
   "execution_count": 85,
   "metadata": {},
   "outputs": [
    {
     "data": {
      "text/html": [
       "<div>\n",
       "<style scoped>\n",
       "    .dataframe tbody tr th:only-of-type {\n",
       "        vertical-align: middle;\n",
       "    }\n",
       "\n",
       "    .dataframe tbody tr th {\n",
       "        vertical-align: top;\n",
       "    }\n",
       "\n",
       "    .dataframe thead th {\n",
       "        text-align: right;\n",
       "    }\n",
       "</style>\n",
       "<table border=\"1\" class=\"dataframe\">\n",
       "  <thead>\n",
       "    <tr style=\"text-align: right;\">\n",
       "      <th></th>\n",
       "      <th>app_rating</th>\n",
       "      <th>rating_count</th>\n",
       "    </tr>\n",
       "  </thead>\n",
       "  <tbody>\n",
       "    <tr>\n",
       "      <th>0</th>\n",
       "      <td>5</td>\n",
       "      <td>5482</td>\n",
       "    </tr>\n",
       "    <tr>\n",
       "      <th>1</th>\n",
       "      <td>4</td>\n",
       "      <td>749</td>\n",
       "    </tr>\n",
       "    <tr>\n",
       "      <th>2</th>\n",
       "      <td>1</td>\n",
       "      <td>423</td>\n",
       "    </tr>\n",
       "    <tr>\n",
       "      <th>3</th>\n",
       "      <td>3</td>\n",
       "      <td>228</td>\n",
       "    </tr>\n",
       "    <tr>\n",
       "      <th>4</th>\n",
       "      <td>2</td>\n",
       "      <td>102</td>\n",
       "    </tr>\n",
       "  </tbody>\n",
       "</table>\n",
       "</div>"
      ],
      "text/plain": [
       "   app_rating  rating_count\n",
       "0           5          5482\n",
       "1           4           749\n",
       "2           1           423\n",
       "3           3           228\n",
       "4           2           102"
      ]
     },
     "execution_count": 85,
     "metadata": {},
     "output_type": "execute_result"
    }
   ],
   "source": [
    "app_rating_count = arrange_count_value(arranged_user_review_df, 'user_app_rating')\n",
    "app_rating_count.rename(columns={'user' : 'app_rating', 'writing_count' : 'rating_count'}, inplace=True)\n",
    "app_rating_count"
   ]
  },
  {
   "cell_type": "code",
   "execution_count": 86,
   "metadata": {},
   "outputs": [
    {
     "data": {
      "text/html": [
       "<div>\n",
       "<style scoped>\n",
       "    .dataframe tbody tr th:only-of-type {\n",
       "        vertical-align: middle;\n",
       "    }\n",
       "\n",
       "    .dataframe tbody tr th {\n",
       "        vertical-align: top;\n",
       "    }\n",
       "\n",
       "    .dataframe thead th {\n",
       "        text-align: right;\n",
       "    }\n",
       "</style>\n",
       "<table border=\"1\" class=\"dataframe\">\n",
       "  <thead>\n",
       "    <tr style=\"text-align: right;\">\n",
       "      <th></th>\n",
       "      <th>app_rating</th>\n",
       "      <th>rating_count</th>\n",
       "      <th>ratio</th>\n",
       "    </tr>\n",
       "  </thead>\n",
       "  <tbody>\n",
       "    <tr>\n",
       "      <th>0</th>\n",
       "      <td>5</td>\n",
       "      <td>5482</td>\n",
       "      <td>0.78</td>\n",
       "    </tr>\n",
       "    <tr>\n",
       "      <th>1</th>\n",
       "      <td>4</td>\n",
       "      <td>749</td>\n",
       "      <td>0.11</td>\n",
       "    </tr>\n",
       "    <tr>\n",
       "      <th>2</th>\n",
       "      <td>1</td>\n",
       "      <td>423</td>\n",
       "      <td>0.06</td>\n",
       "    </tr>\n",
       "    <tr>\n",
       "      <th>3</th>\n",
       "      <td>3</td>\n",
       "      <td>228</td>\n",
       "      <td>0.03</td>\n",
       "    </tr>\n",
       "    <tr>\n",
       "      <th>4</th>\n",
       "      <td>2</td>\n",
       "      <td>102</td>\n",
       "      <td>0.01</td>\n",
       "    </tr>\n",
       "  </tbody>\n",
       "</table>\n",
       "</div>"
      ],
      "text/plain": [
       "   app_rating  rating_count  ratio\n",
       "0           5          5482   0.78\n",
       "1           4           749   0.11\n",
       "2           1           423   0.06\n",
       "3           3           228   0.03\n",
       "4           2           102   0.01"
      ]
     },
     "execution_count": 86,
     "metadata": {},
     "output_type": "execute_result"
    }
   ],
   "source": [
    "app_rating_count['ratio'] = round(app_rating_count['rating_count']/sum(app_rating_count['rating_count']), 2)\n",
    "app_rating_count"
   ]
  },
  {
   "cell_type": "code",
   "execution_count": 147,
   "metadata": {},
   "outputs": [
    {
     "data": {
      "image/png": "[encoded data removed]",
      "text/plain": [
       "<Figure size 432x288 with 1 Axes>"
      ]
     },
     "metadata": {
      "needs_background": "light"
     },
     "output_type": "display_data"
    }
   ],
   "source": [
    "# draw app_rating graph\n",
    "\n",
    "app_rating_order_list = [1, 2, 3, 4, 5]\n",
    "sns.barplot(x='app_rating', y='ratio', data=app_rating_count, order=app_rating_order_list)\n",
    "plt.title('별점 분포')\n",
    "plt.show()"
   ]
  },
  {
   "cell_type": "markdown",
   "metadata": {},
   "source": [
    "-----------------------"
   ]
  },
  {
   "cell_type": "markdown",
   "metadata": {},
   "source": [
    "## 2. 시간 기록에 따른 데이터 분석\n",
    "\n",
    "### 시간에 따른 별점 변화\n",
    "- 여러가지 접근 방법이 있겠지만, 일별 평균 별점 값을 그래프로 그려서 확인해본다."
   ]
  },
  {
   "cell_type": "code",
   "execution_count": 88,
   "metadata": {},
   "outputs": [
    {
     "data": {
      "text/html": [
       "<div>\n",
       "<style scoped>\n",
       "    .dataframe tbody tr th:only-of-type {\n",
       "        vertical-align: middle;\n",
       "    }\n",
       "\n",
       "    .dataframe tbody tr th {\n",
       "        vertical-align: top;\n",
       "    }\n",
       "\n",
       "    .dataframe thead th {\n",
       "        text-align: right;\n",
       "    }\n",
       "</style>\n",
       "<table border=\"1\" class=\"dataframe\">\n",
       "  <thead>\n",
       "    <tr style=\"text-align: right;\">\n",
       "      <th></th>\n",
       "      <th>user_app_rating</th>\n",
       "      <th>user_review_date</th>\n",
       "    </tr>\n",
       "  </thead>\n",
       "  <tbody>\n",
       "    <tr>\n",
       "      <th>0</th>\n",
       "      <td>5</td>\n",
       "      <td>2020-05-01</td>\n",
       "    </tr>\n",
       "    <tr>\n",
       "      <th>1</th>\n",
       "      <td>5</td>\n",
       "      <td>2020-05-01</td>\n",
       "    </tr>\n",
       "    <tr>\n",
       "      <th>2</th>\n",
       "      <td>5</td>\n",
       "      <td>2020-05-01</td>\n",
       "    </tr>\n",
       "    <tr>\n",
       "      <th>3</th>\n",
       "      <td>5</td>\n",
       "      <td>2020-05-01</td>\n",
       "    </tr>\n",
       "    <tr>\n",
       "      <th>4</th>\n",
       "      <td>5</td>\n",
       "      <td>2020-05-01</td>\n",
       "    </tr>\n",
       "  </tbody>\n",
       "</table>\n",
       "</div>"
      ],
      "text/plain": [
       "   user_app_rating user_review_date\n",
       "0                5       2020-05-01\n",
       "1                5       2020-05-01\n",
       "2                5       2020-05-01\n",
       "3                5       2020-05-01\n",
       "4                5       2020-05-01"
      ]
     },
     "execution_count": 88,
     "metadata": {},
     "output_type": "execute_result"
    }
   ],
   "source": [
    "app_rating_with_date = arranged_user_review_df[['user_app_rating', 'user_review_date']]\n",
    "average_app_rating_per_daily = app_rating_with_date.groupby('user_review_date', as_index=False).mean()\n",
    "average_app_rating_per_daily = average_app_rating_per_daily[average_app_rating_per_daily['user_review_date']>='2020-01-01'] # defalt 2020-01-01\n",
    "app_rating_with_date.head()"
   ]
  },
  {
   "cell_type": "code",
   "execution_count": 102,
   "metadata": {},
   "outputs": [
    {
     "data": {
      "image/png": "[encoded data removed]",
      "text/plain": [
       "<Figure size 2160x720 with 1 Axes>"
      ]
     },
     "metadata": {
      "needs_background": "light"
     },
     "output_type": "display_data"
    }
   ],
   "source": [
    "# draw graph : 2019 Google play store review rating per daily\n",
    "\n",
    "plt.figure(figsize = (30, 10))\n",
    "sns.pointplot(x='user_review_date', y='user_app_rating', data=average_app_rating_per_daily, scale=0.3)\n",
    "plt.xticks(rotation=45)\n",
    "plt.title('Google play store review rating per daily', fontsize = 15)\n",
    "plt.ylim(0, 5)\n",
    "plt.show()"
   ]
  },
  {
   "cell_type": "code",
   "execution_count": 90,
   "metadata": {},
   "outputs": [
    {
     "data": {
      "text/html": [
       "<div>\n",
       "<style scoped>\n",
       "    .dataframe tbody tr th:only-of-type {\n",
       "        vertical-align: middle;\n",
       "    }\n",
       "\n",
       "    .dataframe tbody tr th {\n",
       "        vertical-align: top;\n",
       "    }\n",
       "\n",
       "    .dataframe thead th {\n",
       "        text-align: right;\n",
       "    }\n",
       "</style>\n",
       "<table border=\"1\" class=\"dataframe\">\n",
       "  <thead>\n",
       "    <tr style=\"text-align: right;\">\n",
       "      <th></th>\n",
       "      <th>user_app_rating</th>\n",
       "    </tr>\n",
       "  </thead>\n",
       "  <tbody>\n",
       "    <tr>\n",
       "      <th>count</th>\n",
       "      <td>6984.000000</td>\n",
       "    </tr>\n",
       "    <tr>\n",
       "      <th>mean</th>\n",
       "      <td>4.541380</td>\n",
       "    </tr>\n",
       "    <tr>\n",
       "      <th>std</th>\n",
       "      <td>1.062155</td>\n",
       "    </tr>\n",
       "    <tr>\n",
       "      <th>min</th>\n",
       "      <td>1.000000</td>\n",
       "    </tr>\n",
       "    <tr>\n",
       "      <th>25%</th>\n",
       "      <td>5.000000</td>\n",
       "    </tr>\n",
       "    <tr>\n",
       "      <th>50%</th>\n",
       "      <td>5.000000</td>\n",
       "    </tr>\n",
       "    <tr>\n",
       "      <th>75%</th>\n",
       "      <td>5.000000</td>\n",
       "    </tr>\n",
       "    <tr>\n",
       "      <th>max</th>\n",
       "      <td>5.000000</td>\n",
       "    </tr>\n",
       "  </tbody>\n",
       "</table>\n",
       "</div>"
      ],
      "text/plain": [
       "       user_app_rating\n",
       "count      6984.000000\n",
       "mean          4.541380\n",
       "std           1.062155\n",
       "min           1.000000\n",
       "25%           5.000000\n",
       "50%           5.000000\n",
       "75%           5.000000\n",
       "max           5.000000"
      ]
     },
     "execution_count": 90,
     "metadata": {},
     "output_type": "execute_result"
    }
   ],
   "source": [
    "# check statics\n",
    "\n",
    "app_rating_with_date.describe()"
   ]
  },
  {
   "cell_type": "markdown",
   "metadata": {},
   "source": [
    "### 월별 분석\n",
    "- 월별 분석을 위해 간단한 전처리 진행 후 분석한다."
   ]
  },
  {
   "cell_type": "code",
   "execution_count": 91,
   "metadata": {},
   "outputs": [
    {
     "data": {
      "text/html": [
       "<div>\n",
       "<style scoped>\n",
       "    .dataframe tbody tr th:only-of-type {\n",
       "        vertical-align: middle;\n",
       "    }\n",
       "\n",
       "    .dataframe tbody tr th {\n",
       "        vertical-align: top;\n",
       "    }\n",
       "\n",
       "    .dataframe thead th {\n",
       "        text-align: right;\n",
       "    }\n",
       "</style>\n",
       "<table border=\"1\" class=\"dataframe\">\n",
       "  <thead>\n",
       "    <tr style=\"text-align: right;\">\n",
       "      <th></th>\n",
       "      <th>user_app_rating</th>\n",
       "      <th>user_review_date</th>\n",
       "    </tr>\n",
       "  </thead>\n",
       "  <tbody>\n",
       "    <tr>\n",
       "      <th>0</th>\n",
       "      <td>5</td>\n",
       "      <td>2020-05-01</td>\n",
       "    </tr>\n",
       "    <tr>\n",
       "      <th>1</th>\n",
       "      <td>5</td>\n",
       "      <td>2020-05-01</td>\n",
       "    </tr>\n",
       "    <tr>\n",
       "      <th>2</th>\n",
       "      <td>5</td>\n",
       "      <td>2020-05-01</td>\n",
       "    </tr>\n",
       "    <tr>\n",
       "      <th>3</th>\n",
       "      <td>5</td>\n",
       "      <td>2020-05-01</td>\n",
       "    </tr>\n",
       "    <tr>\n",
       "      <th>4</th>\n",
       "      <td>5</td>\n",
       "      <td>2020-05-01</td>\n",
       "    </tr>\n",
       "  </tbody>\n",
       "</table>\n",
       "</div>"
      ],
      "text/plain": [
       "   user_app_rating user_review_date\n",
       "0                5       2020-05-01\n",
       "1                5       2020-05-01\n",
       "2                5       2020-05-01\n",
       "3                5       2020-05-01\n",
       "4                5       2020-05-01"
      ]
     },
     "execution_count": 91,
     "metadata": {},
     "output_type": "execute_result"
    }
   ],
   "source": [
    "app_rating_with_monthly = arranged_user_review_df[['user_app_rating', 'user_review_date']]\n",
    "app_rating_with_monthly.head()"
   ]
  },
  {
   "cell_type": "code",
   "execution_count": 92,
   "metadata": {},
   "outputs": [],
   "source": [
    "def extract_year_month(date):\n",
    "    year_month = date[0:7]\n",
    "    \n",
    "    return year_month"
   ]
  },
  {
   "cell_type": "code",
   "execution_count": 93,
   "metadata": {},
   "outputs": [
    {
     "data": {
      "text/html": [
       "<div>\n",
       "<style scoped>\n",
       "    .dataframe tbody tr th:only-of-type {\n",
       "        vertical-align: middle;\n",
       "    }\n",
       "\n",
       "    .dataframe tbody tr th {\n",
       "        vertical-align: top;\n",
       "    }\n",
       "\n",
       "    .dataframe thead th {\n",
       "        text-align: right;\n",
       "    }\n",
       "</style>\n",
       "<table border=\"1\" class=\"dataframe\">\n",
       "  <thead>\n",
       "    <tr style=\"text-align: right;\">\n",
       "      <th></th>\n",
       "      <th>user_app_rating</th>\n",
       "      <th>user_review_date</th>\n",
       "      <th>year_month</th>\n",
       "    </tr>\n",
       "  </thead>\n",
       "  <tbody>\n",
       "    <tr>\n",
       "      <th>0</th>\n",
       "      <td>5</td>\n",
       "      <td>2020-05-01</td>\n",
       "      <td>2020-05</td>\n",
       "    </tr>\n",
       "    <tr>\n",
       "      <th>1</th>\n",
       "      <td>5</td>\n",
       "      <td>2020-05-01</td>\n",
       "      <td>2020-05</td>\n",
       "    </tr>\n",
       "    <tr>\n",
       "      <th>2</th>\n",
       "      <td>5</td>\n",
       "      <td>2020-05-01</td>\n",
       "      <td>2020-05</td>\n",
       "    </tr>\n",
       "    <tr>\n",
       "      <th>3</th>\n",
       "      <td>5</td>\n",
       "      <td>2020-05-01</td>\n",
       "      <td>2020-05</td>\n",
       "    </tr>\n",
       "    <tr>\n",
       "      <th>4</th>\n",
       "      <td>5</td>\n",
       "      <td>2020-05-01</td>\n",
       "      <td>2020-05</td>\n",
       "    </tr>\n",
       "  </tbody>\n",
       "</table>\n",
       "</div>"
      ],
      "text/plain": [
       "   user_app_rating user_review_date year_month\n",
       "0                5       2020-05-01    2020-05\n",
       "1                5       2020-05-01    2020-05\n",
       "2                5       2020-05-01    2020-05\n",
       "3                5       2020-05-01    2020-05\n",
       "4                5       2020-05-01    2020-05"
      ]
     },
     "execution_count": 93,
     "metadata": {},
     "output_type": "execute_result"
    }
   ],
   "source": [
    "app_rating_with_monthly['year_month'] = app_rating_with_monthly['user_review_date'].apply(extract_year_month)\n",
    "app_rating_with_monthly.head()"
   ]
  },
  {
   "cell_type": "code",
   "execution_count": 96,
   "metadata": {},
   "outputs": [],
   "source": [
    "app_rating_with_year_month = app_rating_with_monthly[(app_rating_with_monthly['year_month']>='2020-01')&(app_rating_with_monthly['year_month']<='2020-12')]\n",
    "app_rating_with_year_month.sort_values('user_review_date', ascending=False, inplace=True)\n",
    "app_rating_with_year_month.reset_index(drop=True, inplace=True)"
   ]
  },
  {
   "cell_type": "code",
   "execution_count": 97,
   "metadata": {},
   "outputs": [
    {
     "data": {
      "text/html": [
       "<div>\n",
       "<style scoped>\n",
       "    .dataframe tbody tr th:only-of-type {\n",
       "        vertical-align: middle;\n",
       "    }\n",
       "\n",
       "    .dataframe tbody tr th {\n",
       "        vertical-align: top;\n",
       "    }\n",
       "\n",
       "    .dataframe thead th {\n",
       "        text-align: right;\n",
       "    }\n",
       "</style>\n",
       "<table border=\"1\" class=\"dataframe\">\n",
       "  <thead>\n",
       "    <tr style=\"text-align: right;\">\n",
       "      <th></th>\n",
       "      <th>user_app_rating</th>\n",
       "      <th>user_review_date</th>\n",
       "      <th>year_month</th>\n",
       "    </tr>\n",
       "  </thead>\n",
       "  <tbody>\n",
       "    <tr>\n",
       "      <th>0</th>\n",
       "      <td>4</td>\n",
       "      <td>2020-07-30</td>\n",
       "      <td>2020-07</td>\n",
       "    </tr>\n",
       "    <tr>\n",
       "      <th>1</th>\n",
       "      <td>1</td>\n",
       "      <td>2020-07-30</td>\n",
       "      <td>2020-07</td>\n",
       "    </tr>\n",
       "    <tr>\n",
       "      <th>2</th>\n",
       "      <td>5</td>\n",
       "      <td>2020-07-30</td>\n",
       "      <td>2020-07</td>\n",
       "    </tr>\n",
       "    <tr>\n",
       "      <th>3</th>\n",
       "      <td>4</td>\n",
       "      <td>2020-07-30</td>\n",
       "      <td>2020-07</td>\n",
       "    </tr>\n",
       "    <tr>\n",
       "      <th>4</th>\n",
       "      <td>4</td>\n",
       "      <td>2020-07-30</td>\n",
       "      <td>2020-07</td>\n",
       "    </tr>\n",
       "  </tbody>\n",
       "</table>\n",
       "</div>"
      ],
      "text/plain": [
       "   user_app_rating user_review_date year_month\n",
       "0                4       2020-07-30    2020-07\n",
       "1                1       2020-07-30    2020-07\n",
       "2                5       2020-07-30    2020-07\n",
       "3                4       2020-07-30    2020-07\n",
       "4                4       2020-07-30    2020-07"
      ]
     },
     "execution_count": 97,
     "metadata": {},
     "output_type": "execute_result"
    }
   ],
   "source": [
    "app_rating_with_year_month.head()"
   ]
  },
  {
   "cell_type": "code",
   "execution_count": 98,
   "metadata": {},
   "outputs": [
    {
     "data": {
      "text/html": [
       "<div>\n",
       "<style scoped>\n",
       "    .dataframe tbody tr th:only-of-type {\n",
       "        vertical-align: middle;\n",
       "    }\n",
       "\n",
       "    .dataframe tbody tr th {\n",
       "        vertical-align: top;\n",
       "    }\n",
       "\n",
       "    .dataframe thead th {\n",
       "        text-align: right;\n",
       "    }\n",
       "</style>\n",
       "<table border=\"1\" class=\"dataframe\">\n",
       "  <thead>\n",
       "    <tr style=\"text-align: right;\">\n",
       "      <th></th>\n",
       "      <th>year_month</th>\n",
       "      <th>user_app_rating</th>\n",
       "    </tr>\n",
       "  </thead>\n",
       "  <tbody>\n",
       "    <tr>\n",
       "      <th>0</th>\n",
       "      <td>2020-05</td>\n",
       "      <td>4.632328</td>\n",
       "    </tr>\n",
       "    <tr>\n",
       "      <th>1</th>\n",
       "      <td>2020-06</td>\n",
       "      <td>4.535531</td>\n",
       "    </tr>\n",
       "    <tr>\n",
       "      <th>2</th>\n",
       "      <td>2020-07</td>\n",
       "      <td>4.451327</td>\n",
       "    </tr>\n",
       "  </tbody>\n",
       "</table>\n",
       "</div>"
      ],
      "text/plain": [
       "  year_month  user_app_rating\n",
       "0    2020-05         4.632328\n",
       "1    2020-06         4.535531\n",
       "2    2020-07         4.451327"
      ]
     },
     "execution_count": 98,
     "metadata": {},
     "output_type": "execute_result"
    }
   ],
   "source": [
    "monthly_result = app_rating_with_year_month.groupby('year_month', as_index=False).mean()\n",
    "monthly_result"
   ]
  },
  {
   "cell_type": "code",
   "execution_count": 99,
   "metadata": {},
   "outputs": [
    {
     "data": {
      "text/html": [
       "<div>\n",
       "<style scoped>\n",
       "    .dataframe tbody tr th:only-of-type {\n",
       "        vertical-align: middle;\n",
       "    }\n",
       "\n",
       "    .dataframe tbody tr th {\n",
       "        vertical-align: top;\n",
       "    }\n",
       "\n",
       "    .dataframe thead th {\n",
       "        text-align: right;\n",
       "    }\n",
       "</style>\n",
       "<table border=\"1\" class=\"dataframe\">\n",
       "  <thead>\n",
       "    <tr style=\"text-align: right;\">\n",
       "      <th></th>\n",
       "      <th>user_app_rating</th>\n",
       "    </tr>\n",
       "  </thead>\n",
       "  <tbody>\n",
       "    <tr>\n",
       "      <th>count</th>\n",
       "      <td>3.000000</td>\n",
       "    </tr>\n",
       "    <tr>\n",
       "      <th>mean</th>\n",
       "      <td>4.539729</td>\n",
       "    </tr>\n",
       "    <tr>\n",
       "      <th>std</th>\n",
       "      <td>0.090573</td>\n",
       "    </tr>\n",
       "    <tr>\n",
       "      <th>min</th>\n",
       "      <td>4.451327</td>\n",
       "    </tr>\n",
       "    <tr>\n",
       "      <th>25%</th>\n",
       "      <td>4.493429</td>\n",
       "    </tr>\n",
       "    <tr>\n",
       "      <th>50%</th>\n",
       "      <td>4.535531</td>\n",
       "    </tr>\n",
       "    <tr>\n",
       "      <th>75%</th>\n",
       "      <td>4.583930</td>\n",
       "    </tr>\n",
       "    <tr>\n",
       "      <th>max</th>\n",
       "      <td>4.632328</td>\n",
       "    </tr>\n",
       "  </tbody>\n",
       "</table>\n",
       "</div>"
      ],
      "text/plain": [
       "       user_app_rating\n",
       "count         3.000000\n",
       "mean          4.539729\n",
       "std           0.090573\n",
       "min           4.451327\n",
       "25%           4.493429\n",
       "50%           4.535531\n",
       "75%           4.583930\n",
       "max           4.632328"
      ]
     },
     "execution_count": 99,
     "metadata": {},
     "output_type": "execute_result"
    }
   ],
   "source": [
    "monthly_result.describe()"
   ]
  },
  {
   "cell_type": "code",
   "execution_count": 101,
   "metadata": {},
   "outputs": [
    {
     "data": {
      "image/png": "[encoded data removed]",
      "text/plain": [
       "<Figure size 1080x360 with 1 Axes>"
      ]
     },
     "metadata": {
      "needs_background": "light"
     },
     "output_type": "display_data"
    }
   ],
   "source": [
    "# draw graph : 2020 Google play store review rating per month\n",
    "\n",
    "plt.figure(figsize = (15, 5))\n",
    "sns.pointplot(x='year_month', y='user_app_rating', data=monthly_result, scale=0.3)\n",
    "plt.xticks(rotation=45, fontsize = 15)\n",
    "plt.title('Google play store review rating per month', fontsize = 15)\n",
    "plt.ylim(0, 5)\n",
    "plt.show()"
   ]
  },
  {
   "cell_type": "markdown",
   "metadata": {},
   "source": [
    "---------------------------------"
   ]
  },
  {
   "cell_type": "markdown",
   "metadata": {},
   "source": [
    "### 답변 응답 비율\n",
    "- 사용자의 리뷰에 꼭 답변을 달아야 할 필요는 없지만, 어느 정도는 필요할 것으로 보이기 때문에 이 항목을 살펴본다.\n",
    "- 전체 평점과 평점이 2점 이하인 항목으로 나누어서 살펴본다."
   ]
  },
  {
   "cell_type": "code",
   "execution_count": 103,
   "metadata": {},
   "outputs": [],
   "source": [
    "def get_review_response_graph(series, title_type):\n",
    "    if title_type == 'all':\n",
    "        title_string = '전체 평점 리뷰 답변 비율'\n",
    "    else:\n",
    "        title_string = '2점 이하 평점 리뷰 답변 비율'\n",
    "    \n",
    "    plt.figure(figsize = (8, 5))\n",
    "    sns.barplot(series.index, series.values)\n",
    "    plt.title(title_string)\n",
    "    plt.show()"
   ]
  },
  {
   "cell_type": "code",
   "execution_count": 107,
   "metadata": {},
   "outputs": [
    {
     "data": {
      "text/plain": [
       "no_answer    6954\n",
       "answer         30\n",
       "Name: company_answer_check, dtype: int64"
      ]
     },
     "execution_count": 107,
     "metadata": {},
     "output_type": "execute_result"
    }
   ],
   "source": [
    "arranged_user_review_df['company_answer_check'].value_counts()"
   ]
  },
  {
   "cell_type": "code",
   "execution_count": 114,
   "metadata": {},
   "outputs": [],
   "source": [
    "review_response_all_rating = arranged_user_review_df['company_answer_check'].value_counts(normalize=True)\n",
    "review_response_low_rating = arranged_user_review_df[arranged_user_review_df['user_app_rating']<=2]['company_answer_check'].value_counts(normalize=True)"
   ]
  },
  {
   "cell_type": "code",
   "execution_count": 115,
   "metadata": {},
   "outputs": [
    {
     "data": {
      "image/png": "[encoded data removed]",
      "text/plain": [
       "<Figure size 576x360 with 1 Axes>"
      ]
     },
     "metadata": {
      "needs_background": "light"
     },
     "output_type": "display_data"
    }
   ],
   "source": [
    "get_review_response_graph(review_response_all_rating, 'all')"
   ]
  },
  {
   "cell_type": "code",
   "execution_count": 116,
   "metadata": {},
   "outputs": [
    {
     "data": {
      "image/png": "[encoded data removed]",
      "text/plain": [
       "<Figure size 576x360 with 1 Axes>"
      ]
     },
     "metadata": {
      "needs_background": "light"
     },
     "output_type": "display_data"
    }
   ],
   "source": [
    "get_review_response_graph(review_response_low_rating, 'low')"
   ]
  },
  {
   "cell_type": "markdown",
   "metadata": {},
   "source": [
    "아주 극소수의 답변만이 달리고 있는 상태이다."
   ]
  },
  {
   "cell_type": "markdown",
   "metadata": {},
   "source": [
    "### 리뷰에 답변이 얼마만에 달릴까?\n",
    "- 이용자들에게 답변하는 날짜는 이용자가 리뷰를 달은 날짜와 얼마나 차이가 날까?\n",
    "  - 답변을 달지 않은 날은 제외하고 파악해보도록 하자\n",
    "  - 아쉽게도 시, 분, 초는 플레이스토어에서 구할 수가 없어서 day 기준으로 판단한다.\n",
    "- 리플을 굳이 달지 않아도 되는 항목이 있을 수도 있으니, 리플을 달은 것 vs 달지 않은 것에 대한 비교는 하지 않는다."
   ]
  },
  {
   "cell_type": "code",
   "execution_count": 117,
   "metadata": {},
   "outputs": [
    {
     "data": {
      "text/html": [
       "<div>\n",
       "<style scoped>\n",
       "    .dataframe tbody tr th:only-of-type {\n",
       "        vertical-align: middle;\n",
       "    }\n",
       "\n",
       "    .dataframe tbody tr th {\n",
       "        vertical-align: top;\n",
       "    }\n",
       "\n",
       "    .dataframe thead th {\n",
       "        text-align: right;\n",
       "    }\n",
       "</style>\n",
       "<table border=\"1\" class=\"dataframe\">\n",
       "  <thead>\n",
       "    <tr style=\"text-align: right;\">\n",
       "      <th></th>\n",
       "      <th>user_app_rating</th>\n",
       "      <th>user_review_date</th>\n",
       "      <th>company_comment_date</th>\n",
       "    </tr>\n",
       "  </thead>\n",
       "  <tbody>\n",
       "    <tr>\n",
       "      <th>0</th>\n",
       "      <td>1</td>\n",
       "      <td>2020-06-11</td>\n",
       "      <td>2020-06-11</td>\n",
       "    </tr>\n",
       "    <tr>\n",
       "      <th>1</th>\n",
       "      <td>1</td>\n",
       "      <td>2020-06-11</td>\n",
       "      <td>2020-06-11</td>\n",
       "    </tr>\n",
       "    <tr>\n",
       "      <th>2</th>\n",
       "      <td>1</td>\n",
       "      <td>2020-06-11</td>\n",
       "      <td>2020-06-11</td>\n",
       "    </tr>\n",
       "    <tr>\n",
       "      <th>3</th>\n",
       "      <td>3</td>\n",
       "      <td>2020-06-11</td>\n",
       "      <td>2020-06-11</td>\n",
       "    </tr>\n",
       "    <tr>\n",
       "      <th>4</th>\n",
       "      <td>1</td>\n",
       "      <td>2020-06-11</td>\n",
       "      <td>2020-06-11</td>\n",
       "    </tr>\n",
       "  </tbody>\n",
       "</table>\n",
       "</div>"
      ],
      "text/plain": [
       "   user_app_rating user_review_date company_comment_date\n",
       "0                1       2020-06-11           2020-06-11\n",
       "1                1       2020-06-11           2020-06-11\n",
       "2                1       2020-06-11           2020-06-11\n",
       "3                3       2020-06-11           2020-06-11\n",
       "4                1       2020-06-11           2020-06-11"
      ]
     },
     "execution_count": 117,
     "metadata": {},
     "output_type": "execute_result"
    }
   ],
   "source": [
    "reply_date_df = arranged_user_review_df[['user_app_rating', 'user_review_date', 'company_comment_date']]\n",
    "reply_date_df_with_answer = reply_date_df[reply_date_df['company_comment_date']!='no_answer'].reset_index(drop=True)\n",
    "reply_date_df_with_answer.head()"
   ]
  },
  {
   "cell_type": "code",
   "execution_count": 118,
   "metadata": {},
   "outputs": [],
   "source": [
    "def convert_string_to_datetime_format(date):\n",
    "    convert_date = datetime.strptime(date, \"%Y-%m-%d\")\n",
    "    \n",
    "    return convert_date\n",
    "\n",
    "\n",
    "def calculate_time_deleta(df, column_name_1, column_name2):\n",
    "    time_delta_list = []\n",
    "    for index, row in df.iterrows():\n",
    "        time_delta_value = row[column_name2] - row[column_name_1]\n",
    "        time_delta_day = time_delta_value.days\n",
    "        \n",
    "        time_delta_list.append(time_delta_day)\n",
    "        \n",
    "    df['reply_time'] = time_delta_list\n",
    "    \n",
    "    return df"
   ]
  },
  {
   "cell_type": "code",
   "execution_count": 119,
   "metadata": {},
   "outputs": [
    {
     "data": {
      "text/html": [
       "<div>\n",
       "<style scoped>\n",
       "    .dataframe tbody tr th:only-of-type {\n",
       "        vertical-align: middle;\n",
       "    }\n",
       "\n",
       "    .dataframe tbody tr th {\n",
       "        vertical-align: top;\n",
       "    }\n",
       "\n",
       "    .dataframe thead th {\n",
       "        text-align: right;\n",
       "    }\n",
       "</style>\n",
       "<table border=\"1\" class=\"dataframe\">\n",
       "  <thead>\n",
       "    <tr style=\"text-align: right;\">\n",
       "      <th></th>\n",
       "      <th>user_app_rating</th>\n",
       "      <th>user_review_date</th>\n",
       "      <th>company_comment_date</th>\n",
       "      <th>reply_time</th>\n",
       "    </tr>\n",
       "  </thead>\n",
       "  <tbody>\n",
       "    <tr>\n",
       "      <th>0</th>\n",
       "      <td>1</td>\n",
       "      <td>2020-06-11</td>\n",
       "      <td>2020-06-11</td>\n",
       "      <td>0</td>\n",
       "    </tr>\n",
       "    <tr>\n",
       "      <th>1</th>\n",
       "      <td>1</td>\n",
       "      <td>2020-06-11</td>\n",
       "      <td>2020-06-11</td>\n",
       "      <td>0</td>\n",
       "    </tr>\n",
       "    <tr>\n",
       "      <th>2</th>\n",
       "      <td>1</td>\n",
       "      <td>2020-06-11</td>\n",
       "      <td>2020-06-11</td>\n",
       "      <td>0</td>\n",
       "    </tr>\n",
       "    <tr>\n",
       "      <th>3</th>\n",
       "      <td>3</td>\n",
       "      <td>2020-06-11</td>\n",
       "      <td>2020-06-11</td>\n",
       "      <td>0</td>\n",
       "    </tr>\n",
       "    <tr>\n",
       "      <th>4</th>\n",
       "      <td>1</td>\n",
       "      <td>2020-06-11</td>\n",
       "      <td>2020-06-11</td>\n",
       "      <td>0</td>\n",
       "    </tr>\n",
       "  </tbody>\n",
       "</table>\n",
       "</div>"
      ],
      "text/plain": [
       "   user_app_rating user_review_date company_comment_date  reply_time\n",
       "0                1       2020-06-11           2020-06-11           0\n",
       "1                1       2020-06-11           2020-06-11           0\n",
       "2                1       2020-06-11           2020-06-11           0\n",
       "3                3       2020-06-11           2020-06-11           0\n",
       "4                1       2020-06-11           2020-06-11           0"
      ]
     },
     "execution_count": 119,
     "metadata": {},
     "output_type": "execute_result"
    }
   ],
   "source": [
    "# convert string to datetime_format\n",
    "\n",
    "reply_date_df_with_answer_columns = ['user_review_date', 'company_comment_date']\n",
    "\n",
    "for column in reply_date_df_with_answer_columns:\n",
    "    reply_date_df_with_answer[column] = reply_date_df_with_answer[column].apply(convert_string_to_datetime_format)\n",
    "    \n",
    "\n",
    "# calculate time delta\n",
    "\n",
    "cal_reply_time_delta_df = calculate_time_deleta(reply_date_df_with_answer, 'user_review_date', 'company_comment_date')\n",
    "cal_reply_time_delta_df.head()"
   ]
  },
  {
   "cell_type": "code",
   "execution_count": 120,
   "metadata": {},
   "outputs": [],
   "source": [
    "def arrange_count_value(df, column_name):\n",
    "    df_value_count = df[column_name].value_counts()\n",
    "    \n",
    "    df_count = df_value_count.rename_axis('reply_time').reset_index(name='count')\n",
    "    sorted_df_count = df_count.sort_values('reply_time', ascending=True)\n",
    "    arranged_df = sorted_df_count.reset_index(drop=True)\n",
    "    arranged_df = sorted_df_count[sorted_df_count['reply_time']>=0].reset_index(drop=True)\n",
    "    \n",
    "    return arranged_df"
   ]
  },
  {
   "cell_type": "code",
   "execution_count": 121,
   "metadata": {},
   "outputs": [],
   "source": [
    "# 답변 시간이 음수가 되는 경우가 종종 있다. \n",
    "# 시스템 문제로 파악 되었으나, 그게 아니고 하나의 글에 리플을 여러번 달 경우 처음 답변과의 시차가 발생해서 나타난 결과이다.\n",
    "# 이번 분석에서는 음수가 되는 경우는 제외하고 시각화 하겠다.\n",
    "\n",
    "reply_time_df = arrange_count_value(cal_reply_time_delta_df, 'reply_time')\n",
    "reply_time_df['ratio'] = reply_time_df['count'] / sum(reply_time_df['count'])\n",
    "reply_time_df['cumsum_ratio'] = reply_time_df['ratio'].cumsum()\n",
    "reply_time_df = reply_time_df[reply_time_df['reply_time']<=20]"
   ]
  },
  {
   "cell_type": "code",
   "execution_count": 122,
   "metadata": {},
   "outputs": [
    {
     "data": {
      "image/png": "[encoded data removed]",
      "text/plain": [
       "<Figure size 1440x360 with 2 Axes>"
      ]
     },
     "metadata": {
      "needs_background": "light"
     },
     "output_type": "display_data"
    }
   ],
   "source": [
    "# draw reply_time graph\n",
    "def draw_count_and_ratio_graph(df):\n",
    "    y_position = 1.02\n",
    "    f, ax = plt.subplots(1,2, figsize=(20, 5))\n",
    "\n",
    "    sns.barplot(x='reply_time', y='count', data=df, ax=ax[0])\n",
    "    ax[0].set_title(f'reply_time with count')\n",
    "\n",
    "    sns.barplot(x='reply_time', y='cumsum_ratio', data=df, ax=ax[1])\n",
    "    ax[1].set_title(f'reply_time with cumsum_ratio')\n",
    "    \n",
    "    plt.tight_layout()\n",
    "    plt.show()\n",
    "\n",
    "draw_count_and_ratio_graph(reply_time_df)"
   ]
  },
  {
   "cell_type": "markdown",
   "metadata": {},
   "source": [
    "당근마켓에서는 유저 리뷰에 대하여 답변을 거의 달지 않는 것으로 보인다."
   ]
  },
  {
   "cell_type": "code",
   "execution_count": 123,
   "metadata": {},
   "outputs": [],
   "source": [
    "# filter data set\n",
    "\n",
    "reply_date_df = arranged_user_review_df[['user_app_rating', 'user_review_date', 'company_comment_date']]\n",
    "reply_date_df_with_low_rating = reply_date_df[(reply_date_df['company_comment_date']!='no_answer')&(reply_date_df['user_app_rating']<=2)].reset_index(drop=True)\n",
    "reply_date_df_with_low_rating.head()\n",
    "\n",
    "\n",
    "# convert string to datetime_format\n",
    "\n",
    "reply_date_df_with_low_rating_columns = list(reply_date_df_with_low_rating.columns)\n",
    "\n",
    "for column in reply_date_df_with_low_rating_columns:\n",
    "    if column == \"user_app_rating\":\n",
    "        continue\n",
    "\n",
    "    reply_date_df_with_low_rating[column] = reply_date_df_with_low_rating[column].apply(convert_string_to_datetime_format)\n",
    "    \n",
    "\n",
    "# calculate time delta\n",
    "\n",
    "cal_reply_time_delta_df = calculate_time_deleta(reply_date_df_with_low_rating, 'user_review_date', 'company_comment_date')\n",
    "\n",
    "\n",
    "# calculate ratio\n",
    "\n",
    "reply_time_df = arrange_count_value(cal_reply_time_delta_df, 'reply_time')\n",
    "reply_time_df['ratio'] = reply_time_df['count'] / sum(reply_time_df['count'])\n",
    "reply_time_df['cumsum_ratio'] = reply_time_df['ratio'].cumsum()\n",
    "reply_time_df = reply_time_df[reply_time_df['reply_time']<=20]"
   ]
  },
  {
   "cell_type": "code",
   "execution_count": 124,
   "metadata": {},
   "outputs": [
    {
     "data": {
      "image/png": "[encoded data removed]",
      "text/plain": [
       "<Figure size 1440x360 with 2 Axes>"
      ]
     },
     "metadata": {
      "needs_background": "light"
     },
     "output_type": "display_data"
    }
   ],
   "source": [
    "draw_count_and_ratio_graph(reply_time_df)"
   ]
  },
  {
   "cell_type": "markdown",
   "metadata": {},
   "source": [
    "### 3. 리뷰 내용에 대한 자연어 간단 분석\n",
    "- KAKAO KHAiii를 이용하여 명사 추출\n",
    "- 추출된 자료를 바탕으로 Topic modeling로 구성하고 시각화\n",
    "- 별점에 따라 주요 키워드 분석 진행"
   ]
  },
  {
   "cell_type": "code",
   "execution_count": 125,
   "metadata": {},
   "outputs": [],
   "source": [
    "def extract_noun(word_object_list):\n",
    "    extracted_word_noun_list = []\n",
    "    \n",
    "    for i, word_object in enumerate(word_object_list):\n",
    "        word_object_morphs = word_object.morphs\n",
    "        \n",
    "        for word in word_object_morphs:\n",
    "            if word.tag in ['NNG', 'NNP']:\n",
    "                extracted_word_noun_list.append(word.lex)\n",
    "    \n",
    "    return extracted_word_noun_list\n",
    "\n",
    "\n",
    "def execute_khaiii(user_comment_list):\n",
    "    sentence_analyze_components = []\n",
    "    kha_api = KhaiiiApi()\n",
    "    \n",
    "    for i, user_comment in enumerate(user_comment_list):\n",
    "        word_object_list = []\n",
    "        user_comment_analyze_objects = kha_api.analyze(user_comment)\n",
    "        \n",
    "        for user_comment_analyze_object in user_comment_analyze_objects:\n",
    "            word_object_list.append(user_comment_analyze_object)\n",
    "            \n",
    "        extracted_noun_list = extract_noun(word_object_list)  \n",
    "        sentence_analyze_components.append(extracted_noun_list)\n",
    "        \n",
    "#         if i == 1:\n",
    "#             break\n",
    "    \n",
    "    return sentence_analyze_components"
   ]
  },
  {
   "cell_type": "code",
   "execution_count": 126,
   "metadata": {},
   "outputs": [],
   "source": [
    "# get user_comment_noun_list of all rating reviews\n",
    "\n",
    "user_comment_list = arranged_user_review_df['user_comment'].tolist()\n",
    "all_rating_extracted_user_comment_noun_list = execute_khaiii(user_comment_list)"
   ]
  },
  {
   "cell_type": "code",
   "execution_count": 127,
   "metadata": {},
   "outputs": [
    {
     "data": {
      "text/plain": [
       "[]"
      ]
     },
     "execution_count": 127,
     "metadata": {},
     "output_type": "execute_result"
    }
   ],
   "source": [
    "all_rating_extracted_user_comment_noun_list[0][0:10]"
   ]
  },
  {
   "cell_type": "code",
   "execution_count": 128,
   "metadata": {},
   "outputs": [],
   "source": [
    "def delete_stopwords(word):\n",
    "    regex = '[ㄱ-ㅎㅏ-ㅣ]+'\n",
    "    changed_word = re.sub(pattern=regex, repl='None', string=word)\n",
    "    \n",
    "    return changed_word\n",
    "\n",
    "def get_dataframe_from_noun_list(extracted_user_comment_noun_list):\n",
    "    word_count_dict = {}\n",
    "    \n",
    "    for i, word_list in enumerate(extracted_user_comment_noun_list):\n",
    "        for word in word_list:\n",
    "            if word not in word_count_dict:\n",
    "                word_count_dict[word] = 1\n",
    "            else:\n",
    "                word_count_dict[word] += 1\n",
    "                \n",
    "    word_count_df = pd.DataFrame.from_dict(word_count_dict, orient='index').reset_index().rename(columns = {'index': 'word', 0 : 'count'}).sort_values(by='count', ascending=False).reset_index(drop=True)\n",
    "    word_count_df['word'] = word_count_df['word'].apply(delete_stopwords)\n",
    "    word_count_df_new = word_count_df[word_count_df['word']!='None']\n",
    "    \n",
    "    return word_count_df_new\n",
    "\n",
    "def draw_graph(word_count_df_new):\n",
    "    plt.figure(figsize = (15, 5))\n",
    "    sns.barplot(x = 'word', y = 'count', data=word_count_df_new[0:15])\n",
    "    plt.title('high frequency Top 15 words', fontsize = 15)\n",
    "    plt.xticks(fontsize = 15)\n",
    "    plt.show()"
   ]
  },
  {
   "cell_type": "code",
   "execution_count": 129,
   "metadata": {},
   "outputs": [
    {
     "data": {
      "image/png": "[encoded data removed]",
      "text/plain": [
       "<Figure size 1080x360 with 1 Axes>"
      ]
     },
     "metadata": {
      "needs_background": "light"
     },
     "output_type": "display_data"
    }
   ],
   "source": [
    "all_rating_word_count_df_new = get_dataframe_from_noun_list(all_rating_extracted_user_comment_noun_list)\n",
    "draw_graph(all_rating_word_count_df_new)"
   ]
  },
  {
   "cell_type": "code",
   "execution_count": 130,
   "metadata": {},
   "outputs": [],
   "source": [
    "# Topic Modeling with gensim\n",
    "\n",
    "def save_model_data(name, directory_name):\n",
    "    directory_path = f'{os.getcwd()}{os.sep}lda_model{os.sep}{directory_name}'\n",
    "    if not os.path.exists(directory_path):\n",
    "        os.makedirs(directory_path)\n",
    "    file_path = os.path.join(directory_path, name)\n",
    "\n",
    "    return file_path\n",
    "\n",
    "\n",
    "def load_model_data(name, directory_name):\n",
    "    directory_path = f'{os.getcwd()}{os.sep}lda_model{os.sep}{directory_name}'\n",
    "    file_path = os.path.join(directory_path, name)\n",
    "\n",
    "    return file_path\n",
    "\n",
    "\n",
    "class ReviewModeling:\n",
    "\n",
    "    def __init__(self, topic_num=10, rating_type='all_rating'):\n",
    "        self.topic_num = topic_num\n",
    "        self.rating_type = rating_type\n",
    "\n",
    "    def make_train_review_data_list(self, review_text_list):\n",
    "        cleaned_articles = self._delete_single_word(review_text_list)\n",
    "        high_frequency_words = self._get_high_frequency_words(cleaned_articles)\n",
    "        data_list = self._filter_low_frequency_word(cleaned_articles, high_frequency_words)\n",
    "\n",
    "        return data_list\n",
    "\n",
    "    def make_lda_model(self, data_list):\n",
    "        self._make_word_dictionary(data_list)\n",
    "        self._make_doc_matrix(data_list)\n",
    "        self._make_gensim_model()\n",
    "\n",
    "    def make_lda_visualization(self):\n",
    "        load_directory_name = f'{self.rating_type}'\n",
    "        model_file_path = load_model_data('app_review_train_model.model', load_directory_name)\n",
    "        model = LdaModel.load(model_file_path)\n",
    "        \n",
    "        dict_file_path = load_model_data('app_review_dict.dict', load_directory_name)\n",
    "#         dict_file_path = f'lda_model{os.sep}{self.rating_type}{os.sep}app_review_dict.dict'\n",
    "        dictionary = gensim.corpora.Dictionary.load(dict_file_path)\n",
    "        \n",
    "        corpus_file_path = load_model_data('app_review_corpus.mm', load_directory_name)\n",
    "#         corpus_file_path = f'lda_model{os.sep}{self.rating_type}{os.sep}app_review_corpus.mm'\n",
    "        corpus = gensim.corpora.MmCorpus(corpus_file_path)\n",
    "        \n",
    "        prepare_data = pyLDAvis.gensim.prepare(\n",
    "            model, corpus, dictionary\n",
    "        )\n",
    "\n",
    "        html_file_name = f'{self.rating_type}_app_review_topic_modeling_visualization.html'\n",
    "        lda_visualization(prepare_data, html_file_name)\n",
    "        \n",
    "        self._make_probability_graph(model)\n",
    "\n",
    "    def _delete_single_word(self, article_list):\n",
    "        article_num = 0\n",
    "        for split_article in article_list:\n",
    "            article_list[article_num] = list(filter(lambda x: len(x) >= 2, split_article))\n",
    "            article_num += 1\n",
    "\n",
    "        return article_list\n",
    "\n",
    "    def _get_high_frequency_words(self, clean_text):\n",
    "        article_words = Counter()\n",
    "        for article in clean_text:\n",
    "            article_words.update(article)\n",
    "\n",
    "        common_words_set = article_words.most_common(10000)\n",
    "        high_frequency_words_set = tuple(word for word, count in common_words_set)\n",
    "\n",
    "        return high_frequency_words_set\n",
    "\n",
    "    def _filter_low_frequency_word(self, article_list, high_frequency_words):\n",
    "        article_num = 0\n",
    "        compare_words_set = Counter(high_frequency_words)\n",
    "\n",
    "        for article in article_list:\n",
    "            count_result_list = []\n",
    "            article_counter = Counter(article)\n",
    "            count_result = article_counter & compare_words_set\n",
    "\n",
    "            for word, value in count_result.items():\n",
    "                count_result_list.append(word)\n",
    "            article_list[article_num] = count_result_list\n",
    "            article_num += 1\n",
    "\n",
    "        return article_list\n",
    "\n",
    "    def _make_word_dictionary(self, train_data):\n",
    "        self.review_dictionary = corpora.Dictionary(train_data)\n",
    "        \n",
    "        directory_name = f'{self.rating_type}'\n",
    "        review_dict_file_name = save_model_data('app_review_dict.dict', directory_name)\n",
    "        self.review_dictionary.save(review_dict_file_name)\n",
    "\n",
    "    def _make_doc_matrix(self, train_data):\n",
    "        self.doc_matrix = []\n",
    "        for doc in train_data:\n",
    "            doc2bow_result = self.review_dictionary.doc2bow(doc)\n",
    "            self.doc_matrix.append(doc2bow_result)\n",
    "        \n",
    "        directory_name = f'{self.rating_type}'\n",
    "        doc_matrix_file_name = save_model_data('app_review_corpus.mm', directory_name)\n",
    "        corpora.MmCorpus.serialize(doc_matrix_file_name, self.doc_matrix)\n",
    "\n",
    "    def _make_gensim_model(self):\n",
    "        review_lda = models.ldamodel.LdaModel\n",
    "        model = review_lda(\n",
    "            self.doc_matrix,\n",
    "            num_topics=self.topic_num,\n",
    "            id2word=self.review_dictionary,\n",
    "            passes=100\n",
    "        )\n",
    "    \n",
    "        directory_name = f'{self.rating_type}'\n",
    "        model_file_name = save_model_data('app_review_train_model.model', directory_name)\n",
    "        model.save(model_file_name)\n",
    "\n",
    "        return model\n",
    "    \n",
    "    def _make_probability_graph(self, lda_model):\n",
    "        fig = plt.figure(figsize=(20,30))\n",
    "        number = self.topic_num\n",
    "        image_file_name = f'{self.rating_type}_review_topic.png'\n",
    "        for i in range(number):\n",
    "            lda_model_dataframe=pd.DataFrame(lda_model.show_topic(i), columns=['term','prob']).set_index('term')\n",
    "\n",
    "            plt.subplot(5,3,i+1)\n",
    "            sns.barplot(x='prob', y=lda_model_dataframe.index, data=lda_model_dataframe, label='Cities', palette=\"GnBu_d\")\n",
    "            plt.xlabel('probability')\n",
    "\n",
    "        plt.tight_layout()\n",
    "#         plt.savefig(image_file_name) # 그림 파일로 저장\n",
    "        plt.show()"
   ]
  },
  {
   "cell_type": "code",
   "execution_count": 131,
   "metadata": {},
   "outputs": [],
   "source": [
    "def make_lda_model_with_reviews(news_text, topic_num=10, rating_type='all_rating'):\n",
    "    # make a lda model from news and draw a topic modeling graph.\n",
    "    data = ReviewModeling(topic_num, rating_type)\n",
    "    train_data_set = data.make_train_review_data_list(news_text)\n",
    "    data.make_lda_model(train_data_set)\n",
    "    data.make_lda_visualization()"
   ]
  },
  {
   "cell_type": "code",
   "execution_count": 138,
   "metadata": {},
   "outputs": [
    {
     "data": {
      "image/png": "[encoded data removed]",
      "text/plain": [
       "<Figure size 1440x2160 with 6 Axes>"
      ]
     },
     "metadata": {
      "needs_background": "light"
     },
     "output_type": "display_data"
    }
   ],
   "source": [
    "# run Topic modeling\n",
    "make_lda_model_with_reviews(all_rating_extracted_user_comment_noun_list, 6, 'all_rating')"
   ]
  },
  {
   "cell_type": "markdown",
   "metadata": {},
   "source": [
    "### display topics"
   ]
  },
  {
   "cell_type": "code",
   "execution_count": 139,
   "metadata": {},
   "outputs": [
    {
     "data": {
      "text/html": [
       "\n",
       "<link rel=\"stylesheet\" type=\"text/css\" href=\"https://cdn.rawgit.com/bmabey/pyLDAvis/files/ldavis.v1.0.0.css\">\n",
       "\n",
       "\n",
       "<div id=\"ldavis_el46405112499947944780447600\"></div>\n",
       "<script type=\"text/javascript\">\n",
       "\n",
       "var ldavis_el46405112499947944780447600_data = {\"mdsDat\": {\"x\": [-0.19783029824146248, 0.25538154177915723, -0.009462094060240657, -0.10909923443535623, -0.06691046867055007, 0.12792055362845203], \"y\": [0.10685922030244642, 0.13873544833927312, 0.07207991110593645, -0.15457832177336894, 0.049322059766819845, -0.21241831774110684], \"topics\": [1, 2, 3, 4, 5, 6], \"cluster\": [1, 1, 1, 1, 1, 1], \"Freq\": [23.240266799926758, 21.632116317749023, 15.2344388961792, 15.199329376220703, 14.51417064666748, 10.179685592651367]}, \"tinfo\": {\"Category\": [\"Default\", \"Default\", \"Default\", \"Default\", \"Default\", \"Default\", \"Default\", \"Default\", \"Default\", \"Default\", \"Default\", \"Default\", \"Default\", \"Default\", \"Default\", \"Default\", \"Default\", \"Default\", \"Default\", \"Default\", \"Default\", \"Default\", \"Default\", \"Default\", \"Default\", \"Default\", \"Default\", \"Default\", \"Default\", \"Default\", \"Topic1\", \"Topic1\", \"Topic1\", \"Topic1\", \"Topic1\", \"Topic1\", \"Topic1\", \"Topic1\", \"Topic1\", \"Topic1\", \"Topic1\", \"Topic1\", \"Topic1\", \"Topic1\", \"Topic1\", \"Topic1\", \"Topic1\", \"Topic1\", \"Topic1\", \"Topic1\", \"Topic1\", \"Topic1\", \"Topic1\", \"Topic1\", \"Topic1\", \"Topic1\", \"Topic1\", \"Topic1\", \"Topic1\", \"Topic1\", \"Topic1\", \"Topic1\", \"Topic1\", \"Topic1\", \"Topic1\", \"Topic1\", \"Topic1\", \"Topic1\", \"Topic1\", \"Topic1\", \"Topic1\", \"Topic1\", \"Topic1\", \"Topic1\", \"Topic1\", \"Topic1\", \"Topic1\", \"Topic1\", \"Topic1\", \"Topic1\", \"Topic1\", \"Topic1\", \"Topic1\", \"Topic2\", \"Topic2\", \"Topic2\", \"Topic2\", \"Topic2\", \"Topic2\", \"Topic2\", \"Topic2\", \"Topic2\", \"Topic2\", \"Topic2\", \"Topic2\", \"Topic2\", \"Topic2\", \"Topic2\", \"Topic2\", \"Topic2\", \"Topic2\", \"Topic2\", \"Topic2\", \"Topic2\", \"Topic2\", \"Topic2\", \"Topic2\", \"Topic2\", \"Topic2\", \"Topic2\", \"Topic2\", \"Topic2\", \"Topic2\", \"Topic2\", \"Topic2\", \"Topic2\", \"Topic2\", \"Topic2\", \"Topic2\", \"Topic2\", \"Topic2\", \"Topic2\", \"Topic2\", \"Topic2\", \"Topic2\", \"Topic2\", \"Topic2\", \"Topic2\", \"Topic2\", \"Topic2\", \"Topic2\", \"Topic2\", \"Topic3\", \"Topic3\", \"Topic3\", \"Topic3\", \"Topic3\", \"Topic3\", \"Topic3\", \"Topic3\", \"Topic3\", \"Topic3\", \"Topic3\", \"Topic3\", \"Topic3\", \"Topic3\", \"Topic3\", \"Topic3\", \"Topic3\", \"Topic3\", \"Topic3\", \"Topic3\", \"Topic3\", \"Topic3\", \"Topic3\", \"Topic3\", \"Topic3\", \"Topic3\", \"Topic3\", \"Topic3\", \"Topic3\", \"Topic3\", \"Topic3\", \"Topic3\", \"Topic3\", \"Topic3\", \"Topic3\", \"Topic3\", \"Topic3\", \"Topic3\", \"Topic3\", \"Topic3\", \"Topic3\", \"Topic3\", \"Topic3\", \"Topic3\", \"Topic3\", \"Topic3\", \"Topic3\", \"Topic3\", \"Topic3\", \"Topic4\", \"Topic4\", \"Topic4\", \"Topic4\", \"Topic4\", \"Topic4\", \"Topic4\", \"Topic4\", \"Topic4\", \"Topic4\", \"Topic4\", \"Topic4\", \"Topic4\", \"Topic4\", \"Topic4\", \"Topic4\", \"Topic4\", \"Topic4\", \"Topic4\", \"Topic4\", \"Topic4\", \"Topic4\", \"Topic4\", \"Topic4\", \"Topic4\", \"Topic4\", \"Topic4\", \"Topic4\", \"Topic4\", \"Topic4\", \"Topic4\", \"Topic4\", \"Topic4\", \"Topic4\", \"Topic4\", \"Topic4\", \"Topic4\", \"Topic4\", \"Topic4\", \"Topic4\", \"Topic4\", \"Topic4\", \"Topic4\", \"Topic4\", \"Topic4\", \"Topic4\", \"Topic4\", \"Topic4\", \"Topic4\", \"Topic5\", \"Topic5\", \"Topic5\", \"Topic5\", \"Topic5\", \"Topic5\", \"Topic5\", \"Topic5\", \"Topic5\", \"Topic5\", \"Topic5\", \"Topic5\", \"Topic5\", \"Topic5\", \"Topic5\", \"Topic5\", \"Topic5\", \"Topic5\", \"Topic5\", \"Topic5\", \"Topic5\", \"Topic5\", \"Topic5\", \"Topic5\", \"Topic5\", \"Topic5\", \"Topic5\", \"Topic5\", \"Topic5\", \"Topic5\", \"Topic5\", \"Topic5\", \"Topic5\", \"Topic5\", \"Topic5\", \"Topic5\", \"Topic5\", \"Topic5\", \"Topic5\", \"Topic5\", \"Topic5\", \"Topic5\", \"Topic5\", \"Topic5\", \"Topic5\", \"Topic5\", \"Topic5\", \"Topic5\", \"Topic5\", \"Topic5\", \"Topic5\", \"Topic5\", \"Topic5\", \"Topic6\", \"Topic6\", \"Topic6\", \"Topic6\", \"Topic6\", \"Topic6\", \"Topic6\", \"Topic6\", \"Topic6\", \"Topic6\", \"Topic6\", \"Topic6\", \"Topic6\", \"Topic6\", \"Topic6\", \"Topic6\", \"Topic6\", \"Topic6\", \"Topic6\", \"Topic6\", \"Topic6\", \"Topic6\", \"Topic6\", \"Topic6\", \"Topic6\", \"Topic6\", \"Topic6\", \"Topic6\", \"Topic6\", \"Topic6\", \"Topic6\", \"Topic6\", \"Topic6\", \"Topic6\", \"Topic6\", \"Topic6\", \"Topic6\", \"Topic6\", \"Topic6\", \"Topic6\", \"Topic6\", \"Topic6\"], \"Freq\": [962.0, 298.0, 500.0, 339.0, 248.0, 375.0, 168.0, 337.0, 135.0, 175.0, 151.0, 104.0, 203.0, 173.0, 115.0, 123.0, 148.0, 194.0, 79.0, 96.0, 99.0, 137.0, 132.0, 86.0, 164.0, 64.0, 79.0, 269.0, 72.0, 99.0, 98.5526351928711, 85.5003433227539, 55.538394927978516, 47.23979187011719, 38.97728729248047, 28.252477645874023, 23.231426239013672, 22.52312660217285, 22.17961311340332, 22.034812927246094, 21.238143920898438, 20.277006149291992, 19.1823673248291, 13.506135940551758, 10.513503074645996, 10.379593849182129, 10.104636192321777, 10.026237487792969, 10.087615966796875, 9.606192588806152, 8.858985900878906, 7.895798683166504, 7.574725151062012, 7.447683811187744, 7.36555290222168, 7.355476379394531, 7.232667922973633, 7.185014724731445, 6.954829692840576, 6.762151718139648, 118.13252258300781, 311.6228942871094, 395.4313659667969, 142.71730041503906, 163.24440002441406, 79.77751922607422, 246.08787536621094, 29.817794799804688, 22.807735443115234, 110.51275634765625, 33.45346450805664, 64.85619354248047, 21.894872665405273, 82.30638885498047, 63.870391845703125, 223.95449829101562, 79.60194396972656, 83.68882751464844, 58.08280944824219, 42.824214935302734, 36.12023162841797, 27.615047454833984, 25.62392807006836, 95.35124206542969, 78.6443862915039, 71.50032043457031, 55.44390106201172, 45.360782623291016, 44.6624755859375, 38.69524383544922, 35.9743766784668, 35.77164840698242, 35.13624572753906, 32.91029739379883, 28.244752883911133, 25.90496826171875, 24.355201721191406, 23.87091827392578, 23.604482650756836, 23.07766342163086, 21.963123321533203, 21.856401443481445, 20.450624465942383, 20.159839630126953, 19.452856063842773, 17.770709991455078, 15.238252639770508, 15.014081001281738, 14.956955909729004, 14.64559555053711, 14.728409767150879, 13.633172035217285, 13.575948715209961, 26.327247619628906, 121.57772827148438, 70.32036590576172, 25.662185668945312, 47.82046127319336, 104.25962829589844, 44.49504852294922, 31.355587005615234, 46.874813079833984, 35.654170989990234, 73.47624969482422, 27.459095001220703, 25.534521102905273, 32.824466705322266, 28.031633377075195, 42.39179611206055, 31.63397216796875, 31.06102180480957, 30.159391403198242, 79.165283203125, 35.925750732421875, 27.59356117248535, 25.34925079345703, 24.159215927124023, 20.586336135864258, 17.812957763671875, 15.979400634765625, 15.007040977478027, 14.043519973754883, 13.596019744873047, 11.674668312072754, 10.995827674865723, 10.406888008117676, 10.356817245483398, 10.218356132507324, 126.97093200683594, 8.874080657958984, 8.827372550964355, 8.30931282043457, 7.81007719039917, 7.257991790771484, 7.037327289581299, 6.9019575119018555, 6.6213812828063965, 6.491110324859619, 16.49860954284668, 6.471374034881592, 6.405395984649658, 6.404595375061035, 91.3766098022461, 15.755407333374023, 122.73367309570312, 36.382198333740234, 81.8041763305664, 90.90978240966797, 18.501264572143555, 104.25606536865234, 21.76178741455078, 14.042951583862305, 41.498722076416016, 39.64055633544922, 75.0191879272461, 26.792993545532227, 23.352792739868164, 13.692234992980957, 16.788923263549805, 17.90712547302246, 14.250548362731934, 297.6715087890625, 247.4276885986328, 63.36937713623047, 36.68514633178711, 13.09212589263916, 12.836587905883789, 8.348886489868164, 8.021777153015137, 7.884113311767578, 7.493222713470459, 7.410195350646973, 7.0398406982421875, 7.0112457275390625, 7.135186672210693, 6.9515061378479, 6.7693963050842285, 6.698568820953369, 6.674978733062744, 6.5568952560424805, 6.556780815124512, 6.596437931060791, 6.0277862548828125, 5.944146633148193, 5.963165760040283, 5.955803871154785, 5.891978740692139, 5.880342960357666, 5.746830940246582, 5.612773895263672, 5.352847576141357, 124.4501724243164, 471.7430725097656, 9.158799171447754, 99.31529998779297, 13.41096019744873, 26.870948791503906, 7.032113075256348, 52.585391998291016, 20.15181541442871, 32.972808837890625, 40.050209045410156, 36.0771598815918, 23.764347076416016, 20.77027702331543, 13.085137367248535, 13.67066478729248, 8.925497055053711, 8.140382766723633, 7.279702663421631, 167.75473022460938, 44.9391975402832, 29.81859016418457, 26.012874603271484, 20.83330726623535, 16.18017578125, 11.063314437866211, 11.092446327209473, 10.83573055267334, 9.801980972290039, 9.819549560546875, 9.043001174926758, 8.435317039489746, 8.227645874023438, 8.239951133728027, 8.224108695983887, 8.019552230834961, 32.40793228149414, 7.1858062744140625, 7.055119514465332, 6.422249794006348, 6.442002296447754, 6.173511505126953, 6.143486499786377, 5.740050315856934, 5.73624324798584, 5.6768479347229, 5.665761947631836, 5.044671535491943, 4.91344690322876, 254.95675659179688, 27.988805770874023, 29.069421768188477, 43.78598403930664, 12.074807167053223, 10.385176658630371, 19.203449249267578, 10.802919387817383, 8.901134490966797, 10.50034236907959, 36.702945709228516, 191.71340942382812, 14.23798656463623, 65.41870880126953, 16.866968154907227, 63.26625061035156, 32.7369499206543, 13.255990028381348, 29.97342872619629, 19.434125900268555, 10.779667854309082, 15.58305835723877, 12.077316284179688, 35.735748291015625, 28.007591247558594, 20.354028701782227, 18.01848793029785, 16.39484214782715, 15.700626373291016, 14.807331085205078, 12.344773292541504, 10.553929328918457, 9.391797065734863, 8.554045677185059, 8.296894073486328, 8.176612854003906, 7.961244583129883, 7.886765956878662, 7.683591842651367, 7.485007286071777, 7.264486789703369, 7.130790710449219, 5.9114813804626465, 5.867490768432617, 5.723252296447754, 5.240591526031494, 5.159408092498779, 5.024377346038818, 5.0374860763549805, 5.0365729331970215, 4.886384010314941, 4.695330619812012, 4.62250280380249, 89.77645874023438, 18.675121307373047, 12.417052268981934, 73.82508087158203, 22.13408851623535, 10.473536491394043, 26.939556121826172, 29.6651554107666, 11.720293045043945, 6.928927421569824, 9.95670223236084, 9.500227928161621], \"Term\": [\"\\uac70\\ub798\", \"\\uc0ac\\uc6a9\", \"\\ubb3c\\uac74\", \"\\ub3d9\\ub124\", \"\\uc911\\uace0\", \"\\uc9c1\\uac70\\ub798\", \"\\ub9cc\\uc871\", \"\\ud544\\uc694\", \"\\uac00\\uaca9\", \"\\ud3b8\\ub9ac\", \"\\ucd5c\\uace0\", \"\\uc5b4\\ud50c\", \"\\uc720\\uc6a9\", \"\\uc9c0\\uc5ed\", \"\\uac10\\uc0ac\", \"\\uc81c\\ud488\", \"\\ucc44\\ud305\", \"\\ub2f9\\uadfc\\ub9c8\\ucf13\", \"\\uc0dd\\uac01\", \"\\uae30\\ub2a5\", \"\\uc911\\uace0\\ub098\\ub77c\", \"\\uac80\\uc0c9\", \"\\uc774\\uc6a9\", \"\\uad6c\\uc785\", \"\\uad6c\\ub9e4\", \"\\ucc98\\uc74c\", \"\\uc124\\uc815\", \"\\uc0ac\\ub78c\", \"\\ud310\\ub9e4\\uc790\", \"\\ubb3c\\ud488\", \"\\uc911\\uace0\\ub098\\ub77c\", \"\\uad6c\\uc785\", \"\\uc548\\uc804\", \"\\uc8fc\\ubcc0\", \"\\ub3c4\\uc6c0\", \"\\uc548\\uc2ec\", \"\\uc9c0\\uae08\", \"\\ub2e4\\uc591\", \"\\u314e\\u314e\", \"\\uac71\\uc815\", \"\\ub355\\ubd84\", \"\\uc2e4\\uc6a9\", \"\\uc9d1\\uadfc\\ucc98\", \"\\uc2e4\\uc0dd\\ud65c\", \"\\uc8fc\\uc778\", \"\\uc704\\ud5d8\", \"\\uc11c\\ube44\\uc2a4\", \"\\uae30\\ubc18\", \"\\ub85c\\uadf8\\uc778\", \"\\uc751\\ub2f5\", \"\\ube44\\uad50\", \"\\uac00\\uaca9\\ub300\", \"\\uc2fc\\uac00\\uaca9\", \"\\uc808\\uc57d\", \"\\uc7a5\\ud130\", \"\\ubc88\\ucc3d\", \"\\ud314\\uc218\", \"\\ud0c0\\uc9c0\", \"\\uc5fc\\ub824\", \"\\uc911\\uace0\\ubb3c\\ud488\", \"\\uc774\\uc6a9\", \"\\uc9c1\\uac70\\ub798\", \"\\ubb3c\\uac74\", \"\\uc9c0\\uc5ed\", \"\\uc720\\uc6a9\", \"\\ubb3c\\ud488\", \"\\ud544\\uc694\", \"\\uc0dd\\ud65c\", \"\\uc815\\ub9ac\", \"\\uad6c\\ub9e4\", \"\\uac70\\ub9ac\", \"\\uc0ac\\uae30\", \"\\uc704\\uc8fc\", \"\\ub2f9\\uadfc\", \"\\uac00\\ub2a5\", \"\\uac70\\ub798\", \"\\uc0ac\\ub78c\", \"\\ub3d9\\ub124\", \"\\ub2f9\\uadfc\\ub9c8\\ucf13\", \"\\ud310\\ub9e4\", \"\\uc0c1\\ud488\", \"\\uac10\\uc0ac\", \"\\uadfc\\ucc98\", \"\\uae30\\ub2a5\", \"\\uc124\\uc815\", \"\\ud310\\ub9e4\\uc790\", \"\\uc778\\uc99d\", \"\\uc0ad\\uc81c\", \"\\uc54c\\ub78c\", \"\\ud0a4\\uc6cc\\ub4dc\", \"\\uc2dc\\uc2a4\\ud15c\", \"\\uc54c\\ub9bc\", \"\\uad6c\\ub9e4\\uc790\", \"\\uc644\\ub8cc\", \"\\ubb38\\uc81c\", \"\\ubc88\\ud638\", \"\\uc18c\\ub9ac\", \"\\uc120\\ud0dd\", \"\\uac00\\uc785\", \"\\ud3c9\\uac00\", \"\\uc218\\uc815\", \"\\uad00\\uc2ec\", \"\\ub178\\ucd9c\", \"\\uc0c1\\ub300\\ubc29\", \"\\ube44\\ub9e4\\ub108\", \"\\uc5c5\\ub370\\uc774\\ud2b8\", \"\\ucd94\\uac00\", \"\\uc5f0\\uacb0\", \"\\uc704\\uce58\", \"\\ub9ac\\ubdf0\", \"\\ubc88\\uac1c\\uc7a5\\ud130\", \"\\ubaa9\\ub85d\", \"\\uc81c\\uc7ac\", \"\\ub4f1\\ub85d\", \"\\ucc44\\ud305\", \"\\ubd88\\ud3b8\", \"\\uad11\\uace0\", \"\\ub9e4\\ub108\", \"\\uac80\\uc0c9\", \"\\uc2e0\\uace0\", \"\\ub9e4\\ubb3c\", \"\\ud655\\uc778\", \"\\uc774\\uc0c1\", \"\\ud310\\ub9e4\", \"\\uacbd\\uc6b0\", \"\\uc774\\uc720\", \"\\uc5f0\\ub77d\", \"\\uae30\\ubd84\", \"\\uc0ac\\ub78c\", \"\\uc81c\\ud488\", \"\\uac00\\ub2a5\", \"\\uc0c1\\ud488\", \"\\uc0dd\\uac01\", \"\\uc7ac\\ubbf8\", \"\\uad7f\\uad7f\", \"\\uc0b4\\uc218\", \"\\uacf5\\uc720\", \"\\ud65c\\uc6a9\", \"\\uc560\\uc6a9\", \"\\ud65c\\uc131\", \"\\uc11c\\ub85c\", \"\\uc138\\uc0c1\", \"\\uc2e4\\uc2dc\\uac04\", \"\\ub4dd\\ud15c\", \"\\ud658\\uacbd\", \"\\ub290\\ub08c\", \"\\ucd5c\\uace0\\uc608\\uc694\", \"\\uae30\\uc068\", \"\\uac00\\uaca9\", \"\\uc790\\uc6d0\", \"\\uc8fc\\uc704\", \"\\ub300\\uc751\", \"\\ub9e4\\ub9e4\", \"\\uc778\\ud130\\ub137\", \"\\uc911\\uace0\\ud488\", \"\\ud50c\\ub7ab\\ud3fc\", \"\\ube44\\uc6c0\", \"\\uad7f\\uad7f\\uad7f\", \"\\uc2dc\\uc7a5\", \"\\ubd84\\uc591\", \"\\uae30\\ud68c\", \"\\uc9c1\\uc811\", \"\\uc81c\\ud488\", \"\\uc608\\uc57d\", \"\\ud3b8\\ub9ac\", \"\\uc774\\uc6c3\", \"\\uc0ac\\ub78c\", \"\\ud544\\uc694\", \"\\ub9c8\\ucf13\", \"\\ubb3c\\uac74\", \"\\uc2dc\\uac04\", \"\\uac1c\\uc778\", \"\\uad6c\\ub9e4\", \"\\ub2f9\\uadfc\", \"\\uac70\\ub798\", \"\\ucc44\\ud305\", \"\\uc0c1\\ud488\", \"\\uc624\\ub298\", \"\\uc9c4\\uc9dc\", \"\\ud310\\ub9e4\", \"\\uc5b4\\ud50c\", \"\\uc0ac\\uc6a9\", \"\\uc911\\uace0\", \"\\ucc98\\uc74c\", \"\\uc644\\uc804\", \"\\uc18c\\ud1b5\", \"\\uc131\\uc0ac\", \"\\uc870\\uc2ec\", \"\\uc774\\uc571\", \"\\uc911\\uace0\\ub9c8\\ucf13\", \"\\uc2e4\\uc18d\", \"\\ucd5c\\uadfc\", \"\\uc790\\uc804\\uac70\", \"\\uc571\\uc774\\ub124\", \"\\uac70\\uc808\", \"\\uc0c1\\ud669\", \"\\uae30\\uc874\", \"\\uc5b4\\ud50c\\uc774\", \"\\uc2e0\\uc138\", \"\\uc544\\uc774\", \"\\ud578\\ub4dc\\ud3f0\", \"\\ud574\\ub2f9\", \"\\uac70\\ub798\\uc571\", \"\\uc870\\uc544\\uc6a9\", \"\\uc548\\ub155\", \"\\uc9c1\\uac70\\ub798\\uc704\\uc8fc\", \"\\uc2e0\\ubd84\", \"\\uc758\\ub958\", \"\\uc911\\uace0\\ubb3c\\uac74\", \"\\ucd5c\\uacf1\\ub2c8\", \"\\ub2f9\\ud669\", \"\\ucd5c\\uace0\", \"\\uac70\\ub798\", \"\\ub300\\ubd80\\ubd84\", \"\\ub2f9\\uadfc\\ub9c8\\ucf13\", \"\\ud589\\ubcf5\", \"\\uc2e0\\ub8b0\", \"\\uc6b0\\ub9ac\\ub3d9\\ub124\", \"\\ud3b8\\ub9ac\", \"\\ubb34\\ub8cc\", \"\\uc0c1\\ud488\", \"\\uc720\\uc6a9\", \"\\ub2f9\\uadfc\", \"\\uadfc\\ucc98\", \"\\uac00\\ub2a5\", \"\\uae30\\ubd84\", \"\\ud310\\ub9e4\", \"\\uc694\\uc998\", \"\\uc0ac\\uc9c4\", \"\\uc5c5\\uc790\", \"\\ub9cc\\uc871\", \"\\uce5c\\uc808\", \"\\uc13c\\ud130\", \"\\uc8fc\\ubbfc\", \"\\ubb38\\uc758\", \"\\uacc4\\uc815\", \"\\uc778\\uadfc\", \"\\uc11c\\uc6b8\", \"\\uc544\\ubb34\\uac83\", \"\\uc5b4\\uc81c\", \"\\uc6a9\\ud488\", \"\\ub2e4\\uc74c\", \"\\uc18c\\ube44\\uc790\", \"\\ub300\\ub9cc\\uc871\", \"\\ud569\\ub9ac\", \"\\uc778\\uac04\", \"\\uc2e0\\uc18d\", \"\\ub9c8\\uc74c\", \"\\uae30\\uc900\", \"\\uc21c\\uac04\", \"\\uc870\\uc544\", \"\\ubcc0\\uacbd\", \"\\ub3d9\\ub124\\uc0dd\\ud65c\", \"\\ucde8\\ubbf8\", \"\\ud615\\uc131\", \"\\uc801\\uc6a9\", \"\\ucd5c\\uc545\", \"\\uc628\\ub77c\\uc778\", \"\\uc815\\ucc45\", \"\\u314b\\u314b\\u314b\", \"\\ub3d9\\ub124\", \"\\ud0dd\\ubc30\", \"\\uace0\\uac1d\", \"\\uc9c4\\uc9dc\", \"\\ub3d9\\uc548\", \"\\uac70\\uc9c0\", \"\\uc624\\ub958\", \"\\uc804\\uad6d\", \"\\ub098\\ub77c\", \"\\ud574\\uacb0\", \"\\uadfc\\ucc98\", \"\\uac70\\ub798\", \"\\ud558\\ub8e8\", \"\\uc0ac\\ub78c\", \"\\uc815\\uc9c0\", \"\\uc9c1\\uac70\\ub798\", \"\\uac80\\uc0c9\", \"\\ud0c8\\ud1f4\", \"\\uc9c0\\uc5ed\", \"\\ubb3c\\ud488\", \"\\uc608\\uc804\", \"\\uac00\\ub2a5\", \"\\ubd88\\ud3b8\", \"\\uc815\\ubcf4\", \"\\uc720\\uc775\", \"\\uc911\\ub3c5\", \"\\uacbd\\ud5d8\", \"\\uc815\\ud655\", \"\\uad6c\\uacbd\", \"\\uac15\\ucd94\", \"\\uc811\\uc18d\", \"\\uac1c\\ubc1c\\uc790\", \"\\uc544\\uc774\\ub514\\uc5b4\", \"\\ubd80\\ub2f4\", \"\\uc131\\uacf5\", \"\\uc778\\ud130\\ud398\\uc774\\uc2a4\", \"\\uc0ac\\ub791\", \"\\ub098\\ubc14\\ub2e4\", \"\\uc138\\ubd84\", \"\\ucd5c\\uace0\\uc785\\ub2c8\", \"\\uac1c\\ubc1c\", \"\\uc7a5\\uc0ac\", \"\\uc0c8\\uac83\", \"\\ud734\\ub300\\ud3f0\", \"\\uc9d1\\uc55e\", \"\\uc6a9\\ub3c8\\ubc8c\", \"\\uc720\\uc9c0\", \"\\uc911\\ub098\", \"\\ucf54\\ub85c\", \"\\uc911\\uc694\", \"\\uc790\\uc8fc\", \"\\ucc45\\uc784\", \"\\ud68c\\uc6d0\", \"\\uc5b4\\ud50c\", \"\\uc2dc\\uc791\", \"\\uadfc\\uac70\\ub9ac\", \"\\uac10\\uc0ac\", \"\\u314b\\u314b\", \"\\uc0ac\\uc774\\ud2b8\", \"\\ucd5c\\uace0\", \"\\ub2f9\\uadfc\\ub9c8\\ucf13\", \"\\ucd94\\ucc9c\", \"\\uae08\\uc561\", \"\\uc5f0\\ub77d\", \"\\uc0ac\\uae30\"], \"Total\": [962.0, 298.0, 500.0, 339.0, 248.0, 375.0, 168.0, 337.0, 135.0, 175.0, 151.0, 104.0, 203.0, 173.0, 115.0, 123.0, 148.0, 194.0, 79.0, 96.0, 99.0, 137.0, 132.0, 86.0, 164.0, 64.0, 79.0, 269.0, 72.0, 99.0, 99.25764465332031, 86.20467376708984, 56.24290084838867, 47.94477081298828, 39.68149948120117, 28.956161499023438, 23.93997573852539, 23.228565216064453, 22.884660720825195, 22.74109649658203, 21.942678451538086, 20.984092712402344, 19.88579750061035, 14.209701538085938, 11.218910217285156, 11.084033012390137, 10.813663482666016, 10.731758117675781, 10.798237800598145, 10.312384605407715, 9.565217018127441, 8.606553077697754, 8.279258728027344, 8.152841567993164, 8.070487976074219, 8.06146240234375, 7.935948848724365, 7.891362190246582, 7.658287048339844, 7.465389251708984, 132.54428100585938, 375.4543151855469, 500.2508239746094, 173.2568817138672, 203.8639373779297, 99.77803802490234, 337.559814453125, 35.85619354248047, 27.616628646850586, 164.37747192382812, 42.95522689819336, 96.31194305419922, 26.966360092163086, 180.48980712890625, 131.56593322753906, 962.7177734375, 269.4906921386719, 339.2109680175781, 194.28857421875, 148.15768432617188, 122.88414764404297, 115.99134826660156, 86.52074432373047, 96.04585266113281, 79.33833312988281, 72.19583129882812, 56.138160705566406, 46.05462646484375, 45.355613708496094, 39.38893508911133, 36.671016693115234, 36.46552276611328, 35.83098220825195, 33.60628890991211, 28.942106246948242, 26.59832763671875, 25.04880142211914, 24.564861297607422, 24.300010681152344, 23.776954650878906, 22.65668487548828, 22.550477981567383, 21.14500617980957, 20.855091094970703, 20.149545669555664, 18.46598243713379, 15.932899475097656, 15.708721160888672, 15.65215015411377, 15.339118957519531, 15.426806449890137, 14.327991485595703, 14.27200984954834, 27.968355178833008, 148.9232177734375, 82.95184326171875, 28.52353286743164, 56.99214553833008, 137.55055236816406, 53.69833755493164, 36.36542892456055, 60.59132766723633, 43.08054733276367, 148.15768432617188, 33.52403259277344, 30.415122985839844, 52.066162109375, 41.677669525146484, 269.4906921386719, 123.56346130371094, 131.56593322753906, 122.88414764404297, 79.86661529541016, 36.62636947631836, 28.29222869873047, 26.048906326293945, 24.86001205444336, 21.28769302368164, 18.515138626098633, 16.679330825805664, 15.708105087280273, 14.744749069213867, 14.295888900756836, 12.374274253845215, 11.696907043457031, 11.107922554016113, 11.055586814880371, 10.91722583770752, 135.97454833984375, 9.573795318603516, 9.528107643127441, 9.010194778442383, 8.508872032165527, 7.961041450500488, 7.7372307777404785, 7.605223655700684, 7.320263385772705, 7.18984317779541, 18.279874801635742, 7.173368453979492, 7.104444980621338, 7.10402250289917, 123.56346130371094, 18.88640594482422, 175.8834686279297, 54.804908752441406, 269.4906921386719, 337.559814453125, 32.53010559082031, 500.2508239746094, 46.42681884765625, 22.926746368408203, 164.37747192382812, 180.48980712890625, 962.7177734375, 148.9232177734375, 122.88414764404297, 25.08759117126465, 61.13716506958008, 148.15768432617188, 104.59065246582031, 298.3797607421875, 248.13597106933594, 64.07783508300781, 37.39186096191406, 13.799341201782227, 13.54377555847168, 9.058721542358398, 8.729637145996094, 8.590271949768066, 8.202102661132812, 8.121175765991211, 7.749096870422363, 7.718150615692139, 7.856011867523193, 7.666884899139404, 7.478023529052734, 7.4049296379089355, 7.3816399574279785, 7.264809608459473, 7.2649712562561035, 7.328935623168945, 6.7376389503479, 6.649382591247559, 6.671546459197998, 6.664092063903809, 6.598504066467285, 6.590056419372559, 6.457935333251953, 6.319146156311035, 6.069710731506348, 151.95936584472656, 962.7177734375, 11.027466773986816, 194.28857421875, 17.90406036376953, 41.93272018432617, 8.48387622833252, 175.8834686279297, 44.19455337524414, 122.88414764404297, 203.8639373779297, 180.48980712890625, 86.52074432373047, 131.56593322753906, 41.677669525146484, 148.15768432617188, 24.124767303466797, 24.4252872467041, 25.93191146850586, 168.45774841308594, 45.64243698120117, 30.522228240966797, 26.71599006652832, 21.537771224975586, 16.882177352905273, 11.764665603637695, 11.79586410522461, 11.539200782775879, 10.507696151733398, 10.527372360229492, 9.752962112426758, 9.140602111816406, 8.928577423095703, 8.944134712219238, 8.928025245666504, 8.723791122436523, 35.3590202331543, 7.889533519744873, 7.760519504547119, 7.123870372772217, 7.147210597991943, 6.8751397132873535, 6.849532127380371, 6.442215442657471, 6.4413604736328125, 6.381412029266357, 6.372404098510742, 5.7510576248168945, 5.615855693817139, 339.2109680175781, 34.731590270996094, 37.97726058959961, 61.13716506958008, 15.0549955368042, 12.77343463897705, 26.92429542541504, 13.808770179748535, 11.19041919708252, 14.343101501464844, 86.52074432373047, 962.7177734375, 22.539724349975586, 269.4906921386719, 31.768814086914062, 375.4543151855469, 137.55055236816406, 23.22908592224121, 173.2568817138672, 99.77803802490234, 16.13333511352539, 131.56593322753906, 82.95184326171875, 36.44139099121094, 28.711986541748047, 21.058313369750977, 18.724815368652344, 17.100894927978516, 16.406869888305664, 15.512550354003906, 13.0492582321167, 11.259058952331543, 10.095995903015137, 9.26024055480957, 9.000171661376953, 8.881362915039062, 8.664876937866211, 8.590266227722168, 8.389264106750488, 8.187861442565918, 7.970433235168457, 7.836718559265137, 6.615368366241455, 6.571671485900879, 6.429133892059326, 5.944398403167725, 5.8686299324035645, 5.727875709533691, 5.743009090423584, 5.743368148803711, 5.599268913269043, 5.400700092315674, 5.326286792755127, 104.59065246582031, 22.980464935302734, 15.611723899841309, 115.99134826660156, 36.08119201660156, 22.3697509765625, 151.95936584472656, 194.28857421875, 34.902587890625, 11.375903129577637, 52.066162109375, 96.31194305419922], \"loglift\": [30.0, 29.0, 28.0, 27.0, 26.0, 25.0, 24.0, 23.0, 22.0, 21.0, 20.0, 19.0, 18.0, 17.0, 16.0, 15.0, 14.0, 13.0, 12.0, 11.0, 10.0, 9.0, 8.0, 7.0, 6.0, 5.0, 4.0, 3.0, 2.0, 1.0, 1.4522000551223755, 1.4510999917984009, 1.4466999769210815, 1.4444999694824219, 1.4414000511169434, 1.4347000122070312, 1.4292000532150269, 1.4284000396728516, 1.4279999732971191, 1.4277000427246094, 1.4265999794006348, 1.4249999523162842, 1.42330002784729, 1.4084999561309814, 1.3942999839782715, 1.3935999870300293, 1.3914999961853027, 1.3912999629974365, 1.3911999464035034, 1.3882999420166016, 1.382599949836731, 1.3731000423431396, 1.370300054550171, 1.3688000440597534, 1.367900013923645, 1.3675999641418457, 1.3665000200271606, 1.3654999732971191, 1.3629000186920166, 1.3602999448776245, 1.3442000150680542, 1.2728999853134155, 1.2242000102996826, 1.2654000520706177, 1.2371000051498413, 1.2355999946594238, 1.1432000398635864, 1.274899959564209, 1.2680000066757202, 1.0621999502182007, 1.2093000411987305, 1.0638999938964844, 1.2509000301361084, 0.6740999817848206, 0.7365999817848206, 0.0010000000474974513, 0.23980000615119934, 0.05979999899864197, 0.251800000667572, 0.21809999644756317, 0.23489999771118164, 0.02410000003874302, 0.24240000545978546, 1.5236999988555908, 1.5221999883651733, 1.521299958229065, 1.5184999704360962, 1.5157999992370605, 1.5155999660491943, 1.513200044631958, 1.5118000507354736, 1.5118000507354736, 1.5113999843597412, 1.51010000705719, 1.506600022315979, 1.5046000480651855, 1.5029000043869019, 1.5023000240325928, 1.5019999742507935, 1.501099944114685, 1.499899983406067, 1.4996999502182007, 1.4975999593734741, 1.4970999956130981, 1.4958000183105469, 1.4925999641418457, 1.4864000082015991, 1.48580002784729, 1.4855999946594238, 1.4846999645233154, 1.4846999645233154, 1.4812999963760376, 1.4809999465942383, 1.4704999923706055, 1.3280999660491943, 1.3658000230789185, 1.4253000020980835, 1.3554999828338623, 1.2539000511169434, 1.343000054359436, 1.3827999830245972, 1.2742999792099, 1.3417999744415283, 0.8296999931335449, 1.3314000368118286, 1.3560999631881714, 1.069700002670288, 1.1344000101089478, -0.31859999895095825, 0.16850000619888306, 0.08739999681711197, 0.12620000541210175, 1.8727999925613403, 1.8623000383377075, 1.856600046157837, 1.8544000387191772, 1.8530000448226929, 1.848099946975708, 1.842900037765503, 1.8387000560760498, 1.8359999656677246, 1.832900047302246, 1.8314000368118286, 1.8234000205993652, 1.8198000192642212, 1.8164000511169434, 1.8163000345230103, 1.815500020980835, 1.813099980354309, 1.8056999444961548, 1.8051999807357788, 1.8006000518798828, 1.7958999872207642, 1.789199948310852, 1.7868000268936157, 1.784600019454956, 1.7812999486923218, 1.7793999910354614, 1.779099941253662, 1.7785999774932861, 1.777999997138977, 1.777999997138977, 1.579800009727478, 1.7003999948501587, 1.5218000411987305, 1.4718999862670898, 0.6894000172615051, 0.5697000026702881, 1.3172999620437622, 0.313400000333786, 1.123900055885315, 1.3913999795913696, 0.5051000118255615, 0.36579999327659607, -0.6704000234603882, 0.1662999987602234, 0.22110000252723694, 1.2761000394821167, 0.5892000198364258, -0.23149999976158142, -0.11159999668598175, 1.881500005722046, 1.881100058555603, 1.8727999925613403, 1.864799976348877, 1.8313000202178955, 1.830299973487854, 1.802299976348877, 1.799399971961975, 1.7980999946594238, 1.7934999465942383, 1.7922999858856201, 1.7878999710083008, 1.7878999710083008, 1.7877000570297241, 1.7860000133514404, 1.7843999862670898, 1.7836999893188477, 1.7833000421524048, 1.7813999652862549, 1.7813999652862549, 1.7785999774932861, 1.7726000547409058, 1.7718000411987305, 1.7717000246047974, 1.7716000080108643, 1.7706999778747559, 1.7699999809265137, 1.767300009727478, 1.7654000520706177, 1.7582000494003296, 1.6842000484466553, 1.1706000566482544, 1.698199987411499, 1.2129000425338745, 1.5950000286102295, 1.4388999938964844, 1.6962000131607056, 0.6765000224113464, 1.0986000299453735, 0.5684000253677368, 0.2565999925136566, 0.27390000224113464, 0.59170001745224, 0.03790000081062317, 0.7253999710083008, -0.499099999666214, 0.8895999789237976, 0.785099983215332, 0.6134999990463257, 1.9258999824523926, 1.9144999980926514, 1.9067000150680542, 1.90339994430542, 1.8968000411987305, 1.8875999450683594, 1.8686000108718872, 1.8686000108718872, 1.8671000003814697, 1.8604999780654907, 1.8603999614715576, 1.8545000553131104, 1.8496999740600586, 1.8482999801635742, 1.8480000495910645, 1.8479000329971313, 1.845900058746338, 1.842900037765503, 1.8365999460220337, 1.8346999883651733, 1.8264000415802002, 1.826200008392334, 1.8223999738693237, 1.8213000297546387, 1.8145999908447266, 1.8141000270843506, 1.813099980354309, 1.8125, 1.7990000247955322, 1.7963999509811401, 1.6445000171661377, 1.7142000198364258, 1.6627000570297241, 1.5961999893188477, 1.7094999551773071, 1.723099946975708, 1.5921000242233276, 1.6845999956130981, 1.701200008392334, 1.6181999444961548, 1.0724999904632568, 0.31630000472068787, 1.4707000255584717, 0.5142999887466431, 1.2969000339508057, 0.1492999941110611, 0.49459999799728394, 1.3690999746322632, 0.17560000717639923, 0.29409998655319214, 1.5268000364303589, -0.20329999923706055, 0.003100000089034438, 2.265199899673462, 2.2599000930786133, 2.2507998943328857, 2.246299982070923, 2.2425999641418457, 2.240799903869629, 2.2381999492645264, 2.229300022125244, 2.220099925994873, 2.2125000953674316, 2.2054998874664307, 2.203399896621704, 2.2021000385284424, 2.2000999450683594, 2.1993000507354736, 2.196899890899658, 2.194999933242798, 2.191999912261963, 2.1903998851776123, 2.172300100326538, 2.1714000701904297, 2.1684999465942383, 2.158799886703491, 2.1559998989105225, 2.153700113296509, 2.153700113296509, 2.1535000801086426, 2.1486001014709473, 2.1447999477386475, 2.1431000232696533, 2.131999969482422, 2.0773000717163086, 2.055799961090088, 1.8329999446868896, 1.7961000204086304, 1.5259000062942505, 0.5547999739646912, 0.40540000796318054, 1.19350004196167, 1.7890000343322754, 0.6305000185966492, -0.03150000050663948], \"logprob\": [30.0, 29.0, 28.0, 27.0, 26.0, 25.0, 24.0, 23.0, 22.0, 21.0, 20.0, 19.0, 18.0, 17.0, 16.0, 15.0, 14.0, 13.0, 12.0, 11.0, 10.0, 9.0, 8.0, 7.0, 6.0, 5.0, 4.0, 3.0, 2.0, 1.0, -3.8322999477386475, -3.974400043487549, -4.405799865722656, -4.567699909210205, -4.759900093078613, -5.081699848175049, -5.277400016784668, -5.3084001541137695, -5.323699951171875, -5.3302998542785645, -5.367099761962891, -5.413400173187256, -5.468900203704834, -5.819799900054932, -6.070300102233887, -6.083099842071533, -6.109899997711182, -6.117700099945068, -6.111599922180176, -6.1605000495910645, -6.241499900817871, -6.356599807739258, -6.398099899291992, -6.414999961853027, -6.42609977722168, -6.427499771118164, -6.444300174713135, -6.450900077819824, -6.483500003814697, -6.511600017547607, -3.651099920272827, -2.6810998916625977, -2.4428999423980713, -3.462100028991699, -3.327699899673462, -4.043700218200684, -2.9172000885009766, -5.0278000831604, -5.29580020904541, -3.7177999019622803, -4.912799835205078, -4.250699996948242, -5.336699962615967, -4.012499809265137, -4.26609992980957, -3.0114998817443848, -4.045899868011475, -3.995800018310547, -4.361100196838379, -4.665800094604492, -4.836100101470947, -5.104599952697754, -5.1793999671936035, -3.793600082397461, -3.986299991607666, -4.081500053405762, -4.3358001708984375, -4.536600112915039, -4.55210018157959, -4.695499897003174, -4.768400192260742, -4.774099826812744, -4.791999816894531, -4.857399940490723, -5.010300159454346, -5.096799850463867, -5.1585001945495605, -5.178599834442139, -5.189799785614014, -5.212299823760986, -5.2617998123168945, -5.26669979095459, -5.333199977874756, -5.347499847412109, -5.383200168609619, -5.473700046539307, -5.627399921417236, -5.642199993133545, -5.645999908447266, -5.667099952697754, -5.661399841308594, -5.738699913024902, -5.7428998947143555, -5.080599784851074, -3.5506999492645264, -4.098199844360352, -5.106200218200684, -4.483799934387207, -3.7042999267578125, -4.555799961090088, -4.905799865722656, -4.503699779510498, -4.777299880981445, -4.054299831390381, -5.03849983215332, -5.111199855804443, -4.860000133514404, -5.017899990081787, -4.604300022125244, -4.896999835968018, -4.915299892425537, -4.944699764251709, -3.6291000843048096, -4.419099807739258, -4.683000087738037, -4.7677998542785645, -4.815899848937988, -4.97599983215332, -5.120699882507324, -5.229300022125244, -5.292099952697754, -5.358399868011475, -5.3907999992370605, -5.5432000160217285, -5.603099822998047, -5.658100128173828, -5.662899971008301, -5.676400184631348, -3.156599998474121, -5.817500114440918, -5.822700023651123, -5.883200168609619, -5.945199966430664, -6.018499851226807, -6.0493998527526855, -6.06879997253418, -6.110300064086914, -6.130199909210205, -5.197299957275391, -6.133200168609619, -6.143499851226807, -6.143599987030029, -3.485599994659424, -5.2434000968933105, -3.1905999183654785, -4.406499862670898, -3.596299886703491, -3.4907000064849854, -5.082799911499023, -3.3536999225616455, -4.920400142669678, -5.358500003814697, -4.274899959564209, -4.320700168609619, -3.682800054550171, -4.712500095367432, -4.849899768829346, -5.383800029754639, -5.179900169372559, -5.1153998374938965, -5.343800067901611, -2.302299976348877, -2.4872000217437744, -3.849299907684326, -4.395899772644043, -5.426300048828125, -5.446000099182129, -5.876200199127197, -5.916100025177002, -5.9334001541137695, -5.984300136566162, -5.9953999519348145, -6.0467000007629395, -6.05079984664917, -6.033199787139893, -6.059299945831299, -6.085899829864502, -6.096399784088135, -6.099899768829346, -6.117800235748291, -6.117800235748291, -6.111800193786621, -6.201900005340576, -6.21589994430542, -6.212699890136719, -6.213900089263916, -6.224699974060059, -6.2266998291015625, -6.249599933624268, -6.273200035095215, -6.320700168609619, -3.1744000911712646, -1.8418999910354614, -5.783599853515625, -3.4000000953674316, -5.402200222015381, -4.707200050354004, -6.047800064086914, -4.035799980163574, -4.994999885559082, -4.502600193023682, -4.308199882507324, -4.412600040435791, -4.830100059509277, -4.964799880981445, -5.426799774169922, -5.382999897003174, -5.8094000816345215, -5.901400089263916, -6.013199806213379, -2.829699993133545, -4.1468000411987305, -4.557000160217285, -4.693600177764893, -4.915599822998047, -5.168399810791016, -5.548500061035156, -5.545899868011475, -5.569300174713135, -5.669600009918213, -5.667799949645996, -5.750199794769287, -5.819699764251709, -5.844699859619141, -5.843200206756592, -5.845099925994873, -5.870299816131592, -4.473800182342529, -5.980100154876709, -5.9984002113342285, -6.092400074005127, -6.089300155639648, -6.131899833679199, -6.1367998123168945, -6.204699993133545, -6.205399990081787, -6.215799808502197, -6.217700004577637, -6.333799839019775, -6.360199928283691, -2.411099910736084, -4.6203999519348145, -4.582499980926514, -4.172800064086914, -5.460999965667725, -5.611800193786621, -4.997099876403809, -5.572299957275391, -5.765999794006348, -5.600800037384033, -4.349299907684326, -2.696199893951416, -5.296199798583984, -3.771399974822998, -5.126800060272217, -3.804800033569336, -4.463699817657471, -5.367700099945068, -4.551799774169922, -4.985099792480469, -5.57450008392334, -5.205999851226807, -5.4608001708984375, -4.021299839019775, -4.264999866485596, -4.584199905395508, -4.705999851226807, -4.80049991607666, -4.843699932098389, -4.902299880981445, -5.084199905395508, -5.240900039672852, -5.357600212097168, -5.451000213623047, -5.481500148773193, -5.496200084686279, -5.522799968719482, -5.532199859619141, -5.558300018310547, -5.584499835968018, -5.6143999099731445, -5.632999897003174, -5.820499897003174, -5.828000068664551, -5.85290002822876, -5.940999984741211, -5.956600189208984, -5.983099937438965, -5.980500221252441, -5.9807000160217285, -6.011000156402588, -6.050899982452393, -6.066500186920166, -3.100100040435791, -4.670199871063232, -5.078400135040283, -3.2957000732421875, -4.50029993057251, -5.248600006103516, -4.303800106048584, -4.207499980926514, -5.136099815368652, -5.6616997718811035, -5.299200057983398, -5.346099853515625]}, \"token.table\": {\"Topic\": [3, 6, 5, 1, 2, 3, 1, 1, 2, 4, 5, 2, 1, 2, 3, 6, 6, 6, 6, 2, 3, 5, 6, 1, 3, 4, 5, 4, 1, 5, 6, 4, 5, 6, 1, 2, 5, 2, 3, 6, 5, 2, 5, 3, 2, 2, 6, 6, 1, 2, 3, 2, 1, 3, 3, 3, 6, 1, 4, 5, 2, 6, 2, 1, 2, 4, 3, 4, 5, 3, 5, 6, 6, 2, 3, 1, 5, 1, 2, 3, 4, 1, 4, 5, 6, 4, 5, 2, 4, 3, 1, 1, 1, 5, 5, 3, 5, 3, 2, 6, 1, 2, 5, 6, 1, 3, 4, 5, 2, 5, 3, 2, 4, 2, 1, 2, 4, 5, 2, 1, 3, 1, 5, 2, 1, 2, 5, 6, 3, 2, 5, 1, 2, 3, 1, 2, 3, 6, 1, 2, 3, 5, 6, 4, 1, 6, 2, 4, 6, 2, 3, 2, 1, 2, 3, 4, 4, 6, 3, 1, 6, 3, 1, 5, 2, 2, 6, 4, 6, 3, 5, 2, 5, 4, 2, 5, 2, 3, 2, 4, 6, 2, 3, 2, 4, 5, 1, 4, 4, 4, 5, 1, 4, 3, 1, 1, 5, 4, 6, 4, 1, 1, 2, 2, 3, 4, 5, 3, 6, 4, 2, 1, 4, 5, 2, 2, 3, 6, 1, 3, 6, 5, 6, 3, 5, 6, 3, 5, 6, 5, 2, 4, 1, 2, 4, 6, 6, 5, 4, 5, 1, 3, 2, 1, 1, 4, 6, 6, 1, 4, 2, 3, 4, 1, 3, 5, 1, 3, 2, 5, 5, 5, 2, 3, 6, 3, 4, 6, 6, 1, 3, 5, 1, 5, 1, 6, 1, 6, 6, 2, 5, 5, 6, 2, 2, 3, 4, 5, 4, 5, 1, 3, 1, 4, 1, 4, 4, 1, 3, 6, 6, 6, 1, 1, 5, 1, 5, 4, 3, 3, 5, 1, 6, 2, 3, 6, 4, 4, 6, 3, 6, 4, 4, 5, 2, 1, 3, 6, 5, 5, 6, 2, 1, 2, 5, 2, 5, 1, 2, 3, 4, 2, 1, 3, 4, 2, 3, 1, 3, 3, 5, 5, 3, 5, 4, 4, 3, 4, 5, 1, 2, 5, 3, 3, 3, 6, 6], \"Freq\": [0.3602985143661499, 0.6097359657287598, 0.890336275100708, 0.9613426327705383, 0.05883454158902168, 0.9339983463287354, 0.929524302482605, 0.48644810914993286, 0.235623300075531, 0.15961578488349915, 0.12161202728748322, 0.987653911113739, 0.24139732122421265, 0.03448532894253731, 0.08621332794427872, 0.6379786133766174, 0.9669589996337891, 0.8782458901405334, 0.9769910573959351, 0.2180858999490738, 0.6106405258178711, 0.04361717775464058, 0.08723435550928116, 0.23267462849617004, 0.07790444791316986, 0.4902786910533905, 0.19943539798259735, 0.8905196785926819, 0.7682417631149292, 0.16296038031578064, 0.04656010866165161, 0.8910373449325562, 0.7828748226165771, 0.15657496452331543, 0.9674115777015686, 0.7560856342315674, 0.23991179466247559, 0.8053923845291138, 0.17897608876228333, 0.9612911939620972, 0.9477450251579285, 0.21065236628055573, 0.76361483335495, 0.9654058218002319, 0.9755890965461731, 0.9115280508995056, 0.0701175406575203, 0.9752012491226196, 0.6752750277519226, 0.07300270348787308, 0.24942590296268463, 0.9768082499504089, 0.9976257085800171, 0.9896710515022278, 0.8345105648040771, 0.19216327369213104, 0.7686530947685242, 0.30050596594810486, 0.27739012241363525, 0.4276431202888489, 0.3516204357147217, 0.6153357625007629, 0.9891108870506287, 0.9318137764930725, 0.6718226075172424, 0.31191763281822205, 0.9159836173057556, 0.9360762238502502, 0.8872514367103577, 0.8445416688919067, 0.8042594194412231, 0.17872431874275208, 0.931286633014679, 0.9458498358726501, 0.9002583622932434, 0.9901601672172546, 0.9227965474128723, 0.4543192982673645, 0.12189053744077682, 0.2216191589832306, 0.19945724308490753, 0.29852500557899475, 0.5095513463020325, 0.03602888062596321, 0.1544094979763031, 0.8237624764442444, 0.8959993720054626, 0.09068265557289124, 0.8161439299583435, 0.8878831267356873, 0.9570390582084656, 0.982825756072998, 0.24763350188732147, 0.7517445683479309, 0.8727095127105713, 0.13284626603126526, 0.7970775961875916, 0.9697538614273071, 0.9296220541000366, 0.035754695534706116, 0.9260770082473755, 0.9778918623924255, 0.9050024747848511, 0.05656265467405319, 0.24592603743076324, 0.5840743184089661, 0.15370377898216248, 0.9972826838493347, 0.8422213196754456, 0.15791650116443634, 0.9401951432228088, 0.8524580001831055, 0.10999457538127899, 0.977108359336853, 0.33940833806991577, 0.18101778626441956, 0.4525444507598877, 0.9750312566757202, 0.9674485921859741, 0.7896038889884949, 0.20789571106433868, 0.8017796277999878, 0.1904226690530777, 0.9723334312438965, 0.8683288097381592, 0.977505087852478, 0.8394883275032043, 0.9718970060348511, 0.8364271521568298, 0.8438631296157837, 0.14466224610805511, 0.9409091472625732, 0.9429492950439453, 0.9562497735023499, 0.6748903393745422, 0.16612684726715088, 0.06229757145047188, 0.1038292795419693, 0.29685625433921814, 0.15584953129291534, 0.3042776584625244, 0.2411957085132599, 0.9232676029205322, 0.9987272620201111, 0.49173545837402344, 0.44703224301338196, 0.49129411578178406, 0.3275294005870819, 0.16376470029354095, 0.9771005511283875, 0.9597331881523132, 0.958998441696167, 0.2929588556289673, 0.2441323846578598, 0.1871681660413742, 0.26854562759399414, 0.9130175113677979, 0.906978964805603, 0.9891492128372192, 0.8366755247116089, 0.13944591581821442, 0.9549210667610168, 0.9247559905052185, 0.9325302243232727, 0.9770053029060364, 0.9957355856895447, 0.8888719081878662, 0.9598504900932312, 0.953599750995636, 0.9494905471801758, 0.982890248298645, 0.9581297039985657, 0.8752158880233765, 0.9420739412307739, 0.9710158705711365, 0.9020014405250549, 0.51694256067276, 0.47386404871940613, 0.9817017316818237, 0.1740608811378479, 0.8267892003059387, 0.054704971611499786, 0.8752795457839966, 0.819392204284668, 0.055867649614810944, 0.11173529922962189, 0.333868145942688, 0.6438885927200317, 0.909296989440918, 0.9482987523078918, 0.9170324802398682, 0.9852423667907715, 0.8534396886825562, 0.9793025255203247, 0.9531029462814331, 0.9662700891494751, 0.95327228307724, 0.963549017906189, 0.8914425373077393, 0.8993417024612427, 0.9669789671897888, 0.9956812262535095, 0.9921594262123108, 0.9872338771820068, 0.9721774458885193, 0.9069530367851257, 0.9516834020614624, 0.1338551789522171, 0.8604975342750549, 0.9453161954879761, 0.9747653603553772, 0.61700040102005, 0.2699376940727234, 0.07712505012750626, 0.9548835754394531, 0.633808970451355, 0.17285698652267456, 0.1920633167028427, 0.9140425324440002, 0.8471701741218567, 0.15884441137313843, 0.6818181276321411, 0.3099173307418823, 0.5580447912216187, 0.23916205763816833, 0.19930171966552734, 0.11142352968454361, 0.7056823372840881, 0.18570588529109955, 0.9415598511695862, 0.9819590449333191, 0.9895201325416565, 0.16580471396446228, 0.20725588500499725, 0.37306058406829834, 0.24870705604553223, 0.8411279916763306, 0.9499046802520752, 0.8250945210456848, 0.11787065118551254, 0.8158313035964966, 0.18541620671749115, 0.9583348035812378, 0.9021986722946167, 0.7995529174804688, 0.19620929658412933, 0.9752024412155151, 0.8519876003265381, 0.9697078466415405, 0.9104626178741455, 0.835644006729126, 0.16248632967472076, 0.9164183735847473, 0.8902685046195984, 0.02263394556939602, 0.08299113065004349, 0.3284377455711365, 0.656875491142273, 0.8548378944396973, 0.13151352107524872, 0.8960548043251038, 0.9350032210350037, 0.97972571849823, 0.8792819380760193, 0.900762677192688, 0.9400660395622253, 0.9033311009407043, 0.8929737210273743, 0.8932310342788696, 0.8673577308654785, 0.9828984141349792, 0.9314802289009094, 0.1448354870080948, 0.7965952157974243, 0.8585963249206543, 0.9195924997329712, 0.8328315615653992, 0.144840270280838, 0.9878876209259033, 0.4406837522983551, 0.5351159572601318, 0.8694053292274475, 0.9356235265731812, 0.9809409976005554, 0.2589762210845947, 0.7364636659622192, 0.8831268548965454, 0.8422387838363647, 0.9023393988609314, 0.9731999635696411, 0.9802945852279663, 0.944573700428009, 0.9804874062538147, 0.9954220056533813, 0.9974042773246765, 0.9312859773635864, 0.9290894865989685, 0.9376603960990906, 0.904716432094574, 0.8729239702224731, 0.9497436881065369, 0.8705692887306213, 0.9607361555099487, 0.8253640532493591, 0.17315329611301422, 0.8309932351112366, 0.16779671609401703, 0.9003477096557617, 0.8445919156074524, 0.27806326746940613, 0.7196931838989258, 0.9554557800292969, 0.933251678943634, 0.8192141056060791, 0.18130147457122803, 0.925805926322937, 0.9831792712211609, 0.8160076141357422, 0.17767907679080963, 0.9045200347900391, 0.8549240827560425, 0.9494953751564026, 0.8619441390037537, 0.9402307868003845, 0.9414482116699219, 0.42976754903793335, 0.22920936346054077, 0.34381404519081116, 0.8759722113609314, 0.9859245419502258, 0.8706237077713013, 0.9901257753372192, 0.8870458602905273, 0.3874453008174896, 0.5596432089805603, 0.17275339365005493, 0.8061825037002563, 0.290231317281723, 0.49271827936172485, 0.1214921772480011, 0.09449391812086105, 0.9972875118255615, 0.8820621371269226, 0.6993266940116882, 0.301335871219635, 0.9673231840133667, 0.9204199910163879, 0.7287597060203552, 0.2695818543434143, 0.3549289107322693, 0.6211255788803101, 0.8944408893585205, 0.20915977656841278, 0.7669191956520081, 0.9551182389259338, 0.9635275602340698, 0.22341300547122955, 0.7260922789573669, 0.9313566088676453, 0.16504012048244476, 0.7756885886192322, 0.0660160481929779, 0.9404195547103882, 0.9592710733413696, 0.986485481262207, 0.9387403130531311, 0.9130097031593323], \"Term\": [\"\\u314b\\u314b\", \"\\u314b\\u314b\", \"\\u314b\\u314b\\u314b\", \"\\u314e\\u314e\", \"\\uac00\\uaca9\", \"\\uac00\\uaca9\", \"\\uac00\\uaca9\\ub300\", \"\\uac00\\ub2a5\", \"\\uac00\\ub2a5\", \"\\uac00\\ub2a5\", \"\\uac00\\ub2a5\", \"\\uac00\\uc785\", \"\\uac10\\uc0ac\", \"\\uac10\\uc0ac\", \"\\uac10\\uc0ac\", \"\\uac10\\uc0ac\", \"\\uac15\\ucd94\", \"\\uac1c\\ubc1c\", \"\\uac1c\\ubc1c\\uc790\", \"\\uac1c\\uc778\", \"\\uac1c\\uc778\", \"\\uac1c\\uc778\", \"\\uac1c\\uc778\", \"\\uac70\\ub798\", \"\\uac70\\ub798\", \"\\uac70\\ub798\", \"\\uac70\\ub798\", \"\\uac70\\ub798\\uc571\", \"\\uac70\\ub9ac\", \"\\uac70\\ub9ac\", \"\\uac70\\ub9ac\", \"\\uac70\\uc808\", \"\\uac70\\uc9c0\", \"\\uac70\\uc9c0\", \"\\uac71\\uc815\", \"\\uac80\\uc0c9\", \"\\uac80\\uc0c9\", \"\\uacbd\\uc6b0\", \"\\uacbd\\uc6b0\", \"\\uacbd\\ud5d8\", \"\\uacc4\\uc815\", \"\\uace0\\uac1d\", \"\\uace0\\uac1d\", \"\\uacf5\\uc720\", \"\\uad00\\uc2ec\", \"\\uad11\\uace0\", \"\\uad11\\uace0\", \"\\uad6c\\uacbd\", \"\\uad6c\\ub9e4\", \"\\uad6c\\ub9e4\", \"\\uad6c\\ub9e4\", \"\\uad6c\\ub9e4\\uc790\", \"\\uad6c\\uc785\", \"\\uad7f\\uad7f\", \"\\uad7f\\uad7f\\uad7f\", \"\\uadfc\\uac70\\ub9ac\", \"\\uadfc\\uac70\\ub9ac\", \"\\uadfc\\ucc98\", \"\\uadfc\\ucc98\", \"\\uadfc\\ucc98\", \"\\uae08\\uc561\", \"\\uae08\\uc561\", \"\\uae30\\ub2a5\", \"\\uae30\\ubc18\", \"\\uae30\\ubd84\", \"\\uae30\\ubd84\", \"\\uae30\\uc068\", \"\\uae30\\uc874\", \"\\uae30\\uc900\", \"\\uae30\\ud68c\", \"\\ub098\\ub77c\", \"\\ub098\\ub77c\", \"\\ub098\\ubc14\\ub2e4\", \"\\ub178\\ucd9c\", \"\\ub290\\ub08c\", \"\\ub2e4\\uc591\", \"\\ub2e4\\uc74c\", \"\\ub2f9\\uadfc\", \"\\ub2f9\\uadfc\", \"\\ub2f9\\uadfc\", \"\\ub2f9\\uadfc\", \"\\ub2f9\\uadfc\\ub9c8\\ucf13\", \"\\ub2f9\\uadfc\\ub9c8\\ucf13\", \"\\ub2f9\\uadfc\\ub9c8\\ucf13\", \"\\ub2f9\\uadfc\\ub9c8\\ucf13\", \"\\ub2f9\\ud669\", \"\\ub300\\ub9cc\\uc871\", \"\\ub300\\ubd80\\ubd84\", \"\\ub300\\ubd80\\ubd84\", \"\\ub300\\uc751\", \"\\ub355\\ubd84\", \"\\ub3c4\\uc6c0\", \"\\ub3d9\\ub124\", \"\\ub3d9\\ub124\", \"\\ub3d9\\ub124\\uc0dd\\ud65c\", \"\\ub3d9\\uc548\", \"\\ub3d9\\uc548\", \"\\ub4dd\\ud15c\", \"\\ub4f1\\ub85d\", \"\\ub4f1\\ub85d\", \"\\ub85c\\uadf8\\uc778\", \"\\ub9ac\\ubdf0\", \"\\ub9c8\\uc74c\", \"\\ub9c8\\uc74c\", \"\\ub9c8\\ucf13\", \"\\ub9c8\\ucf13\", \"\\ub9c8\\ucf13\", \"\\ub9cc\\uc871\", \"\\ub9e4\\ub108\", \"\\ub9e4\\ub108\", \"\\ub9e4\\ub9e4\", \"\\ub9e4\\ubb3c\", \"\\ub9e4\\ubb3c\", \"\\ubaa9\\ub85d\", \"\\ubb34\\ub8cc\", \"\\ubb34\\ub8cc\", \"\\ubb34\\ub8cc\", \"\\ubb38\\uc758\", \"\\ubb38\\uc81c\", \"\\ubb3c\\uac74\", \"\\ubb3c\\uac74\", \"\\ubb3c\\ud488\", \"\\ubb3c\\ud488\", \"\\ubc88\\uac1c\\uc7a5\\ud130\", \"\\ubc88\\ucc3d\", \"\\ubc88\\ud638\", \"\\ubcc0\\uacbd\", \"\\ubd80\\ub2f4\", \"\\ubd84\\uc591\", \"\\ubd88\\ud3b8\", \"\\ubd88\\ud3b8\", \"\\ube44\\uad50\", \"\\ube44\\ub9e4\\ub108\", \"\\ube44\\uc6c0\", \"\\uc0ac\\uae30\", \"\\uc0ac\\uae30\", \"\\uc0ac\\uae30\", \"\\uc0ac\\uae30\", \"\\uc0ac\\ub78c\", \"\\uc0ac\\ub78c\", \"\\uc0ac\\ub78c\", \"\\uc0ac\\ub78c\", \"\\uc0ac\\ub791\", \"\\uc0ac\\uc6a9\", \"\\uc0ac\\uc774\\ud2b8\", \"\\uc0ac\\uc774\\ud2b8\", \"\\uc0ac\\uc9c4\", \"\\uc0ac\\uc9c4\", \"\\uc0ac\\uc9c4\", \"\\uc0ad\\uc81c\", \"\\uc0b4\\uc218\", \"\\uc0c1\\ub300\\ubc29\", \"\\uc0c1\\ud488\", \"\\uc0c1\\ud488\", \"\\uc0c1\\ud488\", \"\\uc0c1\\ud488\", \"\\uc0c1\\ud669\", \"\\uc0c8\\uac83\", \"\\uc0dd\\uac01\", \"\\uc0dd\\ud65c\", \"\\uc0dd\\ud65c\", \"\\uc11c\\ub85c\", \"\\uc11c\\ube44\\uc2a4\", \"\\uc11c\\uc6b8\", \"\\uc120\\ud0dd\", \"\\uc124\\uc815\", \"\\uc131\\uacf5\", \"\\uc131\\uc0ac\", \"\\uc138\\ubd84\", \"\\uc138\\uc0c1\", \"\\uc13c\\ud130\", \"\\uc18c\\ub9ac\", \"\\uc18c\\ube44\\uc790\", \"\\uc18c\\ud1b5\", \"\\uc218\\uc815\", \"\\uc21c\\uac04\", \"\\uc2dc\\uac04\", \"\\uc2dc\\uac04\", \"\\uc2dc\\uc2a4\\ud15c\", \"\\uc2dc\\uc791\", \"\\uc2dc\\uc791\", \"\\uc2dc\\uc7a5\", \"\\uc2dc\\uc7a5\", \"\\uc2e0\\uace0\", \"\\uc2e0\\uace0\", \"\\uc2e0\\uace0\", \"\\uc2e0\\ub8b0\", \"\\uc2e0\\ub8b0\", \"\\uc2e0\\ubd84\", \"\\uc2e0\\uc138\", \"\\uc2e0\\uc18d\", \"\\uc2e4\\uc0dd\\ud65c\", \"\\uc2e4\\uc18d\", \"\\uc2e4\\uc2dc\\uac04\", \"\\uc2e4\\uc6a9\", \"\\uc2fc\\uac00\\uaca9\", \"\\uc544\\ubb34\\uac83\", \"\\uc544\\uc774\", \"\\uc544\\uc774\\ub514\\uc5b4\", \"\\uc548\\ub155\", \"\\uc548\\uc2ec\", \"\\uc548\\uc804\", \"\\uc54c\\ub78c\", \"\\uc54c\\ub9bc\", \"\\uc560\\uc6a9\", \"\\uc571\\uc774\\ub124\", \"\\uc5b4\\uc81c\", \"\\uc5b4\\ud50c\", \"\\uc5b4\\ud50c\", \"\\uc5b4\\ud50c\\uc774\", \"\\uc5c5\\ub370\\uc774\\ud2b8\", \"\\uc5c5\\uc790\", \"\\uc5c5\\uc790\", \"\\uc5c5\\uc790\", \"\\uc5f0\\uacb0\", \"\\uc5f0\\ub77d\", \"\\uc5f0\\ub77d\", \"\\uc5f0\\ub77d\", \"\\uc5fc\\ub824\", \"\\uc608\\uc57d\", \"\\uc608\\uc57d\", \"\\uc608\\uc804\", \"\\uc608\\uc804\", \"\\uc624\\ub298\", \"\\uc624\\ub298\", \"\\uc624\\ub298\", \"\\uc624\\ub958\", \"\\uc624\\ub958\", \"\\uc624\\ub958\", \"\\uc628\\ub77c\\uc778\", \"\\uc644\\ub8cc\", \"\\uc644\\uc804\", \"\\uc694\\uc998\", \"\\uc694\\uc998\", \"\\uc694\\uc998\", \"\\uc694\\uc998\", \"\\uc6a9\\ub3c8\\ubc8c\", \"\\uc6a9\\ud488\", \"\\uc6b0\\ub9ac\\ub3d9\\ub124\", \"\\uc6b0\\ub9ac\\ub3d9\\ub124\", \"\\uc704\\uc8fc\", \"\\uc704\\uc8fc\", \"\\uc704\\uce58\", \"\\uc704\\ud5d8\", \"\\uc720\\uc6a9\", \"\\uc720\\uc6a9\", \"\\uc720\\uc775\", \"\\uc720\\uc9c0\", \"\\uc751\\ub2f5\", \"\\uc758\\ub958\", \"\\uc774\\uc0c1\", \"\\uc774\\uc0c1\", \"\\uc774\\uc571\", \"\\uc774\\uc6a9\", \"\\uc774\\uc6a9\", \"\\uc774\\uc6a9\", \"\\uc774\\uc6c3\", \"\\uc774\\uc6c3\", \"\\uc774\\uc720\", \"\\uc774\\uc720\", \"\\uc778\\uac04\", \"\\uc778\\uadfc\", \"\\uc778\\uc99d\", \"\\uc778\\ud130\\ub137\", \"\\uc778\\ud130\\ud398\\uc774\\uc2a4\", \"\\uc790\\uc6d0\", \"\\uc790\\uc804\\uac70\", \"\\uc790\\uc8fc\", \"\\uc7a5\\uc0ac\", \"\\uc7a5\\ud130\", \"\\uc7ac\\ubbf8\", \"\\uc801\\uc6a9\", \"\\uc804\\uad6d\", \"\\uc804\\uad6d\", \"\\uc808\\uc57d\", \"\\uc811\\uc18d\", \"\\uc815\\ub9ac\", \"\\uc815\\ub9ac\", \"\\uc815\\ubcf4\", \"\\uc815\\uc9c0\", \"\\uc815\\uc9c0\", \"\\uc815\\ucc45\", \"\\uc815\\ud655\", \"\\uc81c\\uc7ac\", \"\\uc81c\\ud488\", \"\\uc81c\\ud488\", \"\\uc870\\uc2ec\", \"\\uc870\\uc544\", \"\\uc870\\uc544\\uc6a9\", \"\\uc8fc\\ubbfc\", \"\\uc8fc\\ubcc0\", \"\\uc8fc\\uc704\", \"\\uc8fc\\uc778\", \"\\uc911\\uace0\", \"\\uc911\\uace0\\ub098\\ub77c\", \"\\uc911\\uace0\\ub9c8\\ucf13\", \"\\uc911\\uace0\\ubb3c\\uac74\", \"\\uc911\\uace0\\ubb3c\\ud488\", \"\\uc911\\uace0\\ud488\", \"\\uc911\\ub098\", \"\\uc911\\ub3c5\", \"\\uc911\\uc694\", \"\\uc9c0\\uae08\", \"\\uc9c0\\uc5ed\", \"\\uc9c0\\uc5ed\", \"\\uc9c1\\uac70\\ub798\", \"\\uc9c1\\uac70\\ub798\", \"\\uc9c1\\uac70\\ub798\\uc704\\uc8fc\", \"\\uc9c1\\uc811\", \"\\uc9c4\\uc9dc\", \"\\uc9c4\\uc9dc\", \"\\uc9d1\\uadfc\\ucc98\", \"\\uc9d1\\uc55e\", \"\\ucc44\\ud305\", \"\\ucc44\\ud305\", \"\\ucc45\\uc784\", \"\\ucc98\\uc74c\", \"\\ucd5c\\uace0\", \"\\ucd5c\\uace0\", \"\\ucd5c\\uace0\\uc608\\uc694\", \"\\ucd5c\\uace0\\uc785\\ub2c8\", \"\\ucd5c\\uacf1\\ub2c8\", \"\\ucd5c\\uadfc\", \"\\ucd5c\\uc545\", \"\\ucd94\\uac00\", \"\\ucd94\\ucc9c\", \"\\ucd94\\ucc9c\", \"\\ucd94\\ucc9c\", \"\\ucde8\\ubbf8\", \"\\uce5c\\uc808\", \"\\ucf54\\ub85c\", \"\\ud0a4\\uc6cc\\ub4dc\", \"\\ud0c0\\uc9c0\", \"\\ud0c8\\ud1f4\", \"\\ud0c8\\ud1f4\", \"\\ud0dd\\ubc30\", \"\\ud0dd\\ubc30\", \"\\ud310\\ub9e4\", \"\\ud310\\ub9e4\", \"\\ud310\\ub9e4\", \"\\ud310\\ub9e4\", \"\\ud310\\ub9e4\\uc790\", \"\\ud314\\uc218\", \"\\ud3b8\\ub9ac\", \"\\ud3b8\\ub9ac\", \"\\ud3c9\\uac00\", \"\\ud50c\\ub7ab\\ud3fc\", \"\\ud544\\uc694\", \"\\ud544\\uc694\", \"\\ud558\\ub8e8\", \"\\ud558\\ub8e8\", \"\\ud569\\ub9ac\", \"\\ud574\\uacb0\", \"\\ud574\\uacb0\", \"\\ud574\\ub2f9\", \"\\ud578\\ub4dc\\ud3f0\", \"\\ud589\\ubcf5\", \"\\ud589\\ubcf5\", \"\\ud615\\uc131\", \"\\ud655\\uc778\", \"\\ud655\\uc778\", \"\\ud655\\uc778\", \"\\ud658\\uacbd\", \"\\ud65c\\uc131\", \"\\ud65c\\uc6a9\", \"\\ud68c\\uc6d0\", \"\\ud734\\ub300\\ud3f0\"]}, \"R\": 30, \"lambda.step\": 0.01, \"plot.opts\": {\"xlab\": \"PC1\", \"ylab\": \"PC2\"}, \"topic.order\": [2, 5, 1, 6, 3, 4]};\n",
       "\n",
       "function LDAvis_load_lib(url, callback){\n",
       "  var s = document.createElement('script');\n",
       "  s.src = url;\n",
       "  s.async = true;\n",
       "  s.onreadystatechange = s.onload = callback;\n",
       "  s.onerror = function(){console.warn(\"failed to load library \" + url);};\n",
       "  document.getElementsByTagName(\"head\")[0].appendChild(s);\n",
       "}\n",
       "\n",
       "if(typeof(LDAvis) !== \"undefined\"){\n",
       "   // already loaded: just create the visualization\n",
       "   !function(LDAvis){\n",
       "       new LDAvis(\"#\" + \"ldavis_el46405112499947944780447600\", ldavis_el46405112499947944780447600_data);\n",
       "   }(LDAvis);\n",
       "}else if(typeof define === \"function\" && define.amd){\n",
       "   // require.js is available: use it to load d3/LDAvis\n",
       "   require.config({paths: {d3: \"https://cdnjs.cloudflare.com/ajax/libs/d3/3.5.5/d3.min\"}});\n",
       "   require([\"d3\"], function(d3){\n",
       "      window.d3 = d3;\n",
       "      LDAvis_load_lib(\"https://cdn.rawgit.com/bmabey/pyLDAvis/files/ldavis.v1.0.0.js\", function(){\n",
       "        new LDAvis(\"#\" + \"ldavis_el46405112499947944780447600\", ldavis_el46405112499947944780447600_data);\n",
       "      });\n",
       "    });\n",
       "}else{\n",
       "    // require.js not available: dynamically load d3 & LDAvis\n",
       "    LDAvis_load_lib(\"https://cdnjs.cloudflare.com/ajax/libs/d3/3.5.5/d3.min.js\", function(){\n",
       "         LDAvis_load_lib(\"https://cdn.rawgit.com/bmabey/pyLDAvis/files/ldavis.v1.0.0.js\", function(){\n",
       "                 new LDAvis(\"#\" + \"ldavis_el46405112499947944780447600\", ldavis_el46405112499947944780447600_data);\n",
       "            })\n",
       "         });\n",
       "}\n",
       "</script>"
      ],
      "text/plain": [
       "<IPython.core.display.HTML object>"
      ]
     },
     "execution_count": 139,
     "metadata": {},
     "output_type": "execute_result"
    }
   ],
   "source": [
    "def display_topics(app_rating):\n",
    "    dictionary_file_path = f'lda_model{os.sep}{app_rating}{os.sep}app_review_dict.dict'\n",
    "    corpus_file_path = f'lda_model{os.sep}{app_rating}{os.sep}app_review_corpus.mm'\n",
    "    model_file_path = f'lda_model{os.sep}{app_rating}{os.sep}app_review_train_model.model'\n",
    "    \n",
    "    review_dictionary = gensim.corpora.Dictionary.load(dictionary_file_path)\n",
    "    review_corpus = gensim.corpora.MmCorpus(corpus_file_path)\n",
    "    review_lda = gensim.models.ldamodel.LdaModel.load(model_file_path)\n",
    "    \n",
    "    review_prep = pyLDAvis.gensim.prepare(review_lda, review_corpus, review_dictionary)\n",
    "    \n",
    "    return review_prep\n",
    "    \n",
    "review_prep = display_topics('all_rating')\n",
    "pyLDAvis.display(review_prep)"
   ]
  },
  {
   "cell_type": "markdown",
   "metadata": {},
   "source": [
    "### 별점 2점 이하일 경우에 대한 분석"
   ]
  },
  {
   "cell_type": "code",
   "execution_count": 140,
   "metadata": {},
   "outputs": [],
   "source": [
    "# get user_comment_noun_list of low rating reviews\n",
    "\n",
    "low_rating_user_comment_list = arranged_user_review_df[arranged_user_review_df['user_app_rating'] <= 2]['user_comment'].tolist()\n",
    "low_rating_extracted_user_comment_noun_list = execute_khaiii(low_rating_user_comment_list)"
   ]
  },
  {
   "cell_type": "code",
   "execution_count": 141,
   "metadata": {},
   "outputs": [
    {
     "data": {
      "image/png": "[encoded data removed]",
      "text/plain": [
       "<Figure size 1080x360 with 1 Axes>"
      ]
     },
     "metadata": {
      "needs_background": "light"
     },
     "output_type": "display_data"
    }
   ],
   "source": [
    "low_rating_word_count_df_new = get_dataframe_from_noun_list(low_rating_extracted_user_comment_noun_list)\n",
    "draw_graph(low_rating_word_count_df_new)"
   ]
  },
  {
   "cell_type": "code",
   "execution_count": 142,
   "metadata": {},
   "outputs": [
    {
     "data": {
      "image/png": "[encoded data removed]",
      "text/plain": [
       "<Figure size 1440x2160 with 6 Axes>"
      ]
     },
     "metadata": {
      "needs_background": "light"
     },
     "output_type": "display_data"
    }
   ],
   "source": [
    "# run Topic modeling\n",
    "\n",
    "make_lda_model_with_reviews(low_rating_extracted_user_comment_noun_list, 6, 'low_rating')"
   ]
  },
  {
   "cell_type": "code",
   "execution_count": 143,
   "metadata": {},
   "outputs": [
    {
     "data": {
      "text/html": [
       "\n",
       "<link rel=\"stylesheet\" type=\"text/css\" href=\"https://cdn.rawgit.com/bmabey/pyLDAvis/files/ldavis.v1.0.0.css\">\n",
       "\n",
       "\n",
       "<div id=\"ldavis_el464051125086238726991481560\"></div>\n",
       "<script type=\"text/javascript\">\n",
       "\n",
       "var ldavis_el464051125086238726991481560_data = {\"mdsDat\": {\"x\": [-0.030427557502044223, -0.13116525441807655, -0.0555662896582005, 0.09448450963040199, 0.04853855062570516, 0.07413604132221432], \"y\": [-0.053409270861173704, 0.10480144479210814, -0.12017961006916406, 0.039786254901893726, 0.01820327138056792, 0.01079790985576803], \"topics\": [1, 2, 3, 4, 5, 6], \"cluster\": [1, 1, 1, 1, 1, 1], \"Freq\": [21.918367385864258, 19.195127487182617, 15.572278022766113, 15.256381034851074, 14.889375686645508, 13.16847038269043]}, \"tinfo\": {\"Category\": [\"Default\", \"Default\", \"Default\", \"Default\", \"Default\", \"Default\", \"Default\", \"Default\", \"Default\", \"Default\", \"Default\", \"Default\", \"Default\", \"Default\", \"Default\", \"Default\", \"Default\", \"Default\", \"Default\", \"Default\", \"Default\", \"Default\", \"Default\", \"Default\", \"Default\", \"Default\", \"Default\", \"Default\", \"Default\", \"Default\", \"Topic1\", \"Topic1\", \"Topic1\", \"Topic1\", \"Topic1\", \"Topic1\", \"Topic1\", \"Topic1\", \"Topic1\", \"Topic1\", \"Topic1\", \"Topic1\", \"Topic1\", \"Topic1\", \"Topic1\", \"Topic1\", \"Topic1\", \"Topic1\", \"Topic1\", \"Topic1\", \"Topic1\", \"Topic1\", \"Topic1\", \"Topic1\", \"Topic1\", \"Topic1\", \"Topic1\", \"Topic1\", \"Topic1\", \"Topic1\", \"Topic1\", \"Topic1\", \"Topic1\", \"Topic1\", \"Topic1\", \"Topic1\", \"Topic1\", \"Topic1\", \"Topic1\", \"Topic1\", \"Topic1\", \"Topic1\", \"Topic1\", \"Topic1\", \"Topic1\", \"Topic1\", \"Topic1\", \"Topic1\", \"Topic1\", \"Topic1\", \"Topic1\", \"Topic1\", \"Topic1\", \"Topic1\", \"Topic1\", \"Topic1\", \"Topic1\", \"Topic1\", \"Topic1\", \"Topic1\", \"Topic1\", \"Topic2\", \"Topic2\", \"Topic2\", \"Topic2\", \"Topic2\", \"Topic2\", \"Topic2\", \"Topic2\", \"Topic2\", \"Topic2\", \"Topic2\", \"Topic2\", \"Topic2\", \"Topic2\", \"Topic2\", \"Topic2\", \"Topic2\", \"Topic2\", \"Topic2\", \"Topic2\", \"Topic2\", \"Topic2\", \"Topic2\", \"Topic2\", \"Topic2\", \"Topic2\", \"Topic2\", \"Topic2\", \"Topic2\", \"Topic2\", \"Topic2\", \"Topic2\", \"Topic2\", \"Topic2\", \"Topic2\", \"Topic2\", \"Topic2\", \"Topic2\", \"Topic2\", \"Topic2\", \"Topic2\", \"Topic2\", \"Topic2\", \"Topic2\", \"Topic2\", \"Topic2\", \"Topic2\", \"Topic2\", \"Topic2\", \"Topic3\", \"Topic3\", \"Topic3\", \"Topic3\", \"Topic3\", \"Topic3\", \"Topic3\", \"Topic3\", \"Topic3\", \"Topic3\", \"Topic3\", \"Topic3\", \"Topic3\", \"Topic3\", \"Topic3\", \"Topic3\", \"Topic3\", \"Topic3\", \"Topic3\", \"Topic3\", \"Topic3\", \"Topic3\", \"Topic3\", \"Topic3\", \"Topic3\", \"Topic3\", \"Topic3\", \"Topic3\", \"Topic3\", \"Topic3\", \"Topic3\", \"Topic3\", \"Topic3\", \"Topic3\", \"Topic3\", \"Topic3\", \"Topic3\", \"Topic3\", \"Topic3\", \"Topic3\", \"Topic3\", \"Topic3\", \"Topic3\", \"Topic3\", \"Topic3\", \"Topic3\", \"Topic3\", \"Topic3\", \"Topic3\", \"Topic3\", \"Topic3\", \"Topic3\", \"Topic3\", \"Topic3\", \"Topic3\", \"Topic3\", \"Topic3\", \"Topic3\", \"Topic3\", \"Topic3\", \"Topic3\", \"Topic3\", \"Topic3\", \"Topic3\", \"Topic3\", \"Topic3\", \"Topic3\", \"Topic3\", \"Topic3\", \"Topic3\", \"Topic3\", \"Topic3\", \"Topic3\", \"Topic4\", \"Topic4\", \"Topic4\", \"Topic4\", \"Topic4\", \"Topic4\", \"Topic4\", \"Topic4\", \"Topic4\", \"Topic4\", \"Topic4\", \"Topic4\", \"Topic4\", \"Topic4\", \"Topic4\", \"Topic4\", \"Topic4\", \"Topic4\", \"Topic4\", \"Topic4\", \"Topic4\", \"Topic4\", \"Topic4\", \"Topic4\", \"Topic4\", \"Topic4\", \"Topic4\", \"Topic4\", \"Topic4\", \"Topic4\", \"Topic4\", \"Topic4\", \"Topic4\", \"Topic4\", \"Topic4\", \"Topic4\", \"Topic4\", \"Topic4\", \"Topic4\", \"Topic4\", \"Topic4\", \"Topic4\", \"Topic4\", \"Topic4\", \"Topic4\", \"Topic4\", \"Topic4\", \"Topic4\", \"Topic4\", \"Topic4\", \"Topic4\", \"Topic4\", \"Topic4\", \"Topic4\", \"Topic4\", \"Topic4\", \"Topic4\", \"Topic4\", \"Topic4\", \"Topic4\", \"Topic4\", \"Topic5\", \"Topic5\", \"Topic5\", \"Topic5\", \"Topic5\", \"Topic5\", \"Topic5\", \"Topic5\", \"Topic5\", \"Topic5\", \"Topic5\", \"Topic5\", \"Topic5\", \"Topic5\", \"Topic5\", \"Topic5\", \"Topic5\", \"Topic5\", \"Topic5\", \"Topic5\", \"Topic5\", \"Topic5\", \"Topic5\", \"Topic5\", \"Topic5\", \"Topic5\", \"Topic5\", \"Topic5\", \"Topic5\", \"Topic5\", \"Topic5\", \"Topic5\", \"Topic5\", \"Topic5\", \"Topic5\", \"Topic5\", \"Topic5\", \"Topic5\", \"Topic5\", \"Topic5\", \"Topic5\", \"Topic5\", \"Topic5\", \"Topic5\", \"Topic5\", \"Topic5\", \"Topic5\", \"Topic5\", \"Topic5\", \"Topic5\", \"Topic5\", \"Topic5\", \"Topic5\", \"Topic5\", \"Topic5\", \"Topic5\", \"Topic5\", \"Topic5\", \"Topic5\", \"Topic5\", \"Topic5\", \"Topic5\", \"Topic5\", \"Topic5\", \"Topic5\", \"Topic6\", \"Topic6\", \"Topic6\", \"Topic6\", \"Topic6\", \"Topic6\", \"Topic6\", \"Topic6\", \"Topic6\", \"Topic6\", \"Topic6\", \"Topic6\", \"Topic6\", \"Topic6\", \"Topic6\", \"Topic6\", \"Topic6\", \"Topic6\", \"Topic6\", \"Topic6\", \"Topic6\", \"Topic6\", \"Topic6\", \"Topic6\", \"Topic6\", \"Topic6\", \"Topic6\", \"Topic6\", \"Topic6\", \"Topic6\", \"Topic6\", \"Topic6\", \"Topic6\", \"Topic6\", \"Topic6\", \"Topic6\", \"Topic6\", \"Topic6\", \"Topic6\", \"Topic6\", \"Topic6\", \"Topic6\", \"Topic6\", \"Topic6\", \"Topic6\", \"Topic6\", \"Topic6\", \"Topic6\", \"Topic6\", \"Topic6\", \"Topic6\", \"Topic6\", \"Topic6\", \"Topic6\", \"Topic6\", \"Topic6\", \"Topic6\", \"Topic6\", \"Topic6\", \"Topic6\", \"Topic6\", \"Topic6\", \"Topic6\", \"Topic6\", \"Topic6\"], \"Freq\": [48.0, 36.0, 19.0, 23.0, 29.0, 26.0, 8.0, 25.0, 68.0, 23.0, 8.0, 13.0, 9.0, 12.0, 9.0, 18.0, 33.0, 8.0, 23.0, 11.0, 6.0, 24.0, 14.0, 6.0, 7.0, 14.0, 10.0, 9.0, 5.0, 16.0, 8.461238861083984, 4.698698997497559, 3.9387898445129395, 3.9385616779327393, 3.176457166671753, 3.176332712173462, 2.4141693115234375, 2.413492441177368, 1.651761531829834, 1.6517609357833862, 1.6517606973648071, 1.6517590284347534, 1.6517573595046997, 1.6517481803894043, 1.6517475843429565, 1.6517478227615356, 1.6514652967453003, 1.6512424945831299, 1.6510413885116577, 1.6509358882904053, 1.6504186391830444, 3.176922559738159, 2.4141056537628174, 2.4139397144317627, 2.414907455444336, 9.163235664367676, 0.8893348574638367, 0.8893345594406128, 0.8893345594406128, 0.8893345594406128, 14.39260482788086, 13.866490364074707, 0.8893345594406128, 4.20501708984375, 0.8893345594406128, 0.8893348574638367, 8.864328384399414, 6.968011856079102, 9.18701171875, 5.829197406768799, 18.672250747680664, 7.424826145172119, 5.960083961486816, 3.1594157218933105, 6.904631614685059, 6.167995452880859, 4.7025017738342285, 5.057056427001953, 3.774374008178711, 5.868777751922607, 9.77696418762207, 6.085320472717285, 4.550937652587891, 4.706554889678955, 4.604022026062012, 6.11293888092041, 5.643186092376709, 4.139095783233643, 4.204080104827881, 3.938938617706299, 4.095021724700928, 17.58386993408203, 3.8416175842285156, 7.561469554901123, 19.92413330078125, 3.0981357097625732, 3.097651958465576, 2.3549749851226807, 2.354971170425415, 2.3540658950805664, 2.3528177738189697, 10.374592781066895, 1.6112604141235352, 1.6112478971481323, 1.6112474203109741, 1.611168622970581, 1.6106005907058716, 1.6102681159973145, 1.6101406812667847, 1.6099488735198975, 1.6097989082336426, 1.6087143421173096, 1.6057294607162476, 8.302053451538086, 5.2272491455078125, 6.637933731079102, 4.977919101715088, 3.8425309658050537, 5.2242326736450195, 2.354785919189453, 16.386117935180664, 6.32703971862793, 8.309380531311035, 14.939549446105957, 4.58565092086792, 3.83408260345459, 8.02684497833252, 7.457764625549316, 4.373657703399658, 5.066883563995361, 3.746485710144043, 5.334777355194092, 7.179519176483154, 8.038474082946777, 4.477748394012451, 6.985395431518555, 4.321722984313965, 6.705559730529785, 3.4167380332946777, 3.428107261657715, 2.9737708568573, 2.2605788707733154, 2.2605226039886475, 2.2604153156280518, 4.4029154777526855, 1.5466898679733276, 1.5466880798339844, 1.5466880798339844, 1.546687126159668, 1.5466846227645874, 1.546683669090271, 1.5466830730438232, 1.5466822385787964, 1.5466313362121582, 1.546606183052063, 1.5461827516555786, 1.5451387166976929, 1.5447087287902832, 1.5429987907409668, 2.209507942199707, 2.690094470977783, 2.972957134246826, 0.8327794075012207, 0.8327794075012207, 0.8327794075012207, 0.8327794075012207, 0.8327794075012207, 0.8327794075012207, 0.8327794075012207, 0.8327794075012207, 3.687281608581543, 0.8327794075012207, 0.8327794075012207, 0.8327794075012207, 0.8327794075012207, 0.8327794075012207, 0.8327794075012207, 9.013959884643555, 0.8327794075012207, 2.973130941390991, 2.2615838050842285, 1.5456498861312866, 1.545499563217163, 0.8327794075012207, 0.8327794075012207, 2.9586775302886963, 1.5456269979476929, 2.260141372680664, 3.6878952980041504, 5.1083807945251465, 12.885229110717773, 6.8101091384887695, 3.6902523040771484, 2.612837076187134, 2.975245714187622, 5.592655658721924, 3.6892428398132324, 5.76831579208374, 2.93099308013916, 2.2592859268188477, 3.9848296642303467, 3.128173351287842, 2.2612783908843994, 3.2217752933502197, 3.105423927307129, 3.4448390007019043, 4.185226917266846, 2.9758479595184326, 2.9759931564331055, 3.3464195728302, 3.0813286304473877, 2.503103256225586, 2.528846263885498, 7.903648376464844, 2.949038505554199, 2.9488749504089355, 2.241015911102295, 1.53351628780365, 1.5335094928741455, 1.5331618785858154, 1.5330549478530884, 1.5330543518066406, 1.5330599546432495, 4.662784099578857, 2.8295962810516357, 23.243928909301758, 2.1054322719573975, 0.8256916403770447, 0.8256916403770447, 0.8256916403770447, 0.8256916403770447, 0.8256916403770447, 0.8256916403770447, 0.8256916403770447, 0.8256916403770447, 0.8256916403770447, 0.8256916403770447, 0.8256916403770447, 0.8256916403770447, 0.8256916403770447, 0.8256916403770447, 0.8256916403770447, 0.8256916403770447, 3.6587748527526855, 0.8256916403770447, 1.5336556434631348, 2.2129294872283936, 1.5332361459732056, 2.9474542140960693, 16.16192054748535, 7.363081455230713, 2.9520909786224365, 4.727849006652832, 4.052102565765381, 3.5060677528381348, 7.242072105407715, 1.533797025680542, 7.737634658813477, 2.9483349323272705, 2.051730155944824, 5.201840877532959, 2.8543643951416016, 3.838366746902466, 2.241734504699707, 2.9222099781036377, 2.24231219291687, 2.291733503341675, 2.2414867877960205, 2.517329216003418, 2.4863412380218506, 2.2426908016204834, 2.325502872467041, 2.262117862701416, 2.2433180809020996, 3.6065471172332764, 2.210724353790283, 4.790467262268066, 1.5125724077224731, 1.512569785118103, 1.5125690698623657, 1.512568473815918, 1.5125672817230225, 1.5125142335891724, 1.5123584270477295, 1.512313961982727, 3.6098344326019287, 2.1572165489196777, 6.981414794921875, 0.8144117593765259, 0.8144117593765259, 0.8144117593765259, 0.8144117593765259, 0.8144117593765259, 0.8144117593765259, 0.8144117593765259, 0.8144117593765259, 0.8144108653068542, 0.8144108653068542, 0.8144108653068542, 0.8144108653068542, 0.8144108653068542, 0.8144108653068542, 0.8144108653068542, 0.8144107460975647, 0.8144107460975647, 20.46742820739746, 1.5130418539047241, 1.5127224922180176, 1.512379765510559, 1.5126111507415771, 1.5128588676452637, 3.5759947299957275, 8.456024169921875, 2.21114444732666, 2.212995767593384, 4.305141925811768, 4.982965469360352, 4.536773204803467, 2.2123217582702637, 1.5120195150375366, 5.79310417175293, 2.2114360332489014, 5.004602432250977, 6.275485992431641, 7.183951377868652, 8.255928039550781, 5.310319900512695, 3.7725625038146973, 3.6057310104370117, 2.871070146560669, 3.5148963928222656, 3.4814541339874268, 2.671011447906494, 2.2134783267974854, 2.208599805831909, 2.9988014698028564, 2.7106692790985107, 2.2569947242736816, 2.211423873901367, 6.68072509765625, 2.119070529937744, 5.011935710906982, 1.4544346332550049, 1.4544332027435303, 1.4544322490692139, 1.4544322490692139, 1.454281210899353, 3.4679818153381348, 2.126276969909668, 0.7831156253814697, 0.7831156253814697, 0.7831156253814697, 0.7831156253814697, 0.7831156253814697, 0.7831156253814697, 0.7831156253814697, 0.7831156253814697, 0.7831156253814697, 0.7831156253814697, 0.7831156253814697, 0.7831156253814697, 0.7831156253814697, 0.7831156253814697, 0.7831156253814697, 0.7831156253814697, 0.7831156253814697, 0.7831156253814697, 0.7831156253814697, 0.7831156253814697, 5.421444892883301, 15.994819641113281, 4.145360946655273, 0.7831156253814697, 3.316255569458008, 10.519001007080078, 2.797462224960327, 2.125518321990967, 2.1258418560028076, 1.4539945125579834, 1.4544559717178345, 4.073215484619141, 16.84519386291504, 2.1250572204589844, 2.1280834674835205, 15.787008285522461, 1.9955204725265503, 2.1258485317230225, 6.055118083953857, 1.4549381732940674, 1.4531620740890503, 2.1270322799682617, 4.404007434844971, 4.345832824707031, 5.131148815155029, 5.094634532928467, 3.306918144226074, 2.8348052501678467, 2.87492299079895, 2.6594855785369873, 2.4503819942474365, 2.5515670776367188, 2.7496864795684814, 2.2010445594787598, 2.1265127658843994], \"Term\": [\"\\uac80\\uc0c9\", \"\\ucc44\\ud305\", \"\\uc13c\\ud130\", \"\\uace0\\uac1d\", \"\\ub3d9\\ub124\", \"\\uc815\\uc9c0\", \"\\ud0c0\\uc9c0\\uc5ed\", \"\\uc9c0\\uc5ed\", \"\\uac70\\ub798\", \"\\ubd88\\ud3b8\", \"\\uc544\\ubb34\\uac83\", \"\\ubb38\\uc758\", \"\\uc54c\\ub78c\", \"\\ubb38\\uc790\", \"\\uc5c5\\ub370\\uc774\\ud2b8\", \"\\uc0ac\\uae30\", \"\\uc2e0\\uace0\", \"\\uacc4\\uc815\", \"\\ub2f9\\uadfc\", \"\\uad11\\uace0\", \"\\ubc29\\ubc95\", \"\\ud310\\ub9e4\", \"\\ubc88\\ud638\", \"\\uacb0\\uacfc\", \"\\uac70\\ub9ac\", \"\\ud0c8\\ud1f4\", \"\\uac00\\uc785\", \"\\ub2f5\\ubcc0\", \"\\uc774\\uc6a9\\uc790\", \"\\ud655\\uc778\", \"\\uc54c\\ub78c\", \"\\uc911\\uace0\\ub098\\ub77c\", \"\\ub0b4\\uc6a9\", \"\\ub85c\\uadf8\\uc778\", \"\\ub300\\ubd80\\ubd84\", \"\\ud310\\ub2e8\", \"\\uc774\\uc81c\", \"\\ud6c4\\uae30\", \"\\uc5d0\\ub20c\", \"\\ub9e4\\ub108\\uc810\\uc218\", \"\\uac1c\\ub150\", \"\\uc81c\\uc81c\", \"\\uc0c1\\ud669\", \"\\ubcc4\\ub8e8\", \"\\ub0ad\\ube44\", \"\\uc815\\uc791\", \"\\uc774\\ud574\\ubd88\\uac00\", \"\\uc0c1\\ub300\", \"\\uc798\\ubabb\", \"\\ub85c\\uadf8\", \"\\uc2dc\\uace8\", \"\\uc18c\\ub9ac\", \"\\uc774\\ubbf8\\uc9c0\", \"\\uc815\\uc2e0\", \"\\uc644\\uc804\", \"\\ubc88\\ud638\", \"\\uc911\\uace0\\ud488\\uc571\", \"\\uc18c\\ube44\", \"\\uc131\\uc7a5\", \"\\uc0c1\\ud638\\uac04\", \"\\ud310\\ub9e4\", \"\\ub2f9\\uadfc\", \"\\ub204\\uc801\", \"\\uc0c1\\ub300\\ubc29\", \"\\uac70\\ub798\\uc9c1\\uc804\", \"\\uc120\\uc758\", \"\\uc124\\uc815\", \"\\ub2f9\\uadfc\\ub9c8\\ucf13\", \"\\uc778\\uc99d\", \"\\ub9e4\\ub108\", \"\\uac70\\ub798\", \"\\ud310\\ub9e4\\uc790\", \"\\uc911\\uace0\", \"\\ubc88\\uac1c\\uc7a5\\ud130\", \"\\uc9c4\\uc9dc\", \"\\uc5f0\\ub77d\", \"\\uc9c1\\uac70\\ub798\", \"\\uad6c\\ub9e4\", \"\\uac1c\\uc120\", \"\\uc0ac\\uae30\", \"\\uc0ac\\ub78c\", \"\\uac00\\ub2a5\", \"\\uc774\\uc0c1\", \"\\uc0ac\\uc6a9\", \"\\uc0c1\\ud488\", \"\\uc2e0\\uace0\", \"\\ubb3c\\uac74\", \"\\uac00\\uaca9\", \"\\ud655\\uc778\", \"\\uc2dc\\uac04\", \"\\ucc44\\ud305\", \"\\uc13c\\ud130\", \"\\ud310\\ub9e4\\uc5c5\\uc790\", \"\\uacc4\\uc815\", \"\\uace0\\uac1d\", \"\\uac1c\\uc778\", \"\\uc804\\ud654\\ubc88\\ud638\", \"\\ucc45\\uc784\", \"\\uc790\\uc804\\uac70\", \"\\ud5c8\\uc704\", \"\\ud56d\\ubaa9\", \"\\ubb38\\uc758\", \"\\uc885\\ub958\", \"\\ucd95\\uad6c\", \"\\ud3b8\\ub9ac\", \"\\ub2e4\\uc6b4\", \"\\uc13c\\ud0c0\", \"\\uc0c1\\uad00\", \"\\uc790\\ub3d9\", \"\\uc2b9\\uc778\", \"\\uc774\\uc6a9\\uc81c\", \"\\uc9c8\\ubb38\", \"\\ub2e8\\uc810\", \"\\uad11\\uace0\", \"\\uc804\\ubb38\", \"\\ub2f5\\ubcc0\", \"\\ub3d9\\uc548\", \"\\uc5c5\\uc790\", \"\\ub178\\ucd9c\", \"\\uc0ac\\uc774\\ud2b8\", \"\\uc815\\uc9c0\", \"\\uac00\\uc785\", \"\\ud0c8\\ud1f4\", \"\\uc2e0\\uace0\", \"\\ud0a4\\uc6cc\\ub4dc\", \"\\uc870\\uce58\", \"\\uc774\\uc720\", \"\\ud655\\uc778\", \"\\uc54c\\ub9bc\", \"\\uc2dc\\uc2a4\\ud15c\", \"\\uc81c\\uc7ac\", \"\\uc0ad\\uc81c\", \"\\ubb3c\\uac74\", \"\\uc0ac\\ub78c\", \"\\uc774\\uc6a9\", \"\\uac80\\uc0c9\", \"\\ub2f9\\uadfc\\ub9c8\\ucf13\", \"\\uac70\\ub798\", \"\\uc9dc\\uc99d\", \"\\uac00\\ub2a5\", \"\\ucc28\\ub2e8\", \"\\uac24\\ub7ed\\uc2dc\", \"\\uc804\\uad6d\", \"\\uac70\\uc9c0\\ub9c8\\ucf13\", \"\\uc774\\uc6a9\\uc790\", \"\\uc274\\ub4dc\", \"\\ub2f9\\uadfc\\ub2c8\", \"\\uc591\\uc544\\uce58\\ucc9c\", \"\\uc18c\\ub984\", \"\\ubc94\\uc8c4\", \"\\uc804\\ubd80\", \"\\ud654\\uba74\", \"\\uc5c5\\uacc4\", \"\\ud130\\uce58\", \"\\ud53c\\ud574\", \"\\uad6c\\ub450\", \"\\ud0a4\\ubcf4\\ub4dc\", \"\\uc2dc\\ube44\", \"\\uac00\\ubc29\", \"\\uacc4\\uc18d\", \"\\uc695\\uc124\", \"\\ub313\\uae00\", \"\\uc120\\ubd88\", \"\\uc4f0\\ub808\\uae30\\ub2f9\\uadfc\\ub9c8\\ucf13\", \"\\uc878\\uac1c\", \"\\uc778\\ud130\\ub137\\ucd5c\\uc800\\uac00\", \"\\uc628\\ub77c\\uc778\", \"\\uc591\\uc544\\uce58\\uc218\\uc900\", \"\\uc591\\uc544\\uce58\\uc0c9\\ucd9c\", \"\\uc591\\uc544\\uce58\\ub450\\ubaa9\", \"\\uc790\\uccb4\", \"\\uc9c0\\uc804\\ud654\\ub3c4\\uc548\", \"\\uc18c\\ubb38\", \"\\uc885\\uc6a9\", \"\\ud6c4\\ubd88\", \"\\ub0c9\\uc7a5\\uace0\", \"\\ud1f4\\ucd9c\", \"\\uc0ac\\uae30\", \"\\uc2a4\\uc2a4\", \"\\uc0ac\\uc9c4\", \"\\ubaa9\\ub85d\", \"\\uc2dc\\uc791\", \"\\uc791\\uc815\", \"\\uc800\\uaca9\\uae00\", \"\\uc870\\uce74\", \"\\uc81c\\ud488\", \"\\uc774\\ub3d9\", \"\\ubd88\\ubc95\", \"\\ubb38\\uc81c\", \"\\uc774\\uc0c1\", \"\\uc0ac\\ub78c\", \"\\uc815\\uc9c0\", \"\\uc0ac\\uc6a9\\uc790\", \"\\uc5b4\\uc81c\", \"\\uc5b4\\uc774\", \"\\uc2e0\\uace0\", \"\\uac00\\uaca9\", \"\\ubb3c\\uac74\", \"\\uc5c5\\ub370\\uc774\\ud2b8\", \"\\uc0dd\\uac01\", \"\\ud310\\ub9e4\", \"\\ub9e4\\ub108\", \"\\ud3c9\\uac00\", \"\\uae30\\ub2a5\", \"\\ub2f9\\uadfc\\ub9c8\\ucf13\", \"\\ubd88\\ud3b8\", \"\\uac80\\uc0c9\", \"\\uc774\\uc6a9\", \"\\uc911\\uace0\", \"\\ucc44\\ud305\", \"\\uac70\\ub798\", \"\\ube44\\ub9e4\\ub108\", \"\\uac00\\ub2a5\", \"\\ud0c0\\uc9c0\\uc5ed\", \"\\ucc44\\ud305\\ucc3d\", \"\\uc11c\\ube44\\uc2a4\", \"\\ucee8\\uc149\", \"\\ud648\\ud398\\uc774\\uc9c0\", \"\\ud30c\\uae30\", \"\\uc0ac\\uc774\", \"\\uc785\\ub825\\ucc3d\", \"\\uc804\\uccb4\", \"\\ud65c\\uac1c\", \"\\uac70\\ub9ac\", \"\\uad00\\uc2ec\", \"\\ucc44\\ud305\", \"\\uad6c\\uc785\", \"\\uae09\\uc2e4\\ub9dd\", \"\\ub17c\\ub7b5\", \"\\ubcf8\\ub798\", \"\\uc0ac\\uc5c5\", \"\\uc740\\ud3d0\", \"\\uc774\\uc775\", \"\\uc124\\ub7c9\", \"\\uc124\\ub9bd\", \"\\uacf5\\uacf5\", \"\\ucc45\\uc784\\uc790\", \"\\uc9c4\\uc9c8\", \"\\uc21c\\uc218\", \"\\ud3b8\\uc9d1\", \"\\uc2dc\\ubbfc\", \"\\uc9c1\\uc6d0\\ubd84\", \"\\uc81c\\uae00\", \"\\ubb34\\ub8cc\", \"\\uc18d\\uc784\\uc218\", \"\\uc598\\uae30\", \"\\uc9c4\\uc0c1\", \"\\uc120\\ud0dd\", \"\\uc5d0\\ub7ec\", \"\\uac70\\ub798\", \"\\uc9c0\\uc5ed\", \"\\uc624\\ub298\", \"\\uc5f0\\ub77d\", \"\\uc774\\uc6a9\", \"\\uc2dc\\uac04\", \"\\ubb3c\\uac74\", \"\\ucde8\\uc9c0\", \"\\uc0ac\\ub78c\", \"\\uc624\\ub958\", \"\\ub3d9\\ub124\\uc778\\uc99d\", \"\\ub3d9\\ub124\", \"\\uc9c1\\uac70\\ub798\", \"\\uac00\\ub2a5\", \"\\ubd80\\ud0c1\", \"\\uc9c4\\uc9dc\", \"\\ud0a4\\uc6cc\\ub4dc\", \"\\uac1c\\uc120\", \"\\ubb3c\\ud488\", \"\\uc774\\uc720\", \"\\uae30\\ub2a5\", \"\\uad11\\uace0\", \"\\uc778\\uc99d\", \"\\uc124\\uc815\", \"\\uc0ad\\uc81c\", \"\\uc0b4\\uc218\", \"\\ucabd\\uc9c0\", \"\\uacb0\\uacfc\", \"\\uad50\\ud1b5\", \"\\uacbd\\ub85c\", \"\\uc18d\\ub3c4\", \"\\uc815\\ucc45\", \"\\ucc28\\ubcc4\", \"\\ub2e4\\uc6b4\\ub85c\\ub4dc\", \"\\uc5bc\\ub9c8\", \"\\uc7ac\\uc124\\uce58\", \"\\uc811\\uc18d\", \"\\uc608\\uc804\", \"\\ubb38\\uc790\", \"\\uc571\\uc0ac\\uc6a9\", \"\\uc774\\uc810\", \"\\uc6d0\\ud558\", \"\\ub098\\uba38\\uc9c0\", \"\\uad6c\\uc9c0\", \"\\uac70\\ub798\\ubd88\\uac00\\ub2a5\", \"\\uc2dc\\uc124\", \"\\uacfc\\uc815\", \"\\ub18d\\uc0b0\\ubb3c\", \"\\uac10\\uc790\", \"\\uccb4\\ud06c\", \"\\uc9c0\\u3160\", \"\\uc0b0\\uc81c\", \"\\uba87\\ubc15\\uc2a4\", \"\\ub3d9\\uc758\", \"\\ud560\\ub9e4\", \"\\uce5c\\ubaa9\\ud68c\", \"\\uac80\\uc0c9\", \"\\uc4f8\\ubaa8\", \"\\uacbd\\uc6b0\", \"\\ub9e4\\ub108\\ud3c9\\uac00\", \"\\uc791\\ub3d9\", \"\\ubd80\\ubd84\", \"\\uc624\\ub298\", \"\\uc9c0\\uc5ed\", \"\\uc704\\uce58\", \"\\uadfc\\ucc98\", \"\\uc624\\ub958\", \"\\uc0ac\\uc6a9\", \"\\uc0c1\\ud488\", \"\\uac8c\\uc2dc\\uae00\", \"\\ud734\\ub300\\ud3f0\", \"\\uc778\\uc99d\", \"\\ub3d9\\ub124\\uc778\\uc99d\", \"\\ub2f9\\uadfc\", \"\\ubb3c\\uac74\", \"\\uc0ac\\ub78c\", \"\\uac70\\ub798\", \"\\uc2e0\\uace0\", \"\\uae30\\ub2a5\", \"\\uc774\\uc720\", \"\\uad6c\\ub9e4\\uc790\", \"\\ud310\\ub9e4\\uc790\", \"\\uc9c4\\uc9dc\", \"\\uac00\\uc785\", \"\\uc5d0\\ub7ec\", \"\\ud574\\uacb0\", \"\\ubd88\\ud3b8\", \"\\uac00\\ub2a5\", \"\\ub3d9\\ub124\", \"\\uc2dc\\uac04\", \"\\uc544\\ubb34\\uac83\", \"\\ud53c\\ud574\\uc790\", \"\\ubc29\\ubc95\", \"\\ub3d9\\ub124\\ubb3c\\uac74\", \"\\ud310\\ub9e4\\uae00\", \"\\ud544\\ud130\", \"\\uac10\\uc0ac\", \"\\uc9c0\\uc5ed\\uad6c\", \"\\uce74\\ud14c\\uace0\\ub9ac\", \"\\ud0c0\\uc9c0\", \"\\uc678\\ubd80\", \"\\ub2e8\\uacc4\", \"\\ud3b8\\uc758\", \"\\ud22c\\uc790\", \"\\uc774\\uc804\\ubc84\\uc804\", \"\\uc74c\\uc2dd\\uc810\", \"\\ud1b5\\uc77c\", \"\\uace8\\ubab0\", \"\\uae00\\uc4f0\\uae30\", \"\\ub3c8\\ubc8c\", \"\\uc5d0\\ud734\", \"\\uc911\\uace0\\uc571\", \"\\ub3d9\\ub124\\ud64d\\ubcf4\", \"\\ub9dd\\uc870\", \"\\ubc84\\ud37c\", \"\\uc120\\ud0dd\\ucc3d\", \"\\uc131\\uacf5\", \"\\uc5c5\\ub85c\\ub4dc\", \"\\ub9c1\\ub54c\", \"\\uc880\\ubc8c\\ub808\", \"\\uc5c5\\ub370\\uc774\\ud2b8\", \"\\ub3d9\\ub124\", \"\\uc4f0\\ub808\\uae30\", \"\\ud5ec\\uc774\\ub77c\", \"\\uc124\\uce58\", \"\\ubd88\\ud3b8\", \"\\uac8c\\uc2dc\\ubb3c\", \"\\uc644\\ub8cc\", \"\\uc815\\ubcf4\", \"\\ub3d9\\uc77c\", \"\\uc8fc\\ubcc0\", \"\\ubb3c\\ud488\", \"\\uac80\\uc0c9\", \"\\uc704\\uce58\", \"\\ub300\\uc751\", \"\\uac70\\ub798\", \"\\uc608\\uc57d\", \"\\ud0dd\\ubc30\", \"\\uc9c0\\uc5ed\", \"\\ud734\\ub300\\ud3f0\", \"\\ud45c\\uc2dc\", \"\\uc81c\\ud55c\", \"\\uac00\\ub2a5\", \"\\uc778\\uc99d\", \"\\ubb3c\\uac74\", \"\\ucc44\\ud305\", \"\\uc5f0\\ub77d\", \"\\uc124\\uc815\", \"\\uae30\\ub2a5\", \"\\ud655\\uc778\", \"\\uc0c1\\ud488\", \"\\uc9c4\\uc9dc\", \"\\uc0ac\\ub78c\", \"\\uad6c\\ub9e4\", \"\\ube44\\ub9e4\\ub108\"], \"Total\": [48.0, 36.0, 19.0, 23.0, 29.0, 26.0, 8.0, 25.0, 68.0, 23.0, 8.0, 13.0, 9.0, 12.0, 9.0, 18.0, 33.0, 8.0, 23.0, 11.0, 6.0, 24.0, 14.0, 6.0, 7.0, 14.0, 10.0, 9.0, 5.0, 16.0, 9.096285820007324, 5.290248394012451, 4.528114318847656, 4.528055667877197, 3.7657110691070557, 3.7657041549682617, 3.0033180713653564, 3.003247022628784, 2.2409095764160156, 2.2409090995788574, 2.2409088611602783, 2.2409074306488037, 2.240906000137329, 2.2408981323242188, 2.2408976554870605, 2.2408978939056396, 2.2408571243286133, 2.2408106327056885, 2.240842580795288, 2.2408149242401123, 2.2407119274139404, 4.463788032531738, 3.711033344268799, 3.7110142707824707, 3.746905565261841, 14.233336448669434, 1.4784828424453735, 1.4784826040267944, 1.4784826040267944, 1.4784826040267944, 24.5178165435791, 23.677827835083008, 1.4784826040267944, 7.305254936218262, 1.4784826040267944, 1.4784828424453735, 16.84379768371582, 16.29784393310547, 24.541290283203125, 13.16312026977539, 68.66400146484375, 19.644283294677734, 15.41236686706543, 5.936544895172119, 19.52718162536621, 17.30495262145996, 11.680404663085938, 13.736978530883789, 8.755788803100586, 18.886478424072266, 48.37194061279297, 22.995317459106445, 13.149835586547852, 15.851956367492676, 15.052892684936523, 33.608436584472656, 37.23972702026367, 13.76502513885498, 16.099441528320312, 12.333930969238281, 36.843753814697266, 19.22580337524414, 4.434585094451904, 8.866960525512695, 23.694995880126953, 3.690897226333618, 3.69084095954895, 2.947239637374878, 2.9472362995147705, 2.947192430496216, 2.947070598602295, 13.266454696655273, 2.2035253047943115, 2.203514814376831, 2.2035140991210938, 2.203468084335327, 2.20345139503479, 2.2034709453582764, 2.203369379043579, 2.2033441066741943, 2.2034645080566406, 2.203303575515747, 2.2027499675750732, 11.718140602111816, 7.400681018829346, 9.609904289245605, 7.230353832244873, 5.830871105194092, 8.00441837310791, 3.6549172401428223, 26.310436248779297, 10.901463508605957, 14.807781219482422, 33.608436584472656, 7.9997663497924805, 6.559584140777588, 17.455095291137695, 16.099441528320312, 8.123878479003906, 10.858450889587402, 8.06375789642334, 15.394975662231445, 37.23972702026367, 48.37194061279297, 15.081873893737793, 48.72923278808594, 16.29784393310547, 68.66400146484375, 12.337474822998047, 22.995317459106445, 3.5716962814331055, 2.8578133583068848, 2.8578040599823, 2.8577849864959717, 5.761601448059082, 2.143922805786133, 2.143921375274658, 2.143921375274658, 2.143920421600342, 2.14391827583313, 2.1439173221588135, 2.1439168453216553, 2.143916606903076, 2.143873453140259, 2.1439125537872314, 2.1438679695129395, 2.1438114643096924, 2.143892288208008, 2.14361572265625, 3.5260534286499023, 4.353306293487549, 4.9141693115234375, 1.4300123453140259, 1.4300123453140259, 1.4300123453140259, 1.4300123453140259, 1.4300123453140259, 1.4300123453140259, 1.4300123453140259, 1.4300123453140259, 6.481500625610352, 1.4300123453140259, 1.4300123453140259, 1.4300123453140259, 1.4300123453140259, 1.4300123453140259, 1.4300123453140259, 18.886478424072266, 1.4300123453140259, 5.767577171325684, 4.2726240158081055, 2.8150675296783447, 2.815077781677246, 1.4300123453140259, 1.4300123453140259, 5.766635894775391, 2.841892719268799, 4.382443428039551, 7.966713905334473, 13.149835586547852, 48.37194061279297, 26.310436248779297, 10.252090454101562, 5.642644882202148, 7.228150367736816, 33.608436584472656, 13.76502513885498, 37.23972702026367, 9.715518951416016, 5.642577171325684, 24.5178165435791, 13.16312026977539, 5.733686923980713, 17.865848541259766, 16.29784393310547, 23.061002731323242, 48.72923278808594, 15.081873893737793, 15.41236686706543, 36.843753814697266, 68.66400146484375, 10.063188552856445, 22.995317459106445, 8.502141952514648, 3.5473759174346924, 3.5473997592926025, 2.8395750522613525, 2.131763458251953, 2.131757974624634, 2.131732940673828, 2.1317319869995117, 2.13173246383667, 2.1317660808563232, 7.061476230621338, 4.318904399871826, 36.843753814697266, 3.554381847381592, 1.423937439918518, 1.423937439918518, 1.423937439918518, 1.423937439918518, 1.423937439918518, 1.423937439918518, 1.423937439918518, 1.423937439918518, 1.423937439918518, 1.423937439918518, 1.423937439918518, 1.423937439918518, 1.423937439918518, 1.423937439918518, 1.423937439918518, 1.423937439918518, 6.402214527130127, 1.423937439918518, 2.8030052185058594, 4.302068710327148, 2.8753113746643066, 6.355461120605469, 68.66400146484375, 25.22663116455078, 8.423986434936523, 17.30495262145996, 15.081873893737793, 12.333930969238281, 37.23972702026367, 3.637601613998413, 48.37194061279297, 11.309739112854004, 6.266754150390625, 29.17289924621582, 11.680404663085938, 22.995317459106445, 7.894416332244873, 19.52718162536621, 7.9997663497924805, 8.755788803100586, 9.009733200073242, 17.455095291137695, 17.865848541259766, 11.718140602111816, 24.541290283203125, 16.84379768371582, 15.394975662231445, 4.206833839416504, 2.810582399368286, 6.321699619293213, 2.1124303340911865, 2.1124279499053955, 2.1124274730682373, 2.112426996231079, 2.1124260425567627, 2.11238169670105, 2.1124229431152344, 2.112407684326172, 5.640182971954346, 3.519042491912842, 12.08474349975586, 1.4142693281173706, 1.4142693281173706, 1.4142693281173706, 1.4142693281173706, 1.4142693281173706, 1.4142693281173706, 1.4142693281173706, 1.4142693281173706, 1.4142684936523438, 1.4142684936523438, 1.4142684936523438, 1.4142684936523438, 1.4142684936523438, 1.4142684936523438, 1.4142684936523438, 1.4142683744430542, 1.4142683744430542, 48.72923278808594, 2.820108413696289, 2.826216697692871, 2.8262147903442383, 2.856006622314453, 2.874661445617676, 8.423986434936523, 25.22663116455078, 4.824453353881836, 4.903276443481445, 11.309739112854004, 15.851956367492676, 15.052892684936523, 5.701350688934326, 3.45493483543396, 24.541290283203125, 6.266754150390625, 23.677827835083008, 37.23972702026367, 48.37194061279297, 68.66400146484375, 33.608436584472656, 17.865848541259766, 17.455095291137695, 10.89536190032959, 19.644283294677734, 19.52718162536621, 10.901463508605957, 6.355461120605469, 6.5684428215026855, 23.061002731323242, 22.995317459106445, 29.17289924621582, 12.333930969238281, 8.188338279724121, 2.7304317951202393, 6.830297946929932, 2.0587656497955322, 2.0587644577026367, 2.0587637424468994, 2.0587637424468994, 2.0587635040283203, 5.468916416168213, 3.437747001647949, 1.3874455690383911, 1.3874455690383911, 1.3874455690383911, 1.3874455690383911, 1.3874455690383911, 1.3874455690383911, 1.3874455690383911, 1.3874455690383911, 1.3874455690383911, 1.3874455690383911, 1.3874455690383911, 1.3874455690383911, 1.3874455690383911, 1.3874455690383911, 1.3874455690383911, 1.3874455690383911, 1.3874455690383911, 1.3874455690383911, 1.3874455690383911, 1.3874455690383911, 9.715518951416016, 29.17289924621582, 7.641063213348389, 1.3874455690383911, 6.2102508544921875, 23.061002731323242, 5.541111946105957, 4.1262993812561035, 4.157764434814453, 2.7568359375, 2.772554397583008, 9.009733200073242, 48.72923278808594, 4.824453353881836, 4.96823787689209, 68.66400146484375, 4.93917179107666, 5.54182243347168, 25.22663116455078, 3.45493483543396, 3.4706454277038574, 6.336909294128418, 22.995317459106445, 24.541290283203125, 37.23972702026367, 36.843753814697266, 17.30495262145996, 16.84379768371582, 17.865848541259766, 16.099441528320312, 15.052892684936523, 19.52718162536621, 48.37194061279297, 13.736978530883789, 10.063188552856445], \"loglift\": [30.0, 29.0, 28.0, 27.0, 26.0, 25.0, 24.0, 23.0, 22.0, 21.0, 20.0, 19.0, 18.0, 17.0, 16.0, 15.0, 14.0, 13.0, 12.0, 11.0, 10.0, 9.0, 8.0, 7.0, 6.0, 5.0, 4.0, 3.0, 2.0, 1.0, 1.4455000162124634, 1.3992999792099, 1.3783999681472778, 1.3783999681472778, 1.3476999998092651, 1.347599983215332, 1.2994999885559082, 1.2992000579833984, 1.2128000259399414, 1.2128000259399414, 1.2128000259399414, 1.2128000259399414, 1.2128000259399414, 1.2128000259399414, 1.2128000259399414, 1.2128000259399414, 1.2125999927520752, 1.212499976158142, 1.212399959564209, 1.2122999429702759, 1.2121000289916992, 1.1778000593185425, 1.0879000425338745, 1.0878000259399414, 1.0786000490188599, 1.0774999856948853, 1.0095000267028809, 1.0095000267028809, 1.0095000267028809, 1.0095000267028809, 0.9851999878883362, 0.9828000068664551, 1.0095000267028809, 0.965499997138977, 1.0095000267028809, 1.0095000267028809, 0.8758999705314636, 0.6680999994277954, 0.5353000164031982, 0.7032999992370605, 0.21570000052452087, 0.5449000000953674, 0.567799985408783, 0.8870999813079834, 0.4781999886035919, 0.4862000048160553, 0.6079999804496765, 0.5184999704360962, 0.6764000058174133, 0.3490000069141388, -0.08100000023841858, 0.188400000333786, 0.45680001378059387, 0.3034999966621399, 0.33320000767707825, -0.18649999797344208, -0.36910000443458557, 0.31619998812675476, 0.17509999871253967, 0.3763999938964844, -0.679099977016449, 1.5612000226974487, 1.5069999694824219, 1.4911999702453613, 1.4772000312805176, 1.4753999710083008, 1.4752999544143677, 1.426200032234192, 1.426200032234192, 1.4257999658584595, 1.4253000020980835, 1.4046000242233276, 1.337499976158142, 1.337499976158142, 1.337499976158142, 1.337399959564209, 1.3371000289916992, 1.336899995803833, 1.3367999792099, 1.3366999626159668, 1.3365999460220337, 1.3359999656677246, 1.3344000577926636, 1.305899977684021, 1.3028000593185425, 1.280500054359436, 1.2771999835968018, 1.2335000038146973, 1.2237999439239502, 1.2108999490737915, 1.1770000457763672, 1.1064000129699707, 1.072700023651123, 0.8396999835968018, 1.093999981880188, 1.1134999990463257, 0.8737000226974487, 0.8809999823570251, 1.0312999486923218, 0.8883000016212463, 0.8840000033378601, 0.5906999707221985, 0.004399999976158142, -0.14419999718666077, 0.4361000061035156, -0.29190000891685486, 0.3231000006198883, -0.6758000254631042, 0.36660000681877136, -0.25279998779296875, 1.6764999628067017, 1.6252000331878662, 1.6252000331878662, 1.6252000331878662, 1.5907000303268433, 1.5332000255584717, 1.5332000255584717, 1.5332000255584717, 1.5332000255584717, 1.5332000255584717, 1.5332000255584717, 1.5332000255584717, 1.5332000255584717, 1.5331000089645386, 1.5331000089645386, 1.5328999757766724, 1.5321999788284302, 1.5319000482559204, 1.530900001525879, 1.392300009727478, 1.3782999515533447, 1.357100009918213, 1.319000005722046, 1.319000005722046, 1.319000005722046, 1.319000005722046, 1.319000005722046, 1.319000005722046, 1.319000005722046, 1.319000005722046, 1.2956000566482544, 1.319000005722046, 1.319000005722046, 1.319000005722046, 1.319000005722046, 1.319000005722046, 1.319000005722046, 1.1200000047683716, 1.319000005722046, 1.1970000267028809, 1.2235000133514404, 1.26010000705719, 1.2599999904632568, 1.319000005722046, 1.319000005722046, 1.1922999620437622, 1.250599980354309, 1.1974999904632568, 1.0894999504089355, 0.9142000079154968, 0.5368000268936157, 0.5080999732017517, 0.8378999829292297, 1.0898000001907349, 0.972000002861023, 0.06639999896287918, 0.5429999828338623, -0.0052999998442828655, 0.661300003528595, 0.9444000124931335, 0.04280000180006027, 0.4226999878883362, 0.9291999936103821, 0.14669999480247498, 0.20180000364780426, -0.041600000113248825, -0.5950000286102295, 0.23669999837875366, 0.2151000052690506, -0.5390999913215637, -1.2441999912261963, 0.4683000147342682, -0.34779998660087585, 1.8071999549865723, 1.6953999996185303, 1.6953999996185303, 1.643399953842163, 1.5507999658584595, 1.5507999658584595, 1.5506000518798828, 1.5505000352859497, 1.5505000352859497, 1.5505000352859497, 1.4651000499725342, 1.4572999477386475, 1.4194999933242798, 1.3565000295639038, 1.3351999521255493, 1.3351999521255493, 1.3351999521255493, 1.3351999521255493, 1.3351999521255493, 1.3351999521255493, 1.3351999521255493, 1.3351999521255493, 1.3351999521255493, 1.3351999521255493, 1.3351999521255493, 1.3351999521255493, 1.3351999521255493, 1.3351999521255493, 1.3351999521255493, 1.3351999521255493, 1.3207000494003296, 1.3351999521255493, 1.2770999670028687, 1.215399980545044, 1.2513999938964844, 1.111799955368042, 0.4336000084877014, 0.6488000154495239, 0.83160001039505, 0.5825999975204468, 0.5659000277519226, 0.6223000288009644, 0.24269999563694, 1.0166000127792358, 0.04729999974370003, 0.5357000231742859, 0.7635999917984009, 0.1559000015258789, 0.47110000252723694, 0.08990000188350677, 0.6212999820709229, -0.019300000742077827, 0.608299970626831, 0.5397999882698059, 0.48899999260902405, -0.056299999356269836, -0.09189999848604202, 0.22669999301433563, -0.47620001435279846, -0.1274999976158142, -0.045899998396635056, 1.750599980354309, 1.6644999980926514, 1.6272000074386597, 1.5705000162124634, 1.5705000162124634, 1.5705000162124634, 1.5705000162124634, 1.5705000162124634, 1.5705000162124634, 1.5703999996185303, 1.5702999830245972, 1.458299994468689, 1.4151999950408936, 1.3558000326156616, 1.3525999784469604, 1.3525999784469604, 1.3525999784469604, 1.3525999784469604, 1.3525999784469604, 1.3525999784469604, 1.3525999784469604, 1.3525999784469604, 1.3525999784469604, 1.3525999784469604, 1.3525999784469604, 1.3525999784469604, 1.3525999784469604, 1.3525999784469604, 1.3525999784469604, 1.3525999784469604, 1.3525999784469604, 1.0370999574661255, 1.2819000482559204, 1.2795000076293945, 1.2792999744415283, 1.2689000368118286, 1.2625999450683594, 1.047700047492981, 0.8115000128746033, 1.1243000030517578, 1.1089999675750732, 0.9387000203132629, 0.7473000288009644, 0.7052000164985657, 0.9578999876976013, 1.0781999826431274, 0.4607999920845032, 0.8629000186920166, 0.35030001401901245, 0.12380000203847885, -0.0024999999441206455, -0.21379999816417694, 0.05939999967813492, 0.34940001368522644, 0.32739999890327454, 0.570900022983551, 0.18369999527931213, 0.18019999563694, 0.49810001254081726, 0.8497999906539917, 0.8145999908447266, -0.13539999723434448, -0.23360000550746918, -0.654699981212616, 0.1858000010251999, 1.8238999843597412, 1.773900032043457, 1.7178000211715698, 1.679900050163269, 1.679900050163269, 1.679900050163269, 1.679900050163269, 1.679800033569336, 1.5717999935150146, 1.5469000339508057, 1.455399990081787, 1.455399990081787, 1.455399990081787, 1.455399990081787, 1.455399990081787, 1.455399990081787, 1.455399990081787, 1.455399990081787, 1.455399990081787, 1.455399990081787, 1.455399990081787, 1.455399990081787, 1.455399990081787, 1.455399990081787, 1.455399990081787, 1.455399990081787, 1.455399990081787, 1.455399990081787, 1.455399990081787, 1.455399990081787, 1.444000005722046, 1.4263999462127686, 1.4157999753952026, 1.455399990081787, 1.399999976158142, 1.242400050163269, 1.3438999652862549, 1.3639999628067017, 1.3565000295639038, 1.3875999450683594, 1.382200002670288, 1.2335000038146973, 0.9650999903678894, 1.2073999643325806, 1.1794999837875366, 0.5572999715805054, 1.1210999488830566, 1.069200038909912, 0.6003000140190125, 1.162500023841858, 1.1567000150680542, 0.935699999332428, 0.37459999322891235, 0.2962000072002411, 0.04529999941587448, 0.04879999905824661, 0.3723999857902527, 0.24529999494552612, 0.2004999965429306, 0.22669999301433563, 0.21199999749660492, -0.007799999788403511, -0.8400999903678894, 0.19619999825954437, 0.47290000319480896], \"logprob\": [30.0, 29.0, 28.0, 27.0, 26.0, 25.0, 24.0, 23.0, 22.0, 21.0, 20.0, 19.0, 18.0, 17.0, 16.0, 15.0, 14.0, 13.0, 12.0, 11.0, 10.0, 9.0, 8.0, 7.0, 6.0, 5.0, 4.0, 3.0, 2.0, 1.0, -4.570000171661377, -5.158199787139893, -5.33459997177124, -5.334700107574463, -5.549699783325195, -5.549799919128418, -5.82420015335083, -5.824399948120117, -6.203700065612793, -6.203700065612793, -6.203700065612793, -6.203700065612793, -6.203700065612793, -6.203700065612793, -6.203700065612793, -6.203700065612793, -6.20389986038208, -6.203999996185303, -6.204100131988525, -6.20419979095459, -6.204500198364258, -5.549600124359131, -5.82420015335083, -5.8242998123168945, -5.82390022277832, -4.490300178527832, -6.822800159454346, -6.822800159454346, -6.822800159454346, -6.822800159454346, -4.03879976272583, -4.076000213623047, -6.822800159454346, -5.269199848175049, -6.822800159454346, -6.822800159454346, -4.523499965667725, -4.764200210571289, -4.48769998550415, -4.942599773406982, -3.7785000801086426, -4.700699806213379, -4.920400142669678, -5.555099964141846, -4.7733001708984375, -4.886099815368652, -5.157400131225586, -5.084700107574463, -5.377299785614014, -4.9359002113342285, -4.42549991607666, -4.899600028991699, -5.190199851989746, -5.156599998474121, -5.178599834442139, -4.895100116729736, -4.975100040435791, -5.284999847412109, -5.269499778747559, -5.33459997177124, -5.2957000732421875, -3.705899953842163, -5.2270002365112305, -4.549799919128418, -3.580899953842163, -5.441999912261963, -5.442200183868408, -5.716300010681152, -5.716300010681152, -5.716700077056885, -5.717199802398682, -4.233500003814697, -6.095799922943115, -6.095799922943115, -6.095799922943115, -6.095900058746338, -6.096199989318848, -6.096399784088135, -6.096499919891357, -6.09660005569458, -6.096700191497803, -6.097400188446045, -6.099299907684326, -4.456299781799316, -4.919000148773193, -4.679999828338623, -4.967800140380859, -5.2266998291015625, -4.91949987411499, -5.716400146484375, -3.776400089263916, -4.728000164031982, -4.45550012588501, -3.868799924850464, -5.049900054931641, -5.228899955749512, -4.490099906921387, -4.563600063323975, -5.0971999168396, -4.950099945068359, -5.251999855041504, -4.898600101470947, -4.601600170135498, -4.48859977722168, -5.073699951171875, -4.629000186920166, -5.1092000007629395, -4.669899940490723, -5.344200134277344, -5.340799808502197, -5.273900032043457, -5.548099994659424, -5.548099994659424, -5.548099994659424, -4.881400108337402, -5.927599906921387, -5.927599906921387, -5.927599906921387, -5.927599906921387, -5.927599906921387, -5.927599906921387, -5.927599906921387, -5.927599906921387, -5.927599906921387, -5.927599906921387, -5.9278998374938965, -5.928599834442139, -5.928800106048584, -5.929999828338623, -5.570899963378906, -5.374100208282471, -5.274099826812744, -6.5467000007629395, -6.5467000007629395, -6.5467000007629395, -6.5467000007629395, -6.5467000007629395, -6.5467000007629395, -6.5467000007629395, -6.5467000007629395, -5.058800220489502, -6.5467000007629395, -6.5467000007629395, -6.5467000007629395, -6.5467000007629395, -6.5467000007629395, -6.5467000007629395, -4.164899826049805, -6.5467000007629395, -5.274099826812744, -5.547599792480469, -5.928199768066406, -5.928299903869629, -6.5467000007629395, -6.5467000007629395, -5.278900146484375, -5.928299903869629, -5.548299789428711, -5.058599948883057, -4.732800006866455, -3.8076000213623047, -4.445300102233887, -5.058000087738037, -5.403200149536133, -5.273399829864502, -4.642199993133545, -5.058300018310547, -4.611299991607666, -5.288300037384033, -5.548600196838379, -4.981200218200684, -5.223199844360352, -5.547800064086914, -5.193699836730957, -5.230500221252441, -5.126800060272217, -4.93209981918335, -5.273200035095215, -5.273099899291992, -5.155799865722656, -5.23829984664917, -5.446199893951416, -5.4359002113342285, -4.275899887084961, -5.26170015335083, -5.2617998123168945, -5.536300182342529, -5.915599822998047, -5.915599822998047, -5.915900230407715, -5.915900230407715, -5.915900230407715, -5.915900230407715, -4.803599834442139, -5.303100109100342, -3.1970999240875244, -5.598700046539307, -6.5346999168396, -6.5346999168396, -6.5346999168396, -6.5346999168396, -6.5346999168396, -6.5346999168396, -6.5346999168396, -6.5346999168396, -6.5346999168396, -6.5346999168396, -6.5346999168396, -6.5346999168396, -6.5346999168396, -6.5346999168396, -6.5346999168396, -6.5346999168396, -5.04610013961792, -6.5346999168396, -5.915500164031982, -5.548900127410889, -5.915800094604492, -5.262199878692627, -3.560499906539917, -4.346700191497803, -5.260700225830078, -4.789700031280518, -4.943999767303467, -5.088699817657471, -4.36329984664917, -5.91540002822876, -4.297100067138672, -5.261899948120117, -5.624499797821045, -4.694200038909912, -5.294300079345703, -4.9980998039245605, -5.535900115966797, -5.2708001136779785, -5.535699844360352, -5.513899803161621, -5.535999774932861, -5.420000076293945, -5.432400226593018, -5.5355000495910645, -5.499300003051758, -5.526899814605713, -5.535200119018555, -5.036099910736084, -5.5254998207092285, -4.752200126647949, -5.90500020980835, -5.90500020980835, -5.90500020980835, -5.90500020980835, -5.90500020980835, -5.905099868774414, -5.905200004577637, -5.905200004577637, -5.035200119018555, -5.550000190734863, -4.3755998611450195, -6.524099826812744, -6.524099826812744, -6.524099826812744, -6.524099826812744, -6.524099826812744, -6.524099826812744, -6.524099826812744, -6.524099826812744, -6.524099826812744, -6.524099826812744, -6.524099826812744, -6.524099826812744, -6.524099826812744, -6.524099826812744, -6.524099826812744, -6.524099826812744, -6.524099826812744, -3.299999952316284, -5.904699802398682, -5.904900074005127, -5.905200004577637, -5.90500020980835, -5.904799938201904, -5.044600009918213, -4.184000015258789, -5.525300025939941, -5.524499893188477, -4.859000205993652, -4.712800025939941, -4.806600093841553, -5.524799823760986, -5.905399799346924, -4.56220006942749, -5.525199890136719, -4.708499908447266, -4.4822001457214355, -4.3470001220703125, -4.207900047302246, -4.649199962615967, -4.991099834442139, -5.036300182342529, -5.264200210571289, -5.061800003051758, -5.071400165557861, -5.336400032043457, -5.5243000984191895, -5.526500225067139, -5.220600128173828, -5.321599960327148, -5.504799842834473, -5.525199890136719, -4.296800136566162, -5.445000171661377, -4.584199905395508, -5.821400165557861, -5.821400165557861, -5.821400165557861, -5.821400165557861, -5.821499824523926, -4.952400207519531, -5.4415998458862305, -6.440499782562256, -6.440499782562256, -6.440499782562256, -6.440499782562256, -6.440499782562256, -6.440499782562256, -6.440499782562256, -6.440499782562256, -6.440499782562256, -6.440499782562256, -6.440499782562256, -6.440499782562256, -6.440499782562256, -6.440499782562256, -6.440499782562256, -6.440499782562256, -6.440499782562256, -6.440499782562256, -6.440499782562256, -6.440499782562256, -4.50570011138916, -3.4237000942230225, -4.77400016784668, -6.440499782562256, -4.997200012207031, -3.8427999019622803, -5.167300224304199, -5.441999912261963, -5.441800117492676, -5.821700096130371, -5.821400165557861, -4.791600227355957, -3.3719000816345215, -5.442200183868408, -5.440800189971924, -3.436800003051758, -5.505099773406982, -5.441800117492676, -4.395100116729736, -5.821100234985352, -5.822299957275391, -5.441299915313721, -4.713500022888184, -4.726799964904785, -4.560699939727783, -4.567800045013428, -5.0, -5.1539998054504395, -5.139999866485596, -5.217899799346924, -5.299799919128418, -5.259300231933594, -5.184500217437744, -5.407100200653076, -5.441500186920166]}, \"token.table\": {\"Topic\": [1, 2, 3, 4, 5, 6, 1, 2, 3, 4, 5, 6, 3, 2, 3, 5, 6, 5, 1, 1, 2, 4, 5, 6, 2, 3, 1, 2, 3, 4, 5, 6, 5, 1, 4, 5, 3, 2, 3, 5, 6, 1, 2, 3, 5, 6, 2, 5, 6, 3, 5, 5, 3, 5, 3, 6, 2, 3, 1, 2, 3, 6, 6, 4, 5, 1, 4, 2, 4, 5, 5, 3, 1, 2, 3, 4, 5, 6, 1, 2, 3, 4, 5, 3, 4, 5, 3, 4, 5, 6, 6, 4, 1, 2, 3, 4, 5, 6, 5, 1, 1, 3, 2, 3, 4, 6, 4, 5, 1, 2, 5, 6, 2, 1, 2, 6, 1, 2, 3, 4, 5, 3, 1, 2, 3, 4, 1, 1, 3, 6, 3, 6, 6, 1, 2, 4, 5, 6, 6, 4, 5, 6, 6, 2, 6, 5, 5, 6, 1, 1, 6, 6, 1, 2, 3, 5, 6, 1, 3, 5, 5, 2, 3, 6, 1, 3, 4, 6, 1, 2, 4, 6, 1, 5, 6, 2, 3, 4, 1, 2, 3, 4, 5, 6, 2, 4, 5, 6, 3, 6, 6, 1, 2, 3, 1, 2, 5, 3, 1, 4, 1, 5, 2, 3, 4, 5, 1, 3, 1, 3, 4, 5, 6, 1, 3, 5, 6, 1, 2, 3, 5, 6, 1, 2, 3, 4, 5, 6, 4, 1, 2, 3, 4, 5, 6, 1, 2, 3, 4, 4, 2, 4, 1, 3, 6, 1, 2, 3, 4, 5, 5, 5, 2, 1, 1, 4, 6, 1, 2, 3, 4, 5, 6, 1, 1, 3, 4, 5, 6, 4, 3, 1, 2, 4, 6, 4, 4, 1, 2, 4, 5, 6, 3, 4, 6, 6, 1, 2, 2, 6, 3, 1, 5, 3, 1, 5, 4, 4, 3, 3, 2, 1, 2, 3, 4, 5, 1, 4, 3, 5, 1, 2, 4, 5, 6, 3, 6, 1, 2, 3, 5, 6, 1, 3, 4, 6, 3, 4, 5, 2, 6, 1, 1, 2, 4, 5, 3, 3, 3, 3, 4, 6, 1, 3, 5, 6, 3, 4, 5, 6, 5, 3, 1, 3, 6, 6, 2, 5, 1, 3, 4, 5, 6, 1, 2, 3, 4, 5, 6, 2, 4, 6, 4, 5, 3, 4, 5, 6, 2, 4, 5, 6, 3, 5, 6, 1, 2, 6, 1, 3, 5, 5, 6, 4, 6, 3, 5, 1, 4, 1, 2, 3, 4, 6, 1, 2, 3, 4, 5, 6, 1, 3, 2, 1, 2, 4, 5, 6, 4, 6, 5, 1, 1, 1, 2, 4, 5, 6, 3, 4, 2, 2, 1, 3, 6, 2, 5, 3, 6, 1, 5, 3, 3, 1, 2, 3, 3, 4, 2, 1, 5, 6, 3, 6, 1, 4, 1, 2, 3, 4, 5, 5, 4, 1, 2, 3, 4, 5, 1, 1, 3, 6, 2, 3, 4, 5, 6, 2, 3, 5, 3, 3, 6, 2, 3, 3, 6, 1, 2, 3, 4, 5, 6, 1, 6, 1, 5, 1, 2, 4, 5, 6, 6, 3, 1, 2, 3, 4, 5, 4, 1, 4, 5, 4, 1, 2, 3, 4, 5, 6, 2, 1, 2, 3, 4, 5, 6, 5, 3, 5, 1, 3, 4, 5, 6, 4, 2, 4, 5, 2, 1, 2, 4, 5, 5, 6, 4, 3, 2, 4, 5, 4, 6, 4, 1, 2, 3, 6, 4, 5, 6, 3, 6, 3, 6, 4, 1, 1, 2, 3, 4, 5, 6, 2, 1, 2, 3, 4, 5, 6, 2, 6, 4, 1, 3, 4, 5, 3, 5, 6, 3, 6, 6, 5, 2, 1, 2, 5, 2, 6, 4, 3, 1, 2, 3, 6, 4, 1, 3, 5, 6], \"Freq\": [0.2905915379524231, 0.14529576897621155, 0.2905915379524231, 0.07264788448810577, 0.14529576897621155, 0.07264788448810577, 0.26092270016670227, 0.13046135008335114, 0.13046135008335114, 0.17394845187664032, 0.13046135008335114, 0.17394845187664032, 0.9330030679702759, 0.5503848195075989, 0.18346160650253296, 0.27519240975379944, 0.48572838306427, 0.707079291343689, 0.8924950361251831, 0.4568406343460083, 0.11421015858650208, 0.22842031717300415, 0.11421015858650208, 0.11421015858650208, 0.812810480594635, 0.6998357772827148, 0.27670976519584656, 0.10194570571184158, 0.04369101673364639, 0.23301875591278076, 0.11650937795639038, 0.23301875591278076, 0.7070788741111755, 0.6763691306114197, 0.7080672383308411, 0.2832269072532654, 0.6998426914215088, 0.14365093410015106, 0.08208625018596649, 0.41043126583099365, 0.3488665521144867, 0.17539703845977783, 0.17539703845977783, 0.17539703845977783, 0.35079407691955566, 0.17539703845977783, 0.18046920001506805, 0.3609384000301361, 0.541407585144043, 0.15818530321121216, 0.7909265160560608, 0.946777880191803, 0.35382992029190063, 0.7076598405838013, 0.5672063827514648, 0.2836031913757324, 0.9022257328033447, 0.11277821660041809, 0.08440601080656052, 0.8440600633621216, 0.04220300540328026, 0.04220300540328026, 0.720749020576477, 0.7022780179977417, 0.7070788741111755, 0.23154020309448242, 0.6946206092834473, 0.6827021837234497, 0.17067554593086243, 0.08533777296543121, 0.946776807308197, 0.9328932762145996, 0.36398106813430786, 0.07279621064662933, 0.14559242129325867, 0.14559242129325867, 0.14559242129325867, 0.14559242129325867, 0.2753465175628662, 0.18356435000896454, 0.18356435000896454, 0.09178217500448227, 0.2753465175628662, 0.28134286403656006, 0.5626857280731201, 0.7070788741111755, 0.20394526422023773, 0.20394526422023773, 0.40789052844047546, 0.20394526422023773, 0.720749020576477, 0.7022780179977417, 0.22389085590839386, 0.11194542795419693, 0.1679181307554245, 0.11194542795419693, 0.22389085590839386, 0.1679181307554245, 0.7070788741111755, 0.8924995064735413, 0.8833699226379395, 0.6992946863174438, 0.62465500831604, 0.12493100017309189, 0.12493100017309189, 0.12493100017309189, 0.7022780179977417, 0.707079291343689, 0.6763691306114197, 0.9076600670814514, 0.94679856300354, 0.720749020576477, 0.9079560041427612, 0.20811861753463745, 0.7284151911735535, 0.10405930876731873, 0.5912704467773438, 0.08446720987558365, 0.08446720987558365, 0.042233604937791824, 0.21116802096366882, 0.9328700304031372, 0.4295046627521515, 0.24543124437332153, 0.18407343327999115, 0.12271562218666077, 0.7966622710227966, 0.40255722403526306, 0.20127861201763153, 0.40255722403526306, 0.6104795932769775, 0.20349319279193878, 0.720749020576477, 0.10283517092466354, 0.0685567781329155, 0.17139194905757904, 0.0685567781329155, 0.548454225063324, 0.4857279360294342, 0.31914448738098145, 0.31914448738098145, 0.31914448738098145, 0.720749020576477, 0.6915290951728821, 0.2766116261482239, 0.707079291343689, 0.36273467540740967, 0.36273467540740967, 0.8925324082374573, 0.8833813667297363, 0.720749020576477, 0.720749020576477, 0.4558189809322357, 0.07596983015537262, 0.22790949046611786, 0.15193966031074524, 0.07596983015537262, 0.8924949169158936, 0.35383015871047974, 0.7076603174209595, 0.707079291343689, 0.23404820263385773, 0.46809640526771545, 0.23404820263385773, 0.15619595348834991, 0.15619595348834991, 0.6247838139533997, 0.15619595348834991, 0.07537809014320374, 0.7537809014320374, 0.07537809014320374, 0.07537809014320374, 0.24824689328670502, 0.5792427659034729, 0.16549792885780334, 0.3765667974948883, 0.5020890831947327, 0.12552227079868317, 0.1611182540655136, 0.1879713088274002, 0.1611182540655136, 0.1879713088274002, 0.1611182540655136, 0.1342652142047882, 0.11099107563495636, 0.22198215126991272, 0.22198215126991272, 0.44396430253982544, 0.14640650153160095, 0.7320324778556824, 0.720749020576477, 0.5053444504737854, 0.16844815015792847, 0.33689630031585693, 0.632318377494812, 0.2107727825641632, 0.14051519334316254, 0.932871401309967, 0.8924992680549622, 0.7022780179977417, 0.34786704182624817, 0.6957340836524963, 0.2533436119556427, 0.2533436119556427, 0.2533436119556427, 0.2533436119556427, 0.4563664197921753, 0.4563664197921753, 0.17345298826694489, 0.13008974492549896, 0.08672649413347244, 0.13008974492549896, 0.4769957363605499, 0.3974883258342743, 0.2981162369251251, 0.19874416291713715, 0.19874416291713715, 0.31768760085105896, 0.10589586943387985, 0.47653138637542725, 0.052947934716939926, 0.052947934716939926, 0.2067314237356186, 0.1653851419687271, 0.2687508463859558, 0.1653851419687271, 0.14471200108528137, 0.06201942637562752, 0.7022780179977417, 0.3154184818267822, 0.1261673867702484, 0.1261673867702484, 0.0630836933851242, 0.3154184818267822, 0.1261673867702484, 0.1950821578502655, 0.29262325167655945, 0.390164315700531, 0.09754107892513275, 0.9382038116455078, 0.5472080111503601, 0.27360400557518005, 0.34676605463027954, 0.5201491117477417, 0.17338302731513977, 0.2598250210285187, 0.32478129863739014, 0.12991251051425934, 0.12991251051425934, 0.12991251051425934, 0.707079291343689, 0.9508338570594788, 0.9076588749885559, 0.8925341367721558, 0.5475510358810425, 0.13688775897026062, 0.13688775897026062, 0.332162082195282, 0.0664324164390564, 0.0664324164390564, 0.1328648328781128, 0.332162082195282, 0.1328648328781128, 0.6763691306114197, 0.8924961686134338, 0.35444796085357666, 0.35444796085357666, 0.17722398042678833, 0.17722398042678833, 0.8456898331642151, 0.6992946863174438, 0.6763690114021301, 0.34778842329978943, 0.6955768465995789, 0.720749020576477, 0.7022780179977417, 0.7022780179977417, 0.5343213081359863, 0.1187380701303482, 0.1187380701303482, 0.0593690350651741, 0.1781070977449417, 0.1610240936279297, 0.3220481872558594, 0.48307228088378906, 0.720749020576477, 0.6763691306114197, 0.9076669216156006, 0.9362417459487915, 0.05201343074440956, 0.9328704476356506, 0.6720749139785767, 0.22402498126029968, 0.6992946863174438, 0.6763691306114197, 0.9467780590057373, 0.7022780179977417, 0.7022780179977417, 0.9328694343566895, 0.6992946863174438, 0.9077111482620239, 0.3243086040019989, 0.08107715100049973, 0.16215430200099945, 0.3243086040019989, 0.16215430200099945, 0.8925734758377075, 0.7022780179977417, 0.9328826665878296, 0.7070788741111755, 0.09209416806697845, 0.4604708254337311, 0.1841883361339569, 0.1841883361339569, 0.09209416806697845, 0.7104625105857849, 0.35523125529289246, 0.1785265952348709, 0.44631651043891907, 0.1785265952348709, 0.14877216517925262, 0.05950886756181717, 0.13087183237075806, 0.2617436647415161, 0.13087183237075806, 0.5234873294830322, 0.6992946863174438, 0.3545962870121002, 0.7091925740242004, 0.12212490290403366, 0.854874312877655, 0.8794798254966736, 0.24618782103061676, 0.4923756420612335, 0.24618782103061676, 0.7070788741111755, 0.6992946863174438, 0.6992946863174438, 0.6992946863174438, 0.9328700304031372, 0.7135198712348938, 0.3567599356174469, 0.27669596672058105, 0.4150439500808716, 0.13834798336029053, 0.13834798336029053, 0.531665563583374, 0.1772218495607376, 0.1772218495607376, 0.1772218495607376, 0.9467800855636597, 0.9328721165657043, 0.10292810946702957, 0.3087843358516693, 0.5146405696868896, 0.720749020576477, 0.6860038638114929, 0.34300193190574646, 0.8924947381019592, 0.1573449969291687, 0.4720349907875061, 0.3146899938583374, 0.720749020576477, 0.3467215597629547, 0.05778692662715912, 0.05778692662715912, 0.2889346182346344, 0.05778692662715912, 0.17336077988147736, 0.4049261808395386, 0.2024630904197693, 0.4049261808395386, 0.28416821360588074, 0.5683364272117615, 0.11870864033699036, 0.35612592101097107, 0.4748345613479614, 0.11870864033699036, 0.1768387407064438, 0.2652581036090851, 0.3536774814128876, 0.0884193703532219, 0.6992946863174438, 0.48469579219818115, 0.48469579219818115, 0.5337737798690796, 0.2668868899345398, 0.720749020576477, 0.22971045970916748, 0.6891313791275024, 0.7070788741111755, 0.41455474495887756, 0.41455474495887756, 0.7022780179977417, 0.720749020576477, 0.7037563323974609, 0.35187816619873047, 0.5389334559440613, 0.26946672797203064, 0.38023290038108826, 0.15209315717220306, 0.38023290038108826, 0.07604657858610153, 0.07604657858610153, 0.0663047581911087, 0.2652190327644348, 0.1989142745733261, 0.2652190327644348, 0.0663047581911087, 0.0663047581911087, 0.17356285452842712, 0.6942514181137085, 0.9076615571975708, 0.11457972228527069, 0.45831888914108276, 0.17186959087848663, 0.22915944457054138, 0.057289861142635345, 0.7022780179977417, 0.720749020576477, 0.7070788741111755, 0.6659301519393921, 0.8925155997276306, 0.36672887206077576, 0.12224296480417252, 0.08149530738592148, 0.24448592960834503, 0.16299061477184296, 0.6992946863174438, 0.9382042288780212, 0.9077007174491882, 0.678601861000061, 0.3085705041885376, 0.6171410083770752, 0.1542852520942688, 0.35013923048973083, 0.7002784609794617, 0.7104599475860596, 0.3552299737930298, 0.8925214409828186, 0.9467869400978088, 0.6992946863174438, 0.6998380422592163, 0.13512270152568817, 0.675613522529602, 0.13512270152568817, 0.9328718185424805, 0.9382040500640869, 0.8128228783607483, 0.17729921638965607, 0.7091968655586243, 0.17729921638965607, 0.4810277223587036, 0.4810277223587036, 0.538936197757721, 0.2694680988788605, 0.8924993872642517, 0.6081237196922302, 0.2660541236400604, 0.03800773248076439, 0.07601546496152878, 0.9467782974243164, 0.7022780179977417, 0.24802331626415253, 0.49604663252830505, 0.12401165813207626, 0.12401165813207626, 0.12401165813207626, 0.8924955725669861, 0.3468226492404938, 0.5202339887619019, 0.1734113246202469, 0.3156112730503082, 0.1578056365251541, 0.1578056365251541, 0.1578056365251541, 0.3156112730503082, 0.6097947359085083, 0.30489736795425415, 0.15244868397712708, 0.6992946863174438, 0.6992946863174438, 0.720749020576477, 0.9076365232467651, 0.6992946863174438, 0.36067822575569153, 0.36067822575569153, 0.389297753572464, 0.194648876786232, 0.194648876786232, 0.06488296389579773, 0.12976592779159546, 0.06488296389579773, 0.9451351761817932, 0.720749020576477, 0.6763690114021301, 0.707079291343689, 0.0396406464278698, 0.0792812928557396, 0.2774845361709595, 0.3171251714229584, 0.23784388601779938, 0.4857284426689148, 0.6992946863174438, 0.4280673563480377, 0.08561347424983978, 0.08561347424983978, 0.25684040784835815, 0.17122694849967957, 0.7022780179977417, 0.2324463129043579, 0.4648926258087158, 0.2324463129043579, 0.7022780179977417, 0.3584746718406677, 0.102421335875988, 0.102421335875988, 0.1536320000886917, 0.1536320000886917, 0.1536320000886917, 0.907727837562561, 0.24316158890724182, 0.24316158890724182, 0.08105386048555374, 0.16210772097110748, 0.16210772097110748, 0.08105386048555374, 0.7115963101387024, 0.8399370312690735, 0.9467787146568298, 0.10856656730175018, 0.08142492920160294, 0.6242578029632568, 0.027141641825437546, 0.13570821285247803, 0.8456955552101135, 0.678601086139679, 0.7022780179977417, 0.707079291343689, 0.907640814781189, 0.2749063968658447, 0.2749063968658447, 0.5498127937316895, 0.7070793509483337, 0.36570316553115845, 0.5485547184944153, 0.7043307423591614, 0.9329178333282471, 0.6250182390213013, 0.250007301568985, 0.1250036507844925, 0.2908881902694702, 0.5817763805389404, 0.9409393668174744, 0.2701282501220703, 0.5402565002441406, 0.13506412506103516, 0.06753206253051758, 0.360892117023468, 0.360892117023468, 0.360892117023468, 0.9328908920288086, 0.720749020576477, 0.6992946863174438, 0.720749020576477, 0.9381927847862244, 0.796663761138916, 0.571013331413269, 0.122359998524189, 0.16314665973186493, 0.04078666493296623, 0.08157332986593246, 0.4857282340526581, 0.9020009636878967, 0.3563377559185028, 0.15271618962287903, 0.10181079059839249, 0.10181079059839249, 0.20362158119678497, 0.10181079059839249, 0.9076411128044128, 0.720749020576477, 0.7022780179977417, 0.17440785467624664, 0.3488157093524933, 0.3488157093524933, 0.17440785467624664, 0.28813084959983826, 0.28813084959983826, 0.28813084959983826, 0.9328738451004028, 0.7324848771095276, 0.48572838306427, 0.7070793509483337, 0.6786400079727173, 0.30448615550994873, 0.30448615550994873, 0.30448615550994873, 0.6786119341850281, 0.720749020576477, 0.9381904006004333, 0.9328719973564148, 0.24845582246780396, 0.4347977042198181, 0.12422791123390198, 0.18634186685085297, 0.9381892681121826, 0.6659458875656128, 0.6992946863174438, 0.578882098197937, 0.2894410490989685], \"Term\": [\"\\uac00\\uaca9\", \"\\uac00\\uaca9\", \"\\uac00\\uaca9\", \"\\uac00\\uaca9\", \"\\uac00\\uaca9\", \"\\uac00\\uaca9\", \"\\uac00\\ub2a5\", \"\\uac00\\ub2a5\", \"\\uac00\\ub2a5\", \"\\uac00\\ub2a5\", \"\\uac00\\ub2a5\", \"\\uac00\\ub2a5\", \"\\uac00\\ubc29\", \"\\uac00\\uc785\", \"\\uac00\\uc785\", \"\\uac00\\uc785\", \"\\uac10\\uc0ac\", \"\\uac10\\uc790\", \"\\uac1c\\ub150\", \"\\uac1c\\uc120\", \"\\uac1c\\uc120\", \"\\uac1c\\uc120\", \"\\uac1c\\uc120\", \"\\uac1c\\uc120\", \"\\uac1c\\uc778\", \"\\uac24\\ub7ed\\uc2dc\", \"\\uac70\\ub798\", \"\\uac70\\ub798\", \"\\uac70\\ub798\", \"\\uac70\\ub798\", \"\\uac70\\ub798\", \"\\uac70\\ub798\", \"\\uac70\\ub798\\ubd88\\uac00\\ub2a5\", \"\\uac70\\ub798\\uc9c1\\uc804\", \"\\uac70\\ub9ac\", \"\\uac70\\ub9ac\", \"\\uac70\\uc9c0\\ub9c8\\ucf13\", \"\\uac80\\uc0c9\", \"\\uac80\\uc0c9\", \"\\uac80\\uc0c9\", \"\\uac80\\uc0c9\", \"\\uac8c\\uc2dc\\uae00\", \"\\uac8c\\uc2dc\\uae00\", \"\\uac8c\\uc2dc\\uae00\", \"\\uac8c\\uc2dc\\uae00\", \"\\uac8c\\uc2dc\\uae00\", \"\\uac8c\\uc2dc\\ubb3c\", \"\\uac8c\\uc2dc\\ubb3c\", \"\\uac8c\\uc2dc\\ubb3c\", \"\\uacb0\\uacfc\", \"\\uacb0\\uacfc\", \"\\uacbd\\ub85c\", \"\\uacbd\\uc6b0\", \"\\uacbd\\uc6b0\", \"\\uacc4\\uc18d\", \"\\uacc4\\uc18d\", \"\\uacc4\\uc815\", \"\\uacc4\\uc815\", \"\\uace0\\uac1d\", \"\\uace0\\uac1d\", \"\\uace0\\uac1d\", \"\\uace0\\uac1d\", \"\\uace8\\ubab0\", \"\\uacf5\\uacf5\", \"\\uacfc\\uc815\", \"\\uad00\\uc2ec\", \"\\uad00\\uc2ec\", \"\\uad11\\uace0\", \"\\uad11\\uace0\", \"\\uad11\\uace0\", \"\\uad50\\ud1b5\", \"\\uad6c\\ub450\", \"\\uad6c\\ub9e4\", \"\\uad6c\\ub9e4\", \"\\uad6c\\ub9e4\", \"\\uad6c\\ub9e4\", \"\\uad6c\\ub9e4\", \"\\uad6c\\ub9e4\", \"\\uad6c\\ub9e4\\uc790\", \"\\uad6c\\ub9e4\\uc790\", \"\\uad6c\\ub9e4\\uc790\", \"\\uad6c\\ub9e4\\uc790\", \"\\uad6c\\ub9e4\\uc790\", \"\\uad6c\\uc785\", \"\\uad6c\\uc785\", \"\\uad6c\\uc9c0\", \"\\uadfc\\ucc98\", \"\\uadfc\\ucc98\", \"\\uadfc\\ucc98\", \"\\uadfc\\ucc98\", \"\\uae00\\uc4f0\\uae30\", \"\\uae09\\uc2e4\\ub9dd\", \"\\uae30\\ub2a5\", \"\\uae30\\ub2a5\", \"\\uae30\\ub2a5\", \"\\uae30\\ub2a5\", \"\\uae30\\ub2a5\", \"\\uae30\\ub2a5\", \"\\ub098\\uba38\\uc9c0\", \"\\ub0ad\\ube44\", \"\\ub0b4\\uc6a9\", \"\\ub0c9\\uc7a5\\uace0\", \"\\ub178\\ucd9c\", \"\\ub178\\ucd9c\", \"\\ub178\\ucd9c\", \"\\ub178\\ucd9c\", \"\\ub17c\\ub7b5\", \"\\ub18d\\uc0b0\\ubb3c\", \"\\ub204\\uc801\", \"\\ub2e4\\uc6b4\", \"\\ub2e4\\uc6b4\\ub85c\\ub4dc\", \"\\ub2e8\\uacc4\", \"\\ub2e8\\uc810\", \"\\ub2f5\\ubcc0\", \"\\ub2f5\\ubcc0\", \"\\ub2f5\\ubcc0\", \"\\ub2f9\\uadfc\", \"\\ub2f9\\uadfc\", \"\\ub2f9\\uadfc\", \"\\ub2f9\\uadfc\", \"\\ub2f9\\uadfc\", \"\\ub2f9\\uadfc\\ub2c8\", \"\\ub2f9\\uadfc\\ub9c8\\ucf13\", \"\\ub2f9\\uadfc\\ub9c8\\ucf13\", \"\\ub2f9\\uadfc\\ub9c8\\ucf13\", \"\\ub2f9\\uadfc\\ub9c8\\ucf13\", \"\\ub300\\ubd80\\ubd84\", \"\\ub300\\uc751\", \"\\ub300\\uc751\", \"\\ub300\\uc751\", \"\\ub313\\uae00\", \"\\ub313\\uae00\", \"\\ub3c8\\ubc8c\", \"\\ub3d9\\ub124\", \"\\ub3d9\\ub124\", \"\\ub3d9\\ub124\", \"\\ub3d9\\ub124\", \"\\ub3d9\\ub124\", \"\\ub3d9\\ub124\\ubb3c\\uac74\", \"\\ub3d9\\ub124\\uc778\\uc99d\", \"\\ub3d9\\ub124\\uc778\\uc99d\", \"\\ub3d9\\ub124\\uc778\\uc99d\", \"\\ub3d9\\ub124\\ud64d\\ubcf4\", \"\\ub3d9\\uc548\", \"\\ub3d9\\uc548\", \"\\ub3d9\\uc758\", \"\\ub3d9\\uc77c\", \"\\ub3d9\\uc77c\", \"\\ub85c\\uadf8\", \"\\ub85c\\uadf8\\uc778\", \"\\ub9c1\\ub54c\", \"\\ub9dd\\uc870\", \"\\ub9e4\\ub108\", \"\\ub9e4\\ub108\", \"\\ub9e4\\ub108\", \"\\ub9e4\\ub108\", \"\\ub9e4\\ub108\", \"\\ub9e4\\ub108\\uc810\\uc218\", \"\\ub9e4\\ub108\\ud3c9\\uac00\", \"\\ub9e4\\ub108\\ud3c9\\uac00\", \"\\uba87\\ubc15\\uc2a4\", \"\\ubaa9\\ub85d\", \"\\ubaa9\\ub85d\", \"\\ubaa9\\ub85d\", \"\\ubb34\\ub8cc\", \"\\ubb34\\ub8cc\", \"\\ubb34\\ub8cc\", \"\\ubb34\\ub8cc\", \"\\ubb38\\uc758\", \"\\ubb38\\uc758\", \"\\ubb38\\uc758\", \"\\ubb38\\uc758\", \"\\ubb38\\uc790\", \"\\ubb38\\uc790\", \"\\ubb38\\uc790\", \"\\ubb38\\uc81c\", \"\\ubb38\\uc81c\", \"\\ubb38\\uc81c\", \"\\ubb3c\\uac74\", \"\\ubb3c\\uac74\", \"\\ubb3c\\uac74\", \"\\ubb3c\\uac74\", \"\\ubb3c\\uac74\", \"\\ubb3c\\uac74\", \"\\ubb3c\\ud488\", \"\\ubb3c\\ud488\", \"\\ubb3c\\ud488\", \"\\ubb3c\\ud488\", \"\\ubc29\\ubc95\", \"\\ubc29\\ubc95\", \"\\ubc84\\ud37c\", \"\\ubc88\\uac1c\\uc7a5\\ud130\", \"\\ubc88\\uac1c\\uc7a5\\ud130\", \"\\ubc88\\uac1c\\uc7a5\\ud130\", \"\\ubc88\\ud638\", \"\\ubc88\\ud638\", \"\\ubc88\\ud638\", \"\\ubc94\\uc8c4\", \"\\ubcc4\\ub8e8\", \"\\ubcf8\\ub798\", \"\\ubd80\\ubd84\", \"\\ubd80\\ubd84\", \"\\ubd80\\ud0c1\", \"\\ubd80\\ud0c1\", \"\\ubd80\\ud0c1\", \"\\ubd80\\ud0c1\", \"\\ubd88\\ubc95\", \"\\ubd88\\ubc95\", \"\\ubd88\\ud3b8\", \"\\ubd88\\ud3b8\", \"\\ubd88\\ud3b8\", \"\\ubd88\\ud3b8\", \"\\ubd88\\ud3b8\", \"\\ube44\\ub9e4\\ub108\", \"\\ube44\\ub9e4\\ub108\", \"\\ube44\\ub9e4\\ub108\", \"\\ube44\\ub9e4\\ub108\", \"\\uc0ac\\uae30\", \"\\uc0ac\\uae30\", \"\\uc0ac\\uae30\", \"\\uc0ac\\uae30\", \"\\uc0ac\\uae30\", \"\\uc0ac\\ub78c\", \"\\uc0ac\\ub78c\", \"\\uc0ac\\ub78c\", \"\\uc0ac\\ub78c\", \"\\uc0ac\\ub78c\", \"\\uc0ac\\ub78c\", \"\\uc0ac\\uc5c5\", \"\\uc0ac\\uc6a9\", \"\\uc0ac\\uc6a9\", \"\\uc0ac\\uc6a9\", \"\\uc0ac\\uc6a9\", \"\\uc0ac\\uc6a9\", \"\\uc0ac\\uc6a9\", \"\\uc0ac\\uc6a9\\uc790\", \"\\uc0ac\\uc6a9\\uc790\", \"\\uc0ac\\uc6a9\\uc790\", \"\\uc0ac\\uc6a9\\uc790\", \"\\uc0ac\\uc774\", \"\\uc0ac\\uc774\\ud2b8\", \"\\uc0ac\\uc774\\ud2b8\", \"\\uc0ac\\uc9c4\", \"\\uc0ac\\uc9c4\", \"\\uc0ac\\uc9c4\", \"\\uc0ad\\uc81c\", \"\\uc0ad\\uc81c\", \"\\uc0ad\\uc81c\", \"\\uc0ad\\uc81c\", \"\\uc0ad\\uc81c\", \"\\uc0b0\\uc81c\", \"\\uc0b4\\uc218\", \"\\uc0c1\\uad00\", \"\\uc0c1\\ub300\", \"\\uc0c1\\ub300\\ubc29\", \"\\uc0c1\\ub300\\ubc29\", \"\\uc0c1\\ub300\\ubc29\", \"\\uc0c1\\ud488\", \"\\uc0c1\\ud488\", \"\\uc0c1\\ud488\", \"\\uc0c1\\ud488\", \"\\uc0c1\\ud488\", \"\\uc0c1\\ud488\", \"\\uc0c1\\ud638\\uac04\", \"\\uc0c1\\ud669\", \"\\uc0dd\\uac01\", \"\\uc0dd\\uac01\", \"\\uc0dd\\uac01\", \"\\uc0dd\\uac01\", \"\\uc11c\\ube44\\uc2a4\", \"\\uc120\\ubd88\", \"\\uc120\\uc758\", \"\\uc120\\ud0dd\", \"\\uc120\\ud0dd\", \"\\uc120\\ud0dd\\ucc3d\", \"\\uc124\\ub7c9\", \"\\uc124\\ub9bd\", \"\\uc124\\uc815\", \"\\uc124\\uc815\", \"\\uc124\\uc815\", \"\\uc124\\uc815\", \"\\uc124\\uc815\", \"\\uc124\\uce58\", \"\\uc124\\uce58\", \"\\uc124\\uce58\", \"\\uc131\\uacf5\", \"\\uc131\\uc7a5\", \"\\uc13c\\ud0c0\", \"\\uc13c\\ud130\", \"\\uc13c\\ud130\", \"\\uc18c\\ub984\", \"\\uc18c\\ub9ac\", \"\\uc18c\\ub9ac\", \"\\uc18c\\ubb38\", \"\\uc18c\\ube44\", \"\\uc18d\\ub3c4\", \"\\uc18d\\uc784\\uc218\", \"\\uc21c\\uc218\", \"\\uc274\\ub4dc\", \"\\uc2a4\\uc2a4\", \"\\uc2b9\\uc778\", \"\\uc2dc\\uac04\", \"\\uc2dc\\uac04\", \"\\uc2dc\\uac04\", \"\\uc2dc\\uac04\", \"\\uc2dc\\uac04\", \"\\uc2dc\\uace8\", \"\\uc2dc\\ubbfc\", \"\\uc2dc\\ube44\", \"\\uc2dc\\uc124\", \"\\uc2dc\\uc2a4\\ud15c\", \"\\uc2dc\\uc2a4\\ud15c\", \"\\uc2dc\\uc2a4\\ud15c\", \"\\uc2dc\\uc2a4\\ud15c\", \"\\uc2dc\\uc2a4\\ud15c\", \"\\uc2dc\\uc791\", \"\\uc2dc\\uc791\", \"\\uc2e0\\uace0\", \"\\uc2e0\\uace0\", \"\\uc2e0\\uace0\", \"\\uc2e0\\uace0\", \"\\uc2e0\\uace0\", \"\\uc4f0\\ub808\\uae30\", \"\\uc4f0\\ub808\\uae30\", \"\\uc4f0\\ub808\\uae30\", \"\\uc4f0\\ub808\\uae30\", \"\\uc4f0\\ub808\\uae30\\ub2f9\\uadfc\\ub9c8\\ucf13\", \"\\uc4f8\\ubaa8\", \"\\uc4f8\\ubaa8\", \"\\uc544\\ubb34\\uac83\", \"\\uc544\\ubb34\\uac83\", \"\\uc54c\\ub78c\", \"\\uc54c\\ub9bc\", \"\\uc54c\\ub9bc\", \"\\uc54c\\ub9bc\", \"\\uc571\\uc0ac\\uc6a9\", \"\\uc591\\uc544\\uce58\\ub450\\ubaa9\", \"\\uc591\\uc544\\uce58\\uc0c9\\ucd9c\", \"\\uc591\\uc544\\uce58\\uc218\\uc900\", \"\\uc591\\uc544\\uce58\\ucc9c\", \"\\uc598\\uae30\", \"\\uc598\\uae30\", \"\\uc5b4\\uc774\", \"\\uc5b4\\uc774\", \"\\uc5b4\\uc774\", \"\\uc5b4\\uc774\", \"\\uc5b4\\uc81c\", \"\\uc5b4\\uc81c\", \"\\uc5b4\\uc81c\", \"\\uc5b4\\uc81c\", \"\\uc5bc\\ub9c8\", \"\\uc5c5\\uacc4\", \"\\uc5c5\\ub370\\uc774\\ud2b8\", \"\\uc5c5\\ub370\\uc774\\ud2b8\", \"\\uc5c5\\ub370\\uc774\\ud2b8\", \"\\uc5c5\\ub85c\\ub4dc\", \"\\uc5c5\\uc790\", \"\\uc5c5\\uc790\", \"\\uc5d0\\ub20c\", \"\\uc5d0\\ub7ec\", \"\\uc5d0\\ub7ec\", \"\\uc5d0\\ub7ec\", \"\\uc5d0\\ud734\", \"\\uc5f0\\ub77d\", \"\\uc5f0\\ub77d\", \"\\uc5f0\\ub77d\", \"\\uc5f0\\ub77d\", \"\\uc5f0\\ub77d\", \"\\uc5f0\\ub77d\", \"\\uc608\\uc57d\", \"\\uc608\\uc57d\", \"\\uc608\\uc57d\", \"\\uc608\\uc804\", \"\\uc608\\uc804\", \"\\uc624\\ub298\", \"\\uc624\\ub298\", \"\\uc624\\ub298\", \"\\uc624\\ub298\", \"\\uc624\\ub958\", \"\\uc624\\ub958\", \"\\uc624\\ub958\", \"\\uc624\\ub958\", \"\\uc628\\ub77c\\uc778\", \"\\uc644\\ub8cc\", \"\\uc644\\ub8cc\", \"\\uc644\\uc804\", \"\\uc644\\uc804\", \"\\uc678\\ubd80\", \"\\uc695\\uc124\", \"\\uc695\\uc124\", \"\\uc6d0\\ud558\", \"\\uc704\\uce58\", \"\\uc704\\uce58\", \"\\uc740\\ud3d0\", \"\\uc74c\\uc2dd\\uc810\", \"\\uc774\\ub3d9\", \"\\uc774\\ub3d9\", \"\\uc774\\ubbf8\\uc9c0\", \"\\uc774\\ubbf8\\uc9c0\", \"\\uc774\\uc0c1\", \"\\uc774\\uc0c1\", \"\\uc774\\uc0c1\", \"\\uc774\\uc0c1\", \"\\uc774\\uc0c1\", \"\\uc774\\uc6a9\", \"\\uc774\\uc6a9\", \"\\uc774\\uc6a9\", \"\\uc774\\uc6a9\", \"\\uc774\\uc6a9\", \"\\uc774\\uc6a9\", \"\\uc774\\uc6a9\\uc790\", \"\\uc774\\uc6a9\\uc790\", \"\\uc774\\uc6a9\\uc81c\", \"\\uc774\\uc720\", \"\\uc774\\uc720\", \"\\uc774\\uc720\", \"\\uc774\\uc720\", \"\\uc774\\uc720\", \"\\uc774\\uc775\", \"\\uc774\\uc804\\ubc84\\uc804\", \"\\uc774\\uc810\", \"\\uc774\\uc81c\", \"\\uc774\\ud574\\ubd88\\uac00\", \"\\uc778\\uc99d\", \"\\uc778\\uc99d\", \"\\uc778\\uc99d\", \"\\uc778\\uc99d\", \"\\uc778\\uc99d\", \"\\uc778\\ud130\\ub137\\ucd5c\\uc800\\uac00\", \"\\uc785\\ub825\\ucc3d\", \"\\uc790\\ub3d9\", \"\\uc790\\uc804\\uac70\", \"\\uc790\\uccb4\", \"\\uc790\\uccb4\", \"\\uc790\\uccb4\", \"\\uc791\\ub3d9\", \"\\uc791\\ub3d9\", \"\\uc791\\uc815\", \"\\uc791\\uc815\", \"\\uc798\\ubabb\", \"\\uc7ac\\uc124\\uce58\", \"\\uc800\\uaca9\\uae00\", \"\\uc804\\uad6d\", \"\\uc804\\ubb38\", \"\\uc804\\ubb38\", \"\\uc804\\ubb38\", \"\\uc804\\ubd80\", \"\\uc804\\uccb4\", \"\\uc804\\ud654\\ubc88\\ud638\", \"\\uc811\\uc18d\", \"\\uc811\\uc18d\", \"\\uc811\\uc18d\", \"\\uc815\\ubcf4\", \"\\uc815\\ubcf4\", \"\\uc815\\uc2e0\", \"\\uc815\\uc2e0\", \"\\uc815\\uc791\", \"\\uc815\\uc9c0\", \"\\uc815\\uc9c0\", \"\\uc815\\uc9c0\", \"\\uc815\\uc9c0\", \"\\uc815\\ucc45\", \"\\uc81c\\uae00\", \"\\uc81c\\uc7ac\", \"\\uc81c\\uc7ac\", \"\\uc81c\\uc7ac\", \"\\uc81c\\uc7ac\", \"\\uc81c\\uc7ac\", \"\\uc81c\\uc81c\", \"\\uc81c\\ud488\", \"\\uc81c\\ud488\", \"\\uc81c\\ud488\", \"\\uc81c\\ud55c\", \"\\uc81c\\ud55c\", \"\\uc81c\\ud55c\", \"\\uc81c\\ud55c\", \"\\uc81c\\ud55c\", \"\\uc870\\uce58\", \"\\uc870\\uce58\", \"\\uc870\\uce58\", \"\\uc870\\uce74\", \"\\uc878\\uac1c\", \"\\uc880\\ubc8c\\ub808\", \"\\uc885\\ub958\", \"\\uc885\\uc6a9\", \"\\uc8fc\\ubcc0\", \"\\uc8fc\\ubcc0\", \"\\uc911\\uace0\", \"\\uc911\\uace0\", \"\\uc911\\uace0\", \"\\uc911\\uace0\", \"\\uc911\\uace0\", \"\\uc911\\uace0\", \"\\uc911\\uace0\\ub098\\ub77c\", \"\\uc911\\uace0\\uc571\", \"\\uc911\\uace0\\ud488\\uc571\", \"\\uc9c0\\u3160\", \"\\uc9c0\\uc5ed\", \"\\uc9c0\\uc5ed\", \"\\uc9c0\\uc5ed\", \"\\uc9c0\\uc5ed\", \"\\uc9c0\\uc5ed\", \"\\uc9c0\\uc5ed\\uad6c\", \"\\uc9c0\\uc804\\ud654\\ub3c4\\uc548\", \"\\uc9c1\\uac70\\ub798\", \"\\uc9c1\\uac70\\ub798\", \"\\uc9c1\\uac70\\ub798\", \"\\uc9c1\\uac70\\ub798\", \"\\uc9c1\\uac70\\ub798\", \"\\uc9c1\\uc6d0\\ubd84\", \"\\uc9c4\\uc0c1\", \"\\uc9c4\\uc0c1\", \"\\uc9c4\\uc0c1\", \"\\uc9c4\\uc9c8\", \"\\uc9c4\\uc9dc\", \"\\uc9c4\\uc9dc\", \"\\uc9c4\\uc9dc\", \"\\uc9c4\\uc9dc\", \"\\uc9c4\\uc9dc\", \"\\uc9c4\\uc9dc\", \"\\uc9c8\\ubb38\", \"\\uc9dc\\uc99d\", \"\\uc9dc\\uc99d\", \"\\uc9dc\\uc99d\", \"\\uc9dc\\uc99d\", \"\\uc9dc\\uc99d\", \"\\uc9dc\\uc99d\", \"\\ucabd\\uc9c0\", \"\\ucc28\\ub2e8\", \"\\ucc28\\ubcc4\", \"\\ucc44\\ud305\", \"\\ucc44\\ud305\", \"\\ucc44\\ud305\", \"\\ucc44\\ud305\", \"\\ucc44\\ud305\", \"\\ucc44\\ud305\\ucc3d\", \"\\ucc45\\uc784\", \"\\ucc45\\uc784\\uc790\", \"\\uccb4\\ud06c\", \"\\ucd95\\uad6c\", \"\\ucde8\\uc9c0\", \"\\ucde8\\uc9c0\", \"\\ucde8\\uc9c0\", \"\\uce5c\\ubaa9\\ud68c\", \"\\uce74\\ud14c\\uace0\\ub9ac\", \"\\uce74\\ud14c\\uace0\\ub9ac\", \"\\ucee8\\uc149\", \"\\ud0a4\\ubcf4\\ub4dc\", \"\\ud0a4\\uc6cc\\ub4dc\", \"\\ud0a4\\uc6cc\\ub4dc\", \"\\ud0a4\\uc6cc\\ub4dc\", \"\\ud0c0\\uc9c0\", \"\\ud0c0\\uc9c0\", \"\\ud0c0\\uc9c0\\uc5ed\", \"\\ud0c8\\ud1f4\", \"\\ud0c8\\ud1f4\", \"\\ud0c8\\ud1f4\", \"\\ud0c8\\ud1f4\", \"\\ud0dd\\ubc30\", \"\\ud0dd\\ubc30\", \"\\ud0dd\\ubc30\", \"\\ud130\\uce58\", \"\\ud1b5\\uc77c\", \"\\ud1f4\\ucd9c\", \"\\ud22c\\uc790\", \"\\ud30c\\uae30\", \"\\ud310\\ub2e8\", \"\\ud310\\ub9e4\", \"\\ud310\\ub9e4\", \"\\ud310\\ub9e4\", \"\\ud310\\ub9e4\", \"\\ud310\\ub9e4\", \"\\ud310\\ub9e4\\uae00\", \"\\ud310\\ub9e4\\uc5c5\\uc790\", \"\\ud310\\ub9e4\\uc790\", \"\\ud310\\ub9e4\\uc790\", \"\\ud310\\ub9e4\\uc790\", \"\\ud310\\ub9e4\\uc790\", \"\\ud310\\ub9e4\\uc790\", \"\\ud310\\ub9e4\\uc790\", \"\\ud3b8\\ub9ac\", \"\\ud3b8\\uc758\", \"\\ud3b8\\uc9d1\", \"\\ud3c9\\uac00\", \"\\ud3c9\\uac00\", \"\\ud3c9\\uac00\", \"\\ud3c9\\uac00\", \"\\ud45c\\uc2dc\", \"\\ud45c\\uc2dc\", \"\\ud45c\\uc2dc\", \"\\ud53c\\ud574\", \"\\ud53c\\ud574\\uc790\", \"\\ud544\\ud130\", \"\\ud560\\ub9e4\", \"\\ud56d\\ubaa9\", \"\\ud574\\uacb0\", \"\\ud574\\uacb0\", \"\\ud574\\uacb0\", \"\\ud5c8\\uc704\", \"\\ud5ec\\uc774\\ub77c\", \"\\ud648\\ud398\\uc774\\uc9c0\", \"\\ud654\\uba74\", \"\\ud655\\uc778\", \"\\ud655\\uc778\", \"\\ud655\\uc778\", \"\\ud655\\uc778\", \"\\ud65c\\uac1c\", \"\\ud6c4\\uae30\", \"\\ud6c4\\ubd88\", \"\\ud734\\ub300\\ud3f0\", \"\\ud734\\ub300\\ud3f0\"]}, \"R\": 30, \"lambda.step\": 0.01, \"plot.opts\": {\"xlab\": \"PC1\", \"ylab\": \"PC2\"}, \"topic.order\": [3, 2, 6, 1, 5, 4]};\n",
       "\n",
       "function LDAvis_load_lib(url, callback){\n",
       "  var s = document.createElement('script');\n",
       "  s.src = url;\n",
       "  s.async = true;\n",
       "  s.onreadystatechange = s.onload = callback;\n",
       "  s.onerror = function(){console.warn(\"failed to load library \" + url);};\n",
       "  document.getElementsByTagName(\"head\")[0].appendChild(s);\n",
       "}\n",
       "\n",
       "if(typeof(LDAvis) !== \"undefined\"){\n",
       "   // already loaded: just create the visualization\n",
       "   !function(LDAvis){\n",
       "       new LDAvis(\"#\" + \"ldavis_el464051125086238726991481560\", ldavis_el464051125086238726991481560_data);\n",
       "   }(LDAvis);\n",
       "}else if(typeof define === \"function\" && define.amd){\n",
       "   // require.js is available: use it to load d3/LDAvis\n",
       "   require.config({paths: {d3: \"https://cdnjs.cloudflare.com/ajax/libs/d3/3.5.5/d3.min\"}});\n",
       "   require([\"d3\"], function(d3){\n",
       "      window.d3 = d3;\n",
       "      LDAvis_load_lib(\"https://cdn.rawgit.com/bmabey/pyLDAvis/files/ldavis.v1.0.0.js\", function(){\n",
       "        new LDAvis(\"#\" + \"ldavis_el464051125086238726991481560\", ldavis_el464051125086238726991481560_data);\n",
       "      });\n",
       "    });\n",
       "}else{\n",
       "    // require.js not available: dynamically load d3 & LDAvis\n",
       "    LDAvis_load_lib(\"https://cdnjs.cloudflare.com/ajax/libs/d3/3.5.5/d3.min.js\", function(){\n",
       "         LDAvis_load_lib(\"https://cdn.rawgit.com/bmabey/pyLDAvis/files/ldavis.v1.0.0.js\", function(){\n",
       "                 new LDAvis(\"#\" + \"ldavis_el464051125086238726991481560\", ldavis_el464051125086238726991481560_data);\n",
       "            })\n",
       "         });\n",
       "}\n",
       "</script>"
      ],
      "text/plain": [
       "<IPython.core.display.HTML object>"
      ]
     },
     "execution_count": 143,
     "metadata": {},
     "output_type": "execute_result"
    }
   ],
   "source": [
    "def display_topics(app_rating):\n",
    "    dictionary_file_path = f'lda_model{os.sep}{app_rating}{os.sep}app_review_dict.dict'\n",
    "    corpus_file_path = f'lda_model{os.sep}{app_rating}{os.sep}app_review_corpus.mm'\n",
    "    model_file_path = f'lda_model{os.sep}{app_rating}{os.sep}app_review_train_model.model'\n",
    "    \n",
    "    review_dictionary = gensim.corpora.Dictionary.load(dictionary_file_path)\n",
    "    review_corpus = gensim.corpora.MmCorpus(corpus_file_path)\n",
    "    review_lda = gensim.models.ldamodel.LdaModel.load(model_file_path)\n",
    "    \n",
    "    review_prep = pyLDAvis.gensim.prepare(review_lda, review_corpus, review_dictionary)\n",
    "    \n",
    "    return review_prep\n",
    "    \n",
    "review_prep = display_topics('low_rating')\n",
    "pyLDAvis.display(review_prep)"
   ]
  },
  {
   "cell_type": "code",
   "execution_count": null,
   "metadata": {},
   "outputs": [],
   "source": []
  }
 ],
 "metadata": {
  "kernelspec": {
   "display_name": "Python 3",
   "language": "python",
   "name": "python3"
  },
  "language_info": {
   "codemirror_mode": {
    "name": "ipython",
    "version": 3
   },
   "file_extension": ".py",
   "mimetype": "text/x-python",
   "name": "python",
   "nbconvert_exporter": "python",
   "pygments_lexer": "ipython3",
   "version": "3.7.3"
  }
 },
 "nbformat": 4,
 "nbformat_minor": 2
}
